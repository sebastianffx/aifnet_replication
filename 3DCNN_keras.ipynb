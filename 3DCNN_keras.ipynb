{
 "cells": [
  {
   "cell_type": "code",
   "execution_count": 12,
   "id": "f5da95a4",
   "metadata": {},
   "outputs": [],
   "source": [
    "import matplotlib.pyplot as plt\n",
    "import os\n",
    "import zipfile\n",
    "import numpy as np\n",
    "import tensorflow as tf\n",
    "from tensorflow import keras\n",
    "from tensorflow.keras import layers\n",
    "from tensorflow.keras.callbacks import ModelCheckpoint, TensorBoard\n",
    "import nibabel as nib\n",
    "from scipy import ndimage\n",
    "import glob\n",
    "import sys,os\n",
    "from natsort import natsorted\n",
    "import tensorflow_probability as tfp\n",
    "import random\n",
    "\n",
    "%matplotlib inline"
   ]
  },
  {
   "cell_type": "code",
   "execution_count": 2,
   "id": "f9820100",
   "metadata": {},
   "outputs": [],
   "source": [
    "def read_nifti_file(filepath, min_num_sequence):\n",
    "    \"\"\"Read and load volume\"\"\"\n",
    "    # Read file\n",
    "    scan = nib.load(filepath)\n",
    "    # Get raw data\n",
    "    scan = scan.get_fdata()[:,:,:,0:min_num_sequence]\n",
    "    return scan\n",
    "\n",
    "def normalize(volume):\n",
    "    \"\"\"Normalize the volume\"\"\"\n",
    "    min = 0\n",
    "    max =   400 #Check this with Richard or Roland\n",
    "    volume[volume < min] = min\n",
    "    volume[volume > max] = max\n",
    "    volume = (volume - min) / (max - min)\n",
    "    volume = volume.astype(\"float32\")\n",
    "    return volume\n",
    "\n",
    "def normalize_aif(aif):\n",
    "    normalized_aif = aif/np.max(aif)\n",
    "    return normalized_aif\n",
    "\n",
    "def resize_volume(img):\n",
    "    \"\"\"Resize across z-axis\"\"\"\n",
    "    # Set the desired depth\n",
    "    desired_depth = 64\n",
    "    desired_width = 128\n",
    "    desired_height = 128\n",
    "    # Get current depth\n",
    "    current_depth = img.shape[-1]\n",
    "    current_width = img.shape[0]\n",
    "    current_height = img.shape[1]\n",
    "    # Compute depth factor\n",
    "    depth = current_depth / desired_depth\n",
    "    width = current_width / desired_width\n",
    "    height = current_height / desired_height\n",
    "    depth_factor = 1 / depth\n",
    "    width_factor = 1 / width\n",
    "    height_factor = 1 / height\n",
    "    # Rotate\n",
    "    img = ndimage.rotate(img, 90, reshape=False)\n",
    "    # Resize across z-axis\n",
    "    img = ndimage.zoom(img, (width_factor, height_factor, depth_factor), order=1)\n",
    "    return img\n",
    "\n",
    "def process_scan(path):\n",
    "    \"\"\"Read and resize volume\"\"\"\n",
    "    # Read scan\n",
    "    volume = read_nifti_file(path)\n",
    "    # Normalize\n",
    "    volume = normalize(volume)\n",
    "    # Resize width, height and depth\n",
    "    volume = resize_volume(volume)\n",
    "    return volume\n",
    "\n",
    "\n",
    "# Custom Loss Function\n",
    "def MaxCorrelation(y_true,y_pred):\n",
    "    \"\"\"\n",
    "    Goal is to maximize correlation between y_pred, y_true. Same as minimizing the negative.\n",
    "    \"\"\"\n",
    "    return -tf.math.abs(tfp.stats.correlation(y_pred,y_true, sample_axis=None, event_axis=None))\n"
   ]
  },
  {
   "cell_type": "code",
   "execution_count": 57,
   "id": "4582efdc",
   "metadata": {},
   "outputs": [],
   "source": [
    "tfp.stats.correlation??"
   ]
  },
  {
   "cell_type": "code",
   "execution_count": 13,
   "id": "bac38eaa",
   "metadata": {
    "scrolled": true
   },
   "outputs": [
    {
     "name": "stdout",
     "output_type": "stream",
     "text": [
      "8\n",
      "8\n",
      "8\n",
      "8\n",
      "8\n",
      "8\n",
      "8\n",
      "8\n",
      "8\n",
      "4\n",
      "4\n",
      "4\n",
      "4\n",
      "4\n",
      "4\n",
      "4\n",
      "4\n",
      "2\n",
      "2\n",
      "2\n",
      "2\n",
      "2\n",
      "4\n",
      "4\n",
      "4\n",
      "4\n",
      "4\n",
      "4\n",
      "4\n",
      "4\n",
      "4\n",
      "4\n",
      "4\n",
      "2\n",
      "2\n",
      "2\n",
      "2\n",
      "2\n",
      "2\n",
      "2\n",
      "2\n",
      "2\n",
      "2\n",
      "2\n",
      "2\n",
      "2\n",
      "2\n",
      "2\n",
      "2\n",
      "2\n",
      "2\n",
      "2\n",
      "2\n",
      "2\n",
      "2\n",
      "2\n",
      "2\n",
      "2\n",
      "2\n",
      "2\n",
      "2\n",
      "2\n",
      "2\n",
      "2\n",
      "2\n",
      "2\n",
      "2\n",
      "2\n",
      "2\n",
      "2\n",
      "2\n",
      "2\n",
      "2\n",
      "2\n",
      "2\n",
      "2\n"
     ]
    }
   ],
   "source": [
    "#Reading Arterial Input Functions and Venous Output Functions from the annotations file and\n",
    "#the corresponding coxels in the ISLES18 dataset\n",
    "\n",
    "root_dir     = '/media/sebastian/data/ASAP/ISLES2018_Training/'\n",
    "aif_annotations_path = '/home/sebastian/experiments/aifnet/annotated_aif_vof_80cases.csv'\n",
    "minimum_number_volumes_ctp = 43\n",
    "ROOT_EXP = '/home/sebastian/experiments/aifnet/'\n",
    "\n",
    "dataset_dir = os.path.join(root_dir, \"TRAINING\")\n",
    "tarfile_name = f\"{dataset_dir}.tar\"\n",
    "filenames_4D = natsorted(glob.glob(dataset_dir + \"/case_*/*4D*/*nii*\"))\n",
    "cases_paths = {}\n",
    "for path in filenames_4D:\n",
    "    cases_paths[path.split('.')[-2]] = path\n",
    "#Reading the AIF and the VOF for each case(line) with coordinates AIFx,AIFy,AIFz,VOFx,VOFy,VOFz \n",
    "aif_annotations = []\n",
    "aif_annotations_file = open(aif_annotations_path,'r')\n",
    "aif_annotations_file.readline()\n",
    "cases_annotations = {}\n",
    "for line in aif_annotations_file: #Here we substract one to account for 0-indexing in python\n",
    "    cases_annotations[line.split(',')[0]] = [np.array([int(line.split(',')[1]),int(line.split(',')[2]),int(line.split(',')[3])])-1,\n",
    "                                             np.array([int(line.split(',')[4]),int(line.split(',')[5]),int(line.split(',')[6])])-1]\n",
    "aif_annotations_file.close()\n",
    "\n",
    "aifs_cases = {}\n",
    "vofs_cases = {}\n",
    "datalist = []\n",
    "image_array = []\n",
    "for cur_case in cases_annotations.keys():\n",
    "    #print(cur_case)\n",
    "    AIFx,AIFy,AIFz = cases_annotations[cur_case][0][0],cases_annotations[cur_case][0][1], cases_annotations[cur_case][0][2]\n",
    "    VOFx,VOFy,VOFz = cases_annotations[cur_case][1][0],cases_annotations[cur_case][1][1], cases_annotations[cur_case][1][2]\n",
    "    fname = cases_paths[cur_case]\n",
    "    cur_nib = nib.load(fname)    \n",
    "    ctp_vals = cur_nib.get_fdata()\n",
    "    AIF = ctp_vals[AIFx,AIFy,AIFz,:]\n",
    "    VOF = ctp_vals[VOFx,VOFy,VOFz,:]\n",
    "    aifs_cases[cur_case] = AIF[0:minimum_number_volumes_ctp] #Since not all the CTP sequences have the same #volumes\n",
    "    vofs_cases[cur_case] = VOF[0:minimum_number_volumes_ctp] #Since not all the CTP sequences have the same #volumes\n",
    "    datalist.append({\"image\": fname, \"label\": [aifs_cases[cur_case],vofs_cases[cur_case]]})\n",
    "    image_array.append(ctp_vals)\n",
    "    print(ctp_vals.shape[2])\n"
   ]
  },
  {
   "cell_type": "code",
   "execution_count": 18,
   "id": "45e9c687",
   "metadata": {},
   "outputs": [
    {
     "name": "stdout",
     "output_type": "stream",
     "text": [
      "8\n",
      "7\n"
     ]
    }
   ],
   "source": [
    "cur_case = '345561'\n",
    "fname = cases_paths[cur_case]\n",
    "cur_nib = nib.load(fname)    \n",
    "ctp_vals = cur_nib.get_fdata()\n",
    "AIFx,AIFy,AIFz = cases_annotations[cur_case][0][0],cases_annotations[cur_case][0][1], cases_annotations[cur_case][0][2]\n",
    "VOFx,VOFy,VOFz = cases_annotations[cur_case][1][0],cases_annotations[cur_case][1][1], cases_annotations[cur_case][1][2]\n",
    "\n",
    "print(ctp_vals.shape[2])\n",
    "print(VOFz)"
   ]
  },
  {
   "cell_type": "code",
   "execution_count": 3,
   "id": "e5299b4c",
   "metadata": {
    "scrolled": true
   },
   "outputs": [
    {
     "name": "stdout",
     "output_type": "stream",
     "text": [
      "Before (256, 256, 8, 49)\n",
      "7\n",
      "After (256, 256, 2, 49)\n",
      "Before (256, 256, 8, 49)\n",
      "0\n",
      "Adding it in the other direction (256, 256, 8, 49)\n",
      "After (256, 256, 2, 49)\n",
      "Before (256, 256, 8, 49)\n",
      "7\n",
      "After (256, 256, 2, 49)\n",
      "Before (256, 256, 8, 49)\n",
      "1\n",
      "After (256, 256, 2, 49)\n",
      "Before (256, 256, 8, 49)\n",
      "7\n",
      "After (256, 256, 2, 49)\n",
      "Before (256, 256, 8, 49)\n",
      "0\n",
      "Adding it in the other direction (256, 256, 8, 49)\n",
      "After (256, 256, 2, 49)\n",
      "Before (256, 256, 8, 49)\n",
      "4\n",
      "After (256, 256, 2, 49)\n",
      "Before (256, 256, 8, 49)\n",
      "3\n",
      "After (256, 256, 2, 49)\n",
      "Before (256, 256, 8, 49)\n",
      "0\n",
      "Adding it in the other direction (256, 256, 8, 49)\n",
      "After (256, 256, 2, 49)\n",
      "Before (256, 256, 4, 44)\n",
      "2\n",
      "After (256, 256, 2, 44)\n",
      "Before (256, 256, 4, 44)\n",
      "2\n",
      "After (256, 256, 2, 44)\n",
      "Before (256, 256, 4, 44)\n",
      "1\n",
      "After (256, 256, 2, 44)\n",
      "Before (256, 256, 4, 44)\n",
      "1\n",
      "After (256, 256, 2, 44)\n",
      "Before (256, 256, 4, 44)\n",
      "2\n",
      "After (256, 256, 2, 44)\n",
      "Before (256, 256, 4, 44)\n",
      "2\n",
      "After (256, 256, 2, 44)\n",
      "Before (256, 256, 4, 44)\n",
      "2\n",
      "After (256, 256, 2, 44)\n",
      "Before (256, 256, 4, 44)\n",
      "1\n",
      "After (256, 256, 2, 44)\n",
      "Before (256, 256, 2, 49)\n",
      "1\n",
      "Before (256, 256, 2, 49)\n",
      "1\n",
      "Before (256, 256, 2, 49)\n",
      "1\n",
      "Before (256, 256, 2, 49)\n",
      "1\n",
      "Before (256, 256, 2, 49)\n",
      "1\n",
      "Before (256, 256, 4, 43)\n",
      "2\n",
      "After (256, 256, 2, 43)\n",
      "Before (256, 256, 4, 43)\n",
      "2\n",
      "After (256, 256, 2, 43)\n",
      "Before (256, 256, 4, 43)\n",
      "2\n",
      "After (256, 256, 2, 43)\n",
      "Before (256, 256, 4, 43)\n",
      "2\n",
      "After (256, 256, 2, 43)\n",
      "Before (256, 256, 4, 43)\n",
      "0\n",
      "Adding it in the other direction (256, 256, 4, 43)\n",
      "After (256, 256, 2, 43)\n",
      "Before (256, 256, 4, 43)\n",
      "0\n",
      "Adding it in the other direction (256, 256, 4, 43)\n",
      "After (256, 256, 2, 43)\n",
      "Before (256, 256, 4, 43)\n",
      "2\n",
      "After (256, 256, 2, 43)\n",
      "Before (256, 256, 4, 43)\n",
      "2\n",
      "After (256, 256, 2, 43)\n",
      "Before (256, 256, 4, 43)\n",
      "1\n",
      "After (256, 256, 2, 43)\n",
      "Before (256, 256, 4, 43)\n",
      "3\n",
      "After (256, 256, 2, 43)\n",
      "Before (256, 256, 4, 43)\n",
      "2\n",
      "After (256, 256, 2, 43)\n",
      "Before (256, 256, 2, 43)\n",
      "1\n",
      "Before (256, 256, 2, 43)\n",
      "1\n",
      "Before (256, 256, 2, 46)\n",
      "0\n",
      "Before (256, 256, 2, 46)\n",
      "0\n",
      "Before (256, 256, 2, 43)\n",
      "1\n",
      "Before (256, 256, 2, 43)\n",
      "0\n",
      "Before (256, 256, 2, 43)\n",
      "1\n",
      "Before (256, 256, 2, 46)\n",
      "1\n",
      "Before (256, 256, 2, 46)\n",
      "1\n",
      "Before (256, 256, 2, 46)\n",
      "1\n",
      "Before (256, 256, 2, 46)\n",
      "1\n",
      "Before (256, 256, 2, 46)\n",
      "1\n",
      "Before (256, 256, 2, 46)\n",
      "1\n",
      "Before (256, 256, 2, 46)\n",
      "0\n",
      "Before (256, 256, 2, 46)\n",
      "1\n",
      "Before (256, 256, 2, 43)\n",
      "1\n",
      "Before (256, 256, 2, 43)\n",
      "1\n",
      "Before (256, 256, 2, 46)\n",
      "1\n",
      "Before (256, 256, 2, 46)\n",
      "1\n",
      "Before (256, 256, 2, 43)\n",
      "1\n",
      "Before (256, 256, 2, 43)\n",
      "1\n",
      "Before (256, 256, 2, 43)\n",
      "1\n",
      "Before (256, 256, 2, 43)\n",
      "1\n",
      "Before (256, 256, 2, 46)\n",
      "0\n",
      "Before (256, 256, 2, 46)\n",
      "0\n",
      "Before (256, 256, 2, 46)\n",
      "1\n",
      "Before (256, 256, 2, 46)\n",
      "0\n",
      "Before (256, 256, 2, 43)\n",
      "1\n",
      "Before (256, 256, 2, 46)\n",
      "0\n",
      "Before (256, 256, 2, 46)\n",
      "0\n",
      "Before (256, 256, 2, 46)\n",
      "0\n",
      "Before (256, 256, 2, 46)\n",
      "0\n",
      "Before (256, 256, 2, 46)\n",
      "1\n",
      "Before (256, 256, 2, 46)\n",
      "1\n",
      "Before (256, 256, 2, 46)\n",
      "1\n",
      "Before (256, 256, 2, 46)\n",
      "1\n",
      "Before (256, 256, 2, 46)\n",
      "1\n",
      "Before (256, 256, 2, 46)\n",
      "1\n",
      "Before (256, 256, 2, 43)\n",
      "1\n",
      "Before (256, 256, 2, 43)\n",
      "0\n",
      "Before (256, 256, 2, 43)\n",
      "1\n",
      "Before (256, 256, 2, 46)\n",
      "1\n",
      "Before (256, 256, 2, 46)\n",
      "1\n"
     ]
    }
   ],
   "source": [
    "#Reading the 4D volumes only with 2 slices fixed in the third dimension\n",
    "#Reading Arterial Input Functions and Venous Output Functions from the annotations file and\n",
    "#the corresponding coxels in the ISLES18 dataset\n",
    "\n",
    "root_dir     = '/media/sebastian/data/ASAP/ISLES2018_Training/'\n",
    "aif_annotations_path = '/home/sebastian/experiments/aifnet/annotated_aif_vof_80cases.csv'\n",
    "minimum_number_volumes_ctp = 43\n",
    "ROOT_EXP = '/home/sebastian/experiments/aifnet/'\n",
    "\n",
    "dataset_dir = os.path.join(root_dir, \"TRAINING\")\n",
    "tarfile_name = f\"{dataset_dir}.tar\"\n",
    "filenames_4D = natsorted(glob.glob(dataset_dir + \"/case_*/*4D*/*nii*\"))\n",
    "cases_paths = {}\n",
    "for path in filenames_4D:\n",
    "    cases_paths[path.split('.')[-2]] = path\n",
    "#Reading the AIF and the VOF for each case(line) with coordinates AIFx,AIFy,AIFz,VOFx,VOFy,VOFz \n",
    "aif_annotations = []\n",
    "aif_annotations_file = open(aif_annotations_path,'r')\n",
    "aif_annotations_file.readline()\n",
    "cases_annotations = {}\n",
    "for line in aif_annotations_file: #Here we substract one to account for 0-indexing in python\n",
    "    cases_annotations[line.split(',')[0]] = [np.array([int(line.split(',')[1]),int(line.split(',')[2]),int(line.split(',')[3])])-1,\n",
    "                                             np.array([int(line.split(',')[4]),int(line.split(',')[5]),int(line.split(',')[6])])-1]\n",
    "aif_annotations_file.close()\n",
    "\n",
    "aifs_cases = {}\n",
    "vofs_cases = {}\n",
    "datalist = []\n",
    "image_array = []\n",
    "for cur_case in cases_annotations.keys():\n",
    "    #print(cur_case)\n",
    "    AIFx,AIFy,AIFz = cases_annotations[cur_case][0][0],cases_annotations[cur_case][0][1], cases_annotations[cur_case][0][2]\n",
    "    VOFx,VOFy,VOFz = cases_annotations[cur_case][1][0],cases_annotations[cur_case][1][1], cases_annotations[cur_case][1][2]\n",
    "    fname = cases_paths[cur_case]\n",
    "    cur_nib = nib.load(fname)    \n",
    "    ctp_vals = cur_nib.get_fdata()\n",
    "    print(\"Before \" + str(ctp_vals.shape))\n",
    "    print(AIFz)\n",
    "    #Four cases either is it possible to have the slice up, or the one down, or any of them\n",
    "    if ctp_vals.shape[2] != 2 and AIFz+1 <=  ctp_vals.shape[2] and AIFz>0:            \n",
    "            ctp_vals = ctp_vals[:,:,AIFz-1:AIFz+1,:]\n",
    "            AIFz = 1\n",
    "            print(\"After \" + str(ctp_vals.shape))\n",
    "    if ctp_vals.shape[2] != 2 and AIFz+1 <  ctp_vals.shape[2] and AIFz==0:\n",
    "            AIFx,AIFy,AIFz = cases_annotations[cur_case][0][0],cases_annotations[cur_case][0][1], cases_annotations[cur_case][0][2]\n",
    "            print(\"Adding it in the other direction \" + str(ctp_vals.shape))\n",
    "            ctp_vals = ctp_vals[:,:,AIFz:AIFz+2,:]\n",
    "            AIFz = 0\n",
    "            print(\"After \" + str(ctp_vals.shape))\n",
    "    else:\n",
    "        (\"Not processed\")\n",
    "    AIF = ctp_vals[AIFx,AIFy,AIFz,:]\n",
    "    #VOF = ctp_vals[VOFx,VOFy,VOFz,:]\n",
    "    aifs_cases[cur_case] = AIF[0:minimum_number_volumes_ctp] #Since not all the CTP sequences have the same #volumes\n",
    "    #vofs_cases[cur_case] = VOF[0:minimum_number_volumes_ctp] #Since not all the CTP sequences have the same #volumes\n",
    "    datalist.append({\"image\": fname, \"label\": aifs_cases[cur_case], \"ctpvals\": ctp_vals[:,:,:,0:43]})\n",
    "    image_array.append(ctp_vals[:,:,:,0:43])\n"
   ]
  },
  {
   "cell_type": "code",
   "execution_count": 4,
   "id": "425eb770",
   "metadata": {},
   "outputs": [
    {
     "data": {
      "text/plain": [
       "(76, 256, 256, 2, 43)"
      ]
     },
     "execution_count": 4,
     "metadata": {},
     "output_type": "execute_result"
    }
   ],
   "source": [
    "ctp_array= np.array(image_array)\n",
    "ctp_array.shape"
   ]
  },
  {
   "cell_type": "code",
   "execution_count": 5,
   "id": "664b0012",
   "metadata": {},
   "outputs": [],
   "source": [
    "class ISLES18DataGen(tf.keras.utils.Sequence):\n",
    "  \n",
    "    def __init__(self, datalist,\n",
    "                 batch_size=1,\n",
    "                 minimum_number_volumes_ctp = 43,\n",
    "                 input_size=(256, 256, None,43),\n",
    "                 shuffle=True):\n",
    "        self.datalist = datalist #datalist is an array having as keys: image (paths of the nii 4D CTP) and labels [[AIF],[VOF]]\n",
    "        self.batch_size = batch_size\n",
    "        self.input_size = input_size\n",
    "        self.shuffle = shuffle\n",
    "        self.minimum_number_volumes_ctp = minimum_number_volumes_ctp\n",
    "        \n",
    "        self.n = len(self.datalist)\n",
    "\n",
    "\n",
    "    \n",
    "    def on_epoch_end(self):\n",
    "        pass\n",
    "        \n",
    "    def __get_input(self, path):\n",
    "        #Get the volume\n",
    "        ctp_vals = read_nifti_file(self.datalist[index]['image'],min_num_sequence=self.minimum_number_volumes_ctp)\n",
    "        volume = normalize(ctp_vals)\n",
    "        #Get the labels\n",
    "        label_aif = normalize_aif(self.datalist[index]['label'][0])\n",
    "        label_vof = self.datalist[index]['label'][1]\n",
    "        labels = np.array([example_label_aif,example_label_vof])\n",
    "        return volume,labels\n",
    "    \n",
    "    def __getitem__(self, index): #This function returns the batch \n",
    "        \n",
    "        \n",
    "        pass\n",
    "    def __len__(self):\n",
    "        return self.n // self.batch_size"
   ]
  },
  {
   "cell_type": "code",
   "execution_count": 42,
   "id": "d9daeef3",
   "metadata": {},
   "outputs": [],
   "source": [
    "def get_model_onehead(width=256, height=256, num_channels=43):\n",
    "    \"\"\"Build a 3D convolutional neural network model.\"\"\"\n",
    "    #width and height of the PCT is 256, the number of slices is variable, and the number of channels are\n",
    "    #the number of timepoints in the PCT sequence        \n",
    "    inputs = keras.Input((width, height, 2 , 43))\n",
    "\n",
    "    x = layers.Conv3D(filters=16, kernel_size=(3,3,1), activation=\"relu\", data_format='channels_last', padding='same')(inputs)        \n",
    "    x = layers.Dropout(0.3)(x)\n",
    "    \n",
    "    x = layers.Conv3D(filters=32, kernel_size=(3,3,3), activation=\"relu\", data_format='channels_last', padding='same')(x)\n",
    "    x = layers.Dropout(0.3)(x)\n",
    "    \n",
    "    x = layers.Conv3D(filters=64, kernel_size=(3,3,3), activation=\"relu\", data_format='channels_last', padding='same')(x)\n",
    "    x = layers.Dropout(0.3)(x)\n",
    "    \n",
    "    x = layers.Conv3D(filters=128, kernel_size=(3,3,3), activation=\"relu\", data_format='channels_last', padding='same')(x)\n",
    "\n",
    "    #x = layers.Conv3D(filters=256, kernel_size=(3,3,3), activation=\"relu\", data_format='channels_last', padding='same')(x)\n",
    "    x = layers.Dropout(0.3)(x)\n",
    "    Lout = layers.Conv3D(filters=1, kernel_size=(3,3,3), activation=\"relu\", data_format='channels_last', padding='same')(x)\n",
    "\n",
    "    P_vol_aif = tf.keras.activations.softmax(Lout,name=\"Pvol_aif\")\n",
    "    \n",
    "    #Voxelwise multiplication of P_vol and each of the CTP time points    \n",
    "    voxelwise_mult_each_ctp = tf.keras.layers.Multiply()([inputs,P_vol_aif])    \n",
    "        \n",
    "    #The 3D average pooling block averages the volumetric information along the x-y-z axes, \n",
    "    #such that the predicted vascular function ˆy(t) is a 1D vector of length T.\n",
    "    x_aif = layers.GlobalAveragePooling3D(data_format='channels_last')(voxelwise_mult_each_ctp)\n",
    "    #x = layers.Dense(units=512, activation=\"relu\")(x)\n",
    "    \n",
    "\n",
    "    outputs_aif = layers.Dense(units=num_channels, activation=\"linear\",name=\"aif_pred\")(x_aif)\n",
    "\n",
    "    # Define the model.\n",
    "    model = keras.Model(inputs, outputs_aif, name=\"aifnet\")\n",
    "    return model"
   ]
  },
  {
   "cell_type": "code",
   "execution_count": 23,
   "id": "a901a54c",
   "metadata": {
    "scrolled": false
   },
   "outputs": [
    {
     "ename": "NameError",
     "evalue": "name 'P_vol_vof' is not defined",
     "output_type": "error",
     "traceback": [
      "\u001b[0;31m---------------------------------------------------------------------------\u001b[0m",
      "\u001b[0;31mNameError\u001b[0m                                 Traceback (most recent call last)",
      "\u001b[0;32m<ipython-input-23-75f2d17273da>\u001b[0m in \u001b[0;36m<module>\u001b[0;34m\u001b[0m\n\u001b[1;32m     50\u001b[0m \u001b[0;34m\u001b[0m\u001b[0m\n\u001b[1;32m     51\u001b[0m \u001b[0;31m# Build model.\u001b[0m\u001b[0;34m\u001b[0m\u001b[0;34m\u001b[0m\u001b[0;34m\u001b[0m\u001b[0m\n\u001b[0;32m---> 52\u001b[0;31m \u001b[0mmodel\u001b[0m \u001b[0;34m=\u001b[0m \u001b[0mget_model\u001b[0m\u001b[0;34m(\u001b[0m\u001b[0mwidth\u001b[0m\u001b[0;34m=\u001b[0m\u001b[0;36m256\u001b[0m\u001b[0;34m,\u001b[0m \u001b[0mheight\u001b[0m\u001b[0;34m=\u001b[0m\u001b[0;36m256\u001b[0m\u001b[0;34m,\u001b[0m \u001b[0mnum_channels\u001b[0m\u001b[0;34m=\u001b[0m\u001b[0;36m43\u001b[0m\u001b[0;34m)\u001b[0m\u001b[0;34m\u001b[0m\u001b[0;34m\u001b[0m\u001b[0m\n\u001b[0m\u001b[1;32m     53\u001b[0m \u001b[0mmodel\u001b[0m\u001b[0;34m.\u001b[0m\u001b[0msummary\u001b[0m\u001b[0;34m(\u001b[0m\u001b[0;34m)\u001b[0m\u001b[0;34m\u001b[0m\u001b[0;34m\u001b[0m\u001b[0m\n",
      "\u001b[0;32m<ipython-input-23-75f2d17273da>\u001b[0m in \u001b[0;36mget_model\u001b[0;34m(width, height, num_channels)\u001b[0m\n\u001b[1;32m     33\u001b[0m \u001b[0;34m\u001b[0m\u001b[0m\n\u001b[1;32m     34\u001b[0m     \u001b[0mvoxelwise_mult_each_ctp\u001b[0m \u001b[0;34m=\u001b[0m \u001b[0mtf\u001b[0m\u001b[0;34m.\u001b[0m\u001b[0mkeras\u001b[0m\u001b[0;34m.\u001b[0m\u001b[0mlayers\u001b[0m\u001b[0;34m.\u001b[0m\u001b[0mMultiply\u001b[0m\u001b[0;34m(\u001b[0m\u001b[0;34m)\u001b[0m\u001b[0;34m(\u001b[0m\u001b[0;34m[\u001b[0m\u001b[0minputs\u001b[0m\u001b[0;34m,\u001b[0m\u001b[0mP_vol_aif\u001b[0m\u001b[0;34m]\u001b[0m\u001b[0;34m)\u001b[0m\u001b[0;34m\u001b[0m\u001b[0;34m\u001b[0m\u001b[0m\n\u001b[0;32m---> 35\u001b[0;31m     \u001b[0mvoxelwise_mult_each_ctp\u001b[0m \u001b[0;34m=\u001b[0m \u001b[0mtf\u001b[0m\u001b[0;34m.\u001b[0m\u001b[0mkeras\u001b[0m\u001b[0;34m.\u001b[0m\u001b[0mlayers\u001b[0m\u001b[0;34m.\u001b[0m\u001b[0mMultiply\u001b[0m\u001b[0;34m(\u001b[0m\u001b[0;34m)\u001b[0m\u001b[0;34m(\u001b[0m\u001b[0;34m[\u001b[0m\u001b[0minputs\u001b[0m\u001b[0;34m,\u001b[0m\u001b[0mP_vol_vof\u001b[0m\u001b[0;34m]\u001b[0m\u001b[0;34m)\u001b[0m\u001b[0;34m\u001b[0m\u001b[0;34m\u001b[0m\u001b[0m\n\u001b[0m\u001b[1;32m     36\u001b[0m \u001b[0;34m\u001b[0m\u001b[0m\n\u001b[1;32m     37\u001b[0m     \u001b[0;31m#The 3D average pooling block averages the volumetric information along the x-y-z axes,\u001b[0m\u001b[0;34m\u001b[0m\u001b[0;34m\u001b[0m\u001b[0;34m\u001b[0m\u001b[0m\n",
      "\u001b[0;31mNameError\u001b[0m: name 'P_vol_vof' is not defined"
     ]
    }
   ],
   "source": [
    "def get_model(width=256, height=256, num_channels=43):\n",
    "    \"\"\"Build a 3D convolutional neural network model.\"\"\"\n",
    "    #width and height of the PCT is 256, the number of slices is variable, and the number of channels are\n",
    "    #the number of timepoints in the PCT sequence        \n",
    "    inputs = keras.Input((width, height, None , num_channels))\n",
    "\n",
    "    x = layers.Conv3D(filters=16, kernel_size=(3,3,1), activation=\"relu\", data_format='channels_last', padding='same')(inputs)        \n",
    "    #x = layers.MaxPool3D(pool_size=2)(x)\n",
    "    #x = layers.BatchNormalization()(x)\n",
    "    \n",
    "    x = layers.Conv3D(filters=32, kernel_size=(3,3,3), activation=\"relu\", data_format='channels_last', padding='same')(x)\n",
    "    #x = layers.MaxPool3D(pool_size=2)(x)\n",
    "    #x = layers.BatchNormalization()(x)\n",
    "\n",
    "    x = layers.Conv3D(filters=64, kernel_size=(3,3,3), activation=\"relu\", data_format='channels_last', padding='same')(x)\n",
    "    #x = layers.MaxPool3D(pool_size=2)(x)\n",
    "    #x = layers.BatchNormalization()(x)\n",
    "\n",
    "    x = layers.Conv3D(filters=128, kernel_size=(3,3,3), activation=\"relu\", data_format='channels_last', padding='same')(x)\n",
    "    #x = layers.MaxPool3D(pool_size=2)(x)\n",
    "    #x = layers.BatchNormalization()(x)\n",
    "    \n",
    "    x = layers.Conv3D(filters=256, kernel_size=(3,3,3), activation=\"relu\", data_format='channels_last', padding='same')(x)\n",
    "    #x = layers.MaxPool3D(pool_size=2)(x)\n",
    "    #x = layers.BatchNormalization()(x)\n",
    "    \n",
    "    Lout = layers.Conv3D(filters=1, kernel_size=(3,3,3), activation=\"relu\", data_format='channels_last', padding='same')(x)\n",
    "    #x = layers.MaxPool3D(pool_size=2)(x)\n",
    "    P_vol_aif = tf.keras.activations.softmax(Lout,name=\"Pvol_aif\")\n",
    "\n",
    "    #Voxelwise multiplication of P_vol and each of the CTP time points\n",
    "    \n",
    "    voxelwise_mult_each_ctp = tf.keras.layers.Multiply()([inputs,P_vol_aif])\n",
    "    voxelwise_mult_each_ctp = tf.keras.layers.Multiply()([inputs,P_vol_vof])\n",
    "    \n",
    "    #The 3D average pooling block averages the volumetric information along the x-y-z axes, \n",
    "    #such that the predicted vascular function ˆy(t) is a 1D vector of length T.\n",
    "    x_aif = layers.GlobalAveragePooling3D(data_format='channels_last')(P_vol_aif)\n",
    "    x_vof = layers.GlobalAveragePooling3D(data_format='channels_last')(P_vol_vof)\n",
    "    #x = layers.Dense(units=512, activation=\"relu\")(x)\n",
    "    #x = layers.Dropout(0.3)(x)\n",
    "\n",
    "    outputs_aif = layers.Dense(units=num_channels, activation=\"linear\",name=\"aif_pred\")(x_aif)\n",
    "    outputs_vof = layers.Dense(units=num_channels, activation=\"linear\",name=\"vof_pred\")(x_vof)\n",
    "    # Define the model.\n",
    "    model = keras.Model(inputs, [outputs_aif,outputs_vof], name=\"aifnet\")\n",
    "    return model\n",
    "\n",
    "\n",
    "# Build model.\n",
    "model = get_model(width=256, height=256, num_channels=43)\n",
    "model.summary()\n"
   ]
  },
  {
   "cell_type": "code",
   "execution_count": 58,
   "id": "ade7c46a",
   "metadata": {},
   "outputs": [],
   "source": [
    "initial_learning_rate = 0.011\n",
    "lr_schedule = keras.optimizers.schedules.ExponentialDecay(\n",
    "    initial_learning_rate, decay_steps=100000, decay_rate=0.96, staircase=True\n",
    ")"
   ]
  },
  {
   "cell_type": "code",
   "execution_count": 59,
   "id": "1f0acc48",
   "metadata": {
    "scrolled": false
   },
   "outputs": [
    {
     "name": "stdout",
     "output_type": "stream",
     "text": [
      "Model: \"aifnet\"\n",
      "__________________________________________________________________________________________________\n",
      "Layer (type)                    Output Shape         Param #     Connected to                     \n",
      "==================================================================================================\n",
      "input_3 (InputLayer)            [(None, 256, 256, 2, 0                                            \n",
      "__________________________________________________________________________________________________\n",
      "conv3d_10 (Conv3D)              (None, 256, 256, 2,  6208        input_3[0][0]                    \n",
      "__________________________________________________________________________________________________\n",
      "dropout_5 (Dropout)             (None, 256, 256, 2,  0           conv3d_10[0][0]                  \n",
      "__________________________________________________________________________________________________\n",
      "conv3d_11 (Conv3D)              (None, 256, 256, 2,  13856       dropout_5[0][0]                  \n",
      "__________________________________________________________________________________________________\n",
      "dropout_6 (Dropout)             (None, 256, 256, 2,  0           conv3d_11[0][0]                  \n",
      "__________________________________________________________________________________________________\n",
      "conv3d_12 (Conv3D)              (None, 256, 256, 2,  55360       dropout_6[0][0]                  \n",
      "__________________________________________________________________________________________________\n",
      "dropout_7 (Dropout)             (None, 256, 256, 2,  0           conv3d_12[0][0]                  \n",
      "__________________________________________________________________________________________________\n",
      "conv3d_13 (Conv3D)              (None, 256, 256, 2,  221312      dropout_7[0][0]                  \n",
      "__________________________________________________________________________________________________\n",
      "dropout_8 (Dropout)             (None, 256, 256, 2,  0           conv3d_13[0][0]                  \n",
      "__________________________________________________________________________________________________\n",
      "conv3d_14 (Conv3D)              (None, 256, 256, 2,  3457        dropout_8[0][0]                  \n",
      "__________________________________________________________________________________________________\n",
      "tf.keras.activations.softmax_2  (None, 256, 256, 2,  0           conv3d_14[0][0]                  \n",
      "__________________________________________________________________________________________________\n",
      "multiply_2 (Multiply)           (None, 256, 256, 2,  0           input_3[0][0]                    \n",
      "                                                                 tf.keras.activations.softmax_2[0]\n",
      "__________________________________________________________________________________________________\n",
      "global_average_pooling3d_2 (Glo (None, 43)           0           multiply_2[0][0]                 \n",
      "__________________________________________________________________________________________________\n",
      "aif_pred (Dense)                (None, 43)           1892        global_average_pooling3d_2[0][0] \n",
      "==================================================================================================\n",
      "Total params: 302,085\n",
      "Trainable params: 302,085\n",
      "Non-trainable params: 0\n",
      "__________________________________________________________________________________________________\n"
     ]
    }
   ],
   "source": [
    "# Build model.\n",
    "model = get_model_onehead(width=256, height=256, num_channels=43)\n",
    "model.summary()"
   ]
  },
  {
   "cell_type": "code",
   "execution_count": 60,
   "id": "b04aaa3f",
   "metadata": {},
   "outputs": [],
   "source": [
    "model.compile(\n",
    "    loss=MaxCorrelation,\n",
    "    optimizer=keras.optimizers.Adam(learning_rate=initial_learning_rate, clipnorm=1),\n",
    "    metrics=[\"mae\"])"
   ]
  },
  {
   "cell_type": "code",
   "execution_count": 61,
   "id": "6a121623",
   "metadata": {},
   "outputs": [],
   "source": [
    "# Define callbacks.\n",
    "checkpoint_cb = keras.callbacks.ModelCheckpoint(\n",
    "    \"3d_image_classification.h5\", save_best_only=True\n",
    ")\n",
    "early_stopping_cb = keras.callbacks.EarlyStopping(monitor=\"train_acc\", patience=15)"
   ]
  },
  {
   "cell_type": "code",
   "execution_count": 62,
   "id": "54af31ac",
   "metadata": {
    "scrolled": true
   },
   "outputs": [
    {
     "data": {
      "text/plain": [
       "76"
      ]
     },
     "execution_count": 62,
     "metadata": {},
     "output_type": "execute_result"
    }
   ],
   "source": [
    "len(datalist)"
   ]
  },
  {
   "cell_type": "code",
   "execution_count": 63,
   "id": "06e6d491",
   "metadata": {},
   "outputs": [
    {
     "data": {
      "text/plain": [
       "11"
      ]
     },
     "execution_count": 63,
     "metadata": {},
     "output_type": "execute_result"
    }
   ],
   "source": [
    "k = random.randint(0,len(datalist))\n",
    "k"
   ]
  },
  {
   "cell_type": "code",
   "execution_count": 75,
   "id": "ac260aaa",
   "metadata": {
    "scrolled": true
   },
   "outputs": [
    {
     "name": "stdout",
     "output_type": "stream",
     "text": [
      "================= Next Sequence =================\n",
      "0/media/sebastian/data/ASAP/ISLES2018_Training/TRAINING/case_19/SMIR.Brain.XX.O.CT_4DPWI.339343/SMIR.Brain.XX.O.CT_4DPWI.339343.nii\n",
      "(256, 256, 2, 43)\n",
      "(43,)\n",
      "[-0.8054322600364685, 0.6834192276000977]\n",
      "================= Next Sequence =================\n",
      "1/media/sebastian/data/ASAP/ISLES2018_Training/TRAINING/case_32/SMIR.Brain.XX.O.CT_4DPWI.345766/SMIR.Brain.XX.O.CT_4DPWI.345766.nii\n",
      "(256, 256, 2, 43)\n",
      "(43,)\n",
      "[-0.9438203573226929, 0.7653318047523499]\n",
      "================= Next Sequence =================\n",
      "2/media/sebastian/data/ASAP/ISLES2018_Training/TRAINING/case_41/SMIR.Brain.XX.O.CT_4DPWI.345829/SMIR.Brain.XX.O.CT_4DPWI.345829.nii\n",
      "(256, 256, 2, 43)\n",
      "(43,)\n",
      "[-0.9024474620819092, 0.7756120562553406]\n",
      "================= Next Sequence =================\n",
      "3/media/sebastian/data/ASAP/ISLES2018_Training/TRAINING/case_61/SMIR.Brain.XX.O.CT_4DPWI.345969/SMIR.Brain.XX.O.CT_4DPWI.345969.nii\n",
      "(256, 256, 2, 43)\n",
      "(43,)\n",
      "[-0.30036938190460205, 0.8237513303756714]\n",
      "================= Next Sequence =================\n",
      "4/media/sebastian/data/ASAP/ISLES2018_Training/TRAINING/case_32/SMIR.Brain.XX.O.CT_4DPWI.345766/SMIR.Brain.XX.O.CT_4DPWI.345766.nii\n",
      "(256, 256, 2, 43)\n",
      "(43,)\n",
      "[-0.9496920108795166, 0.7635427117347717]\n",
      "================= Next Sequence =================\n",
      "5/media/sebastian/data/ASAP/ISLES2018_Training/TRAINING/case_30/SMIR.Brain.XX.O.CT_4DPWI.345752/SMIR.Brain.XX.O.CT_4DPWI.345752.nii\n",
      "(256, 256, 2, 43)\n",
      "(43,)\n",
      "[-0.9561542868614197, 0.9336028099060059]\n",
      "================= Next Sequence =================\n",
      "6/media/sebastian/data/ASAP/ISLES2018_Training/TRAINING/case_68/SMIR.Brain.XX.O.CT_4DPWI.346018/SMIR.Brain.XX.O.CT_4DPWI.346018.nii\n",
      "(256, 256, 2, 43)\n",
      "(43,)\n",
      "[-0.05523264780640602, 0.7224259376525879]\n",
      "================= Next Sequence =================\n",
      "7/media/sebastian/data/ASAP/ISLES2018_Training/TRAINING/case_60/SMIR.Brain.XX.O.CT_4DPWI.345962/SMIR.Brain.XX.O.CT_4DPWI.345962.nii\n",
      "(256, 256, 2, 43)\n",
      "(43,)\n",
      "[-0.8136124610900879, 0.6482163071632385]\n",
      "================= Next Sequence =================\n",
      "8/media/sebastian/data/ASAP/ISLES2018_Training/TRAINING/case_25/SMIR.Brain.XX.O.CT_4DPWI.345717/SMIR.Brain.XX.O.CT_4DPWI.345717.nii\n",
      "(256, 256, 2, 43)\n",
      "(43,)\n",
      "[-0.06549941748380661, 0.6837552785873413]\n",
      "================= Next Sequence =================\n",
      "9/media/sebastian/data/ASAP/ISLES2018_Training/TRAINING/case_38/SMIR.Brain.XX.O.CT_4DPWI.345808/SMIR.Brain.XX.O.CT_4DPWI.345808.nii\n",
      "(256, 256, 2, 43)\n",
      "(43,)\n",
      "[-0.9298065304756165, 0.7802690863609314]\n",
      "================= Next Sequence =================\n",
      "10/media/sebastian/data/ASAP/ISLES2018_Training/TRAINING/case_43/SMIR.Brain.XX.O.CT_4DPWI.345843/SMIR.Brain.XX.O.CT_4DPWI.345843.nii\n",
      "(256, 256, 2, 43)\n",
      "(43,)\n",
      "[-0.44036349654197693, 0.7280644178390503]\n",
      "================= Next Sequence =================\n",
      "11/media/sebastian/data/ASAP/ISLES2018_Training/TRAINING/case_43/SMIR.Brain.XX.O.CT_4DPWI.345843/SMIR.Brain.XX.O.CT_4DPWI.345843.nii\n",
      "(256, 256, 2, 43)\n",
      "(43,)\n",
      "[-0.44433286786079407, 0.7315787076950073]\n",
      "================= Next Sequence =================\n",
      "12/media/sebastian/data/ASAP/ISLES2018_Training/TRAINING/case_70/SMIR.Brain.XX.O.CT_4DPWI.346032/SMIR.Brain.XX.O.CT_4DPWI.346032.nii\n",
      "(256, 256, 2, 43)\n",
      "(43,)\n",
      "[-0.9260648488998413, 0.8293588161468506]\n",
      "================= Next Sequence =================\n",
      "13/media/sebastian/data/ASAP/ISLES2018_Training/TRAINING/case_15/SMIR.Brain.XX.O.CT_4DPWI.345659/SMIR.Brain.XX.O.CT_4DPWI.345659.nii\n",
      "(256, 256, 2, 43)\n",
      "(43,)\n",
      "[-0.2193611115217209, 0.5977100729942322]\n",
      "================= Next Sequence =================\n",
      "14/media/sebastian/data/ASAP/ISLES2018_Training/TRAINING/case_52/SMIR.Brain.XX.O.CT_4DPWI.345906/SMIR.Brain.XX.O.CT_4DPWI.345906.nii\n",
      "(256, 256, 2, 43)\n",
      "(43,)\n",
      "[-0.7592637538909912, 0.7676233053207397]\n",
      "================= Next Sequence =================\n",
      "15/media/sebastian/data/ASAP/ISLES2018_Training/TRAINING/case_4/SMIR.Brain.XX.O.CT_4DPWI.345582/SMIR.Brain.XX.O.CT_4DPWI.345582.nii\n",
      "(256, 256, 2, 43)\n",
      "(43,)\n",
      "[-0.3164390027523041, 0.5997134447097778]\n",
      "================= Next Sequence =================\n",
      "16/media/sebastian/data/ASAP/ISLES2018_Training/TRAINING/case_14/SMIR.Brain.XX.O.CT_4DPWI.345652/SMIR.Brain.XX.O.CT_4DPWI.345652.nii\n",
      "(256, 256, 2, 43)\n",
      "(43,)\n",
      "[-0.8613935112953186, 0.6725708246231079]\n",
      "================= Next Sequence =================\n",
      "17/media/sebastian/data/ASAP/ISLES2018_Training/TRAINING/case_47/SMIR.Brain.XX.O.CT_4DPWI.345871/SMIR.Brain.XX.O.CT_4DPWI.345871.nii\n",
      "(256, 256, 2, 43)\n",
      "(43,)\n",
      "[-0.6638585329055786, 0.8600054979324341]\n",
      "================= Next Sequence =================\n",
      "18/media/sebastian/data/ASAP/ISLES2018_Training/TRAINING/case_51/SMIR.Brain.XX.O.CT_4DPWI.345899/SMIR.Brain.XX.O.CT_4DPWI.345899.nii\n",
      "(256, 256, 2, 43)\n",
      "(43,)\n",
      "[-0.964230477809906, 0.8047937154769897]\n",
      "================= Next Sequence =================\n",
      "19/media/sebastian/data/ASAP/ISLES2018_Training/TRAINING/case_8/SMIR.Brain.XX.O.CT_4DPWI.345610/SMIR.Brain.XX.O.CT_4DPWI.345610.nii\n",
      "(256, 256, 2, 43)\n",
      "(43,)\n",
      "[-0.2443361133337021, 0.6204425692558289]\n",
      "================= Next Sequence =================\n",
      "20/media/sebastian/data/ASAP/ISLES2018_Training/TRAINING/case_24/SMIR.Brain.XX.O.CT_4DPWI.345710/SMIR.Brain.XX.O.CT_4DPWI.345710.nii\n",
      "(256, 256, 2, 43)\n",
      "(43,)\n",
      "[-0.9344767928123474, 0.9320418834686279]\n",
      "================= Next Sequence =================\n",
      "21/media/sebastian/data/ASAP/ISLES2018_Training/TRAINING/case_51/SMIR.Brain.XX.O.CT_4DPWI.345899/SMIR.Brain.XX.O.CT_4DPWI.345899.nii\n",
      "(256, 256, 2, 43)\n",
      "(43,)\n",
      "[-0.9650061130523682, 0.8065794110298157]\n",
      "================= Next Sequence =================\n",
      "22/media/sebastian/data/ASAP/ISLES2018_Training/TRAINING/case_56/SMIR.Brain.XX.O.CT_4DPWI.345934/SMIR.Brain.XX.O.CT_4DPWI.345934.nii\n",
      "(256, 256, 2, 43)\n",
      "(43,)\n",
      "[-0.40634456276893616, 0.9454134702682495]\n",
      "================= Next Sequence =================\n",
      "23/media/sebastian/data/ASAP/ISLES2018_Training/TRAINING/case_28/SMIR.Brain.XX.O.CT_4DPWI.345738/SMIR.Brain.XX.O.CT_4DPWI.345738.nii\n",
      "(256, 256, 2, 43)\n",
      "(43,)\n",
      "[-0.6905614733695984, 0.8025303483009338]\n",
      "================= Next Sequence =================\n",
      "24/media/sebastian/data/ASAP/ISLES2018_Training/TRAINING/case_71/SMIR.Brain.XX.O.CT_4DPWI.346039/SMIR.Brain.XX.O.CT_4DPWI.346039.nii\n",
      "(256, 256, 2, 43)\n",
      "(43,)\n",
      "[-0.9614551663398743, 0.8115088939666748]\n",
      "================= Next Sequence =================\n",
      "25/media/sebastian/data/ASAP/ISLES2018_Training/TRAINING/case_37/SMIR.Brain.XX.O.CT_4DPWI.345801/SMIR.Brain.XX.O.CT_4DPWI.345801.nii\n",
      "(256, 256, 2, 43)\n",
      "(43,)\n",
      "[-0.9333934187889099, 0.9124491214752197]\n",
      "================= Next Sequence =================\n",
      "26/media/sebastian/data/ASAP/ISLES2018_Training/TRAINING/case_44/SMIR.Brain.XX.O.CT_4DPWI.345850/SMIR.Brain.XX.O.CT_4DPWI.345850.nii\n",
      "(256, 256, 2, 43)\n",
      "(43,)\n",
      "[-0.7465715408325195, 0.7668973207473755]\n",
      "================= Next Sequence =================\n",
      "27/media/sebastian/data/ASAP/ISLES2018_Training/TRAINING/case_3/SMIR.Brain.XX.O.CT_4DPWI.345575/SMIR.Brain.XX.O.CT_4DPWI.345575.nii\n",
      "(256, 256, 2, 43)\n",
      "(43,)\n",
      "[-0.4686075747013092, 0.6682240962982178]\n",
      "================= Next Sequence =================\n",
      "28/media/sebastian/data/ASAP/ISLES2018_Training/TRAINING/case_31/SMIR.Brain.XX.O.CT_4DPWI.345759/SMIR.Brain.XX.O.CT_4DPWI.345759.nii\n",
      "(256, 256, 2, 43)\n",
      "(43,)\n",
      "[-0.16380824148654938, 0.7739624977111816]\n",
      "================= Next Sequence =================\n",
      "29/media/sebastian/data/ASAP/ISLES2018_Training/TRAINING/case_68/SMIR.Brain.XX.O.CT_4DPWI.346018/SMIR.Brain.XX.O.CT_4DPWI.346018.nii\n",
      "(256, 256, 2, 43)\n",
      "(43,)\n",
      "[-0.013582473620772362, 0.7512532472610474]\n",
      "================= Next Sequence =================\n",
      "30/media/sebastian/data/ASAP/ISLES2018_Training/TRAINING/case_66/SMIR.Brain.XX.O.CT_4DPWI.346004/SMIR.Brain.XX.O.CT_4DPWI.346004.nii\n",
      "(256, 256, 2, 43)\n",
      "(43,)\n",
      "[-0.7319435477256775, 0.811273992061615]\n",
      "================= Next Sequence =================\n",
      "31/media/sebastian/data/ASAP/ISLES2018_Training/TRAINING/case_57/SMIR.Brain.XX.O.CT_4DPWI.345941/SMIR.Brain.XX.O.CT_4DPWI.345941.nii\n",
      "(256, 256, 2, 43)\n",
      "(43,)\n",
      "[-0.6925058364868164, 0.7930739521980286]\n",
      "================= Next Sequence =================\n",
      "32/media/sebastian/data/ASAP/ISLES2018_Training/TRAINING/case_10/SMIR.Brain.XX.O.CT_4DPWI.345624/SMIR.Brain.XX.O.CT_4DPWI.345624.nii\n",
      "(256, 256, 2, 43)\n",
      "(43,)\n",
      "[-0.8892619013786316, 0.7446078658103943]\n",
      "================= Next Sequence =================\n",
      "33/media/sebastian/data/ASAP/ISLES2018_Training/TRAINING/case_73/SMIR.Brain.XX.O.CT_4DPWI.346053/SMIR.Brain.XX.O.CT_4DPWI.346053.nii\n",
      "(256, 256, 2, 43)\n",
      "(43,)\n"
     ]
    },
    {
     "name": "stdout",
     "output_type": "stream",
     "text": [
      "[-0.8034411668777466, 0.9326953291893005]\n",
      "================= Next Sequence =================\n",
      "34/media/sebastian/data/ASAP/ISLES2018_Training/TRAINING/case_49/SMIR.Brain.XX.O.CT_4DPWI.345885/SMIR.Brain.XX.O.CT_4DPWI.345885.nii\n",
      "(256, 256, 2, 43)\n",
      "(43,)\n",
      "[-0.5243053436279297, 0.9285603165626526]\n",
      "================= Next Sequence =================\n",
      "35/media/sebastian/data/ASAP/ISLES2018_Training/TRAINING/case_72/SMIR.Brain.XX.O.CT_4DPWI.346046/SMIR.Brain.XX.O.CT_4DPWI.346046.nii\n",
      "(256, 256, 2, 43)\n",
      "(43,)\n",
      "[-0.927058219909668, 0.9963411688804626]\n",
      "================= Next Sequence =================\n",
      "36/media/sebastian/data/ASAP/ISLES2018_Training/TRAINING/case_46/SMIR.Brain.XX.O.CT_4DPWI.345864/SMIR.Brain.XX.O.CT_4DPWI.345864.nii\n",
      "(256, 256, 2, 43)\n",
      "(43,)\n",
      "[-0.5818246006965637, 0.8690453171730042]\n",
      "================= Next Sequence =================\n",
      "37/media/sebastian/data/ASAP/ISLES2018_Training/TRAINING/case_2/SMIR.Brain.XX.O.CT_4DPWI.345568/SMIR.Brain.XX.O.CT_4DPWI.345568.nii\n",
      "(256, 256, 2, 43)\n",
      "(43,)\n",
      "[-0.7366243004798889, 0.7313089966773987]\n",
      "================= Next Sequence =================\n",
      "38/media/sebastian/data/ASAP/ISLES2018_Training/TRAINING/case_68/SMIR.Brain.XX.O.CT_4DPWI.346018/SMIR.Brain.XX.O.CT_4DPWI.346018.nii\n",
      "(256, 256, 2, 43)\n",
      "(43,)\n",
      "[-0.08505536615848541, 0.7851839065551758]\n",
      "================= Next Sequence =================\n",
      "39/media/sebastian/data/ASAP/ISLES2018_Training/TRAINING/case_50/SMIR.Brain.XX.O.CT_4DPWI.345892/SMIR.Brain.XX.O.CT_4DPWI.345892.nii\n",
      "(256, 256, 2, 43)\n",
      "(43,)\n",
      "[-0.7914347052574158, 0.9447477459907532]\n",
      "================= Next Sequence =================\n",
      "40/media/sebastian/data/ASAP/ISLES2018_Training/TRAINING/case_10/SMIR.Brain.XX.O.CT_4DPWI.345624/SMIR.Brain.XX.O.CT_4DPWI.345624.nii\n",
      "(256, 256, 2, 43)\n",
      "(43,)\n",
      "[-0.8822519779205322, 0.7669127583503723]\n",
      "================= Next Sequence =================\n",
      "41/media/sebastian/data/ASAP/ISLES2018_Training/TRAINING/case_32/SMIR.Brain.XX.O.CT_4DPWI.345766/SMIR.Brain.XX.O.CT_4DPWI.345766.nii\n",
      "(256, 256, 2, 43)\n",
      "(43,)\n",
      "[-0.9113685488700867, 0.7975649237632751]\n",
      "================= Next Sequence =================\n",
      "42/media/sebastian/data/ASAP/ISLES2018_Training/TRAINING/case_33/SMIR.Brain.XX.O.CT_4DPWI.345773/SMIR.Brain.XX.O.CT_4DPWI.345773.nii\n",
      "(256, 256, 2, 43)\n",
      "(43,)\n",
      "[-0.950134813785553, 0.7385277152061462]\n",
      "================= Next Sequence =================\n",
      "43/media/sebastian/data/ASAP/ISLES2018_Training/TRAINING/case_72/SMIR.Brain.XX.O.CT_4DPWI.346046/SMIR.Brain.XX.O.CT_4DPWI.346046.nii\n",
      "(256, 256, 2, 43)\n",
      "(43,)\n",
      "[-0.9306519031524658, 1.0101450681686401]\n",
      "================= Next Sequence =================\n",
      "44/media/sebastian/data/ASAP/ISLES2018_Training/TRAINING/case_64/SMIR.Brain.XX.O.CT_4DPWI.345990/SMIR.Brain.XX.O.CT_4DPWI.345990.nii\n",
      "(256, 256, 2, 43)\n",
      "(43,)\n",
      "[-0.926278829574585, 0.9892030954360962]\n",
      "================= Next Sequence =================\n",
      "45/media/sebastian/data/ASAP/ISLES2018_Training/TRAINING/case_23/SMIR.Brain.XX.O.CT_4DPWI.345703/SMIR.Brain.XX.O.CT_4DPWI.345703.nii\n",
      "(256, 256, 2, 43)\n",
      "(43,)\n",
      "[-0.8201804161071777, 0.9109350442886353]\n",
      "================= Next Sequence =================\n",
      "46/media/sebastian/data/ASAP/ISLES2018_Training/TRAINING/case_63/SMIR.Brain.XX.O.CT_4DPWI.345983/SMIR.Brain.XX.O.CT_4DPWI.345983.nii\n",
      "(256, 256, 2, 43)\n",
      "(43,)\n",
      "[-0.6967315077781677, 0.897646963596344]\n",
      "================= Next Sequence =================\n",
      "47/media/sebastian/data/ASAP/ISLES2018_Training/TRAINING/case_69/SMIR.Brain.XX.O.CT_4DPWI.346025/SMIR.Brain.XX.O.CT_4DPWI.346025.nii\n",
      "(256, 256, 2, 43)\n",
      "(43,)\n",
      "[-0.07541611790657043, 0.8497504591941833]\n",
      "================= Next Sequence =================\n",
      "48/media/sebastian/data/ASAP/ISLES2018_Training/TRAINING/case_21/SMIR.Brain.XX.O.CT_4DPWI.345689/SMIR.Brain.XX.O.CT_4DPWI.345689.nii\n",
      "(256, 256, 2, 43)\n",
      "(43,)\n",
      "[-0.612766444683075, 0.8060464262962341]\n",
      "================= Next Sequence =================\n",
      "49/media/sebastian/data/ASAP/ISLES2018_Training/TRAINING/case_34/SMIR.Brain.XX.O.CT_4DPWI.345780/SMIR.Brain.XX.O.CT_4DPWI.345780.nii\n",
      "(256, 256, 2, 43)\n",
      "(43,)\n",
      "[-0.9477971792221069, 0.893614649772644]\n",
      "================= Next Sequence =================\n",
      "50/media/sebastian/data/ASAP/ISLES2018_Training/TRAINING/case_67/SMIR.Brain.XX.O.CT_4DPWI.346011/SMIR.Brain.XX.O.CT_4DPWI.346011.nii\n",
      "(256, 256, 2, 43)\n",
      "(43,)\n",
      "[-0.6697083711624146, 0.8381303548812866]\n",
      "================= Next Sequence =================\n",
      "51/media/sebastian/data/ASAP/ISLES2018_Training/TRAINING/case_66/SMIR.Brain.XX.O.CT_4DPWI.346004/SMIR.Brain.XX.O.CT_4DPWI.346004.nii\n",
      "(256, 256, 2, 43)\n",
      "(43,)\n",
      "[-0.7258147597312927, 0.8331798911094666]\n",
      "================= Next Sequence =================\n",
      "52/media/sebastian/data/ASAP/ISLES2018_Training/TRAINING/case_2/SMIR.Brain.XX.O.CT_4DPWI.345568/SMIR.Brain.XX.O.CT_4DPWI.345568.nii\n",
      "(256, 256, 2, 43)\n",
      "(43,)\n",
      "[-0.7582536935806274, 0.7319867610931396]\n",
      "================= Next Sequence =================\n",
      "53/media/sebastian/data/ASAP/ISLES2018_Training/TRAINING/case_36/SMIR.Brain.XX.O.CT_4DPWI.345794/SMIR.Brain.XX.O.CT_4DPWI.345794.nii\n",
      "(256, 256, 2, 43)\n",
      "(43,)\n",
      "[-0.8099843263626099, 0.8664544820785522]\n",
      "================= Next Sequence =================\n",
      "54/media/sebastian/data/ASAP/ISLES2018_Training/TRAINING/case_63/SMIR.Brain.XX.O.CT_4DPWI.345983/SMIR.Brain.XX.O.CT_4DPWI.345983.nii\n",
      "(256, 256, 2, 43)\n",
      "(43,)\n",
      "[-0.7263824939727783, 0.8929197788238525]\n",
      "================= Next Sequence =================\n",
      "55/media/sebastian/data/ASAP/ISLES2018_Training/TRAINING/case_17/SMIR.Brain.XX.O.CT_4DPWI.345673/SMIR.Brain.XX.O.CT_4DPWI.345673.nii\n",
      "(256, 256, 2, 43)\n",
      "(43,)\n",
      "[-0.8480542898178101, 0.7614211440086365]\n",
      "================= Next Sequence =================\n",
      "56/media/sebastian/data/ASAP/ISLES2018_Training/TRAINING/case_55/SMIR.Brain.XX.O.CT_4DPWI.345927/SMIR.Brain.XX.O.CT_4DPWI.345927.nii\n",
      "(256, 256, 2, 43)\n",
      "(43,)\n",
      "[-0.7911900281906128, 1.0478299856185913]\n",
      "================= Next Sequence =================\n",
      "57/media/sebastian/data/ASAP/ISLES2018_Training/TRAINING/case_4/SMIR.Brain.XX.O.CT_4DPWI.345582/SMIR.Brain.XX.O.CT_4DPWI.345582.nii\n",
      "(256, 256, 2, 43)\n",
      "(43,)\n",
      "[-0.2947244644165039, 0.6195482015609741]\n",
      "================= Next Sequence =================\n",
      "58/media/sebastian/data/ASAP/ISLES2018_Training/TRAINING/case_53/SMIR.Brain.XX.O.CT_4DPWI.345913/SMIR.Brain.XX.O.CT_4DPWI.345913.nii\n",
      "(256, 256, 2, 43)\n",
      "(43,)\n",
      "[-0.9001646041870117, 0.7758621573448181]\n",
      "================= Next Sequence =================\n",
      "59/media/sebastian/data/ASAP/ISLES2018_Training/TRAINING/case_54/SMIR.Brain.XX.O.CT_4DPWI.345920/SMIR.Brain.XX.O.CT_4DPWI.345920.nii\n",
      "(256, 256, 2, 43)\n",
      "(43,)\n",
      "[-0.8630496263504028, 0.7972807884216309]\n",
      "================= Next Sequence =================\n",
      "60/media/sebastian/data/ASAP/ISLES2018_Training/TRAINING/case_57/SMIR.Brain.XX.O.CT_4DPWI.345941/SMIR.Brain.XX.O.CT_4DPWI.345941.nii\n",
      "(256, 256, 2, 43)\n",
      "(43,)\n",
      "[-0.6805614829063416, 0.7934844493865967]\n",
      "================= Next Sequence =================\n",
      "61/media/sebastian/data/ASAP/ISLES2018_Training/TRAINING/case_9/SMIR.Brain.XX.O.CT_4DPWI.345617/SMIR.Brain.XX.O.CT_4DPWI.345617.nii\n",
      "(256, 256, 2, 43)\n",
      "(43,)\n",
      "[-0.9227510690689087, 0.8812779188156128]\n",
      "================= Next Sequence =================\n",
      "62/media/sebastian/data/ASAP/ISLES2018_Training/TRAINING/case_21/SMIR.Brain.XX.O.CT_4DPWI.345689/SMIR.Brain.XX.O.CT_4DPWI.345689.nii\n",
      "(256, 256, 2, 43)\n",
      "(43,)\n",
      "[-0.5335464477539062, 0.7809879183769226]\n",
      "================= Next Sequence =================\n",
      "63/media/sebastian/data/ASAP/ISLES2018_Training/TRAINING/case_30/SMIR.Brain.XX.O.CT_4DPWI.345752/SMIR.Brain.XX.O.CT_4DPWI.345752.nii\n",
      "(256, 256, 2, 43)\n",
      "(43,)\n",
      "[-0.9566686749458313, 0.9601202607154846]\n",
      "================= Next Sequence =================\n",
      "64/media/sebastian/data/ASAP/ISLES2018_Training/TRAINING/case_73/SMIR.Brain.XX.O.CT_4DPWI.346053/SMIR.Brain.XX.O.CT_4DPWI.346053.nii\n",
      "(256, 256, 2, 43)\n",
      "(43,)\n",
      "[-0.7363667488098145, 0.9165255427360535]\n",
      "================= Next Sequence =================\n",
      "65/media/sebastian/data/ASAP/ISLES2018_Training/TRAINING/case_39/SMIR.Brain.XX.O.CT_4DPWI.345815/SMIR.Brain.XX.O.CT_4DPWI.345815.nii\n",
      "(256, 256, 2, 43)\n",
      "(43,)\n",
      "[-0.48273369669914246, 0.9140554666519165]\n",
      "================= Next Sequence =================\n",
      "66/media/sebastian/data/ASAP/ISLES2018_Training/TRAINING/case_41/SMIR.Brain.XX.O.CT_4DPWI.345829/SMIR.Brain.XX.O.CT_4DPWI.345829.nii\n",
      "(256, 256, 2, 43)\n",
      "(43,)\n"
     ]
    },
    {
     "name": "stdout",
     "output_type": "stream",
     "text": [
      "[-0.9196884632110596, 0.7954521775245667]\n",
      "================= Next Sequence =================\n",
      "67/media/sebastian/data/ASAP/ISLES2018_Training/TRAINING/case_66/SMIR.Brain.XX.O.CT_4DPWI.346004/SMIR.Brain.XX.O.CT_4DPWI.346004.nii\n",
      "(256, 256, 2, 43)\n",
      "(43,)\n",
      "[-0.7831398844718933, 0.8195815086364746]\n",
      "================= Next Sequence =================\n",
      "68/media/sebastian/data/ASAP/ISLES2018_Training/TRAINING/case_15/SMIR.Brain.XX.O.CT_4DPWI.345659/SMIR.Brain.XX.O.CT_4DPWI.345659.nii\n",
      "(256, 256, 2, 43)\n",
      "(43,)\n",
      "[-0.2043941169977188, 0.6183058023452759]\n",
      "================= Next Sequence =================\n",
      "69/media/sebastian/data/ASAP/ISLES2018_Training/TRAINING/case_3/SMIR.Brain.XX.O.CT_4DPWI.345575/SMIR.Brain.XX.O.CT_4DPWI.345575.nii\n",
      "(256, 256, 2, 43)\n",
      "(43,)\n",
      "[-0.5291692614555359, 0.6847690343856812]\n",
      "================= Next Sequence =================\n",
      "70/media/sebastian/data/ASAP/ISLES2018_Training/TRAINING/case_67/SMIR.Brain.XX.O.CT_4DPWI.346011/SMIR.Brain.XX.O.CT_4DPWI.346011.nii\n",
      "(256, 256, 2, 43)\n",
      "(43,)\n",
      "[-0.7310396432876587, 0.8035154938697815]\n",
      "================= Next Sequence =================\n",
      "71/media/sebastian/data/ASAP/ISLES2018_Training/TRAINING/case_32/SMIR.Brain.XX.O.CT_4DPWI.345766/SMIR.Brain.XX.O.CT_4DPWI.345766.nii\n",
      "(256, 256, 2, 43)\n",
      "(43,)\n",
      "[-0.9547412991523743, 0.7864227294921875]\n",
      "================= Next Sequence =================\n",
      "72/media/sebastian/data/ASAP/ISLES2018_Training/TRAINING/case_15/SMIR.Brain.XX.O.CT_4DPWI.345659/SMIR.Brain.XX.O.CT_4DPWI.345659.nii\n",
      "(256, 256, 2, 43)\n",
      "(43,)\n",
      "[-0.237679585814476, 0.607414722442627]\n",
      "================= Next Sequence =================\n",
      "73/media/sebastian/data/ASAP/ISLES2018_Training/TRAINING/case_59/SMIR.Brain.XX.O.CT_4DPWI.345955/SMIR.Brain.XX.O.CT_4DPWI.345955.nii\n",
      "(256, 256, 2, 43)\n",
      "(43,)\n",
      "[-0.5760040879249573, 0.6335887312889099]\n",
      "================= Next Sequence =================\n",
      "74/media/sebastian/data/ASAP/ISLES2018_Training/TRAINING/case_19/SMIR.Brain.XX.O.CT_4DPWI.339343/SMIR.Brain.XX.O.CT_4DPWI.339343.nii\n",
      "(256, 256, 2, 43)\n",
      "(43,)\n",
      "[-0.7786209583282471, 0.6900085806846619]\n",
      "================= Next Sequence =================\n",
      "75/media/sebastian/data/ASAP/ISLES2018_Training/TRAINING/case_21/SMIR.Brain.XX.O.CT_4DPWI.345689/SMIR.Brain.XX.O.CT_4DPWI.345689.nii\n",
      "(256, 256, 2, 43)\n",
      "(43,)\n",
      "[-0.4919600784778595, 0.7613793015480042]\n"
     ]
    }
   ],
   "source": [
    "#Training ONEHEAD model for one epoch for debuging purposes\n",
    "for i in range(len(datalist)):\n",
    "    k = random.randint(0,len(datalist)-1)\n",
    "    print(\"================= Next Sequence =================\")\n",
    "    print(str(i) + datalist[k]['image'])\n",
    "    #pct = read_nifti_file(datalist[i]['image'],min_num_sequence=43)\n",
    "    pct = read_nifti_file(datalist[k]['image'],min_num_sequence=43)\n",
    "    #volume = normalize(pct)\n",
    "    volume = normalize(datalist[k]['ctpvals'])\n",
    "    example_label_aif = normalize_aif(datalist[k]['label'])    \n",
    "    labels = np.array(example_label_aif)\n",
    "    print(volume.shape)\n",
    "    print(example_label_aif.shape)\n",
    "    print(model.train_on_batch(x=volume[np.newaxis,:,:,:,:],y=example_label_aif[np.newaxis,:]))"
   ]
  },
  {
   "cell_type": "code",
   "execution_count": 88,
   "id": "1decab39",
   "metadata": {},
   "outputs": [
    {
     "data": {
      "text/plain": [
       "<matplotlib.image.AxesImage at 0x7f92104b2850>"
      ]
     },
     "execution_count": 88,
     "metadata": {},
     "output_type": "execute_result"
    },
    {
     "data": {
      "image/png": "[encoded data removed]",
      "text/plain": [
       "<Figure size 432x288 with 1 Axes>"
      ]
     },
     "metadata": {
      "needs_background": "light"
     },
     "output_type": "display_data"
    }
   ],
   "source": [
    "normalize(datalist[10]['ctpvals']).shape\n",
    "plt.imshow(normalize(datalist[10]['ctpvals'])[:,:,0,15])"
   ]
  },
  {
   "cell_type": "code",
   "execution_count": null,
   "id": "899a5c04",
   "metadata": {},
   "outputs": [],
   "source": []
  },
  {
   "cell_type": "code",
   "execution_count": 89,
   "id": "e605b66d",
   "metadata": {},
   "outputs": [
    {
     "data": {
      "text/plain": [
       "'/media/sebastian/data/ASAP/ISLES2018_Training/TRAINING/case_11/SMIR.Brain.XX.O.CT_4DPWI.345631/SMIR.Brain.XX.O.CT_4DPWI.345631.nii'"
      ]
     },
     "execution_count": 89,
     "metadata": {},
     "output_type": "execute_result"
    }
   ],
   "source": [
    "datalist[10]['image']"
   ]
  },
  {
   "cell_type": "code",
   "execution_count": 76,
   "id": "c6e30057",
   "metadata": {},
   "outputs": [
    {
     "data": {
      "image/png": "[encoded data removed]",
      "text/plain": [
       "<Figure size 432x288 with 1 Axes>"
      ]
     },
     "metadata": {
      "needs_background": "light"
     },
     "output_type": "display_data"
    }
   ],
   "source": [
    "pred1 = model.predict(np.expand_dims(normalize(datalist[10]['ctpvals']), axis=0))[0]\n",
    "pred2 = model.predict(np.expand_dims(normalize(datalist[20]['ctpvals']), axis=0))[0]\n",
    "pred3 = model.predict(np.expand_dims(normalize(datalist[30]['ctpvals']), axis=0))[0]\n",
    "plt.plot(pred1)\n",
    "plt.plot(pred2)\n",
    "plt.plot(pred3)\n",
    "plt.legend(['pred1', 'pred2','pred3'])\n",
    "plt.xlabel('Time (s)')\n",
    "plt.ylabel('Density (HU)')\n",
    "plt.show()\n"
   ]
  },
  {
   "cell_type": "code",
   "execution_count": 77,
   "id": "df079497",
   "metadata": {},
   "outputs": [
    {
     "data": {
      "image/png": "[encoded data removed]",
      "text/plain": [
       "<Figure size 432x288 with 1 Axes>"
      ]
     },
     "metadata": {
      "needs_background": "light"
     },
     "output_type": "display_data"
    }
   ],
   "source": [
    "example_label_1 = normalize_aif(datalist[10]['label'])\n",
    "example_label_2 = normalize_aif(datalist[20]['label'])\n",
    "example_label_3 = normalize_aif(datalist[40]['label'])\n",
    "\n",
    "plt.plot(example_label_1)\n",
    "plt.plot(example_label_2)\n",
    "plt.plot(example_label_3)\n",
    "plt.legend(['pred1', 'pred2','pred3'])\n",
    "plt.xlabel('Time (s)')\n",
    "plt.ylabel('Density (HU)')\n",
    "plt.show()\n"
   ]
  },
  {
   "cell_type": "code",
   "execution_count": 11,
   "id": "ad5cb39c",
   "metadata": {},
   "outputs": [],
   "source": [
    "train_generator = ISLES18DataGen(datalist,\n",
    "    batch_size=1,\n",
    "    minimum_number_volumes_ctp=43,\n",
    "    input_size=(256, 256, None, 43),\n",
    "    shuffle=True\n",
    ")"
   ]
  },
  {
   "cell_type": "code",
   "execution_count": 12,
   "id": "b0528749",
   "metadata": {
    "collapsed": true
   },
   "outputs": [
    {
     "ename": "TypeError",
     "evalue": "cannot unpack non-iterable NoneType object",
     "output_type": "error",
     "traceback": [
      "\u001b[0;31m---------------------------------------------------------------------------\u001b[0m",
      "\u001b[0;31mTypeError\u001b[0m                                 Traceback (most recent call last)",
      "\u001b[0;32m<ipython-input-12-10eba2fb0a1e>\u001b[0m in \u001b[0;36m<module>\u001b[0;34m\u001b[0m\n\u001b[1;32m      1\u001b[0m \u001b[0msample\u001b[0m \u001b[0;34m=\u001b[0m \u001b[0;36m3\u001b[0m\u001b[0;34m\u001b[0m\u001b[0;34m\u001b[0m\u001b[0m\n\u001b[0;32m----> 2\u001b[0;31m \u001b[0mX\u001b[0m\u001b[0;34m,\u001b[0m \u001b[0my\u001b[0m\u001b[0;34m=\u001b[0m \u001b[0mtrain_generator\u001b[0m\u001b[0;34m[\u001b[0m\u001b[0;36m3\u001b[0m\u001b[0;34m]\u001b[0m\u001b[0;34m\u001b[0m\u001b[0;34m\u001b[0m\u001b[0m\n\u001b[0m\u001b[1;32m      3\u001b[0m \u001b[0mexample_aif\u001b[0m \u001b[0;34m=\u001b[0m \u001b[0my\u001b[0m\u001b[0;34m[\u001b[0m\u001b[0;36m0\u001b[0m\u001b[0;34m]\u001b[0m\u001b[0;34m\u001b[0m\u001b[0;34m\u001b[0m\u001b[0m\n\u001b[1;32m      4\u001b[0m \u001b[0mexample_vof\u001b[0m \u001b[0;34m=\u001b[0m \u001b[0my\u001b[0m\u001b[0;34m[\u001b[0m\u001b[0;36m1\u001b[0m\u001b[0;34m]\u001b[0m\u001b[0;34m\u001b[0m\u001b[0;34m\u001b[0m\u001b[0m\n\u001b[1;32m      5\u001b[0m \u001b[0mplt\u001b[0m\u001b[0;34m.\u001b[0m\u001b[0mplot\u001b[0m\u001b[0;34m(\u001b[0m\u001b[0mexample_aif\u001b[0m\u001b[0;34m)\u001b[0m\u001b[0;34m\u001b[0m\u001b[0;34m\u001b[0m\u001b[0m\n",
      "\u001b[0;31mTypeError\u001b[0m: cannot unpack non-iterable NoneType object"
     ]
    }
   ],
   "source": [
    "sample = 3\n",
    "X, y= train_generator[3]\n",
    "example_aif = y[0]\n",
    "example_vof = y[1]\n",
    "plt.plot(example_aif)\n",
    "plt.plot(example_vof)\n",
    "plt.legend(['AIF','VOF'])\n",
    "plt.xlabel('Time (s)')\n",
    "plt.ylabel('Density (HU)')\n",
    "plt.show()\n"
   ]
  },
  {
   "cell_type": "code",
   "execution_count": 49,
   "id": "d12c2f5f",
   "metadata": {},
   "outputs": [],
   "source": [
    "path_checkpointer_model = ROOT_EXP +'results/' \n",
    "path_checkpointer_model += 'aifnet_2Pvol_' + str(initial_learning_rate)  + '.hdf5'\n",
    "path_tensorboard_log    = ROOT_EXP + 'results/logsTensorBoard/'\n",
    "path_tensorboard_log    += 'aifnet_2Pvol_' + str(initial_learning_rate) \n",
    "\n",
    "checkpointer = ModelCheckpoint(filepath=path_checkpointer_model, monitor='train_mean_absolute_error', verbose=1, save_best_only=True)\n",
    "tb_callback = TensorBoard(log_dir=path_tensorboard_log, histogram_freq=0, write_graph=True, write_grads=False, write_images=False, embeddings_freq=0, embeddings_layer_names=None, embeddings_metadata=None)"
   ]
  },
  {
   "cell_type": "code",
   "execution_count": 50,
   "id": "000e7760",
   "metadata": {},
   "outputs": [
    {
     "name": "stderr",
     "output_type": "stream",
     "text": [
      "/home/sebastian/anaconda3/envs/aifnet/lib/python3.9/site-packages/tensorflow/python/keras/engine/training.py:1935: UserWarning: `Model.fit_generator` is deprecated and will be removed in a future version. Please use `Model.fit`, which supports generators.\n",
      "  warnings.warn('`Model.fit_generator` is deprecated and '\n"
     ]
    },
    {
     "name": "stdout",
     "output_type": "stream",
     "text": [
      "Epoch 1/5\n",
      "WARNING:tensorflow:Model was constructed with shape (None, 256, 256, None, 43) for input KerasTensor(type_spec=TensorSpec(shape=(None, 256, 256, None, 43), dtype=tf.float32, name='input_1'), name='input_1', description=\"created by layer 'input_1'\"), but it was called on an input with incompatible shape (None, None, None, None).\n"
     ]
    },
    {
     "ename": "ValueError",
     "evalue": "in user code:\n\n    /home/sebastian/anaconda3/envs/aifnet/lib/python3.9/site-packages/tensorflow/python/keras/engine/training.py:850 train_function  *\n        return step_function(self, iterator)\n    /home/sebastian/anaconda3/envs/aifnet/lib/python3.9/site-packages/tensorflow/python/keras/engine/training.py:840 step_function  **\n        outputs = model.distribute_strategy.run(run_step, args=(data,))\n    /home/sebastian/anaconda3/envs/aifnet/lib/python3.9/site-packages/tensorflow/python/distribute/distribute_lib.py:1285 run\n        return self._extended.call_for_each_replica(fn, args=args, kwargs=kwargs)\n    /home/sebastian/anaconda3/envs/aifnet/lib/python3.9/site-packages/tensorflow/python/distribute/distribute_lib.py:2833 call_for_each_replica\n        return self._call_for_each_replica(fn, args, kwargs)\n    /home/sebastian/anaconda3/envs/aifnet/lib/python3.9/site-packages/tensorflow/python/distribute/distribute_lib.py:3608 _call_for_each_replica\n        return fn(*args, **kwargs)\n    /home/sebastian/anaconda3/envs/aifnet/lib/python3.9/site-packages/tensorflow/python/keras/engine/training.py:833 run_step  **\n        outputs = model.train_step(data)\n    /home/sebastian/anaconda3/envs/aifnet/lib/python3.9/site-packages/tensorflow/python/keras/engine/training.py:790 train_step\n        y_pred = self(x, training=True)\n    /home/sebastian/anaconda3/envs/aifnet/lib/python3.9/site-packages/tensorflow/python/keras/engine/base_layer.py:1030 __call__\n        outputs = call_fn(inputs, *args, **kwargs)\n    /home/sebastian/anaconda3/envs/aifnet/lib/python3.9/site-packages/tensorflow/python/keras/engine/functional.py:420 call\n        return self._run_internal_graph(\n    /home/sebastian/anaconda3/envs/aifnet/lib/python3.9/site-packages/tensorflow/python/keras/engine/functional.py:556 _run_internal_graph\n        outputs = node.layer(*args, **kwargs)\n    /home/sebastian/anaconda3/envs/aifnet/lib/python3.9/site-packages/tensorflow/python/keras/engine/base_layer.py:1013 __call__\n        input_spec.assert_input_compatibility(self.input_spec, inputs, self.name)\n    /home/sebastian/anaconda3/envs/aifnet/lib/python3.9/site-packages/tensorflow/python/keras/engine/input_spec.py:230 assert_input_compatibility\n        raise ValueError('Input ' + str(input_index) + ' of layer ' +\n\n    ValueError: Input 0 of layer conv3d is incompatible with the layer: : expected min_ndim=5, found ndim=4. Full shape received: (None, None, None, None)\n",
     "output_type": "error",
     "traceback": [
      "\u001b[0;31m---------------------------------------------------------------------------\u001b[0m",
      "\u001b[0;31mValueError\u001b[0m                                Traceback (most recent call last)",
      "\u001b[0;32m<ipython-input-50-f58d754eb5d0>\u001b[0m in \u001b[0;36m<module>\u001b[0;34m\u001b[0m\n\u001b[0;32m----> 1\u001b[0;31m \u001b[0mmodel\u001b[0m\u001b[0;34m.\u001b[0m\u001b[0mfit_generator\u001b[0m\u001b[0;34m(\u001b[0m\u001b[0mtrain_generator\u001b[0m\u001b[0;34m,\u001b[0m\u001b[0mepochs\u001b[0m\u001b[0;34m=\u001b[0m\u001b[0;36m5\u001b[0m\u001b[0;34m,\u001b[0m \u001b[0mcallbacks\u001b[0m\u001b[0;34m=\u001b[0m\u001b[0;34m[\u001b[0m\u001b[0mcheckpointer\u001b[0m\u001b[0;34m,\u001b[0m\u001b[0mtb_callback\u001b[0m\u001b[0;34m]\u001b[0m\u001b[0;34m)\u001b[0m\u001b[0;34m\u001b[0m\u001b[0;34m\u001b[0m\u001b[0m\n\u001b[0m",
      "\u001b[0;32m~/anaconda3/envs/aifnet/lib/python3.9/site-packages/tensorflow/python/keras/engine/training.py\u001b[0m in \u001b[0;36mfit_generator\u001b[0;34m(self, generator, steps_per_epoch, epochs, verbose, callbacks, validation_data, validation_steps, validation_freq, class_weight, max_queue_size, workers, use_multiprocessing, shuffle, initial_epoch)\u001b[0m\n\u001b[1;32m   1936\u001b[0m                   \u001b[0;34m'will be removed in a future version. '\u001b[0m\u001b[0;34m\u001b[0m\u001b[0;34m\u001b[0m\u001b[0m\n\u001b[1;32m   1937\u001b[0m                   'Please use `Model.fit`, which supports generators.')\n\u001b[0;32m-> 1938\u001b[0;31m     return self.fit(\n\u001b[0m\u001b[1;32m   1939\u001b[0m         \u001b[0mgenerator\u001b[0m\u001b[0;34m,\u001b[0m\u001b[0;34m\u001b[0m\u001b[0;34m\u001b[0m\u001b[0m\n\u001b[1;32m   1940\u001b[0m         \u001b[0msteps_per_epoch\u001b[0m\u001b[0;34m=\u001b[0m\u001b[0msteps_per_epoch\u001b[0m\u001b[0;34m,\u001b[0m\u001b[0;34m\u001b[0m\u001b[0;34m\u001b[0m\u001b[0m\n",
      "\u001b[0;32m~/anaconda3/envs/aifnet/lib/python3.9/site-packages/tensorflow/python/keras/engine/training.py\u001b[0m in \u001b[0;36mfit\u001b[0;34m(self, x, y, batch_size, epochs, verbose, callbacks, validation_split, validation_data, shuffle, class_weight, sample_weight, initial_epoch, steps_per_epoch, validation_steps, validation_batch_size, validation_freq, max_queue_size, workers, use_multiprocessing)\u001b[0m\n\u001b[1;32m   1176\u001b[0m                 _r=1):\n\u001b[1;32m   1177\u001b[0m               \u001b[0mcallbacks\u001b[0m\u001b[0;34m.\u001b[0m\u001b[0mon_train_batch_begin\u001b[0m\u001b[0;34m(\u001b[0m\u001b[0mstep\u001b[0m\u001b[0;34m)\u001b[0m\u001b[0;34m\u001b[0m\u001b[0;34m\u001b[0m\u001b[0m\n\u001b[0;32m-> 1178\u001b[0;31m               \u001b[0mtmp_logs\u001b[0m \u001b[0;34m=\u001b[0m \u001b[0mself\u001b[0m\u001b[0;34m.\u001b[0m\u001b[0mtrain_function\u001b[0m\u001b[0;34m(\u001b[0m\u001b[0miterator\u001b[0m\u001b[0;34m)\u001b[0m\u001b[0;34m\u001b[0m\u001b[0;34m\u001b[0m\u001b[0m\n\u001b[0m\u001b[1;32m   1179\u001b[0m               \u001b[0;32mif\u001b[0m \u001b[0mdata_handler\u001b[0m\u001b[0;34m.\u001b[0m\u001b[0mshould_sync\u001b[0m\u001b[0;34m:\u001b[0m\u001b[0;34m\u001b[0m\u001b[0;34m\u001b[0m\u001b[0m\n\u001b[1;32m   1180\u001b[0m                 \u001b[0mcontext\u001b[0m\u001b[0;34m.\u001b[0m\u001b[0masync_wait\u001b[0m\u001b[0;34m(\u001b[0m\u001b[0;34m)\u001b[0m\u001b[0;34m\u001b[0m\u001b[0;34m\u001b[0m\u001b[0m\n",
      "\u001b[0;32m~/anaconda3/envs/aifnet/lib/python3.9/site-packages/tensorflow/python/eager/def_function.py\u001b[0m in \u001b[0;36m__call__\u001b[0;34m(self, *args, **kwds)\u001b[0m\n\u001b[1;32m    887\u001b[0m \u001b[0;34m\u001b[0m\u001b[0m\n\u001b[1;32m    888\u001b[0m       \u001b[0;32mwith\u001b[0m \u001b[0mOptionalXlaContext\u001b[0m\u001b[0;34m(\u001b[0m\u001b[0mself\u001b[0m\u001b[0;34m.\u001b[0m\u001b[0m_jit_compile\u001b[0m\u001b[0;34m)\u001b[0m\u001b[0;34m:\u001b[0m\u001b[0;34m\u001b[0m\u001b[0;34m\u001b[0m\u001b[0m\n\u001b[0;32m--> 889\u001b[0;31m         \u001b[0mresult\u001b[0m \u001b[0;34m=\u001b[0m \u001b[0mself\u001b[0m\u001b[0;34m.\u001b[0m\u001b[0m_call\u001b[0m\u001b[0;34m(\u001b[0m\u001b[0;34m*\u001b[0m\u001b[0margs\u001b[0m\u001b[0;34m,\u001b[0m \u001b[0;34m**\u001b[0m\u001b[0mkwds\u001b[0m\u001b[0;34m)\u001b[0m\u001b[0;34m\u001b[0m\u001b[0;34m\u001b[0m\u001b[0m\n\u001b[0m\u001b[1;32m    890\u001b[0m \u001b[0;34m\u001b[0m\u001b[0m\n\u001b[1;32m    891\u001b[0m       \u001b[0mnew_tracing_count\u001b[0m \u001b[0;34m=\u001b[0m \u001b[0mself\u001b[0m\u001b[0;34m.\u001b[0m\u001b[0mexperimental_get_tracing_count\u001b[0m\u001b[0;34m(\u001b[0m\u001b[0;34m)\u001b[0m\u001b[0;34m\u001b[0m\u001b[0;34m\u001b[0m\u001b[0m\n",
      "\u001b[0;32m~/anaconda3/envs/aifnet/lib/python3.9/site-packages/tensorflow/python/eager/def_function.py\u001b[0m in \u001b[0;36m_call\u001b[0;34m(self, *args, **kwds)\u001b[0m\n\u001b[1;32m    931\u001b[0m       \u001b[0;31m# This is the first call of __call__, so we have to initialize.\u001b[0m\u001b[0;34m\u001b[0m\u001b[0;34m\u001b[0m\u001b[0;34m\u001b[0m\u001b[0m\n\u001b[1;32m    932\u001b[0m       \u001b[0minitializers\u001b[0m \u001b[0;34m=\u001b[0m \u001b[0;34m[\u001b[0m\u001b[0;34m]\u001b[0m\u001b[0;34m\u001b[0m\u001b[0;34m\u001b[0m\u001b[0m\n\u001b[0;32m--> 933\u001b[0;31m       \u001b[0mself\u001b[0m\u001b[0;34m.\u001b[0m\u001b[0m_initialize\u001b[0m\u001b[0;34m(\u001b[0m\u001b[0margs\u001b[0m\u001b[0;34m,\u001b[0m \u001b[0mkwds\u001b[0m\u001b[0;34m,\u001b[0m \u001b[0madd_initializers_to\u001b[0m\u001b[0;34m=\u001b[0m\u001b[0minitializers\u001b[0m\u001b[0;34m)\u001b[0m\u001b[0;34m\u001b[0m\u001b[0;34m\u001b[0m\u001b[0m\n\u001b[0m\u001b[1;32m    934\u001b[0m     \u001b[0;32mfinally\u001b[0m\u001b[0;34m:\u001b[0m\u001b[0;34m\u001b[0m\u001b[0;34m\u001b[0m\u001b[0m\n\u001b[1;32m    935\u001b[0m       \u001b[0;31m# At this point we know that the initialization is complete (or less\u001b[0m\u001b[0;34m\u001b[0m\u001b[0;34m\u001b[0m\u001b[0;34m\u001b[0m\u001b[0m\n",
      "\u001b[0;32m~/anaconda3/envs/aifnet/lib/python3.9/site-packages/tensorflow/python/eager/def_function.py\u001b[0m in \u001b[0;36m_initialize\u001b[0;34m(self, args, kwds, add_initializers_to)\u001b[0m\n\u001b[1;32m    761\u001b[0m     \u001b[0mself\u001b[0m\u001b[0;34m.\u001b[0m\u001b[0m_graph_deleter\u001b[0m \u001b[0;34m=\u001b[0m \u001b[0mFunctionDeleter\u001b[0m\u001b[0;34m(\u001b[0m\u001b[0mself\u001b[0m\u001b[0;34m.\u001b[0m\u001b[0m_lifted_initializer_graph\u001b[0m\u001b[0;34m)\u001b[0m\u001b[0;34m\u001b[0m\u001b[0;34m\u001b[0m\u001b[0m\n\u001b[1;32m    762\u001b[0m     self._concrete_stateful_fn = (\n\u001b[0;32m--> 763\u001b[0;31m         self._stateful_fn._get_concrete_function_internal_garbage_collected(  # pylint: disable=protected-access\n\u001b[0m\u001b[1;32m    764\u001b[0m             *args, **kwds))\n\u001b[1;32m    765\u001b[0m \u001b[0;34m\u001b[0m\u001b[0m\n",
      "\u001b[0;32m~/anaconda3/envs/aifnet/lib/python3.9/site-packages/tensorflow/python/eager/function.py\u001b[0m in \u001b[0;36m_get_concrete_function_internal_garbage_collected\u001b[0;34m(self, *args, **kwargs)\u001b[0m\n\u001b[1;32m   3048\u001b[0m       \u001b[0margs\u001b[0m\u001b[0;34m,\u001b[0m \u001b[0mkwargs\u001b[0m \u001b[0;34m=\u001b[0m \u001b[0;32mNone\u001b[0m\u001b[0;34m,\u001b[0m \u001b[0;32mNone\u001b[0m\u001b[0;34m\u001b[0m\u001b[0;34m\u001b[0m\u001b[0m\n\u001b[1;32m   3049\u001b[0m     \u001b[0;32mwith\u001b[0m \u001b[0mself\u001b[0m\u001b[0;34m.\u001b[0m\u001b[0m_lock\u001b[0m\u001b[0;34m:\u001b[0m\u001b[0;34m\u001b[0m\u001b[0;34m\u001b[0m\u001b[0m\n\u001b[0;32m-> 3050\u001b[0;31m       \u001b[0mgraph_function\u001b[0m\u001b[0;34m,\u001b[0m \u001b[0m_\u001b[0m \u001b[0;34m=\u001b[0m \u001b[0mself\u001b[0m\u001b[0;34m.\u001b[0m\u001b[0m_maybe_define_function\u001b[0m\u001b[0;34m(\u001b[0m\u001b[0margs\u001b[0m\u001b[0;34m,\u001b[0m \u001b[0mkwargs\u001b[0m\u001b[0;34m)\u001b[0m\u001b[0;34m\u001b[0m\u001b[0;34m\u001b[0m\u001b[0m\n\u001b[0m\u001b[1;32m   3051\u001b[0m     \u001b[0;32mreturn\u001b[0m \u001b[0mgraph_function\u001b[0m\u001b[0;34m\u001b[0m\u001b[0;34m\u001b[0m\u001b[0m\n\u001b[1;32m   3052\u001b[0m \u001b[0;34m\u001b[0m\u001b[0m\n",
      "\u001b[0;32m~/anaconda3/envs/aifnet/lib/python3.9/site-packages/tensorflow/python/eager/function.py\u001b[0m in \u001b[0;36m_maybe_define_function\u001b[0;34m(self, args, kwargs)\u001b[0m\n\u001b[1;32m   3442\u001b[0m \u001b[0;34m\u001b[0m\u001b[0m\n\u001b[1;32m   3443\u001b[0m           \u001b[0mself\u001b[0m\u001b[0;34m.\u001b[0m\u001b[0m_function_cache\u001b[0m\u001b[0;34m.\u001b[0m\u001b[0mmissed\u001b[0m\u001b[0;34m.\u001b[0m\u001b[0madd\u001b[0m\u001b[0;34m(\u001b[0m\u001b[0mcall_context_key\u001b[0m\u001b[0;34m)\u001b[0m\u001b[0;34m\u001b[0m\u001b[0;34m\u001b[0m\u001b[0m\n\u001b[0;32m-> 3444\u001b[0;31m           \u001b[0mgraph_function\u001b[0m \u001b[0;34m=\u001b[0m \u001b[0mself\u001b[0m\u001b[0;34m.\u001b[0m\u001b[0m_create_graph_function\u001b[0m\u001b[0;34m(\u001b[0m\u001b[0margs\u001b[0m\u001b[0;34m,\u001b[0m \u001b[0mkwargs\u001b[0m\u001b[0;34m)\u001b[0m\u001b[0;34m\u001b[0m\u001b[0;34m\u001b[0m\u001b[0m\n\u001b[0m\u001b[1;32m   3445\u001b[0m           \u001b[0mself\u001b[0m\u001b[0;34m.\u001b[0m\u001b[0m_function_cache\u001b[0m\u001b[0;34m.\u001b[0m\u001b[0mprimary\u001b[0m\u001b[0;34m[\u001b[0m\u001b[0mcache_key\u001b[0m\u001b[0;34m]\u001b[0m \u001b[0;34m=\u001b[0m \u001b[0mgraph_function\u001b[0m\u001b[0;34m\u001b[0m\u001b[0;34m\u001b[0m\u001b[0m\n\u001b[1;32m   3446\u001b[0m \u001b[0;34m\u001b[0m\u001b[0m\n",
      "\u001b[0;32m~/anaconda3/envs/aifnet/lib/python3.9/site-packages/tensorflow/python/eager/function.py\u001b[0m in \u001b[0;36m_create_graph_function\u001b[0;34m(self, args, kwargs, override_flat_arg_shapes)\u001b[0m\n\u001b[1;32m   3277\u001b[0m     \u001b[0marg_names\u001b[0m \u001b[0;34m=\u001b[0m \u001b[0mbase_arg_names\u001b[0m \u001b[0;34m+\u001b[0m \u001b[0mmissing_arg_names\u001b[0m\u001b[0;34m\u001b[0m\u001b[0;34m\u001b[0m\u001b[0m\n\u001b[1;32m   3278\u001b[0m     graph_function = ConcreteFunction(\n\u001b[0;32m-> 3279\u001b[0;31m         func_graph_module.func_graph_from_py_func(\n\u001b[0m\u001b[1;32m   3280\u001b[0m             \u001b[0mself\u001b[0m\u001b[0;34m.\u001b[0m\u001b[0m_name\u001b[0m\u001b[0;34m,\u001b[0m\u001b[0;34m\u001b[0m\u001b[0;34m\u001b[0m\u001b[0m\n\u001b[1;32m   3281\u001b[0m             \u001b[0mself\u001b[0m\u001b[0;34m.\u001b[0m\u001b[0m_python_function\u001b[0m\u001b[0;34m,\u001b[0m\u001b[0;34m\u001b[0m\u001b[0;34m\u001b[0m\u001b[0m\n",
      "\u001b[0;32m~/anaconda3/envs/aifnet/lib/python3.9/site-packages/tensorflow/python/framework/func_graph.py\u001b[0m in \u001b[0;36mfunc_graph_from_py_func\u001b[0;34m(name, python_func, args, kwargs, signature, func_graph, autograph, autograph_options, add_control_dependencies, arg_names, op_return_value, collections, capture_by_value, override_flat_arg_shapes)\u001b[0m\n\u001b[1;32m    997\u001b[0m         \u001b[0m_\u001b[0m\u001b[0;34m,\u001b[0m \u001b[0moriginal_func\u001b[0m \u001b[0;34m=\u001b[0m \u001b[0mtf_decorator\u001b[0m\u001b[0;34m.\u001b[0m\u001b[0munwrap\u001b[0m\u001b[0;34m(\u001b[0m\u001b[0mpython_func\u001b[0m\u001b[0;34m)\u001b[0m\u001b[0;34m\u001b[0m\u001b[0;34m\u001b[0m\u001b[0m\n\u001b[1;32m    998\u001b[0m \u001b[0;34m\u001b[0m\u001b[0m\n\u001b[0;32m--> 999\u001b[0;31m       \u001b[0mfunc_outputs\u001b[0m \u001b[0;34m=\u001b[0m \u001b[0mpython_func\u001b[0m\u001b[0;34m(\u001b[0m\u001b[0;34m*\u001b[0m\u001b[0mfunc_args\u001b[0m\u001b[0;34m,\u001b[0m \u001b[0;34m**\u001b[0m\u001b[0mfunc_kwargs\u001b[0m\u001b[0;34m)\u001b[0m\u001b[0;34m\u001b[0m\u001b[0;34m\u001b[0m\u001b[0m\n\u001b[0m\u001b[1;32m   1000\u001b[0m \u001b[0;34m\u001b[0m\u001b[0m\n\u001b[1;32m   1001\u001b[0m       \u001b[0;31m# invariant: `func_outputs` contains only Tensors, CompositeTensors,\u001b[0m\u001b[0;34m\u001b[0m\u001b[0;34m\u001b[0m\u001b[0;34m\u001b[0m\u001b[0m\n",
      "\u001b[0;32m~/anaconda3/envs/aifnet/lib/python3.9/site-packages/tensorflow/python/eager/def_function.py\u001b[0m in \u001b[0;36mwrapped_fn\u001b[0;34m(*args, **kwds)\u001b[0m\n\u001b[1;32m    670\u001b[0m         \u001b[0;31m# the function a weak reference to itself to avoid a reference cycle.\u001b[0m\u001b[0;34m\u001b[0m\u001b[0;34m\u001b[0m\u001b[0;34m\u001b[0m\u001b[0m\n\u001b[1;32m    671\u001b[0m         \u001b[0;32mwith\u001b[0m \u001b[0mOptionalXlaContext\u001b[0m\u001b[0;34m(\u001b[0m\u001b[0mcompile_with_xla\u001b[0m\u001b[0;34m)\u001b[0m\u001b[0;34m:\u001b[0m\u001b[0;34m\u001b[0m\u001b[0;34m\u001b[0m\u001b[0m\n\u001b[0;32m--> 672\u001b[0;31m           \u001b[0mout\u001b[0m \u001b[0;34m=\u001b[0m \u001b[0mweak_wrapped_fn\u001b[0m\u001b[0;34m(\u001b[0m\u001b[0;34m)\u001b[0m\u001b[0;34m.\u001b[0m\u001b[0m__wrapped__\u001b[0m\u001b[0;34m(\u001b[0m\u001b[0;34m*\u001b[0m\u001b[0margs\u001b[0m\u001b[0;34m,\u001b[0m \u001b[0;34m**\u001b[0m\u001b[0mkwds\u001b[0m\u001b[0;34m)\u001b[0m\u001b[0;34m\u001b[0m\u001b[0;34m\u001b[0m\u001b[0m\n\u001b[0m\u001b[1;32m    673\u001b[0m         \u001b[0;32mreturn\u001b[0m \u001b[0mout\u001b[0m\u001b[0;34m\u001b[0m\u001b[0;34m\u001b[0m\u001b[0m\n\u001b[1;32m    674\u001b[0m \u001b[0;34m\u001b[0m\u001b[0m\n",
      "\u001b[0;32m~/anaconda3/envs/aifnet/lib/python3.9/site-packages/tensorflow/python/framework/func_graph.py\u001b[0m in \u001b[0;36mwrapper\u001b[0;34m(*args, **kwargs)\u001b[0m\n\u001b[1;32m    984\u001b[0m           \u001b[0;32mexcept\u001b[0m \u001b[0mException\u001b[0m \u001b[0;32mas\u001b[0m \u001b[0me\u001b[0m\u001b[0;34m:\u001b[0m  \u001b[0;31m# pylint:disable=broad-except\u001b[0m\u001b[0;34m\u001b[0m\u001b[0;34m\u001b[0m\u001b[0m\n\u001b[1;32m    985\u001b[0m             \u001b[0;32mif\u001b[0m \u001b[0mhasattr\u001b[0m\u001b[0;34m(\u001b[0m\u001b[0me\u001b[0m\u001b[0;34m,\u001b[0m \u001b[0;34m\"ag_error_metadata\"\u001b[0m\u001b[0;34m)\u001b[0m\u001b[0;34m:\u001b[0m\u001b[0;34m\u001b[0m\u001b[0;34m\u001b[0m\u001b[0m\n\u001b[0;32m--> 986\u001b[0;31m               \u001b[0;32mraise\u001b[0m \u001b[0me\u001b[0m\u001b[0;34m.\u001b[0m\u001b[0mag_error_metadata\u001b[0m\u001b[0;34m.\u001b[0m\u001b[0mto_exception\u001b[0m\u001b[0;34m(\u001b[0m\u001b[0me\u001b[0m\u001b[0;34m)\u001b[0m\u001b[0;34m\u001b[0m\u001b[0;34m\u001b[0m\u001b[0m\n\u001b[0m\u001b[1;32m    987\u001b[0m             \u001b[0;32melse\u001b[0m\u001b[0;34m:\u001b[0m\u001b[0;34m\u001b[0m\u001b[0;34m\u001b[0m\u001b[0m\n\u001b[1;32m    988\u001b[0m               \u001b[0;32mraise\u001b[0m\u001b[0;34m\u001b[0m\u001b[0;34m\u001b[0m\u001b[0m\n",
      "\u001b[0;31mValueError\u001b[0m: in user code:\n\n    /home/sebastian/anaconda3/envs/aifnet/lib/python3.9/site-packages/tensorflow/python/keras/engine/training.py:850 train_function  *\n        return step_function(self, iterator)\n    /home/sebastian/anaconda3/envs/aifnet/lib/python3.9/site-packages/tensorflow/python/keras/engine/training.py:840 step_function  **\n        outputs = model.distribute_strategy.run(run_step, args=(data,))\n    /home/sebastian/anaconda3/envs/aifnet/lib/python3.9/site-packages/tensorflow/python/distribute/distribute_lib.py:1285 run\n        return self._extended.call_for_each_replica(fn, args=args, kwargs=kwargs)\n    /home/sebastian/anaconda3/envs/aifnet/lib/python3.9/site-packages/tensorflow/python/distribute/distribute_lib.py:2833 call_for_each_replica\n        return self._call_for_each_replica(fn, args, kwargs)\n    /home/sebastian/anaconda3/envs/aifnet/lib/python3.9/site-packages/tensorflow/python/distribute/distribute_lib.py:3608 _call_for_each_replica\n        return fn(*args, **kwargs)\n    /home/sebastian/anaconda3/envs/aifnet/lib/python3.9/site-packages/tensorflow/python/keras/engine/training.py:833 run_step  **\n        outputs = model.train_step(data)\n    /home/sebastian/anaconda3/envs/aifnet/lib/python3.9/site-packages/tensorflow/python/keras/engine/training.py:790 train_step\n        y_pred = self(x, training=True)\n    /home/sebastian/anaconda3/envs/aifnet/lib/python3.9/site-packages/tensorflow/python/keras/engine/base_layer.py:1030 __call__\n        outputs = call_fn(inputs, *args, **kwargs)\n    /home/sebastian/anaconda3/envs/aifnet/lib/python3.9/site-packages/tensorflow/python/keras/engine/functional.py:420 call\n        return self._run_internal_graph(\n    /home/sebastian/anaconda3/envs/aifnet/lib/python3.9/site-packages/tensorflow/python/keras/engine/functional.py:556 _run_internal_graph\n        outputs = node.layer(*args, **kwargs)\n    /home/sebastian/anaconda3/envs/aifnet/lib/python3.9/site-packages/tensorflow/python/keras/engine/base_layer.py:1013 __call__\n        input_spec.assert_input_compatibility(self.input_spec, inputs, self.name)\n    /home/sebastian/anaconda3/envs/aifnet/lib/python3.9/site-packages/tensorflow/python/keras/engine/input_spec.py:230 assert_input_compatibility\n        raise ValueError('Input ' + str(input_index) + ' of layer ' +\n\n    ValueError: Input 0 of layer conv3d is incompatible with the layer: : expected min_ndim=5, found ndim=4. Full shape received: (None, None, None, None)\n"
     ]
    }
   ],
   "source": [
    "model.fit_generator(train_generator,epochs=5, callbacks=[checkpointer,tb_callback])"
   ]
  },
  {
   "cell_type": "code",
   "execution_count": 13,
   "id": "fa7613c2",
   "metadata": {
    "scrolled": true
   },
   "outputs": [
    {
     "name": "stdout",
     "output_type": "stream",
     "text": [
      "================= Next Sequence =================\n",
      "0/media/sebastian/data/ASAP/ISLES2018_Training/TRAINING/case_1/SMIR.Brain.XX.O.CT_4DPWI.345561/SMIR.Brain.XX.O.CT_4DPWI.345561.nii\n",
      "(256, 256, 8, 43)\n",
      "(43,)\n",
      "[63790.671875, 31901.04296875, 31889.626953125, 149.2745819091797, 149.27749633789062]\n",
      "================= Next Sequence =================\n",
      "1/media/sebastian/data/ASAP/ISLES2018_Training/TRAINING/case_2/SMIR.Brain.XX.O.CT_4DPWI.345568/SMIR.Brain.XX.O.CT_4DPWI.345568.nii\n",
      "(256, 256, 8, 43)\n",
      "(43,)\n",
      "[6235.953125, 3118.36474609375, 3117.588623046875, 52.50442886352539, 52.50735855102539]\n",
      "================= Next Sequence =================\n",
      "2/media/sebastian/data/ASAP/ISLES2018_Training/TRAINING/case_1/SMIR.Brain.XX.O.CT_4DPWI.345561/SMIR.Brain.XX.O.CT_4DPWI.345561.nii\n",
      "(256, 256, 8, 43)\n",
      "(43,)\n",
      "[63788.3046875, 31899.861328125, 31888.44140625, 149.27061462402344, 149.27354431152344]\n",
      "================= Next Sequence =================\n",
      "3/media/sebastian/data/ASAP/ISLES2018_Training/TRAINING/case_2/SMIR.Brain.XX.O.CT_4DPWI.345568/SMIR.Brain.XX.O.CT_4DPWI.345568.nii\n",
      "(256, 256, 8, 43)\n",
      "(43,)\n",
      "[6235.1337890625, 3117.954833984375, 3117.1787109375, 52.500526428222656, 52.503456115722656]\n",
      "================= Next Sequence =================\n",
      "4/media/sebastian/data/ASAP/ISLES2018_Training/TRAINING/case_1/SMIR.Brain.XX.O.CT_4DPWI.345561/SMIR.Brain.XX.O.CT_4DPWI.345561.nii\n",
      "(256, 256, 8, 43)\n",
      "(43,)\n",
      "[63785.96484375, 31898.69140625, 31887.2734375, 149.26670837402344, 149.26963806152344]\n",
      "================= Next Sequence =================\n",
      "5/media/sebastian/data/ASAP/ISLES2018_Training/TRAINING/case_2/SMIR.Brain.XX.O.CT_4DPWI.345568/SMIR.Brain.XX.O.CT_4DPWI.345568.nii\n",
      "(256, 256, 8, 43)\n",
      "(43,)\n",
      "[6234.31396484375, 3117.545166015625, 3116.768798828125, 52.49662780761719, 52.49955749511719]\n",
      "================= Next Sequence =================\n",
      "6/media/sebastian/data/ASAP/ISLES2018_Training/TRAINING/case_1/SMIR.Brain.XX.O.CT_4DPWI.345561/SMIR.Brain.XX.O.CT_4DPWI.345561.nii\n",
      "(256, 256, 8, 43)\n",
      "(43,)\n",
      "[63783.6171875, 31897.517578125, 31886.099609375, 149.2628173828125, 149.2657470703125]\n",
      "================= Next Sequence =================\n",
      "7/media/sebastian/data/ASAP/ISLES2018_Training/TRAINING/case_2/SMIR.Brain.XX.O.CT_4DPWI.345568/SMIR.Brain.XX.O.CT_4DPWI.345568.nii\n",
      "(256, 256, 8, 43)\n",
      "(43,)\n",
      "[6233.49462890625, 3117.13525390625, 3116.359375, 52.49272537231445, 52.49565124511719]\n",
      "================= Next Sequence =================\n",
      "8/media/sebastian/data/ASAP/ISLES2018_Training/TRAINING/case_1/SMIR.Brain.XX.O.CT_4DPWI.345561/SMIR.Brain.XX.O.CT_4DPWI.345561.nii\n",
      "(256, 256, 8, 43)\n",
      "(43,)\n",
      "[63781.28125, 31896.349609375, 31884.9296875, 149.2589111328125, 149.2618408203125]\n",
      "================= Next Sequence =================\n",
      "9/media/sebastian/data/ASAP/ISLES2018_Training/TRAINING/case_2/SMIR.Brain.XX.O.CT_4DPWI.345568/SMIR.Brain.XX.O.CT_4DPWI.345568.nii\n",
      "(256, 256, 8, 43)\n",
      "(43,)\n",
      "[6232.67578125, 3116.7255859375, 3115.949951171875, 52.488826751708984, 52.491756439208984]\n",
      "================= Next Sequence =================\n",
      "10/media/sebastian/data/ASAP/ISLES2018_Training/TRAINING/case_1/SMIR.Brain.XX.O.CT_4DPWI.345561/SMIR.Brain.XX.O.CT_4DPWI.345561.nii\n",
      "(256, 256, 8, 43)\n",
      "(43,)\n",
      "[63778.93359375, 31895.177734375, 31883.755859375, 149.25503540039062, 149.25794982910156]\n",
      "================= Next Sequence =================\n",
      "11/media/sebastian/data/ASAP/ISLES2018_Training/TRAINING/case_2/SMIR.Brain.XX.O.CT_4DPWI.345568/SMIR.Brain.XX.O.CT_4DPWI.345568.nii\n"
     ]
    },
    {
     "ename": "KeyboardInterrupt",
     "evalue": "",
     "output_type": "error",
     "traceback": [
      "\u001b[0;31m---------------------------------------------------------------------------\u001b[0m",
      "\u001b[0;31mKeyboardInterrupt\u001b[0m                         Traceback (most recent call last)",
      "\u001b[0;32m<ipython-input-13-63b9fc3adc67>\u001b[0m in \u001b[0;36m<module>\u001b[0;34m\u001b[0m\n\u001b[1;32m      4\u001b[0m     \u001b[0mprint\u001b[0m\u001b[0;34m(\u001b[0m\u001b[0mstr\u001b[0m\u001b[0;34m(\u001b[0m\u001b[0mi\u001b[0m\u001b[0;34m)\u001b[0m \u001b[0;34m+\u001b[0m \u001b[0mdatalist\u001b[0m\u001b[0;34m[\u001b[0m\u001b[0mi\u001b[0m\u001b[0;34m%\u001b[0m\u001b[0;36m2\u001b[0m\u001b[0;34m]\u001b[0m\u001b[0;34m[\u001b[0m\u001b[0;34m'image'\u001b[0m\u001b[0;34m]\u001b[0m\u001b[0;34m)\u001b[0m\u001b[0;34m\u001b[0m\u001b[0;34m\u001b[0m\u001b[0m\n\u001b[1;32m      5\u001b[0m     \u001b[0mpct\u001b[0m \u001b[0;34m=\u001b[0m \u001b[0mread_nifti_file\u001b[0m\u001b[0;34m(\u001b[0m\u001b[0mdatalist\u001b[0m\u001b[0;34m[\u001b[0m\u001b[0mi\u001b[0m\u001b[0;34m%\u001b[0m\u001b[0;36m2\u001b[0m\u001b[0;34m]\u001b[0m\u001b[0;34m[\u001b[0m\u001b[0;34m'image'\u001b[0m\u001b[0;34m]\u001b[0m\u001b[0;34m,\u001b[0m\u001b[0mmin_num_sequence\u001b[0m\u001b[0;34m=\u001b[0m\u001b[0;36m43\u001b[0m\u001b[0;34m)\u001b[0m\u001b[0;34m\u001b[0m\u001b[0;34m\u001b[0m\u001b[0m\n\u001b[0;32m----> 6\u001b[0;31m     \u001b[0mvolume\u001b[0m \u001b[0;34m=\u001b[0m \u001b[0mnormalize\u001b[0m\u001b[0;34m(\u001b[0m\u001b[0mpct\u001b[0m\u001b[0;34m)\u001b[0m\u001b[0;34m\u001b[0m\u001b[0;34m\u001b[0m\u001b[0m\n\u001b[0m\u001b[1;32m      7\u001b[0m     \u001b[0mexample_label_aif\u001b[0m \u001b[0;34m=\u001b[0m \u001b[0mnormalize_aif\u001b[0m\u001b[0;34m(\u001b[0m\u001b[0mdatalist\u001b[0m\u001b[0;34m[\u001b[0m\u001b[0mi\u001b[0m\u001b[0;34m%\u001b[0m\u001b[0;36m2\u001b[0m\u001b[0;34m]\u001b[0m\u001b[0;34m[\u001b[0m\u001b[0;34m'label'\u001b[0m\u001b[0;34m]\u001b[0m\u001b[0;34m[\u001b[0m\u001b[0;36m0\u001b[0m\u001b[0;34m]\u001b[0m\u001b[0;34m)\u001b[0m\u001b[0;34m\u001b[0m\u001b[0;34m\u001b[0m\u001b[0m\n\u001b[1;32m      8\u001b[0m     \u001b[0mexample_label_vof\u001b[0m \u001b[0;34m=\u001b[0m \u001b[0mdatalist\u001b[0m\u001b[0;34m[\u001b[0m\u001b[0mi\u001b[0m\u001b[0;34m%\u001b[0m\u001b[0;36m2\u001b[0m\u001b[0;34m]\u001b[0m\u001b[0;34m[\u001b[0m\u001b[0;34m'label'\u001b[0m\u001b[0;34m]\u001b[0m\u001b[0;34m[\u001b[0m\u001b[0;36m1\u001b[0m\u001b[0;34m]\u001b[0m\u001b[0;34m\u001b[0m\u001b[0;34m\u001b[0m\u001b[0m\n",
      "\u001b[0;32m<ipython-input-2-e6e15a260ded>\u001b[0m in \u001b[0;36mnormalize\u001b[0;34m(volume)\u001b[0m\n\u001b[1;32m     11\u001b[0m     \u001b[0mmin\u001b[0m \u001b[0;34m=\u001b[0m \u001b[0;36m0\u001b[0m\u001b[0;34m\u001b[0m\u001b[0;34m\u001b[0m\u001b[0m\n\u001b[1;32m     12\u001b[0m     \u001b[0mmax\u001b[0m \u001b[0;34m=\u001b[0m   \u001b[0;36m400\u001b[0m \u001b[0;31m#Check this with Richard or Roland\u001b[0m\u001b[0;34m\u001b[0m\u001b[0;34m\u001b[0m\u001b[0m\n\u001b[0;32m---> 13\u001b[0;31m     \u001b[0mvolume\u001b[0m\u001b[0;34m[\u001b[0m\u001b[0mvolume\u001b[0m \u001b[0;34m<\u001b[0m \u001b[0mmin\u001b[0m\u001b[0;34m]\u001b[0m \u001b[0;34m=\u001b[0m \u001b[0mmin\u001b[0m\u001b[0;34m\u001b[0m\u001b[0;34m\u001b[0m\u001b[0m\n\u001b[0m\u001b[1;32m     14\u001b[0m     \u001b[0mvolume\u001b[0m\u001b[0;34m[\u001b[0m\u001b[0mvolume\u001b[0m \u001b[0;34m>\u001b[0m \u001b[0mmax\u001b[0m\u001b[0;34m]\u001b[0m \u001b[0;34m=\u001b[0m \u001b[0mmax\u001b[0m\u001b[0;34m\u001b[0m\u001b[0;34m\u001b[0m\u001b[0m\n\u001b[1;32m     15\u001b[0m     \u001b[0mvolume\u001b[0m \u001b[0;34m=\u001b[0m \u001b[0;34m(\u001b[0m\u001b[0mvolume\u001b[0m \u001b[0;34m-\u001b[0m \u001b[0mmin\u001b[0m\u001b[0;34m)\u001b[0m \u001b[0;34m/\u001b[0m \u001b[0;34m(\u001b[0m\u001b[0mmax\u001b[0m \u001b[0;34m-\u001b[0m \u001b[0mmin\u001b[0m\u001b[0;34m)\u001b[0m\u001b[0;34m\u001b[0m\u001b[0;34m\u001b[0m\u001b[0m\n",
      "\u001b[0;31mKeyboardInterrupt\u001b[0m: "
     ]
    }
   ],
   "source": [
    "#Overfitting to one batch\n",
    "for i in range(len(datalist)):    \n",
    "    print(\"================= Next Sequence =================\")\n",
    "    print(str(i) + datalist[i%2]['image'])\n",
    "    pct = read_nifti_file(datalist[i%2]['image'],min_num_sequence=43)\n",
    "    volume = normalize(pct)\n",
    "    example_label_aif = normalize_aif(datalist[i%2]['label'][0])\n",
    "    example_label_vof = datalist[i%2]['label'][1]\n",
    "    labels = np.array([example_label_vof,example_label_vof])\n",
    "    print(volume.shape)\n",
    "    print(example_label.shape)    \n",
    "    #print(model.train_on_batch(x=volume[np.newaxis,:,:,:,:],y=example_label[np.newaxis,:]))\n",
    "    print(model.train_on_batch(x=volume[np.newaxis,:,:,:,:],y=labels[np.newaxis,:,:]))"
   ]
  },
  {
   "cell_type": "code",
   "execution_count": 11,
   "id": "ce8d095e",
   "metadata": {},
   "outputs": [
    {
     "data": {
      "text/plain": [
       "18.34008851303083"
      ]
     },
     "execution_count": 11,
     "metadata": {},
     "output_type": "execute_result"
    }
   ],
   "source": [
    "np.sum(normalize_aif(example_label[np.newaxis,:]))"
   ]
  },
  {
   "cell_type": "code",
   "execution_count": 35,
   "id": "377763e6",
   "metadata": {},
   "outputs": [
    {
     "data": {
      "text/plain": [
       "9"
      ]
     },
     "execution_count": 35,
     "metadata": {},
     "output_type": "execute_result"
    }
   ],
   "source": [
    "99%10"
   ]
  },
  {
   "cell_type": "code",
   "execution_count": 27,
   "id": "2db1c0c8",
   "metadata": {},
   "outputs": [
    {
     "ename": "IndexError",
     "evalue": "index 1 is out of bounds for axis 0 with size 1",
     "output_type": "error",
     "traceback": [
      "\u001b[0;31m---------------------------------------------------------------------------\u001b[0m",
      "\u001b[0;31mIndexError\u001b[0m                                Traceback (most recent call last)",
      "\u001b[0;32m<ipython-input-27-e6887cb89f04>\u001b[0m in \u001b[0;36m<module>\u001b[0;34m\u001b[0m\n\u001b[1;32m      1\u001b[0m \u001b[0mpred_aif\u001b[0m \u001b[0;34m=\u001b[0m \u001b[0mmodel\u001b[0m\u001b[0;34m.\u001b[0m\u001b[0mpredict\u001b[0m\u001b[0;34m(\u001b[0m\u001b[0mnp\u001b[0m\u001b[0;34m.\u001b[0m\u001b[0mexpand_dims\u001b[0m\u001b[0;34m(\u001b[0m\u001b[0mnormalize\u001b[0m\u001b[0;34m(\u001b[0m\u001b[0mread_nifti_file\u001b[0m\u001b[0;34m(\u001b[0m\u001b[0mdatalist\u001b[0m\u001b[0;34m[\u001b[0m\u001b[0;36m15\u001b[0m\u001b[0;34m]\u001b[0m\u001b[0;34m[\u001b[0m\u001b[0;34m'image'\u001b[0m\u001b[0;34m]\u001b[0m\u001b[0;34m,\u001b[0m\u001b[0mmin_num_sequence\u001b[0m\u001b[0;34m=\u001b[0m\u001b[0;36m43\u001b[0m\u001b[0;34m)\u001b[0m\u001b[0;34m)\u001b[0m\u001b[0;34m,\u001b[0m \u001b[0maxis\u001b[0m\u001b[0;34m=\u001b[0m\u001b[0;36m0\u001b[0m\u001b[0;34m)\u001b[0m\u001b[0;34m)\u001b[0m\u001b[0;34m[\u001b[0m\u001b[0;36m0\u001b[0m\u001b[0;34m]\u001b[0m\u001b[0;34m\u001b[0m\u001b[0;34m\u001b[0m\u001b[0m\n\u001b[0;32m----> 2\u001b[0;31m \u001b[0mpred_vof\u001b[0m \u001b[0;34m=\u001b[0m \u001b[0mmodel\u001b[0m\u001b[0;34m.\u001b[0m\u001b[0mpredict\u001b[0m\u001b[0;34m(\u001b[0m\u001b[0mnp\u001b[0m\u001b[0;34m.\u001b[0m\u001b[0mexpand_dims\u001b[0m\u001b[0;34m(\u001b[0m\u001b[0mnormalize\u001b[0m\u001b[0;34m(\u001b[0m\u001b[0mread_nifti_file\u001b[0m\u001b[0;34m(\u001b[0m\u001b[0mdatalist\u001b[0m\u001b[0;34m[\u001b[0m\u001b[0;36m15\u001b[0m\u001b[0;34m]\u001b[0m\u001b[0;34m[\u001b[0m\u001b[0;34m'image'\u001b[0m\u001b[0;34m]\u001b[0m\u001b[0;34m,\u001b[0m\u001b[0mmin_num_sequence\u001b[0m\u001b[0;34m=\u001b[0m\u001b[0;36m43\u001b[0m\u001b[0;34m)\u001b[0m\u001b[0;34m)\u001b[0m\u001b[0;34m,\u001b[0m \u001b[0maxis\u001b[0m\u001b[0;34m=\u001b[0m\u001b[0;36m0\u001b[0m\u001b[0;34m)\u001b[0m\u001b[0;34m)\u001b[0m\u001b[0;34m[\u001b[0m\u001b[0;36m1\u001b[0m\u001b[0;34m]\u001b[0m\u001b[0;34m\u001b[0m\u001b[0;34m\u001b[0m\u001b[0m\n\u001b[0m\u001b[1;32m      3\u001b[0m \u001b[0;34m\u001b[0m\u001b[0m\n\u001b[1;32m      4\u001b[0m \u001b[0mplt\u001b[0m\u001b[0;34m.\u001b[0m\u001b[0mplot\u001b[0m\u001b[0;34m(\u001b[0m\u001b[0mpred_aif\u001b[0m\u001b[0;34m[\u001b[0m\u001b[0;36m0\u001b[0m\u001b[0;34m]\u001b[0m\u001b[0;34m)\u001b[0m\u001b[0;34m\u001b[0m\u001b[0;34m\u001b[0m\u001b[0m\n\u001b[1;32m      5\u001b[0m \u001b[0mplt\u001b[0m\u001b[0;34m.\u001b[0m\u001b[0mplot\u001b[0m\u001b[0;34m(\u001b[0m\u001b[0mpred_vof\u001b[0m\u001b[0;34m[\u001b[0m\u001b[0;36m0\u001b[0m\u001b[0;34m]\u001b[0m\u001b[0;34m)\u001b[0m\u001b[0;34m\u001b[0m\u001b[0;34m\u001b[0m\u001b[0m\n",
      "\u001b[0;31mIndexError\u001b[0m: index 1 is out of bounds for axis 0 with size 1"
     ]
    }
   ],
   "source": [
    "pred_aif = model.predict(np.expand_dims(normalize(read_nifti_file(datalist[15]['image'],min_num_sequence=43)), axis=0))[0]\n",
    "pred_vof = model.predict(np.expand_dims(normalize(read_nifti_file(datalist[15]['image'],min_num_sequence=43)), axis=0))[1]\n",
    "\n",
    "plt.plot(pred_aif[0])\n",
    "plt.plot(pred_vof[0])\n",
    "plt.legend(['pred_aif','pred_vof'])\n",
    "plt.xlabel('Time (s)')\n",
    "plt.ylabel('Density (HU)')\n",
    "plt.show()\n"
   ]
  },
  {
   "cell_type": "code",
   "execution_count": 21,
   "id": "d112c399",
   "metadata": {
    "scrolled": true
   },
   "outputs": [
    {
     "data": {
      "image/png": "[encoded data removed]",
      "text/plain": [
       "<Figure size 432x288 with 1 Axes>"
      ]
     },
     "metadata": {
      "needs_background": "light"
     },
     "output_type": "display_data"
    }
   ],
   "source": [
    "pred1 = model.predict(np.expand_dims(normalize(read_nifti_file(datalist[1]['image'],min_num_sequence=43)\n",
    "                                      ), axis=0))[0]\n",
    "pred2 = model.predict(np.expand_dims(normalize(read_nifti_file(datalist[20]['image'],min_num_sequence=43)\n",
    "                                      ), axis=0))[0]\n",
    "pred3 = model.predict(np.expand_dims(normalize(read_nifti_file(datalist[35]['image'],min_num_sequence=43)\n",
    "                                      ), axis=0))[0]\n",
    "plt.plot(pred1)\n",
    "plt.plot(pred2)\n",
    "plt.plot(pred3)\n",
    "plt.legend(['pred1', 'pred2','pred3'])\n",
    "plt.xlabel('Time (s)')\n",
    "plt.ylabel('Density (HU)')\n",
    "plt.show()\n"
   ]
  },
  {
   "cell_type": "code",
   "execution_count": 29,
   "id": "1bd61b3e",
   "metadata": {},
   "outputs": [
    {
     "data": {
      "text/plain": [
       "0.31633407"
      ]
     },
     "execution_count": 29,
     "metadata": {},
     "output_type": "execute_result"
    }
   ],
   "source": [
    "pred1[0]"
   ]
  },
  {
   "cell_type": "code",
   "execution_count": 22,
   "id": "47d1330c",
   "metadata": {},
   "outputs": [
    {
     "data": {
      "image/png": "[encoded data removed]",
      "text/plain": [
       "<Figure size 432x288 with 1 Axes>"
      ]
     },
     "metadata": {
      "needs_background": "light"
     },
     "output_type": "display_data"
    }
   ],
   "source": [
    "sample_prediction = 25\n",
    "pct = read_nifti_file(datalist[sample_prediction]['image'],min_num_sequence=43)\n",
    "volume = normalize(pct)\n",
    "example_label = datalist[sample_prediction]['label'][0]\n",
    "\n",
    "    \n",
    "preds = model.predict(np.expand_dims(volume, axis=0))[0]\n",
    "\n",
    "plt.plot(normalize_aif(preds))\n",
    "plt.plot(normalize_aif(example_label))\n",
    "plt.legend(['Predicted', 'Manual AIF'])\n",
    "plt.xlabel('Time (s)')\n",
    "plt.ylabel('Density (HU)')\n",
    "plt.show()\n"
   ]
  },
  {
   "cell_type": "code",
   "execution_count": null,
   "id": "5803d9c7",
   "metadata": {
    "scrolled": true
   },
   "outputs": [],
   "source": [
    "for key in cases_paths:\n",
    "    example_pct = read_nifti_file(cases_paths[key],min_num_sequence=50)\n",
    "    print(cases_paths[key])\n",
    "    print(example_pct.shape)"
   ]
  },
  {
   "cell_type": "code",
   "execution_count": 21,
   "id": "5fc106fd",
   "metadata": {},
   "outputs": [
    {
     "name": "stdout",
     "output_type": "stream",
     "text": [
      "(256, 256, 8, 43)\n",
      "(43,)\n",
      "[ 65.17546844  67.88008881  71.38324738  71.16088104  68.80565643\n",
      "  50.76747894  70.0555954   73.96856689  72.30402374  85.19799042\n",
      "  47.89317703  65.41912079  69.46140289  63.03180313  76.71797943\n",
      " 117.90959167 122.22020721 200.00575256 296.57162476 321.24246216\n",
      " 351.80267334 363.67218018 362.23324585 363.32443237 351.73028564\n",
      " 320.06192017 253.75646973 227.79251099 206.17881775 190.67295837\n",
      " 172.93933105 148.33799744 139.99394226 130.28613281 120.06873322\n",
      " 132.34762573  96.75967407  93.7318573  109.64048767 108.80736542\n",
      "  93.24468994  93.63285828 100.48235321]\n",
      "min: 47.8931770324707, max: 363.67218017578125\n",
      "==============================================================================\n",
      "(256, 256, 8, 43)\n",
      "(43,)\n",
      "[ 0.81714272 35.98949432 45.85534668 17.54782104 28.14332199 21.50254631\n",
      " 35.77444839 25.98857689 43.35077286 58.03145599 66.22518921 64.56575775\n",
      " 95.85170746 64.63071442 73.82795715 71.46063995 51.73550797 51.37894821\n",
      " 63.41391754 81.02729797 46.18917847 47.25870895 46.13180923 24.24592018\n",
      " 36.92317581 34.92689514 30.57113457 33.23444366 39.84680176 19.28662109\n",
      " 33.62188339 32.70900726 16.55690384 45.68528748 21.86511993 41.0500946\n",
      " 42.76480484 21.85861969 39.4122467  19.52085304 31.70918083 23.90119553\n",
      " 31.54034805]\n",
      "min: 0.8171427249908447, max: 95.8517074584961\n",
      "==============================================================================\n",
      "(256, 256, 8, 43)\n",
      "(43,)\n",
      "[ 48.22634125  29.86222458  33.74812698  36.82817078  42.296772\n",
      "  44.5725174   68.95352173  96.30314636 155.82348633 159.43818665\n",
      " 166.71087646 176.00001526 178.4989624  145.17578125 122.00170898\n",
      "  92.74992371  82.24990845  70.5         70.16712189  51.00011063\n",
      "  65.49978638  37.75033188  81.08555603  57.49984741  37.25360489\n",
      "  49.24985886  30.75010681  44.82976913  51.19073868  43.50606537\n",
      "  61.99996948  58.25001526  60.09859848  42.38990402  47.2501564\n",
      "  67.74983215  45.48962021  62.58621597  51.96827698  43.86479187\n",
      "  68.54272461  66.65991211  49.46157455]\n",
      "min: 29.862224578857422, max: 178.49896240234375\n",
      "==============================================================================\n",
      "(256, 256, 8, 43)\n",
      "(43,)\n",
      "[ 46.00687027  45.46455383  44.42026138  51.08286667  72.60696411\n",
      " 100.85197449 122.21617889 137.44642639 119.15808105 172.7520752\n",
      " 163.13604736 147.68309021 137.92901611 117.84191132 103.17086792\n",
      "  94.40621948  87.79454041  64.13690948  65.01002502  64.1909256\n",
      "  64.83368683  68.81906891  63.13859558  68.2120285   59.45867157\n",
      "  92.3013382   79.43942261  79.08687592  53.11215591  69.41795349\n",
      "  65.49166107  73.11708832  77.52625275  71.06597137  65.80489349\n",
      "  83.6498642   75.51033783  78.0229187   74.51344299  75.87018585\n",
      "  86.35676575  78.90811157  64.94152069]\n",
      "min: 44.42026138305664, max: 172.7520751953125\n",
      "==============================================================================\n",
      "(256, 256, 8, 43)\n",
      "(43,)\n",
      "[ 56.20592499  71.08718872  88.7669754   85.54141998  59.32601547\n",
      "  76.8599472   76.85666656  62.33454132  54.89196777  72.84920502\n",
      "  80.6649704   87.24198151  58.63826752  92.08627319  63.74744797\n",
      "  77.55233002  80.16269684  88.0887146   89.18035126 124.49986267\n",
      " 132.57743835 202.59596252 196.89665222 229.         159.39892578\n",
      " 194.42379761 211.49343872 165.1013031  179.65216064 150.\n",
      " 149.55328369 142.57221985 103.5        149.86286926 131.026474\n",
      " 119.75       122.05587006 151.33790588  90.63461304 110.12020111\n",
      " 118.66747284  94.54246521 111.74931335]\n",
      "min: 54.8919677734375, max: 229.0\n",
      "==============================================================================\n",
      "(256, 256, 8, 43)\n",
      "(43,)\n",
      "[ 87.52592468  65.9253006   96.9852066   70.0561142   80.08781433\n",
      "  94.06775665  78.12535095  93.52463531  94.04754639  96.08717346\n",
      "  52.34666443 102.294487    94.42115784  84.16222382  94.75\n",
      " 106.4431839   95.18358612 103.25       142.2088623  140.22041321\n",
      " 169.67192078 193.92984009 199.90567017 196.72497559 204.75\n",
      " 217.45219421 212.28083801 176.83947754 178.15155029 148.10043335\n",
      " 157.54371643 129.92861938 142.63949585 148.33213806 130.20309448\n",
      " 120.40518188 130.51480103 117.23711395 123.29490662 142.22702026\n",
      " 125.16724396 121.83841705 117.23461151]\n",
      "min: 52.34666442871094, max: 217.4521942138672\n",
      "==============================================================================\n",
      "(256, 256, 8, 43)\n",
      "(43,)\n",
      "[ 27.79390907  25.600811    36.90022278  30.48617172  40.41159821\n",
      "  30.56448364  39.36636734  46.04340363  36.01509857  37.49825668\n",
      "  32.30711365  29.9042511   30.97371864  35.76601028  37.80949783\n",
      "  37.53279877  37.62482452  51.91250992  45.63273621  46.13157654\n",
      "  55.39789581  76.17199707  87.63815308  98.60082245 100.24977875\n",
      "  94.36071777  97.74589539 112.94168854 124.47390747 128.26785278\n",
      " 118.30167389 132.42259216 123.18566895 128.55276489 113.94603729\n",
      " 117.98934937 123.7480545  116.18980408 110.32480621 112.01327515\n",
      " 101.02459717  99.24295807  86.38808441]\n",
      "min: 25.600811004638672, max: 132.42259216308594\n",
      "==============================================================================\n",
      "(256, 256, 8, 43)\n",
      "(43,)\n",
      "[ 44.89123535  36.73228455  37.47292328  42.62247849  27.69190407\n",
      "  33.65979004  30.38705444  29.79693794  37.26547623  37.58315277\n",
      "  47.04722977  22.46146965  35.42987823  21.94542503  32.44333649\n",
      "  30.3196106   44.58561707  43.36181641  43.72182465  45.83280945\n",
      "  52.34623337  74.26464844  74.11742401  70.6518631   78.37458801\n",
      "  82.32271576  82.41072083  81.75718689 102.63043213  94.20244598\n",
      " 107.34423828  94.33412933  82.63526917  88.59842682  79.6368103\n",
      "  82.97320557  76.37521362  71.23287964  77.44158936  53.64288712\n",
      "  68.36890411  71.39864349  68.88301849]\n",
      "min: 21.945425033569336, max: 107.34423828125\n",
      "==============================================================================\n",
      "(256, 256, 8, 43)\n",
      "(43,)\n",
      "[ 40.81223297  26.76621246  47.4235611   21.57275391  20.12059784\n",
      "  11.62003326  44.75745392  27.43131447  39.05145645  52.44514084\n",
      "  56.73603058  85.44366455 117.57678986 117.08487701 132.81620789\n",
      " 119.36367035 136.64447021 142.52780151 151.66877747 131.69726562\n",
      " 127.2859726  101.61009216  90.42941284  75.46524048  81.56943512\n",
      "  50.17470551  61.61971283  54.24238586  56.79148483  49.6079483\n",
      "  75.20306396  54.2635231   41.79973602  48.27097321  46.26914215\n",
      "  42.90690613  45.68405533  43.54612732  47.60110474  30.71872139\n",
      "  43.51251984  56.48103714  33.98770905]\n",
      "min: 11.620033264160156, max: 151.6687774658203\n",
      "==============================================================================\n",
      "(256, 256, 4, 43)\n",
      "(43,)\n",
      "[ 45.45140457  39.19773483  45.6906662   43.12742996  49.63787842\n",
      "  49.0334816   54.2100563   53.55921555  64.41150665  75.11733246\n",
      "  81.4744873   89.86569977  97.09341431  99.32180786  99.85184479\n",
      " 103.3486557   97.36899567 104.32675934  88.62822723  81.00540161\n",
      "  81.32826233  69.7186203   67.29564667  53.2605629   61.56176376\n",
      "  53.19297409  53.02973938  66.39130402  55.15023422  56.68349838\n",
      "  63.11521149  61.46747208  58.96377563  63.49952698  59.03737259\n",
      "  68.25640869  59.74889755  58.01762009  63.40914917  59.76156616\n",
      "  59.4528923   53.00954056  61.6142807 ]\n",
      "min: 39.19773483276367, max: 104.3267593383789\n",
      "==============================================================================\n",
      "(256, 256, 4, 43)\n",
      "(43,)\n",
      "[ 40.25592804  50.60555267  44.34922791  37.96359634  47.65796661\n",
      "  37.35106277  47.72997284  48.07262802  43.95718002  48.87288666\n",
      "  46.86209106  30.04792595  49.68961334  39.7401123   63.57680893\n",
      "  62.6280365   76.34306335  93.03341675  84.90588379  83.07106018\n",
      "  98.22267914 106.89556885 106.90161896 100.78623199 100.74502563\n",
      "  98.05260468  94.56874084  89.93107605  79.94665527  79.78748322\n",
      "  72.31629944  66.95301056  60.2224617   68.87507629  66.09268951\n",
      "  62.21425247  57.81315613  68.96118927  66.71615601  62.18189621\n",
      "  64.79634094  56.72271347  57.91382599]\n",
      "min: 30.04792594909668, max: 106.90161895751953\n",
      "==============================================================================\n",
      "(256, 256, 4, 43)\n",
      "(43,)\n",
      "[ 47.16680908  52.51860428  49.34301758  45.2292366   51.13961029\n",
      "  45.95200348  44.48942947  51.0720253   82.1651535   96.01368713\n",
      " 107.37680054 145.60945129 153.33872986 180.20623779 187.12251282\n",
      " 192.25331116 174.14347839 171.76802063 156.41287231 120.69404602\n",
      " 116.97449493 100.56018066  76.51916504  90.47639465  82.17829132\n",
      "  94.27635956  84.61086273  73.95674133  81.26771545  77.38010406\n",
      "  81.89266205  75.51137543  78.96664429  64.99250793  79.20653534\n",
      "  77.28328705  86.72960663  70.60962677  71.01509857  71.34548187\n",
      "  75.75106049  74.8565979   76.81143951]\n",
      "min: 44.48942947387695, max: 192.25331115722656\n",
      "==============================================================================\n",
      "(256, 256, 4, 43)\n",
      "(43,)\n",
      "[ 45.23579407  65.22801208  49.14802551  57.2140274   59.53668594\n",
      "  54.82168198  49.98949814  52.55575562  41.27911758  49.03579712\n",
      "  45.73873138  47.5045433   52.68048477  50.37903595  56.01556778\n",
      "  52.05746078  59.74784851  69.31197357  73.05392456  89.51065826\n",
      "  90.9466095  101.89585114 114.27944946 116.21463013 115.34853363\n",
      " 118.41246796 118.98297882 110.48834229 105.88683319 104.44554138\n",
      " 109.22627258  87.39610291  85.14624786  91.25        88.73910522\n",
      "  77.18896484  61.21600342  72.88948822  65.03913879  66.19808197\n",
      "  65.26293945  66.02315521  59.56311798]\n",
      "min: 41.279117584228516, max: 118.98297882080078\n",
      "==============================================================================\n",
      "(256, 256, 4, 43)\n",
      "(43,)\n",
      "[ 50.23296738  52.82247543  44.11090088  43.81197739  48.07005692\n",
      "  47.81785202  45.51921082  46.80559158  55.25011444  55.50080872\n",
      "  62.56140137  78.579422   102.40746307 109.97129822 136.02764893\n",
      " 168.03938293 164.87033081 179.7641449  176.10528564 177.74128723\n",
      " 148.18856812 151.46859741 110.24343872 106.51945496  86.62378693\n",
      "  87.05103302  79.65526581  74.94023895  68.3501358   69.95624542\n",
      "  75.10625458  68.05471039  75.52124786  66.40527344  63.59659958\n",
      "  75.68687439  71.78215027  72.76073456  72.10110474  75.49784088\n",
      "  75.31170654  64.72812653  67.5704422 ]\n",
      "min: 43.81197738647461, max: 179.76414489746094\n",
      "==============================================================================\n",
      "(256, 256, 4, 43)\n",
      "(43,)\n",
      "[ 46.51435471  45.8325119   41.48695374  38.4379921   41.6944809\n",
      "  36.09030151  46.08990097  40.67253113  40.34088135  39.95376968\n",
      "  39.24201584  41.5513649   40.39026642  38.52340698  41.76840591\n",
      "  38.88241196  40.68019104  47.87792969  44.60726929  48.26280594\n",
      "  55.490448    69.21170044  74.75719452  84.95561218 107.66119385\n",
      " 120.84276581 131.48078918 136.92918396 131.07090759 133.96470642\n",
      " 127.1439743  114.76522827  99.12527466 101.04306793  91.09298706\n",
      "  88.85856628  72.72810364  74.80971527  71.827034    63.41987991\n",
      "  63.60712433  65.75284576  62.80296707]\n",
      "min: 36.090301513671875, max: 136.92918395996094\n",
      "==============================================================================\n",
      "(256, 256, 4, 43)\n",
      "(43,)\n",
      "[ 39.79525757  43.92511749  53.15999222  35.49697495  47.41948318\n",
      "  41.25428009  61.66305923  57.70565796  81.73460388  81.76618195\n",
      "  90.9372406  102.64325714 123.17790222 133.39341736 142.37796021\n",
      " 130.18447876 117.14526367 106.97940826 104.93811798  95.46401215\n",
      "  92.20780945  77.16255188  77.10305023  74.15438843  72.62310028\n",
      "  72.00733185  65.41184235  69.37927246  56.29273605  54.00788116\n",
      "  58.92708206  53.14963913  66.29871368  61.76596451  47.88913727\n",
      "  61.99544525  55.49258423  44.58571243  48.63620758  44.70302582\n",
      "  62.80893326  72.59400177  80.50797272]\n",
      "min: 35.49697494506836, max: 142.37796020507812\n",
      "==============================================================================\n"
     ]
    },
    {
     "name": "stdout",
     "output_type": "stream",
     "text": [
      "(256, 256, 4, 43)\n",
      "(43,)\n",
      "[ 37.86141586  40.41308975  26.58592415  43.8094101   41.92656708\n",
      "  40.32304764  48.56287766  44.08130264  36.48430634  43.59065628\n",
      "  48.68935013  67.99256134  80.71238708  82.96593475  93.15247345\n",
      " 116.7986145  128.24653625 128.68179321 135.5402832  126.6638031\n",
      " 120.0774765   93.74198914  87.39208221  78.31151581  85.92312622\n",
      "  73.22974396  75.25        61.33145142  55.70972824  59.97383499\n",
      "  59.79750061  67.15567017  57.79601288  63.55825806  59.55962753\n",
      "  69.2082901   59.08976746  59.56824112  50.88694382  48.68746567\n",
      "  69.36468506  59.07564926  49.26641846]\n",
      "min: 26.58592414855957, max: 135.540283203125\n",
      "==============================================================================\n",
      "(256, 256, 2, 43)\n",
      "(43,)\n",
      "[33.3224678  38.12990952 26.95846176 28.60987663 28.18136024 37.76903152\n",
      " 37.3178978  47.58279419 42.60303879 37.85522461 41.19854355 40.22006989\n",
      " 34.60633469 26.15842056 40.75428009 45.10959244 37.46286774 40.20239258\n",
      " 29.2206459  39.26128006 44.73703003 35.78829575 27.86134338 35.78214645\n",
      " 42.27664948 42.82152176 43.30729675 41.60611725 40.45550156 46.15403748\n",
      " 31.03751945 35.71367264 35.68816376 46.13746643 25.45418358 21.09425735\n",
      " 45.83867264 45.48920059 39.05377579 37.35078049 39.5801506  30.60028648\n",
      " 38.45697021]\n",
      "min: 21.094257354736328, max: 47.582794189453125\n",
      "==============================================================================\n",
      "(256, 256, 2, 43)\n",
      "(43,)\n",
      "[ 33.11654282  46.09817505  33.06384277  45.46933365  48.74010086\n",
      "  43.36560822  34.05796814  44.37674332  45.96667862  50.97156906\n",
      "  43.73394775  65.98809052  65.11489105  96.7551651  106.99285126\n",
      " 102.2073822  104.91123199 115.94264984 107.66536713 106.627388\n",
      "  93.08933258  82.68251038  68.45677185  75.40016174  60.02880096\n",
      "  75.88930511  58.59127045  71.87072754  74.86687469  68.462883\n",
      "  57.29087448  60.95368195  58.39925766  73.86416626  57.67873001\n",
      "  65.32594299  86.32388306  74.1842041   59.55108261  53.75457764\n",
      "  64.33906555  49.40584183  48.71977997]\n",
      "min: 33.0638427734375, max: 115.9426498413086\n",
      "==============================================================================\n",
      "(256, 256, 2, 43)\n",
      "(43,)\n",
      "[30.23624039 27.71426201 29.18715858 33.71650314 24.22852135 28.76197815\n",
      " 28.70768547 27.89104652 34.64753723 32.97624588 23.85511398 21.95363045\n",
      " 26.63209915 24.90565109 31.34101105 34.1706543  39.90769196 31.85765648\n",
      " 51.16990662 58.34709549 64.44982147 65.60347748 69.1639328  68.01963043\n",
      " 75.95071411 84.12680817 80.28145599 82.16114807 76.47146606 84.00604248\n",
      " 83.08068848 75.28936768 74.39290619 70.17534637 73.35865784 78.99087524\n",
      " 64.67728424 55.40137863 72.46114349 59.13397598 65.61915588 52.39248276\n",
      " 60.48820877]\n",
      "min: 21.953630447387695, max: 84.1268081665039\n",
      "==============================================================================\n"
     ]
    }
   ],
   "source": [
    "min_intensity = 99999\n",
    "max_intensity = 0\n",
    "for i in range(len(datalist)):\n",
    "    example_pct = read_nifti_file(datalist[i]['image'],min_num_sequence=43)\n",
    "    example_label = datalist[i]['label'][0]\n",
    "    print(example_pct.shape)\n",
    "    print(example_label.shape)    \n",
    "    print(example_label)\n",
    "    cur_min = np.min(example_label)\n",
    "    cur_max = np.max(example_label)\n",
    "    if cur_min < min_intensity:\n",
    "        min_intensity=cur_min\n",
    "    if cur_max > max_intensity:\n",
    "        max_intensity = cur_max\n",
    "    print(\"min: \" + str(np.min(example_label)) + \", max: \" + str(np.max(example_label)) )\n",
    "    print(\"==============================================================================\")"
   ]
  },
  {
   "cell_type": "code",
   "execution_count": 22,
   "id": "f6294ea4",
   "metadata": {},
   "outputs": [
    {
     "name": "stdout",
     "output_type": "stream",
     "text": [
      "0.8171427249908447\n"
     ]
    }
   ],
   "source": [
    "print(min_intensity)"
   ]
  },
  {
   "cell_type": "code",
   "execution_count": 23,
   "id": "f365d6ca",
   "metadata": {},
   "outputs": [
    {
     "name": "stdout",
     "output_type": "stream",
     "text": [
      "363.67218017578125\n"
     ]
    }
   ],
   "source": [
    "print(max_intensity)"
   ]
  },
  {
   "cell_type": "code",
   "execution_count": 24,
   "id": "4a2a74e6",
   "metadata": {},
   "outputs": [
    {
     "data": {
      "text/plain": [
       "array([ 40.81223297,  26.76621246,  47.4235611 ,  21.57275391,\n",
       "        20.12059784,  11.62003326,  44.75745392,  27.43131447,\n",
       "        39.05145645,  52.44514084,  56.73603058,  85.44366455,\n",
       "       117.57678986, 117.08487701, 132.81620789, 119.36367035,\n",
       "       136.64447021, 142.52780151, 151.66877747, 131.69726562,\n",
       "       127.2859726 , 101.61009216,  90.42941284,  75.46524048,\n",
       "        81.56943512,  50.17470551,  61.61971283,  54.24238586,\n",
       "        56.79148483,  49.6079483 ,  75.20306396,  54.2635231 ,\n",
       "        41.79973602,  48.27097321,  46.26914215,  42.90690613,\n",
       "        45.68405533,  43.54612732,  47.60110474,  30.71872139,\n",
       "        43.51251984,  56.48103714,  33.98770905])"
      ]
     },
     "execution_count": 24,
     "metadata": {},
     "output_type": "execute_result"
    }
   ],
   "source": [
    "datalist[8]['label'][0]"
   ]
  },
  {
   "cell_type": "code",
   "execution_count": 25,
   "id": "924bec68",
   "metadata": {},
   "outputs": [
    {
     "data": {
      "text/plain": [
       "(256, 256, 8, 43)"
      ]
     },
     "execution_count": 25,
     "metadata": {},
     "output_type": "execute_result"
    }
   ],
   "source": [
    "input_shape =(1, 256, 256, 8,43)\n",
    "input_shape=input_shape[1:]\n",
    "input_shape"
   ]
  },
  {
   "cell_type": "code",
   "execution_count": 26,
   "id": "9e95a5c6",
   "metadata": {},
   "outputs": [
    {
     "data": {
      "text/plain": [
       "TensorShape([1, 254, 254, 6, 64])"
      ]
     },
     "execution_count": 26,
     "metadata": {},
     "output_type": "execute_result"
    }
   ],
   "source": [
    "input_shape =(1, 256, 256, 8,43)\n",
    "x = tf.random.normal(input_shape)\n",
    "y = tf.keras.layers.Conv3D(filters=64, kernel_size=3, activation='relu', input_shape=input_shape[1:], data_format='channels_last')(x)\n",
    "y.shape"
   ]
  },
  {
   "cell_type": "code",
   "execution_count": 27,
   "id": "30894be1",
   "metadata": {},
   "outputs": [],
   "source": [
    "initial_learning_rate = 0.0001\n",
    "lr_schedule = keras.optimizers.schedules.ExponentialDecay(\n",
    "    initial_learning_rate, decay_steps=100000, decay_rate=0.96, staircase=True\n",
    ")"
   ]
  },
  {
   "cell_type": "code",
   "execution_count": 48,
   "id": "86ce38ff",
   "metadata": {},
   "outputs": [
    {
     "ename": "NameError",
     "evalue": "name 'train_dataset' is not defined",
     "output_type": "error",
     "traceback": [
      "\u001b[0;31m---------------------------------------------------------------------------\u001b[0m",
      "\u001b[0;31mNameError\u001b[0m                                 Traceback (most recent call last)",
      "\u001b[0;32m<ipython-input-48-5a830086ad1d>\u001b[0m in \u001b[0;36m<module>\u001b[0;34m\u001b[0m\n\u001b[1;32m      2\u001b[0m \u001b[0mepochs\u001b[0m \u001b[0;34m=\u001b[0m \u001b[0;36m10\u001b[0m\u001b[0;34m\u001b[0m\u001b[0;34m\u001b[0m\u001b[0m\n\u001b[1;32m      3\u001b[0m model.fit(\n\u001b[0;32m----> 4\u001b[0;31m     \u001b[0mtrain_dataset\u001b[0m\u001b[0;34m,\u001b[0m\u001b[0;34m\u001b[0m\u001b[0;34m\u001b[0m\u001b[0m\n\u001b[0m\u001b[1;32m      5\u001b[0m     \u001b[0mvalidation_data\u001b[0m\u001b[0;34m=\u001b[0m\u001b[0mvalidation_dataset\u001b[0m\u001b[0;34m,\u001b[0m\u001b[0;34m\u001b[0m\u001b[0;34m\u001b[0m\u001b[0m\n\u001b[1;32m      6\u001b[0m     \u001b[0mepochs\u001b[0m\u001b[0;34m=\u001b[0m\u001b[0mepochs\u001b[0m\u001b[0;34m,\u001b[0m\u001b[0;34m\u001b[0m\u001b[0;34m\u001b[0m\u001b[0m\n",
      "\u001b[0;31mNameError\u001b[0m: name 'train_dataset' is not defined"
     ]
    }
   ],
   "source": [
    "# Train the model, doing validation at the end of each epoch\n",
    "epochs = 10\n",
    "model.fit(\n",
    "    train_dataset,\n",
    "    validation_data=validation_dataset,\n",
    "    epochs=epochs,\n",
    "    shuffle=True,\n",
    "    verbose=2,\n",
    "    callbacks=[checkpoint_cb, early_stopping_cb],\n",
    ")"
   ]
  },
  {
   "cell_type": "code",
   "execution_count": 49,
   "id": "1aa50ed8",
   "metadata": {},
   "outputs": [
    {
     "data": {
      "text/plain": [
       "[<KerasTensor: shape=(None, 256, 256, None, 43) dtype=float32 (created by layer 'input_10')>]"
      ]
     },
     "execution_count": 49,
     "metadata": {},
     "output_type": "execute_result"
    }
   ],
   "source": [
    "model.inputs"
   ]
  },
  {
   "cell_type": "code",
   "execution_count": 52,
   "id": "2baa5e2a",
   "metadata": {},
   "outputs": [],
   "source": [
    "model.train_on_batch??"
   ]
  },
  {
   "cell_type": "code",
   "execution_count": 60,
   "id": "16826d97",
   "metadata": {},
   "outputs": [
    {
     "data": {
      "text/plain": [
       "(256, 256, 8, 43)"
      ]
     },
     "execution_count": 60,
     "metadata": {},
     "output_type": "execute_result"
    }
   ],
   "source": [
    "example_pct.shape"
   ]
  },
  {
   "cell_type": "code",
   "execution_count": 62,
   "id": "c6724415",
   "metadata": {},
   "outputs": [
    {
     "data": {
      "text/plain": [
       "(1, 256, 256, 8, 43)"
      ]
     },
     "execution_count": 62,
     "metadata": {},
     "output_type": "execute_result"
    }
   ],
   "source": [
    "example_pct[np.newaxis,:,:,:,:].shape"
   ]
  },
  {
   "cell_type": "code",
   "execution_count": 65,
   "id": "91af2f46",
   "metadata": {},
   "outputs": [
    {
     "data": {
      "text/plain": [
       "(1, 43)"
      ]
     },
     "execution_count": 65,
     "metadata": {},
     "output_type": "execute_result"
    }
   ],
   "source": [
    "example_label[np.newaxis,:].shape"
   ]
  },
  {
   "cell_type": "code",
   "execution_count": 67,
   "id": "42354fee",
   "metadata": {},
   "outputs": [],
   "source": [
    "layers.Conv3D??"
   ]
  },
  {
   "cell_type": "code",
   "execution_count": null,
   "id": "e7eaadd3",
   "metadata": {},
   "outputs": [],
   "source": [
    "#The perfusion CT network will have input dimensions: [in_channels,out_channels,kernel_size]\n",
    "# torch.nn.Conv3d(in_channels, out_channels, kernel_size, \n",
    "#stride=1, padding=0, dilation=1, groups=1, bias=True, padding_mode='zeros', device=None, dtype=None)"
   ]
  }
 ],
 "metadata": {
  "kernelspec": {
   "display_name": "Python 3",
   "language": "python",
   "name": "python3"
  },
  "language_info": {
   "codemirror_mode": {
    "name": "ipython",
    "version": 3
   },
   "file_extension": ".py",
   "mimetype": "text/x-python",
   "name": "python",
   "nbconvert_exporter": "python",
   "pygments_lexer": "ipython3",
   "version": "3.9.6"
  }
 },
 "nbformat": 4,
 "nbformat_minor": 5
}
