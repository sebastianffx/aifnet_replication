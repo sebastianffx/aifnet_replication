{
 "cells": [
  {
   "cell_type": "code",
   "execution_count": 1,
   "id": "256ce640",
   "metadata": {},
   "outputs": [
    {
     "name": "stdout",
     "output_type": "stream",
     "text": [
      "/home/sebastian/experiments/aifnet_replication\r\n"
     ]
    }
   ],
   "source": [
    "import glob\n",
    "import scipy\n",
    "import os,sys\n",
    "import zipfile\n",
    "import numpy as np\n",
    "import nibabel as nib\n",
    "import tensorflow as tf\n",
    "from scipy import ndimage\n",
    "from tensorflow import keras\n",
    "from natsort import natsorted\n",
    "from tensorflow.keras import layers\n",
    "from tensorflow.keras.callbacks import ModelCheckpoint, TensorBoard\n",
    "from aifnet_utils.preprocess import read_nifti_file, normalize, normalize_aif, process_scan, normalize_zero_one\n",
    "from aifnet_utils.data_loaders import ISLES18DataGen_aif, read_isles_volumepaths_from_file_otf, read_isles_annotations_from_file, ISLES18DataGen_aifvof_otf\n",
    "from aifnet_utils.data_loaders import delay_sequence_padding, anticipate_sequence_padding, late_bolus, early_bolus\n",
    "from aifnet_utils.results import plot_predictions\n",
    "from aifnet_utils.losses import MaxCorrelation\n",
    "from scipy import signal\n",
    "import tensorflow_probability as tfp\n",
    "import matplotlib.pyplot as plt\n",
    "from scipy.linalg import convolution_matrix, toeplitz, circulant\n",
    "from sklearn.linear_model import Ridge\n",
    "from matplotlib import pyplot, image, transforms\n",
    "from scipy import ndimage\n",
    "from numpy import inf\n",
    "import matplotlib.patches as patches\n",
    "import random\n",
    "keras.backend.set_image_data_format('channels_last')\n",
    "from aifnet_utils.deconv import build_deconv_A_matrix, build_circular_matrix_implicit, compute_pseudoinverse\n",
    "from aifnet_utils.deconv import svd_truncated, perform_deconvolution, perform_deconvolution_circular\n",
    "from aifnet_utils.deconv import plot_cbf_map,plot_estimatedCBF_map,plot_tmax_map, aif_inverse,mask_CBF\n",
    "from aifnet_utils.deconv import save_nifti_from_array_and_referenceHeader\n",
    "\n",
    "import time\n",
    "\n",
    "%matplotlib inline\n",
    "!pwd"
   ]
  },
  {
   "cell_type": "code",
   "execution_count": 2,
   "id": "a50cbd81",
   "metadata": {},
   "outputs": [],
   "source": [
    "#Reading an example PCT volume\n",
    "LOCATION = 'INSEL'\n",
    "if LOCATION == 'LOCAL':\n",
    "    ROOT_EXP = '/Users/sebastianotalora/work/postdoc/ctp/aifnet_replication/'\n",
    "    root_dir  = '/Users/sebastianotalora/work/postdoc/data/ISLES/'\n",
    "\n",
    "if LOCATION == 'INSEL':\n",
    "    ROOT_EXP = '/home/sebastian/experiments/aifnet_replication/'\n",
    "    root_dir  = '/media/sebastian/data/ASAP/ISLES2018_Training'\n",
    "\n",
    "if LOCATION == 'SERVER':\n",
    "    ROOT_EXP = '/home/sotalora/aifnet_replication/'\n",
    "    root_dir     = '/data/images/sotalora/ISLES18/'\n",
    "\n",
    "aif_annotations_path = ROOT_EXP + 'radiologist_annotations.csv'\n",
    "path_cbf_results = '/home/sebastian/experiments/aifnet_replication/results/cbfs/'\n"
   ]
  },
  {
   "cell_type": "code",
   "execution_count": 3,
   "id": "87fffdd4",
   "metadata": {},
   "outputs": [
    {
     "name": "stdout",
     "output_type": "stream",
     "text": [
      "107 107\n",
      "13 13\n",
      "31 31\n"
     ]
    }
   ],
   "source": [
    "min_num_volumes_ctp = 43\n",
    "current_fold = 1\n",
    "#Reading AIFs and VOFs for each of the partitions\n",
    "train_partition_path = ROOT_EXP+'/partitions_cleaned/fold_'+str(current_fold) +'/train_v2.txt'\n",
    "valid_partition_path = ROOT_EXP+'/partitions_cleaned/fold_'+str(current_fold) +'/valid_v2.txt'\n",
    "test_partition_path =  ROOT_EXP+'/partitions_cleaned/fold_'+str(current_fold) +'/test_v2.txt'\n",
    "\n",
    "aif_annotations_train, vof_annotations_train = read_isles_annotations_from_file(aif_annotations_path, train_partition_path, \n",
    "                                                root_dir, min_num_volumes_ctp, return_aif_only = False)\n",
    "aif_annotations_valid, vof_annotations_valid = read_isles_annotations_from_file(aif_annotations_path, valid_partition_path, root_dir, \n",
    "                                        min_num_volumes_ctp, return_aif_only = False)\n",
    "aif_annotations_test, vof_annotations_test = read_isles_annotations_from_file(aif_annotations_path,  test_partition_path,\n",
    "                                        root_dir, min_num_volumes_ctp, return_aif_only = False)\n",
    "\n",
    "ctp_volumes_train = read_isles_volumepaths_from_file_otf(root_dir, train_partition_path, aif_annotations_path)\n",
    "ctp_volumes_valid = read_isles_volumepaths_from_file_otf(root_dir, valid_partition_path, aif_annotations_path)\n",
    "ctp_volumes_test = read_isles_volumepaths_from_file_otf(root_dir, test_partition_path, aif_annotations_path)\n",
    "\n",
    "print(len(ctp_volumes_train), len(aif_annotations_train))\n",
    "print(len(ctp_volumes_valid), len(aif_annotations_valid))\n",
    "print(len(ctp_volumes_test), len(aif_annotations_test))\n",
    "\n"
   ]
  },
  {
   "cell_type": "code",
   "execution_count": 4,
   "id": "33f8f5a5",
   "metadata": {},
   "outputs": [
    {
     "data": {
      "text/plain": [
       "[{'image': '/media/sebastian/data/ASAP/ISLES2018_Training/TESTING/case_3/SMIR.Brain.XX.O.CT_4DPWI.346308/SMIR.Brain.XX.O.CT_4DPWI.346308.nii'},\n",
       " {'image': '/media/sebastian/data/ASAP/ISLES2018_Training/TESTING/case_4/SMIR.Brain.XX.O.CT_4DPWI.346316/SMIR.Brain.XX.O.CT_4DPWI.346316.nii'},\n",
       " {'image': '/media/sebastian/data/ASAP/ISLES2018_Training/TESTING/case_7/SMIR.Brain.XX.O.CT_4DPWI.346364/SMIR.Brain.XX.O.CT_4DPWI.346364.nii'},\n",
       " {'image': '/media/sebastian/data/ASAP/ISLES2018_Training/TESTING/case_8/SMIR.Brain.XX.O.CT_4DPWI.346393/SMIR.Brain.XX.O.CT_4DPWI.346393.nii'},\n",
       " {'image': '/media/sebastian/data/ASAP/ISLES2018_Training/TESTING/case_9/SMIR.Brain.XX.O.CT_4DPWI.346402/SMIR.Brain.XX.O.CT_4DPWI.346402.nii'},\n",
       " {'image': '/media/sebastian/data/ASAP/ISLES2018_Training/TESTING/case_10/SMIR.Brain.XX.O.CT_4DPWI.346411/SMIR.Brain.XX.O.CT_4DPWI.346411.nii'},\n",
       " {'image': '/media/sebastian/data/ASAP/ISLES2018_Training/TESTING/case_11/SMIR.Brain.XX.O.CT_4DPWI.346419/SMIR.Brain.XX.O.CT_4DPWI.346419.nii'},\n",
       " {'image': '/media/sebastian/data/ASAP/ISLES2018_Training/TESTING/case_12/SMIR.Brain.XX.O.CT_4DPWI.346428/SMIR.Brain.XX.O.CT_4DPWI.346428.nii'},\n",
       " {'image': '/media/sebastian/data/ASAP/ISLES2018_Training/TESTING/case_20/SMIR.Brain.XX.O.CT_4DPWI.346516/SMIR.Brain.XX.O.CT_4DPWI.346516.nii'},\n",
       " {'image': '/media/sebastian/data/ASAP/ISLES2018_Training/TESTING/case_23/SMIR.Brain.XX.O.CT_4DPWI.346541/SMIR.Brain.XX.O.CT_4DPWI.346541.nii'},\n",
       " {'image': '/media/sebastian/data/ASAP/ISLES2018_Training/TESTING/case_24/SMIR.Brain.XX.O.CT_4DPWI.346550/SMIR.Brain.XX.O.CT_4DPWI.346550.nii'},\n",
       " {'image': '/media/sebastian/data/ASAP/ISLES2018_Training/TESTING/case_26/SMIR.Brain.XX.O.CT_4DPWI.346568/SMIR.Brain.XX.O.CT_4DPWI.346568.nii'},\n",
       " {'image': '/media/sebastian/data/ASAP/ISLES2018_Training/TESTING/case_27/SMIR.Brain.XX.O.CT_4DPWI.346576/SMIR.Brain.XX.O.CT_4DPWI.346576.nii'},\n",
       " {'image': '/media/sebastian/data/ASAP/ISLES2018_Training/TESTING/case_28/SMIR.Brain.XX.O.CT_4DPWI.346584/SMIR.Brain.XX.O.CT_4DPWI.346584.nii'},\n",
       " {'image': '/media/sebastian/data/ASAP/ISLES2018_Training/TESTING/case_29/SMIR.Brain.XX.O.CT_4DPWI.346591/SMIR.Brain.XX.O.CT_4DPWI.346591.nii'},\n",
       " {'image': '/media/sebastian/data/ASAP/ISLES2018_Training/TESTING/case_34/SMIR.Brain.XX.O.CT_4DPWI.346626/SMIR.Brain.XX.O.CT_4DPWI.346626.nii'},\n",
       " {'image': '/media/sebastian/data/ASAP/ISLES2018_Training/TESTING/case_35/SMIR.Brain.XX.O.CT_4DPWI.346633/SMIR.Brain.XX.O.CT_4DPWI.346633.nii'},\n",
       " {'image': '/media/sebastian/data/ASAP/ISLES2018_Training/TESTING/case_36/SMIR.Brain.XX.O.CT_4DPWI.346640/SMIR.Brain.XX.O.CT_4DPWI.346640.nii'},\n",
       " {'image': '/media/sebastian/data/ASAP/ISLES2018_Training/TESTING/case_37/SMIR.Brain.XX.O.CT_4DPWI.346647/SMIR.Brain.XX.O.CT_4DPWI.346647.nii'},\n",
       " {'image': '/media/sebastian/data/ASAP/ISLES2018_Training/TESTING/case_38/SMIR.Brain.XX.O.CT_4DPWI.346654/SMIR.Brain.XX.O.CT_4DPWI.346654.nii'},\n",
       " {'image': '/media/sebastian/data/ASAP/ISLES2018_Training/TESTING/case_41/SMIR.Brain.XX.O.CT_4DPWI.346675/SMIR.Brain.XX.O.CT_4DPWI.346675.nii'},\n",
       " {'image': '/media/sebastian/data/ASAP/ISLES2018_Training/TESTING/case_42/SMIR.Brain.XX.O.CT_4DPWI.346682/SMIR.Brain.XX.O.CT_4DPWI.346682.nii'},\n",
       " {'image': '/media/sebastian/data/ASAP/ISLES2018_Training/TESTING/case_43/SMIR.Brain.XX.O.CT_4DPWI.346689/SMIR.Brain.XX.O.CT_4DPWI.346689.nii'},\n",
       " {'image': '/media/sebastian/data/ASAP/ISLES2018_Training/TESTING/case_44/SMIR.Brain.XX.O.CT_4DPWI.346696/SMIR.Brain.XX.O.CT_4DPWI.346696.nii'},\n",
       " {'image': '/media/sebastian/data/ASAP/ISLES2018_Training/TESTING/case_47/SMIR.Brain.XX.O.CT_4DPWI.346717/SMIR.Brain.XX.O.CT_4DPWI.346717.nii'},\n",
       " {'image': '/media/sebastian/data/ASAP/ISLES2018_Training/TESTING/case_48/SMIR.Brain.XX.O.CT_4DPWI.346726/SMIR.Brain.XX.O.CT_4DPWI.346726.nii'},\n",
       " {'image': '/media/sebastian/data/ASAP/ISLES2018_Training/TESTING/case_49/SMIR.Brain.XX.O.CT_4DPWI.346733/SMIR.Brain.XX.O.CT_4DPWI.346733.nii'},\n",
       " {'image': '/media/sebastian/data/ASAP/ISLES2018_Training/TESTING/case_50/SMIR.Brain.XX.O.CT_4DPWI.346740/SMIR.Brain.XX.O.CT_4DPWI.346740.nii'},\n",
       " {'image': '/media/sebastian/data/ASAP/ISLES2018_Training/TESTING/case_51/SMIR.Brain.XX.O.CT_4DPWI.346747/SMIR.Brain.XX.O.CT_4DPWI.346747.nii'},\n",
       " {'image': '/media/sebastian/data/ASAP/ISLES2018_Training/TESTING/case_52/SMIR.Brain.XX.O.CT_4DPWI.346754/SMIR.Brain.XX.O.CT_4DPWI.346754.nii'},\n",
       " {'image': '/media/sebastian/data/ASAP/ISLES2018_Training/TESTING/case_53/SMIR.Brain.XX.O.CT_4DPWI.346761/SMIR.Brain.XX.O.CT_4DPWI.346761.nii'},\n",
       " {'image': '/media/sebastian/data/ASAP/ISLES2018_Training/TESTING/case_54/SMIR.Brain.XX.O.CT_4DPWI.346768/SMIR.Brain.XX.O.CT_4DPWI.346768.nii'},\n",
       " {'image': '/media/sebastian/data/ASAP/ISLES2018_Training/TESTING/case_55/SMIR.Brain.XX.O.CT_4DPWI.346774/SMIR.Brain.XX.O.CT_4DPWI.346774.nii'},\n",
       " {'image': '/media/sebastian/data/ASAP/ISLES2018_Training/TESTING/case_56/SMIR.Brain.XX.O.CT_4DPWI.346781/SMIR.Brain.XX.O.CT_4DPWI.346781.nii'},\n",
       " {'image': '/media/sebastian/data/ASAP/ISLES2018_Training/TESTING/case_57/SMIR.Brain.XX.O.CT_4DPWI.346788/SMIR.Brain.XX.O.CT_4DPWI.346788.nii'},\n",
       " {'image': '/media/sebastian/data/ASAP/ISLES2018_Training/TESTING/case_58/SMIR.Brain.XX.O.CT_4DPWI.346794/SMIR.Brain.XX.O.CT_4DPWI.346794.nii'},\n",
       " {'image': '/media/sebastian/data/ASAP/ISLES2018_Training/TESTING/case_59/SMIR.Brain.XX.O.CT_4DPWI.346801/SMIR.Brain.XX.O.CT_4DPWI.346801.nii'},\n",
       " {'image': '/media/sebastian/data/ASAP/ISLES2018_Training/TESTING/case_60/SMIR.Brain.XX.O.CT_4DPWI.346807/SMIR.Brain.XX.O.CT_4DPWI.346807.nii'},\n",
       " {'image': '/media/sebastian/data/ASAP/ISLES2018_Training/TESTING/case_61/SMIR.Brain.XX.O.CT_4DPWI.346813/SMIR.Brain.XX.O.CT_4DPWI.346813.nii'},\n",
       " {'image': '/media/sebastian/data/ASAP/ISLES2018_Training/TESTING/case_62/SMIR.Brain.XX.O.CT_4DPWI.346819/SMIR.Brain.XX.O.CT_4DPWI.346819.nii'},\n",
       " {'image': '/media/sebastian/data/ASAP/ISLES2018_Training/TRAINING/case_5/SMIR.Brain.XX.O.CT_4DPWI.345589/SMIR.Brain.XX.O.CT_4DPWI.345589.nii'},\n",
       " {'image': '/media/sebastian/data/ASAP/ISLES2018_Training/TRAINING/case_6/SMIR.Brain.XX.O.CT_4DPWI.345596/SMIR.Brain.XX.O.CT_4DPWI.345596.nii'},\n",
       " {'image': '/media/sebastian/data/ASAP/ISLES2018_Training/TRAINING/case_9/SMIR.Brain.XX.O.CT_4DPWI.345617/SMIR.Brain.XX.O.CT_4DPWI.345617.nii'},\n",
       " {'image': '/media/sebastian/data/ASAP/ISLES2018_Training/TRAINING/case_10/SMIR.Brain.XX.O.CT_4DPWI.345624/SMIR.Brain.XX.O.CT_4DPWI.345624.nii'},\n",
       " {'image': '/media/sebastian/data/ASAP/ISLES2018_Training/TRAINING/case_12/SMIR.Brain.XX.O.CT_4DPWI.345638/SMIR.Brain.XX.O.CT_4DPWI.345638.nii'},\n",
       " {'image': '/media/sebastian/data/ASAP/ISLES2018_Training/TRAINING/case_13/SMIR.Brain.XX.O.CT_4DPWI.345645/SMIR.Brain.XX.O.CT_4DPWI.345645.nii'},\n",
       " {'image': '/media/sebastian/data/ASAP/ISLES2018_Training/TRAINING/case_15/SMIR.Brain.XX.O.CT_4DPWI.345659/SMIR.Brain.XX.O.CT_4DPWI.345659.nii'},\n",
       " {'image': '/media/sebastian/data/ASAP/ISLES2018_Training/TRAINING/case_17/SMIR.Brain.XX.O.CT_4DPWI.345673/SMIR.Brain.XX.O.CT_4DPWI.345673.nii'},\n",
       " {'image': '/media/sebastian/data/ASAP/ISLES2018_Training/TRAINING/case_18/SMIR.Brain.XX.O.CT_4DPWI.339335/SMIR.Brain.XX.O.CT_4DPWI.339335.nii'},\n",
       " {'image': '/media/sebastian/data/ASAP/ISLES2018_Training/TRAINING/case_19/SMIR.Brain.XX.O.CT_4DPWI.339343/SMIR.Brain.XX.O.CT_4DPWI.339343.nii'},\n",
       " {'image': '/media/sebastian/data/ASAP/ISLES2018_Training/TRAINING/case_20/SMIR.Brain.XX.O.CT_4DPWI.345682/SMIR.Brain.XX.O.CT_4DPWI.345682.nii'},\n",
       " {'image': '/media/sebastian/data/ASAP/ISLES2018_Training/TRAINING/case_21/SMIR.Brain.XX.O.CT_4DPWI.345689/SMIR.Brain.XX.O.CT_4DPWI.345689.nii'},\n",
       " {'image': '/media/sebastian/data/ASAP/ISLES2018_Training/TRAINING/case_22/SMIR.Brain.XX.O.CT_4DPWI.345696/SMIR.Brain.XX.O.CT_4DPWI.345696.nii'},\n",
       " {'image': '/media/sebastian/data/ASAP/ISLES2018_Training/TRAINING/case_23/SMIR.Brain.XX.O.CT_4DPWI.345703/SMIR.Brain.XX.O.CT_4DPWI.345703.nii'},\n",
       " {'image': '/media/sebastian/data/ASAP/ISLES2018_Training/TRAINING/case_24/SMIR.Brain.XX.O.CT_4DPWI.345710/SMIR.Brain.XX.O.CT_4DPWI.345710.nii'},\n",
       " {'image': '/media/sebastian/data/ASAP/ISLES2018_Training/TRAINING/case_26/SMIR.Brain.XX.O.CT_4DPWI.345724/SMIR.Brain.XX.O.CT_4DPWI.345724.nii'},\n",
       " {'image': '/media/sebastian/data/ASAP/ISLES2018_Training/TRAINING/case_27/SMIR.Brain.XX.O.CT_4DPWI.345731/SMIR.Brain.XX.O.CT_4DPWI.345731.nii'},\n",
       " {'image': '/media/sebastian/data/ASAP/ISLES2018_Training/TRAINING/case_28/SMIR.Brain.XX.O.CT_4DPWI.345738/SMIR.Brain.XX.O.CT_4DPWI.345738.nii'},\n",
       " {'image': '/media/sebastian/data/ASAP/ISLES2018_Training/TRAINING/case_29/SMIR.Brain.XX.O.CT_4DPWI.345745/SMIR.Brain.XX.O.CT_4DPWI.345745.nii'},\n",
       " {'image': '/media/sebastian/data/ASAP/ISLES2018_Training/TRAINING/case_30/SMIR.Brain.XX.O.CT_4DPWI.345752/SMIR.Brain.XX.O.CT_4DPWI.345752.nii'},\n",
       " {'image': '/media/sebastian/data/ASAP/ISLES2018_Training/TRAINING/case_31/SMIR.Brain.XX.O.CT_4DPWI.345759/SMIR.Brain.XX.O.CT_4DPWI.345759.nii'},\n",
       " {'image': '/media/sebastian/data/ASAP/ISLES2018_Training/TRAINING/case_32/SMIR.Brain.XX.O.CT_4DPWI.345766/SMIR.Brain.XX.O.CT_4DPWI.345766.nii'},\n",
       " {'image': '/media/sebastian/data/ASAP/ISLES2018_Training/TRAINING/case_33/SMIR.Brain.XX.O.CT_4DPWI.345773/SMIR.Brain.XX.O.CT_4DPWI.345773.nii'},\n",
       " {'image': '/media/sebastian/data/ASAP/ISLES2018_Training/TRAINING/case_34/SMIR.Brain.XX.O.CT_4DPWI.345780/SMIR.Brain.XX.O.CT_4DPWI.345780.nii'},\n",
       " {'image': '/media/sebastian/data/ASAP/ISLES2018_Training/TRAINING/case_35/SMIR.Brain.XX.O.CT_4DPWI.345787/SMIR.Brain.XX.O.CT_4DPWI.345787.nii'},\n",
       " {'image': '/media/sebastian/data/ASAP/ISLES2018_Training/TRAINING/case_36/SMIR.Brain.XX.O.CT_4DPWI.345794/SMIR.Brain.XX.O.CT_4DPWI.345794.nii'},\n",
       " {'image': '/media/sebastian/data/ASAP/ISLES2018_Training/TRAINING/case_37/SMIR.Brain.XX.O.CT_4DPWI.345801/SMIR.Brain.XX.O.CT_4DPWI.345801.nii'},\n",
       " {'image': '/media/sebastian/data/ASAP/ISLES2018_Training/TRAINING/case_39/SMIR.Brain.XX.O.CT_4DPWI.345815/SMIR.Brain.XX.O.CT_4DPWI.345815.nii'},\n",
       " {'image': '/media/sebastian/data/ASAP/ISLES2018_Training/TRAINING/case_40/SMIR.Brain.XX.O.CT_4DPWI.345822/SMIR.Brain.XX.O.CT_4DPWI.345822.nii'},\n",
       " {'image': '/media/sebastian/data/ASAP/ISLES2018_Training/TRAINING/case_41/SMIR.Brain.XX.O.CT_4DPWI.345829/SMIR.Brain.XX.O.CT_4DPWI.345829.nii'},\n",
       " {'image': '/media/sebastian/data/ASAP/ISLES2018_Training/TRAINING/case_42/SMIR.Brain.XX.O.CT_4DPWI.345836/SMIR.Brain.XX.O.CT_4DPWI.345836.nii'},\n",
       " {'image': '/media/sebastian/data/ASAP/ISLES2018_Training/TRAINING/case_43/SMIR.Brain.XX.O.CT_4DPWI.345843/SMIR.Brain.XX.O.CT_4DPWI.345843.nii'},\n",
       " {'image': '/media/sebastian/data/ASAP/ISLES2018_Training/TRAINING/case_44/SMIR.Brain.XX.O.CT_4DPWI.345850/SMIR.Brain.XX.O.CT_4DPWI.345850.nii'},\n",
       " {'image': '/media/sebastian/data/ASAP/ISLES2018_Training/TRAINING/case_45/SMIR.Brain.XX.O.CT_4DPWI.345857/SMIR.Brain.XX.O.CT_4DPWI.345857.nii'},\n",
       " {'image': '/media/sebastian/data/ASAP/ISLES2018_Training/TRAINING/case_46/SMIR.Brain.XX.O.CT_4DPWI.345864/SMIR.Brain.XX.O.CT_4DPWI.345864.nii'},\n",
       " {'image': '/media/sebastian/data/ASAP/ISLES2018_Training/TRAINING/case_47/SMIR.Brain.XX.O.CT_4DPWI.345871/SMIR.Brain.XX.O.CT_4DPWI.345871.nii'},\n",
       " {'image': '/media/sebastian/data/ASAP/ISLES2018_Training/TRAINING/case_48/SMIR.Brain.XX.O.CT_4DPWI.345878/SMIR.Brain.XX.O.CT_4DPWI.345878.nii'},\n",
       " {'image': '/media/sebastian/data/ASAP/ISLES2018_Training/TRAINING/case_51/SMIR.Brain.XX.O.CT_4DPWI.345899/SMIR.Brain.XX.O.CT_4DPWI.345899.nii'},\n",
       " {'image': '/media/sebastian/data/ASAP/ISLES2018_Training/TRAINING/case_52/SMIR.Brain.XX.O.CT_4DPWI.345906/SMIR.Brain.XX.O.CT_4DPWI.345906.nii'},\n",
       " {'image': '/media/sebastian/data/ASAP/ISLES2018_Training/TRAINING/case_55/SMIR.Brain.XX.O.CT_4DPWI.345927/SMIR.Brain.XX.O.CT_4DPWI.345927.nii'},\n",
       " {'image': '/media/sebastian/data/ASAP/ISLES2018_Training/TRAINING/case_56/SMIR.Brain.XX.O.CT_4DPWI.345934/SMIR.Brain.XX.O.CT_4DPWI.345934.nii'},\n",
       " {'image': '/media/sebastian/data/ASAP/ISLES2018_Training/TRAINING/case_57/SMIR.Brain.XX.O.CT_4DPWI.345941/SMIR.Brain.XX.O.CT_4DPWI.345941.nii'},\n",
       " {'image': '/media/sebastian/data/ASAP/ISLES2018_Training/TRAINING/case_58/SMIR.Brain.XX.O.CT_4DPWI.345948/SMIR.Brain.XX.O.CT_4DPWI.345948.nii'},\n",
       " {'image': '/media/sebastian/data/ASAP/ISLES2018_Training/TRAINING/case_59/SMIR.Brain.XX.O.CT_4DPWI.345955/SMIR.Brain.XX.O.CT_4DPWI.345955.nii'},\n",
       " {'image': '/media/sebastian/data/ASAP/ISLES2018_Training/TRAINING/case_60/SMIR.Brain.XX.O.CT_4DPWI.345962/SMIR.Brain.XX.O.CT_4DPWI.345962.nii'},\n",
       " {'image': '/media/sebastian/data/ASAP/ISLES2018_Training/TRAINING/case_61/SMIR.Brain.XX.O.CT_4DPWI.345969/SMIR.Brain.XX.O.CT_4DPWI.345969.nii'},\n",
       " {'image': '/media/sebastian/data/ASAP/ISLES2018_Training/TRAINING/case_62/SMIR.Brain.XX.O.CT_4DPWI.345976/SMIR.Brain.XX.O.CT_4DPWI.345976.nii'},\n",
       " {'image': '/media/sebastian/data/ASAP/ISLES2018_Training/TRAINING/case_63/SMIR.Brain.XX.O.CT_4DPWI.345983/SMIR.Brain.XX.O.CT_4DPWI.345983.nii'},\n",
       " {'image': '/media/sebastian/data/ASAP/ISLES2018_Training/TRAINING/case_66/SMIR.Brain.XX.O.CT_4DPWI.346004/SMIR.Brain.XX.O.CT_4DPWI.346004.nii'},\n",
       " {'image': '/media/sebastian/data/ASAP/ISLES2018_Training/TRAINING/case_67/SMIR.Brain.XX.O.CT_4DPWI.346011/SMIR.Brain.XX.O.CT_4DPWI.346011.nii'},\n",
       " {'image': '/media/sebastian/data/ASAP/ISLES2018_Training/TRAINING/case_68/SMIR.Brain.XX.O.CT_4DPWI.346018/SMIR.Brain.XX.O.CT_4DPWI.346018.nii'},\n",
       " {'image': '/media/sebastian/data/ASAP/ISLES2018_Training/TRAINING/case_69/SMIR.Brain.XX.O.CT_4DPWI.346025/SMIR.Brain.XX.O.CT_4DPWI.346025.nii'},\n",
       " {'image': '/media/sebastian/data/ASAP/ISLES2018_Training/TRAINING/case_70/SMIR.Brain.XX.O.CT_4DPWI.346032/SMIR.Brain.XX.O.CT_4DPWI.346032.nii'},\n",
       " {'image': '/media/sebastian/data/ASAP/ISLES2018_Training/TRAINING/case_71/SMIR.Brain.XX.O.CT_4DPWI.346039/SMIR.Brain.XX.O.CT_4DPWI.346039.nii'},\n",
       " {'image': '/media/sebastian/data/ASAP/ISLES2018_Training/TRAINING/case_74/SMIR.Brain.XX.O.CT_4DPWI.346060/SMIR.Brain.XX.O.CT_4DPWI.346060.nii'},\n",
       " {'image': '/media/sebastian/data/ASAP/ISLES2018_Training/TRAINING/case_78/SMIR.Brain.XX.O.CT_4DPWI.346088/SMIR.Brain.XX.O.CT_4DPWI.346088.nii'},\n",
       " {'image': '/media/sebastian/data/ASAP/ISLES2018_Training/TRAINING/case_79/SMIR.Brain.XX.O.CT_4DPWI.346095/SMIR.Brain.XX.O.CT_4DPWI.346095.nii'},\n",
       " {'image': '/media/sebastian/data/ASAP/ISLES2018_Training/TRAINING/case_80/SMIR.Brain.XX.O.CT_4DPWI.346102/SMIR.Brain.XX.O.CT_4DPWI.346102.nii'},\n",
       " {'image': '/media/sebastian/data/ASAP/ISLES2018_Training/TRAINING/case_81/SMIR.Brain.XX.O.CT_4DPWI.346109/SMIR.Brain.XX.O.CT_4DPWI.346109.nii'},\n",
       " {'image': '/media/sebastian/data/ASAP/ISLES2018_Training/TRAINING/case_82/SMIR.Brain.XX.O.CT_4DPWI.346116/SMIR.Brain.XX.O.CT_4DPWI.346116.nii'},\n",
       " {'image': '/media/sebastian/data/ASAP/ISLES2018_Training/TRAINING/case_83/SMIR.Brain.XX.O.CT_4DPWI.346123/SMIR.Brain.XX.O.CT_4DPWI.346123.nii'},\n",
       " {'image': '/media/sebastian/data/ASAP/ISLES2018_Training/TRAINING/case_84/SMIR.Brain.XX.O.CT_4DPWI.346130/SMIR.Brain.XX.O.CT_4DPWI.346130.nii'},\n",
       " {'image': '/media/sebastian/data/ASAP/ISLES2018_Training/TRAINING/case_86/SMIR.Brain.XX.O.CT_4DPWI.346144/SMIR.Brain.XX.O.CT_4DPWI.346144.nii'},\n",
       " {'image': '/media/sebastian/data/ASAP/ISLES2018_Training/TRAINING/case_88/SMIR.Brain.XX.O.CT_4DPWI.346158/SMIR.Brain.XX.O.CT_4DPWI.346158.nii'},\n",
       " {'image': '/media/sebastian/data/ASAP/ISLES2018_Training/TRAINING/case_91/SMIR.Brain.XX.O.CT_4DPWI.346179/SMIR.Brain.XX.O.CT_4DPWI.346179.nii'},\n",
       " {'image': '/media/sebastian/data/ASAP/ISLES2018_Training/TRAINING/case_92/SMIR.Brain.XX.O.CT_4DPWI.346186/SMIR.Brain.XX.O.CT_4DPWI.346186.nii'},\n",
       " {'image': '/media/sebastian/data/ASAP/ISLES2018_Training/TRAINING/case_93/SMIR.Brain.XX.O.CT_4DPWI.346193/SMIR.Brain.XX.O.CT_4DPWI.346193.nii'}]"
      ]
     },
     "execution_count": 4,
     "metadata": {},
     "output_type": "execute_result"
    }
   ],
   "source": [
    "ctp_volumes_train"
   ]
  },
  {
   "cell_type": "code",
   "execution_count": 5,
   "id": "6f66ee9b",
   "metadata": {},
   "outputs": [
    {
     "data": {
      "text/plain": [
       "dict_keys(['346308', '346316', '346364', '346393', '346402', '346411', '346419', '346428', '346516', '346541', '346550', '346568', '346576', '346584', '346591', '346626', '346633', '346640', '346647', '346654', '346675', '346682', '346689', '346696', '346717', '346726', '346733', '346740', '346747', '346754', '346761', '346768', '346774', '346781', '346788', '346794', '346801', '346807', '346813', '346819', '345589', '345596', '345617', '345624', '345638', '345645', '345659', '345673', '339335', '339343', '345682', '345689', '345696', '345703', '345710', '345724', '345731', '345738', '345745', '345752', '345759', '345766', '345773', '345780', '345787', '345794', '345801', '345815', '345822', '345829', '345836', '345843', '345850', '345857', '345864', '345871', '345878', '345899', '345906', '345927', '345934', '345941', '345948', '345955', '345962', '345969', '345976', '345983', '346004', '346011', '346018', '346025', '346032', '346039', '346060', '346088', '346095', '346102', '346109', '346116', '346123', '346130', '346144', '346158', '346179', '346186', '346193'])"
      ]
     },
     "execution_count": 5,
     "metadata": {},
     "output_type": "execute_result"
    }
   ],
   "source": [
    "aif_annotations_train.keys()"
   ]
  },
  {
   "cell_type": "code",
   "execution_count": 6,
   "id": "9e8658f5",
   "metadata": {},
   "outputs": [],
   "source": [
    "train_datagen = ISLES18DataGen_aifvof_otf(ctp_volumes=ctp_volumes_train, annotations_aif=aif_annotations_train,\n",
    "                            annotations_vof = vof_annotations_train,\n",
    "                            minimum_number_volumes_ctp = min_num_volumes_ctp, batch_size=1,\n",
    "                                        time_arrival_augmentation = True)\n",
    "validation_datagen =  ISLES18DataGen_aifvof_otf(ctp_volumes=ctp_volumes_valid, annotations_aif=aif_annotations_valid,\n",
    "                            annotations_vof = vof_annotations_valid,\n",
    "                            minimum_number_volumes_ctp = min_num_volumes_ctp, batch_size=1,\n",
    "                                        time_arrival_augmentation = True)\n"
   ]
  },
  {
   "cell_type": "code",
   "execution_count": 7,
   "id": "29b9bc21",
   "metadata": {},
   "outputs": [],
   "source": [
    "example_id = 9\n",
    "sample_pct = train_datagen.__getitem__(example_id)\n",
    "pct_vals = sample_pct[0][0,:,:,:,:]\n",
    "\n",
    "aif = sample_pct[1][0].T\n",
    "vof = sample_pct[1][1].T"
   ]
  },
  {
   "cell_type": "code",
   "execution_count": 8,
   "id": "6e68d8f1",
   "metadata": {},
   "outputs": [
    {
     "data": {
      "text/plain": [
       "'/media/sebastian/data/ASAP/ISLES2018_Training/TESTING/case_23/SMIR.Brain.XX.O.CT_CBF.346544/SMIR.Brain.XX.O.CT_CBF.346544.nii'"
      ]
     },
     "execution_count": 8,
     "metadata": {},
     "output_type": "execute_result"
    }
   ],
   "source": [
    "path_case = '/'.join(train_datagen.ctp_volumes[example_id]['image'].split('/')[0:-2])\n",
    "path_cbf = glob.glob(path_case+\"/*CBF*/*nii\")[0]\n",
    "path_cbf"
   ]
  },
  {
   "cell_type": "code",
   "execution_count": 9,
   "id": "5bff8a31",
   "metadata": {},
   "outputs": [
    {
     "data": {
      "text/plain": [
       "Text(0, 0.5, 'Normalized Density (HU)')"
      ]
     },
     "execution_count": 9,
     "metadata": {},
     "output_type": "execute_result"
    },
    {
     "data": {
      "image/png": "[encoded data removed]",
      "text/plain": [
       "<Figure size 432x288 with 1 Axes>"
      ]
     },
     "metadata": {
      "needs_background": "light"
     },
     "output_type": "display_data"
    }
   ],
   "source": [
    "plt.title('AIF')        \n",
    "#y = normalize_zero_one(aif)\n",
    "#y_p = normalize_zero_one(vof)\n",
    "#plt.plot(mu_voi)\n",
    "#plt.plot(y_p)\n",
    "plt.plot(aif)\n",
    "plt.plot(vof)\n",
    "plt.legend([ 'AIF','VOF'])\n",
    "plt.xlabel('Time (s)')\n",
    "plt.ylabel('Normalized Density (HU)')\n"
   ]
  },
  {
   "cell_type": "code",
   "execution_count": 10,
   "id": "a53c5caa",
   "metadata": {},
   "outputs": [
    {
     "data": {
      "text/plain": [
       "array([0.        , 0.        , 0.        , 0.01329882, 0.02275987,\n",
       "       0.03290607, 0.04852693, 0.01673692, 0.07328068, 0.17082704,\n",
       "       0.24982066, 0.4191776 , 0.56368044, 0.69108278, 0.81669312,\n",
       "       0.90228855, 0.92825394, 0.93722209, 1.        , 0.88889917,\n",
       "       0.84658941, 0.82303576, 0.69142365, 0.66923292, 0.61323066,\n",
       "       0.53222242, 0.47580721, 0.38716423, 0.32211755, 0.28737318,\n",
       "       0.28397704, 0.24754318, 0.22296751, 0.21252973, 0.20306632,\n",
       "       0.19913538, 0.20432437, 0.20813181, 0.17342869, 0.19078389,\n",
       "       0.18740505, 0.16598165, 0.2033018 ])"
      ]
     },
     "execution_count": 10,
     "metadata": {},
     "output_type": "execute_result"
    }
   ],
   "source": [
    "aif"
   ]
  },
  {
   "cell_type": "code",
   "execution_count": 11,
   "id": "0f047012",
   "metadata": {},
   "outputs": [],
   "source": [
    "#inverse_aif_circular, S_circ = aif_inverse(circularA, number_of_truncated_values=9,epsilon=0.001)\n",
    "#CBFs_circular, residue_functions_circular = perform_deconvolution_circular(pct_vals,inverse_aif_circular)\n",
    "\n",
    "#estimated_cbf = plot_estimatedCBF_map(gt_cbf, CBFs_circular, gt_healty, selected_slice,normalize_healthy_tissue=True)\n",
    "#plt.imshow(estimated_cbf,cmap=plt.cm.jet, vmax=3.2)"
   ]
  },
  {
   "cell_type": "code",
   "execution_count": 16,
   "id": "0be5179a",
   "metadata": {},
   "outputs": [
    {
     "ename": "SyntaxError",
     "evalue": "invalid syntax (<ipython-input-16-06973b23eea9>, line 14)",
     "output_type": "error",
     "traceback": [
      "\u001b[0;36m  File \u001b[0;32m\"<ipython-input-16-06973b23eea9>\"\u001b[0;36m, line \u001b[0;32m14\u001b[0m\n\u001b[0;31m    for epsi in [0.001,0.0001,,0.00001]:\u001b[0m\n\u001b[0m                              ^\u001b[0m\n\u001b[0;31mSyntaxError\u001b[0m\u001b[0;31m:\u001b[0m invalid syntax\n"
     ]
    }
   ],
   "source": [
    "path_results_nibs = ROOT_EXP + '/results/nibs/'\n",
    "for example_id in range(len(train_datagen))[-20:]:    \n",
    "    sample_pct = train_datagen.__getitem__(example_id)\n",
    "    pct_vals = sample_pct[0][0,:,:,:,:]\n",
    "    num_slices = pct_vals.shape[2]\n",
    "    deconvolved_cbfs = np.zeros((pct_vals.shape[0],pct_vals.shape[1],pct_vals.shape[2])) #H-W-Slices\n",
    "    img_path = train_datagen.ctp_volumes[example_id]['image']\n",
    "    img_fname =img_path.split('/')\n",
    "    aif = sample_pct[1][0].T\n",
    "    vof = sample_pct[1][1].T\n",
    "    #A = build_deconv_A_matrix(aif)\n",
    "    A = build_circular_matrix_implicit(aif)\n",
    "    for number_of_trunc_vals in range(6,13):\n",
    "        for epsi in [0.001,0.0001,0.00001]:\n",
    "            start_time = time.perf_counter ()\n",
    "            nib_fname = path_results_nibs + img_fname[-1]+\"circ_eigen_\"+str(number_of_trunc_vals)+'_eps_'+str(epsi)+'_pred.nii.gz'\n",
    "            inverse_aif, S = aif_inverse(A,number_of_truncated_values=number_of_trunc_vals,epsilon=epsi)                \n",
    "            #CBFs, residue_functions = perform_deconvolution(pct_vals,inverse_aif)\n",
    "            CBFs, residue_functions = perform_deconvolution_circular(pct_vals,inverse_aif)\n",
    "            for selected_slice in range(num_slices):\n",
    "                gt_cbf = plot_cbf_map(train_datagen, selected_slice,example_id, return_array_only=True)\n",
    "                gt_healty = plot_tmax_map(train_datagen, selected_slice,example_id,return_array_only=True)                                \n",
    "                masked_CBF_slice = mask_CBF(gt_cbf, CBFs, selected_slice)\n",
    "                deconvolved_cbfs[:,:,selected_slice] = masked_CBF_slice            \n",
    "            save_nifti_from_array_and_referenceHeader(deconvolved_cbfs, img_path, nib_fname)\n",
    "            end_time = time.perf_counter ()\n",
    "            print(end_time - start_time, \" seconds to process \" + nib_fname.split('/')[-1])"
   ]
  },
  {
   "cell_type": "code",
   "execution_count": 20,
   "id": "aa2f1e8e",
   "metadata": {},
   "outputs": [
    {
     "data": {
      "text/plain": [
       "<matplotlib.image.AxesImage at 0x7f21b115cb50>"
      ]
     },
     "execution_count": 20,
     "metadata": {},
     "output_type": "execute_result"
    },
    {
     "data": {
      "image/png": "[encoded data removed]",
      "text/plain": [
       "<Figure size 432x288 with 1 Axes>"
      ]
     },
     "metadata": {
      "needs_background": "light"
     },
     "output_type": "display_data"
    }
   ],
   "source": [
    "plt.imshow(S)"
   ]
  },
  {
   "cell_type": "code",
   "execution_count": null,
   "id": "5183793e",
   "metadata": {},
   "outputs": [],
   "source": []
  },
  {
   "cell_type": "code",
   "execution_count": 13,
   "id": "4bcd6212",
   "metadata": {},
   "outputs": [
    {
     "ename": "NameError",
     "evalue": "name 'residue_functions_circular' is not defined",
     "output_type": "error",
     "traceback": [
      "\u001b[0;31m---------------------------------------------------------------------------\u001b[0m",
      "\u001b[0;31mNameError\u001b[0m                                 Traceback (most recent call last)",
      "\u001b[0;32m<ipython-input-13-2fb8dc53e707>\u001b[0m in \u001b[0;36m<module>\u001b[0;34m\u001b[0m\n\u001b[1;32m      2\u001b[0m \u001b[0mlocation_residue_1\u001b[0m \u001b[0;34m=\u001b[0m \u001b[0;34m(\u001b[0m\u001b[0;36m170\u001b[0m\u001b[0;34m,\u001b[0m\u001b[0;36m130\u001b[0m\u001b[0;34m)\u001b[0m\u001b[0;34m\u001b[0m\u001b[0;34m\u001b[0m\u001b[0m\n\u001b[1;32m      3\u001b[0m \u001b[0mlocation_residue_2\u001b[0m \u001b[0;34m=\u001b[0m \u001b[0;34m(\u001b[0m\u001b[0;36m90\u001b[0m\u001b[0;34m,\u001b[0m\u001b[0;36m150\u001b[0m\u001b[0;34m)\u001b[0m\u001b[0;34m\u001b[0m\u001b[0;34m\u001b[0m\u001b[0m\n\u001b[0;32m----> 4\u001b[0;31m \u001b[0mplt\u001b[0m\u001b[0;34m.\u001b[0m\u001b[0mplot\u001b[0m\u001b[0;34m(\u001b[0m\u001b[0mresidue_functions_circular\u001b[0m\u001b[0;34m[\u001b[0m\u001b[0mlocation_residue_1\u001b[0m\u001b[0;34m[\u001b[0m\u001b[0;36m0\u001b[0m\u001b[0;34m]\u001b[0m\u001b[0;34m,\u001b[0m\u001b[0mlocation_residue_1\u001b[0m\u001b[0;34m[\u001b[0m\u001b[0;36m1\u001b[0m\u001b[0;34m]\u001b[0m\u001b[0;34m,\u001b[0m\u001b[0mselected_slice\u001b[0m\u001b[0;34m,\u001b[0m\u001b[0;34m:\u001b[0m\u001b[0;34m]\u001b[0m\u001b[0;34m)\u001b[0m\u001b[0;34m\u001b[0m\u001b[0;34m\u001b[0m\u001b[0m\n\u001b[0m\u001b[1;32m      5\u001b[0m \u001b[0mplt\u001b[0m\u001b[0;34m.\u001b[0m\u001b[0mplot\u001b[0m\u001b[0;34m(\u001b[0m\u001b[0mresidue_functions_circular\u001b[0m\u001b[0;34m[\u001b[0m\u001b[0mlocation_residue_2\u001b[0m\u001b[0;34m[\u001b[0m\u001b[0;36m0\u001b[0m\u001b[0;34m]\u001b[0m\u001b[0;34m,\u001b[0m\u001b[0mlocation_residue_2\u001b[0m\u001b[0;34m[\u001b[0m\u001b[0;36m1\u001b[0m\u001b[0;34m]\u001b[0m\u001b[0;34m,\u001b[0m\u001b[0mselected_slice\u001b[0m\u001b[0;34m,\u001b[0m\u001b[0;34m:\u001b[0m\u001b[0;34m]\u001b[0m\u001b[0;34m)\u001b[0m\u001b[0;34m\u001b[0m\u001b[0;34m\u001b[0m\u001b[0m\n\u001b[1;32m      6\u001b[0m \u001b[0;34m\u001b[0m\u001b[0m\n",
      "\u001b[0;31mNameError\u001b[0m: name 'residue_functions_circular' is not defined"
     ]
    }
   ],
   "source": [
    "# Create figure and axes\n",
    "location_residue_1 = (170,130)\n",
    "location_residue_2 = (90,150)\n",
    "plt.plot(residue_functions_circular[location_residue_1[0],location_residue_1[1],selected_slice,:])\n",
    "plt.plot(residue_functions_circular[location_residue_2[0],location_residue_2[1],selected_slice,:])\n",
    "\n",
    "fig, ax = plt.subplots()\n",
    "\n",
    "# Display the image\n",
    "ax.imshow(estimated_cbf,cmap=plt.cm.jet, vmax=2.9)\n",
    "\n",
    "# Create a Rectangle patch\n",
    "rect1 = patches.Rectangle((location_residue_1[0], location_residue_1[1]), 10, 10, linewidth=5, edgecolor='r', facecolor='none')\n",
    "rect2 = patches.Rectangle((location_residue_2[0], location_residue_2[1]), 10, 10, linewidth=5, edgecolor='r', facecolor='none')\n",
    "\n",
    "# Add the patch to the Axes\n",
    "ax.add_patch(rect1)\n",
    "ax.add_patch(rect2)\n",
    "\n",
    "plt.show()"
   ]
  }
 ],
 "metadata": {
  "interpreter": {
   "hash": "aee8b7b246df8f9039afb4144a1f6fd8d2ca17a180786b69acc140d282b71a49"
  },
  "kernelspec": {
   "display_name": "Python 3",
   "language": "python",
   "name": "python3"
  },
  "language_info": {
   "codemirror_mode": {
    "name": "ipython",
    "version": 3
   },
   "file_extension": ".py",
   "mimetype": "text/x-python",
   "name": "python",
   "nbconvert_exporter": "python",
   "pygments_lexer": "ipython3",
   "version": "3.9.6"
  }
 },
 "nbformat": 4,
 "nbformat_minor": 5
}
