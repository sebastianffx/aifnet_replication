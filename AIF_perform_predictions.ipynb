{
 "cells": [
  {
   "cell_type": "code",
   "execution_count": 1,
   "source": [
    "import glob\n",
    "import scipy\n",
    "import os,sys\n",
    "import zipfile\n",
    "import numpy as np\n",
    "import nibabel as nib\n",
    "import tensorflow as tf\n",
    "from scipy import ndimage\n",
    "from tensorflow import keras\n",
    "from natsort import natsorted\n",
    "from tensorflow.keras import layers\n",
    "from tensorflow.keras.callbacks import ModelCheckpoint, TensorBoard\n",
    "from aifnet_utils.preprocess import read_nifti_file, normalize, normalize_aif, process_scan, normalize_zero_one\n",
    "from aifnet_utils.data_loaders import read_isles_volumepaths_from_file_otf, read_isles_annotations_from_file, ISLES18DataGen_aifvof_otf\n",
    "from aifnet_utils.data_loaders import delay_sequence_padding, anticipate_sequence_padding, late_bolus, early_bolus\n",
    "from aifnet_utils.results import plot_predictions\n",
    "from aifnet_utils.losses import MaxCorrelation\n",
    "from scipy import signal\n",
    "import tensorflow_probability as tfp\n",
    "import matplotlib.pyplot as plt\n",
    "from scipy.linalg import convolution_matrix, toeplitz, circulant\n",
    "from sklearn.linear_model import Ridge\n",
    "from matplotlib import pyplot, image, transforms\n",
    "from scipy import ndimage\n",
    "from aifnet_utils.models_aifnet import get_model_twoPvols, get_model_onehead\n",
    "from numpy import inf\n",
    "from aifnet_utils.results import plot_predictions\n",
    "\n",
    "import random\n",
    "keras.backend.set_image_data_format('channels_last')\n",
    "\n",
    "%matplotlib inline\n",
    "!pwd"
   ],
   "outputs": [
    {
     "output_type": "stream",
     "name": "stdout",
     "text": [
      "/Users/sebastianotalora/work/postdoc/ctp/aifnet_replication\n"
     ]
    }
   ],
   "metadata": {}
  },
  {
   "cell_type": "code",
   "execution_count": 2,
   "source": [
    "#Reading an example PCT volume\n",
    "LOCATION = 'LOCAL'\n",
    "if LOCATION == 'LOCAL':\n",
    "    ROOT_EXP = '/Users/sebastianotalora/work/postdoc/ctp/aifnet_replication/'\n",
    "    root_dir  = '/Users/sebastianotalora/work/postdoc/data/ISLES/'\n",
    "\n",
    "if LOCATION == 'INSEL':\n",
    "    ROOT_EXP = '/home/sebastian/experiments/aifnet_replication/'\n",
    "    root_dir  = '/media/sebastian/data/ASAP/ISLES2018_Training'\n",
    "\n",
    "aif_annotations_path = ROOT_EXP + 'radiologist_annotations.csv'"
   ],
   "outputs": [],
   "metadata": {}
  },
  {
   "cell_type": "code",
   "execution_count": 3,
   "source": [
    "min_num_volumes_ctp = 43"
   ],
   "outputs": [],
   "metadata": {}
  },
  {
   "cell_type": "code",
   "execution_count": 4,
   "source": [
    "last_trained_model_paths = glob.glob('/Users/sebastianotalora/work/postdoc/ctp/aifnet_replication/results/trained_models/results_mse_server/*')\n",
    "last_prefixes = []\n",
    "for item in last_trained_model_paths:\n",
    "    prefix_path = item.split('/')[-1].split('_fold')[0]\n",
    "    if prefix_path not in set(last_prefixes):\n",
    "        last_prefixes.append(prefix_path)\n",
    "print(len(last_prefixes))\n",
    "print(len(last_trained_model_paths))"
   ],
   "outputs": [
    {
     "output_type": "stream",
     "name": "stdout",
     "text": [
      "15\n",
      "75\n"
     ]
    }
   ],
   "metadata": {}
  },
  {
   "cell_type": "code",
   "execution_count": 5,
   "source": [
    "'============'"
   ],
   "outputs": [
    {
     "output_type": "execute_result",
     "data": {
      "text/plain": [
       "'============'"
      ]
     },
     "metadata": {},
     "execution_count": 5
    }
   ],
   "metadata": {}
  },
  {
   "cell_type": "code",
   "execution_count": 6,
   "source": [
    "model_prefix_meassures = []\n",
    "current_fold = 1\n",
    "prediction_meassures = []\n",
    "correlations_fold = []\n",
    "test_partition_path =  ROOT_EXP+'/partitions_cleaned/fold_'+str(current_fold) +'/test_v2.txt'\n",
    "model_prefix = last_prefixes[-1]\n",
    "\n",
    "\n",
    "aif_annotations_test, vof_annotations_test = read_isles_annotations_from_file(aif_annotations_path,  test_partition_path,\n",
    "                                        root_dir, min_num_volumes_ctp, return_aif_only = False)\n",
    "ctp_volumes_test = read_isles_volumepaths_from_file_otf(root_dir, test_partition_path, aif_annotations_path)\n",
    "print('======= PREDICTING USING '+ model_prefix +' FOR TEST PARTITION FOR THE FOLD ' + str(current_fold) + ' =======')\n",
    "print(len(ctp_volumes_test), len(aif_annotations_test))\n",
    "modelweights_path= ROOT_EXP + 'results/trained_models/results_mse_server/'+ model_prefix+'_fold_'+str(current_fold)+'.hdf5'\n",
    "model = get_model_onehead(width=256, height=256, num_channels=min_num_volumes_ctp)\n",
    "\n",
    "optimizer_aifnet = optimizer = keras.optimizers.SGD(learning_rate=0.598263) #keras.optimizers.Adam(learning_rate=initial_learning_rate)\n",
    "model.compile(\n",
    "    loss=['mse'],\n",
    "    optimizer=optimizer_aifnet,\n",
    "    metrics=['mae'])\n",
    "results_meassures, prediction_ids = [], []\n",
    "#model.load_weights('/Users/sebastianotalora/Downloads/aifnet_SGD_MSE_augment_lr0.007654_fold_1.hdf5')\n"
   ],
   "outputs": [
    {
     "output_type": "stream",
     "name": "stdout",
     "text": [
      "======= PREDICTING USING aifnet_SGD_MSE_augment_lr0.5982631366929673 FOR TEST PARTITION FOR THE FOLD 1 =======\n",
      "31 31\n"
     ]
    }
   ],
   "metadata": {}
  },
  {
   "cell_type": "code",
   "execution_count": 7,
   "source": [
    "last_prefixes[-1]"
   ],
   "outputs": [
    {
     "output_type": "execute_result",
     "data": {
      "text/plain": [
       "'aifnet_SGD_MSE_augment_lr0.5982631366929673'"
      ]
     },
     "metadata": {},
     "execution_count": 7
    }
   ],
   "metadata": {}
  },
  {
   "cell_type": "code",
   "execution_count": 8,
   "source": [
    "type_predictions = 'AIF'\n",
    "for case_number in range(len(ctp_volumes_test)):\n",
    "    case_id = ctp_volumes_test[case_number]['image'].split('.')[-2]\n",
    "    prediction_ids.append(case_id)\n",
    "    cur_nib = nib.load(ctp_volumes_test[case_number]['image'])\n",
    "    ctp_vals = cur_nib.get_fdata()\n",
    "    x = normalize(ctp_vals[:,:,:,0:min_num_volumes_ctp])\n",
    "    if type_predictions == 'AIF':\n",
    "        y = aif_annotations_test[case_id]\n",
    "    if type_predictions == 'VOF':\n",
    "        y = vof_annotations_test[case_id]\n",
    "    prefix_fig = ROOT_EXP + '/results/predictions_aif/'+modelweights_path.split('/')[-1]+'_case_'+str(case_id) + '_'+type_predictions\n",
    "    #print(prefix_fig)\n",
    "    gt,y_hat = plot_predictions(model,x,y, prefix_fig, normalize_preds=True, type_pred=type_predictions, savefig=False)\n",
    "    gt,y_hat = np.array(y.squeeze(),dtype='float64'), np.array(y_hat.squeeze(),dtype='float64')\n",
    "    gt,y_hat = y[np.newaxis,:].T, y_hat[np.newaxis,:].T\n",
    "    #print(gt.shape,y_hat.shape)\n",
    "    correlations_fold.append(np.abs(tfp.stats.correlation(gt,y_hat).numpy()))"
   ],
   "outputs": [],
   "metadata": {}
  },
  {
   "cell_type": "code",
   "execution_count": 10,
   "source": [
    "correlations_fold[0:10]"
   ],
   "outputs": [
    {
     "output_type": "execute_result",
     "data": {
      "text/plain": [
       "[array([[0.73307903]]),\n",
       " array([[0.55749539]]),\n",
       " array([[0.61681751]]),\n",
       " array([[0.74304771]]),\n",
       " array([[0.7060025]]),\n",
       " array([[0.67921105]]),\n",
       " array([[0.77168652]]),\n",
       " array([[0.6682661]]),\n",
       " array([[0.76377087]]),\n",
       " array([[0.60933716]])]"
      ]
     },
     "metadata": {},
     "execution_count": 10
    }
   ],
   "metadata": {}
  },
  {
   "cell_type": "code",
   "execution_count": 8,
   "source": [
    "plot_predictions(model,x,y, prefix_fig, normalize_preds=True, type_pred='AIF', savefig=True)\n"
   ],
   "outputs": [
    {
     "output_type": "stream",
     "name": "stdout",
     "text": [
      "(43,)\n"
     ]
    },
    {
     "output_type": "execute_result",
     "data": {
      "text/plain": [
       "(array([0.        , 0.0066041 , 0.0132082 , 0.0198123 , 0.02596143,\n",
       "        0.02360612, 0.02102619, 0.01637073, 0.01396947, 0.02450017,\n",
       "        0.03503089, 0.07416852, 0.12561193, 0.19313735, 0.26602344,\n",
       "        0.37089201, 0.48371722, 0.63827107, 0.80032453, 0.89954651,\n",
       "        0.98747619, 1.        , 0.99897164, 0.97609847, 0.9024435 ,\n",
       "        0.84166123, 0.80503348, 0.75482577, 0.68411493, 0.61587576,\n",
       "        0.55066715, 0.48545854, 0.42024994, 0.36458334, 0.32061613,\n",
       "        0.27664889, 0.23268165, 0.18871444, 0.16234732, 0.15033493,\n",
       "        0.13832253, 0.12631012, 0.11429773]),\n",
       " array([0.02172467, 0.05104896, 0.07333595, 0.08538923, 0.08774123,\n",
       "        0.08498197, 0.07972127, 0.05347756, 0.02178445, 0.01436604,\n",
       "        0.        , 0.00884007, 0.02703955, 0.03011265, 0.03014814,\n",
       "        0.062043  , 0.10263222, 0.20125726, 0.31391582, 0.4142689 ,\n",
       "        0.5109156 , 0.63073474, 0.75197744, 0.84336156, 0.8729978 ,\n",
       "        0.9063199 , 0.9435876 , 0.972712  , 1.        , 0.9876684 ,\n",
       "        0.9246446 , 0.86248946, 0.80141604, 0.7486036 , 0.7045228 ,\n",
       "        0.66087353, 0.61723363, 0.5730202 , 0.5401203 , 0.51614267,\n",
       "        0.4915429 , 0.46650788, 0.4426068 ], dtype=float32))"
      ]
     },
     "metadata": {},
     "execution_count": 8
    },
    {
     "output_type": "display_data",
     "data": {
      "image/png": "[encoded data removed]",
      "text/plain": [
       "<Figure size 432x288 with 1 Axes>"
      ]
     },
     "metadata": {
      "needs_background": "light"
     }
    }
   ],
   "metadata": {}
  },
  {
   "cell_type": "code",
   "execution_count": 70,
   "source": [
    "plt.plot(y)"
   ],
   "outputs": [
    {
     "output_type": "execute_result",
     "data": {
      "text/plain": [
       "[<matplotlib.lines.Line2D at 0x19fb96d00>]"
      ]
     },
     "metadata": {},
     "execution_count": 70
    },
    {
     "output_type": "display_data",
     "data": {
      "image/png": "[encoded data removed]",
      "text/plain": [
       "<Figure size 432x288 with 1 Axes>"
      ]
     },
     "metadata": {
      "needs_background": "light"
     }
    }
   ],
   "metadata": {}
  },
  {
   "cell_type": "code",
   "execution_count": 82,
   "source": [
    "pred = model.predict(np.expand_dims(ctp_vals[:,:,:,0:min_num_volumes_ctp], axis=0))\n",
    "plt.plot(pred[0])"
   ],
   "outputs": [
    {
     "output_type": "execute_result",
     "data": {
      "text/plain": [
       "[<matplotlib.lines.Line2D at 0x1a017ff70>]"
      ]
     },
     "metadata": {},
     "execution_count": 82
    },
    {
     "output_type": "display_data",
     "data": {
      "image/png": "[encoded data removed]",
      "text/plain": [
       "<Figure size 432x288 with 1 Axes>"
      ]
     },
     "metadata": {
      "needs_background": "light"
     }
    }
   ],
   "metadata": {}
  },
  {
   "cell_type": "code",
   "execution_count": 55,
   "source": [
    "'============'"
   ],
   "outputs": [
    {
     "output_type": "execute_result",
     "data": {
      "text/plain": [
       "'============'"
      ]
     },
     "metadata": {},
     "execution_count": 55
    }
   ],
   "metadata": {}
  },
  {
   "cell_type": "code",
   "execution_count": 50,
   "source": [
    "def compute_predictions_aif(model_prefix):\n",
    "    model_prefix_meassures = []\n",
    "    for current_fold in range(1,6):\n",
    "        prediction_meassures = []\n",
    "        correlations_fold = []\n",
    "        #Reading AIFs and VOFs for each of the partitions\n",
    "        test_partition_path =  ROOT_EXP+'/partitions_cleaned/fold_'+str(current_fold) +'/test_v2.txt'\n",
    "\n",
    "        aif_annotations_test, vof_annotations_test = read_isles_annotations_from_file(aif_annotations_path,  test_partition_path,\n",
    "                                                root_dir, min_num_volumes_ctp, return_aif_only = False)\n",
    "        ctp_volumes_test = read_isles_volumepaths_from_file_otf(root_dir, test_partition_path, aif_annotations_path)\n",
    "        print('======= PREDICTING USING '+ model_prefix +' FOR TEST PARTITION FOR THE FOLD ' + str(current_fold) + ' =======')\n",
    "        print(len(ctp_volumes_test), len(aif_annotations_test))\n",
    "        modelweights_path= ROOT_EXP + 'results/trained_models/results_mse_server/'+ model_prefix+'_fold_'+str(current_fold)+'.hdf5'\n",
    "        model = get_model_onehead(width=256, height=256, num_channels=min_num_volumes_ctp)\n",
    "        model.load_weights(modelweights_path)\n",
    "        results_meassures, prediction_ids = [], []\n",
    "        for case_number in range(len(ctp_volumes_test)):\n",
    "            case_id = ctp_volumes_test[case_number]['image'].split('.')[-2]\n",
    "            prediction_ids.append(case_id)\n",
    "            cur_nib = nib.load(ctp_volumes_test[case_number]['image'])\n",
    "            ctp_vals = cur_nib.get_fdata()\n",
    "            x = normalize(ctp_vals[:,:,:,0:min_num_volumes_ctp])\n",
    "            if type_predictions == 'AIF':\n",
    "                y = aif_annotations_test[case_id]\n",
    "            if type_predictions == 'VOF':\n",
    "                y = vof_annotations_test[case_id]\n",
    "            prefix_fig = ROOT_EXP + '/results/predictions_aif/'+modelweights_path.split('/')[-1]+'_case_'+str(case_id) + '_'+type_predictions\n",
    "            \n",
    "            y,y_hat = plot_predictions(model,x,y, prefix_fig, normalize_preds=True, type_pred=type_predictions, savefig=True)\n",
    "            y,y_hat = np.array(y.squeeze(),dtype='float64'), np.array(y_hat.squeeze(),dtype='float64')\n",
    "            y,y_hat = y[np.newaxis,:].T, y_hat[np.newaxis,:].T\n",
    "            correlations_fold.append(np.abs(tfp.stats.correlation(y,y_hat).numpy()))\n",
    "            #correlations_fold.append(person_corr(np.array(results_meassures)[:,1],np.array(results_meassures)[:,0]))\n",
    "        #preds_fold = preds_fold.numpy()\n",
    "        correlations_fold = np.array(correlations_fold)\n",
    "        prediction_meassures.append([correlations_fold.mean(),correlations_fold.std(),correlations_fold.var()])\n",
    "        model_prefix_meassures.append(prediction_meassures)\n",
    "        np.savetxt('results/'+model_prefix+'pearson_fold_'+str(current_fold)+'.csv', prediction_meassures[-1], delimiter=',',fmt='%1.5f')\n",
    "        #np.savetxt('results/'+model_prefix+'allpreds_fold_'+str(current_fold)+'.csv', np.array(results_meassures)[:,1,:], delimiter=',',fmt='%1.5f')\n",
    "\n",
    "        #test_ids_file=open('results/'+model_prefix+'pred_ids_fold_'+str(current_fold)+'.csv','w')\n",
    "        #for element in prediction_ids:        \n",
    "        #    test_ids_file.write(element+'\\n')\n",
    "        #test_ids_file.close()\n",
    "    model_prefix_meassures = np.array(model_prefix_meassures)\n",
    "    np.savetxt('results/'+model_prefix+'pearson_ALLFOLDS.csv', model_prefix_meassures.mean(axis=0), delimiter=',',fmt='%1.5f')\n",
    "    return model_prefix_meassures.mean(axis=0)"
   ],
   "outputs": [],
   "metadata": {}
  },
  {
   "cell_type": "code",
   "execution_count": 7,
   "source": [
    "last_trained_model_paths = glob.glob('/Users/sebastianotalora/work/postdoc/ctp/aifnet_replication/results/trained_models/results_mse_server/*')\n",
    "last_prefixes = []\n",
    "for item in last_trained_model_paths:\n",
    "    prefix_path = item.split('/')[-1].split('_fold')[0]\n",
    "    if prefix_path not in set(last_prefixes):\n",
    "        last_prefixes.append(prefix_path)\n",
    "print(len(last_prefixes))\n",
    "print(len(last_trained_model_paths))"
   ],
   "outputs": [
    {
     "output_type": "stream",
     "name": "stdout",
     "text": [
      "15\n",
      "75\n"
     ]
    }
   ],
   "metadata": {}
  },
  {
   "cell_type": "code",
   "execution_count": 8,
   "source": [
    "last_prefixes"
   ],
   "outputs": [
    {
     "output_type": "execute_result",
     "data": {
      "text/plain": [
       "['aifnet_SGD_MSE_augment_lr0.21397559111171494',\n",
       " 'aifnet_SGD_MSE_augment_lr0.5070169946257792',\n",
       " 'aifnet_SGD_MSE_augment_lr0.0005511768378004296',\n",
       " 'aifnet_SGD_MSE_augment_lr1.821509065478691e-05',\n",
       " 'aifnet_SGD_MSE_augment_lr0.29968324449051986',\n",
       " 'aifnet_SGD_MSE_augment_lr1.2049654405529787e-05',\n",
       " 'aifnet_SGD_MSE_augment_lr0.9761754427642992',\n",
       " 'aifnet_SGD_MSE_augment_lr0.4039920764240872',\n",
       " 'aifnet_SGD_MSE_augment_lr0.11259303934408127',\n",
       " 'aifnet_SGD_MSE_augment_lr0.2303653154419837',\n",
       " 'aifnet_SGD_MSE_augment_lr0.04243872701333451',\n",
       " 'aifnet_SGD_MSE_augment_lr0.6854435962274008',\n",
       " 'aifnet_SGD_MSE_augment_lr0.48226729790413747',\n",
       " 'aifnet_SGD_MSE_augment_lr0.00492391140812807',\n",
       " 'aifnet_SGD_MSE_augment_lr0.5982631366929673']"
      ]
     },
     "metadata": {},
     "execution_count": 8
    }
   ],
   "metadata": {}
  },
  {
   "cell_type": "code",
   "execution_count": 14,
   "source": [
    "def pearson_corr(y,y_hat):\n",
    "    pearson_numerator = np.sum((y-np.average(y))*(y_hat-np.average(y_hat)))\n",
    "    pearson_denominator = np.sqrt(np.sum(np.square(y-np.average(y)))) *np.sqrt(np.sum(np.square(y_hat-np.average(y_hat))))\n",
    "    pearson_correlation = np.abs(pearson_numerator/pearson_denominator)\n",
    "    return pearson_correlation"
   ],
   "outputs": [],
   "metadata": {}
  },
  {
   "cell_type": "code",
   "execution_count": 53,
   "source": [
    "type_predictions = 'AIF'\n",
    "all_results = []\n",
    "for model_prefix in last_prefixes:\n",
    "    #print(compute_predictions_aif(model_prefix))\n",
    "    results_meassures = compute_predictions_aif(model_prefix)\n",
    "    all_results.append(results_meassures)"
   ],
   "outputs": [
    {
     "output_type": "stream",
     "name": "stdout",
     "text": [
      "======= PREDICTING USING aifnet_SGD_MSE_augment_lr0.21397559111171494 FOR TEST PARTITION FOR THE FOLD 1 =======\n",
      "31 31\n",
      "======= PREDICTING USING aifnet_SGD_MSE_augment_lr0.21397559111171494 FOR TEST PARTITION FOR THE FOLD 2 =======\n",
      "29 29\n",
      "======= PREDICTING USING aifnet_SGD_MSE_augment_lr0.21397559111171494 FOR TEST PARTITION FOR THE FOLD 3 =======\n",
      "32 32\n",
      "======= PREDICTING USING aifnet_SGD_MSE_augment_lr0.21397559111171494 FOR TEST PARTITION FOR THE FOLD 4 =======\n",
      "34 34\n",
      "======= PREDICTING USING aifnet_SGD_MSE_augment_lr0.21397559111171494 FOR TEST PARTITION FOR THE FOLD 5 =======\n",
      "28 28\n",
      "======= PREDICTING USING aifnet_SGD_MSE_augment_lr0.5070169946257792 FOR TEST PARTITION FOR THE FOLD 1 =======\n",
      "31 31\n",
      "======= PREDICTING USING aifnet_SGD_MSE_augment_lr0.5070169946257792 FOR TEST PARTITION FOR THE FOLD 2 =======\n",
      "29 29\n",
      "======= PREDICTING USING aifnet_SGD_MSE_augment_lr0.5070169946257792 FOR TEST PARTITION FOR THE FOLD 3 =======\n",
      "32 32\n",
      "======= PREDICTING USING aifnet_SGD_MSE_augment_lr0.5070169946257792 FOR TEST PARTITION FOR THE FOLD 4 =======\n",
      "34 34\n",
      "======= PREDICTING USING aifnet_SGD_MSE_augment_lr0.5070169946257792 FOR TEST PARTITION FOR THE FOLD 5 =======\n",
      "28 28\n",
      "======= PREDICTING USING aifnet_SGD_MSE_augment_lr0.0005511768378004296 FOR TEST PARTITION FOR THE FOLD 1 =======\n",
      "31 31\n",
      "======= PREDICTING USING aifnet_SGD_MSE_augment_lr0.0005511768378004296 FOR TEST PARTITION FOR THE FOLD 2 =======\n",
      "29 29\n",
      "======= PREDICTING USING aifnet_SGD_MSE_augment_lr0.0005511768378004296 FOR TEST PARTITION FOR THE FOLD 3 =======\n",
      "32 32\n",
      "======= PREDICTING USING aifnet_SGD_MSE_augment_lr0.0005511768378004296 FOR TEST PARTITION FOR THE FOLD 4 =======\n",
      "34 34\n",
      "======= PREDICTING USING aifnet_SGD_MSE_augment_lr0.0005511768378004296 FOR TEST PARTITION FOR THE FOLD 5 =======\n",
      "28 28\n",
      "======= PREDICTING USING aifnet_SGD_MSE_augment_lr1.821509065478691e-05 FOR TEST PARTITION FOR THE FOLD 1 =======\n",
      "31 31\n",
      "======= PREDICTING USING aifnet_SGD_MSE_augment_lr1.821509065478691e-05 FOR TEST PARTITION FOR THE FOLD 2 =======\n",
      "29 29\n",
      "======= PREDICTING USING aifnet_SGD_MSE_augment_lr1.821509065478691e-05 FOR TEST PARTITION FOR THE FOLD 3 =======\n",
      "32 32\n",
      "======= PREDICTING USING aifnet_SGD_MSE_augment_lr1.821509065478691e-05 FOR TEST PARTITION FOR THE FOLD 4 =======\n",
      "34 34\n",
      "======= PREDICTING USING aifnet_SGD_MSE_augment_lr1.821509065478691e-05 FOR TEST PARTITION FOR THE FOLD 5 =======\n",
      "28 28\n",
      "======= PREDICTING USING aifnet_SGD_MSE_augment_lr0.29968324449051986 FOR TEST PARTITION FOR THE FOLD 1 =======\n",
      "31 31\n",
      "======= PREDICTING USING aifnet_SGD_MSE_augment_lr0.29968324449051986 FOR TEST PARTITION FOR THE FOLD 2 =======\n",
      "29 29\n",
      "======= PREDICTING USING aifnet_SGD_MSE_augment_lr0.29968324449051986 FOR TEST PARTITION FOR THE FOLD 3 =======\n",
      "32 32\n"
     ]
    },
    {
     "output_type": "error",
     "ename": "KeyboardInterrupt",
     "evalue": "",
     "traceback": [
      "\u001b[0;31m---------------------------------------------------------------------------\u001b[0m",
      "\u001b[0;31mKeyboardInterrupt\u001b[0m                         Traceback (most recent call last)",
      "\u001b[0;32m<ipython-input-53-9acf6516ae13>\u001b[0m in \u001b[0;36m<module>\u001b[0;34m\u001b[0m\n\u001b[1;32m      3\u001b[0m \u001b[0;32mfor\u001b[0m \u001b[0mmodel_prefix\u001b[0m \u001b[0;32min\u001b[0m \u001b[0mlast_prefixes\u001b[0m\u001b[0;34m:\u001b[0m\u001b[0;34m\u001b[0m\u001b[0;34m\u001b[0m\u001b[0m\n\u001b[1;32m      4\u001b[0m     \u001b[0;31m#print(compute_predictions_aif(model_prefix))\u001b[0m\u001b[0;34m\u001b[0m\u001b[0;34m\u001b[0m\u001b[0;34m\u001b[0m\u001b[0m\n\u001b[0;32m----> 5\u001b[0;31m     \u001b[0mresults_meassures\u001b[0m \u001b[0;34m=\u001b[0m \u001b[0mcompute_predictions_aif\u001b[0m\u001b[0;34m(\u001b[0m\u001b[0mmodel_prefix\u001b[0m\u001b[0;34m)\u001b[0m\u001b[0;34m\u001b[0m\u001b[0;34m\u001b[0m\u001b[0m\n\u001b[0m\u001b[1;32m      6\u001b[0m     \u001b[0mall_results\u001b[0m\u001b[0;34m.\u001b[0m\u001b[0mappend\u001b[0m\u001b[0;34m(\u001b[0m\u001b[0mresults_meassures\u001b[0m\u001b[0;34m)\u001b[0m\u001b[0;34m\u001b[0m\u001b[0;34m\u001b[0m\u001b[0m\n",
      "\u001b[0;32m<ipython-input-50-71dd9ed9163a>\u001b[0m in \u001b[0;36mcompute_predictions_aif\u001b[0;34m(model_prefix)\u001b[0m\n\u001b[1;32m     21\u001b[0m             \u001b[0mcur_nib\u001b[0m \u001b[0;34m=\u001b[0m \u001b[0mnib\u001b[0m\u001b[0;34m.\u001b[0m\u001b[0mload\u001b[0m\u001b[0;34m(\u001b[0m\u001b[0mctp_volumes_test\u001b[0m\u001b[0;34m[\u001b[0m\u001b[0mcase_number\u001b[0m\u001b[0;34m]\u001b[0m\u001b[0;34m[\u001b[0m\u001b[0;34m'image'\u001b[0m\u001b[0;34m]\u001b[0m\u001b[0;34m)\u001b[0m\u001b[0;34m\u001b[0m\u001b[0;34m\u001b[0m\u001b[0m\n\u001b[1;32m     22\u001b[0m             \u001b[0mctp_vals\u001b[0m \u001b[0;34m=\u001b[0m \u001b[0mcur_nib\u001b[0m\u001b[0;34m.\u001b[0m\u001b[0mget_fdata\u001b[0m\u001b[0;34m(\u001b[0m\u001b[0;34m)\u001b[0m\u001b[0;34m\u001b[0m\u001b[0;34m\u001b[0m\u001b[0m\n\u001b[0;32m---> 23\u001b[0;31m             \u001b[0mx\u001b[0m \u001b[0;34m=\u001b[0m \u001b[0mnormalize\u001b[0m\u001b[0;34m(\u001b[0m\u001b[0mctp_vals\u001b[0m\u001b[0;34m[\u001b[0m\u001b[0;34m:\u001b[0m\u001b[0;34m,\u001b[0m\u001b[0;34m:\u001b[0m\u001b[0;34m,\u001b[0m\u001b[0;34m:\u001b[0m\u001b[0;34m,\u001b[0m\u001b[0;36m0\u001b[0m\u001b[0;34m:\u001b[0m\u001b[0mmin_num_volumes_ctp\u001b[0m\u001b[0;34m]\u001b[0m\u001b[0;34m)\u001b[0m\u001b[0;34m\u001b[0m\u001b[0;34m\u001b[0m\u001b[0m\n\u001b[0m\u001b[1;32m     24\u001b[0m             \u001b[0;32mif\u001b[0m \u001b[0mtype_predictions\u001b[0m \u001b[0;34m==\u001b[0m \u001b[0;34m'AIF'\u001b[0m\u001b[0;34m:\u001b[0m\u001b[0;34m\u001b[0m\u001b[0;34m\u001b[0m\u001b[0m\n\u001b[1;32m     25\u001b[0m                 \u001b[0my\u001b[0m \u001b[0;34m=\u001b[0m \u001b[0maif_annotations_test\u001b[0m\u001b[0;34m[\u001b[0m\u001b[0mcase_id\u001b[0m\u001b[0;34m]\u001b[0m\u001b[0;34m\u001b[0m\u001b[0;34m\u001b[0m\u001b[0m\n",
      "\u001b[0;32m~/work/postdoc/ctp/aifnet_replication/aifnet_utils/preprocess.py\u001b[0m in \u001b[0;36mnormalize\u001b[0;34m(volume)\u001b[0m\n\u001b[1;32m     14\u001b[0m     \u001b[0mmin\u001b[0m \u001b[0;34m=\u001b[0m \u001b[0;36m0\u001b[0m\u001b[0;34m\u001b[0m\u001b[0;34m\u001b[0m\u001b[0m\n\u001b[1;32m     15\u001b[0m     \u001b[0mmax\u001b[0m \u001b[0;34m=\u001b[0m   \u001b[0;36m400\u001b[0m \u001b[0;31m#Check this with Richard or Roland\u001b[0m\u001b[0;34m\u001b[0m\u001b[0;34m\u001b[0m\u001b[0m\n\u001b[0;32m---> 16\u001b[0;31m     \u001b[0mvolume\u001b[0m\u001b[0;34m[\u001b[0m\u001b[0mvolume\u001b[0m \u001b[0;34m<\u001b[0m \u001b[0mmin\u001b[0m\u001b[0;34m]\u001b[0m \u001b[0;34m=\u001b[0m \u001b[0mmin\u001b[0m\u001b[0;34m\u001b[0m\u001b[0;34m\u001b[0m\u001b[0m\n\u001b[0m\u001b[1;32m     17\u001b[0m     \u001b[0mvolume\u001b[0m\u001b[0;34m[\u001b[0m\u001b[0mvolume\u001b[0m \u001b[0;34m>\u001b[0m \u001b[0mmax\u001b[0m\u001b[0;34m]\u001b[0m \u001b[0;34m=\u001b[0m \u001b[0mmax\u001b[0m\u001b[0;34m\u001b[0m\u001b[0;34m\u001b[0m\u001b[0m\n\u001b[1;32m     18\u001b[0m     \u001b[0mvolume\u001b[0m \u001b[0;34m=\u001b[0m \u001b[0;34m(\u001b[0m\u001b[0mvolume\u001b[0m \u001b[0;34m-\u001b[0m \u001b[0mmin\u001b[0m\u001b[0;34m)\u001b[0m \u001b[0;34m/\u001b[0m \u001b[0;34m(\u001b[0m\u001b[0mmax\u001b[0m \u001b[0;34m-\u001b[0m \u001b[0mmin\u001b[0m\u001b[0;34m)\u001b[0m\u001b[0;34m\u001b[0m\u001b[0;34m\u001b[0m\u001b[0m\n",
      "\u001b[0;31mKeyboardInterrupt\u001b[0m: "
     ]
    }
   ],
   "metadata": {}
  },
  {
   "cell_type": "code",
   "execution_count": 18,
   "source": [
    "modelweights_path= ROOT_EXP + 'results/trained_models/aifnet_SGD_MAXCORR_augment_lr/'+ model_prefix+'_fold_'+str(1)+'.hdf5'\n",
    "model = get_model_onehead(width=256, height=256, num_channels=min_num_volumes_ctp)\n",
    "model.load_weights(modelweights_path)\n",
    "y = np.ones(43)\n",
    "prefix_fig = ROOT_EXP + '/results/predictions_aif/'+modelweights_path.split('/')[-1]+'_case_'+str(1) + '_'+'AIF'\n",
    "\n",
    "o1,o2 = plot_predictions(model,np.random.rand(256,256,5,43),y, prefix_fig, normalize_preds=True, type_pred=type_predictions, savefig=True)"
   ],
   "outputs": [
    {
     "output_type": "error",
     "ename": "OSError",
     "evalue": "Unable to open file (unable to open file: name = '/Users/sebastianotalora/work/postdoc/ctp/aifnet_replication/results/trained_models/aifnet_SGD_MAXCORR_augment_lr/aifnet_SGD_MSE_augment_lr0.21397559111171494_fold_1.hdf5', errno = 2, error message = 'No such file or directory', flags = 0, o_flags = 0)",
     "traceback": [
      "\u001b[0;31m---------------------------------------------------------------------------\u001b[0m",
      "\u001b[0;31mOSError\u001b[0m                                   Traceback (most recent call last)",
      "\u001b[0;32m<ipython-input-18-b6d388da5841>\u001b[0m in \u001b[0;36m<module>\u001b[0;34m\u001b[0m\n\u001b[1;32m      1\u001b[0m \u001b[0mmodelweights_path\u001b[0m\u001b[0;34m=\u001b[0m \u001b[0mROOT_EXP\u001b[0m \u001b[0;34m+\u001b[0m \u001b[0;34m'results/trained_models/aifnet_SGD_MAXCORR_augment_lr/'\u001b[0m\u001b[0;34m+\u001b[0m \u001b[0mmodel_prefix\u001b[0m\u001b[0;34m+\u001b[0m\u001b[0;34m'_fold_'\u001b[0m\u001b[0;34m+\u001b[0m\u001b[0mstr\u001b[0m\u001b[0;34m(\u001b[0m\u001b[0;36m1\u001b[0m\u001b[0;34m)\u001b[0m\u001b[0;34m+\u001b[0m\u001b[0;34m'.hdf5'\u001b[0m\u001b[0;34m\u001b[0m\u001b[0;34m\u001b[0m\u001b[0m\n\u001b[1;32m      2\u001b[0m \u001b[0mmodel\u001b[0m \u001b[0;34m=\u001b[0m \u001b[0mget_model_onehead\u001b[0m\u001b[0;34m(\u001b[0m\u001b[0mwidth\u001b[0m\u001b[0;34m=\u001b[0m\u001b[0;36m256\u001b[0m\u001b[0;34m,\u001b[0m \u001b[0mheight\u001b[0m\u001b[0;34m=\u001b[0m\u001b[0;36m256\u001b[0m\u001b[0;34m,\u001b[0m \u001b[0mnum_channels\u001b[0m\u001b[0;34m=\u001b[0m\u001b[0mmin_num_volumes_ctp\u001b[0m\u001b[0;34m)\u001b[0m\u001b[0;34m\u001b[0m\u001b[0;34m\u001b[0m\u001b[0m\n\u001b[0;32m----> 3\u001b[0;31m \u001b[0mmodel\u001b[0m\u001b[0;34m.\u001b[0m\u001b[0mload_weights\u001b[0m\u001b[0;34m(\u001b[0m\u001b[0mmodelweights_path\u001b[0m\u001b[0;34m)\u001b[0m\u001b[0;34m\u001b[0m\u001b[0;34m\u001b[0m\u001b[0m\n\u001b[0m\u001b[1;32m      4\u001b[0m \u001b[0my\u001b[0m \u001b[0;34m=\u001b[0m \u001b[0mnp\u001b[0m\u001b[0;34m.\u001b[0m\u001b[0mones\u001b[0m\u001b[0;34m(\u001b[0m\u001b[0;36m43\u001b[0m\u001b[0;34m)\u001b[0m\u001b[0;34m\u001b[0m\u001b[0;34m\u001b[0m\u001b[0m\n\u001b[1;32m      5\u001b[0m \u001b[0mprefix_fig\u001b[0m \u001b[0;34m=\u001b[0m \u001b[0mROOT_EXP\u001b[0m \u001b[0;34m+\u001b[0m \u001b[0;34m'/results/predictions_aif/'\u001b[0m\u001b[0;34m+\u001b[0m\u001b[0mmodelweights_path\u001b[0m\u001b[0;34m.\u001b[0m\u001b[0msplit\u001b[0m\u001b[0;34m(\u001b[0m\u001b[0;34m'/'\u001b[0m\u001b[0;34m)\u001b[0m\u001b[0;34m[\u001b[0m\u001b[0;34m-\u001b[0m\u001b[0;36m1\u001b[0m\u001b[0;34m]\u001b[0m\u001b[0;34m+\u001b[0m\u001b[0;34m'_case_'\u001b[0m\u001b[0;34m+\u001b[0m\u001b[0mstr\u001b[0m\u001b[0;34m(\u001b[0m\u001b[0;36m1\u001b[0m\u001b[0;34m)\u001b[0m \u001b[0;34m+\u001b[0m \u001b[0;34m'_'\u001b[0m\u001b[0;34m+\u001b[0m\u001b[0;34m'AIF'\u001b[0m\u001b[0;34m\u001b[0m\u001b[0;34m\u001b[0m\u001b[0m\n",
      "\u001b[0;32m/usr/local/lib/python3.9/site-packages/tensorflow/python/keras/engine/training.py\u001b[0m in \u001b[0;36mload_weights\u001b[0;34m(self, filepath, by_name, skip_mismatch, options)\u001b[0m\n\u001b[1;32m   2317\u001b[0m           'first, then load the weights.')\n\u001b[1;32m   2318\u001b[0m     \u001b[0mself\u001b[0m\u001b[0;34m.\u001b[0m\u001b[0m_assert_weights_created\u001b[0m\u001b[0;34m(\u001b[0m\u001b[0;34m)\u001b[0m\u001b[0;34m\u001b[0m\u001b[0;34m\u001b[0m\u001b[0m\n\u001b[0;32m-> 2319\u001b[0;31m     \u001b[0;32mwith\u001b[0m \u001b[0mh5py\u001b[0m\u001b[0;34m.\u001b[0m\u001b[0mFile\u001b[0m\u001b[0;34m(\u001b[0m\u001b[0mfilepath\u001b[0m\u001b[0;34m,\u001b[0m \u001b[0;34m'r'\u001b[0m\u001b[0;34m)\u001b[0m \u001b[0;32mas\u001b[0m \u001b[0mf\u001b[0m\u001b[0;34m:\u001b[0m\u001b[0;34m\u001b[0m\u001b[0;34m\u001b[0m\u001b[0m\n\u001b[0m\u001b[1;32m   2320\u001b[0m       \u001b[0;32mif\u001b[0m \u001b[0;34m'layer_names'\u001b[0m \u001b[0;32mnot\u001b[0m \u001b[0;32min\u001b[0m \u001b[0mf\u001b[0m\u001b[0;34m.\u001b[0m\u001b[0mattrs\u001b[0m \u001b[0;32mand\u001b[0m \u001b[0;34m'model_weights'\u001b[0m \u001b[0;32min\u001b[0m \u001b[0mf\u001b[0m\u001b[0;34m:\u001b[0m\u001b[0;34m\u001b[0m\u001b[0;34m\u001b[0m\u001b[0m\n\u001b[1;32m   2321\u001b[0m         \u001b[0mf\u001b[0m \u001b[0;34m=\u001b[0m \u001b[0mf\u001b[0m\u001b[0;34m[\u001b[0m\u001b[0;34m'model_weights'\u001b[0m\u001b[0;34m]\u001b[0m\u001b[0;34m\u001b[0m\u001b[0;34m\u001b[0m\u001b[0m\n",
      "\u001b[0;32m/usr/local/lib/python3.9/site-packages/h5py/_hl/files.py\u001b[0m in \u001b[0;36m__init__\u001b[0;34m(self, name, mode, driver, libver, userblock_size, swmr, rdcc_nslots, rdcc_nbytes, rdcc_w0, track_order, fs_strategy, fs_persist, fs_threshold, **kwds)\u001b[0m\n\u001b[1;32m    422\u001b[0m             \u001b[0;32mwith\u001b[0m \u001b[0mphil\u001b[0m\u001b[0;34m:\u001b[0m\u001b[0;34m\u001b[0m\u001b[0;34m\u001b[0m\u001b[0m\n\u001b[1;32m    423\u001b[0m                 \u001b[0mfapl\u001b[0m \u001b[0;34m=\u001b[0m \u001b[0mmake_fapl\u001b[0m\u001b[0;34m(\u001b[0m\u001b[0mdriver\u001b[0m\u001b[0;34m,\u001b[0m \u001b[0mlibver\u001b[0m\u001b[0;34m,\u001b[0m \u001b[0mrdcc_nslots\u001b[0m\u001b[0;34m,\u001b[0m \u001b[0mrdcc_nbytes\u001b[0m\u001b[0;34m,\u001b[0m \u001b[0mrdcc_w0\u001b[0m\u001b[0;34m,\u001b[0m \u001b[0;34m**\u001b[0m\u001b[0mkwds\u001b[0m\u001b[0;34m)\u001b[0m\u001b[0;34m\u001b[0m\u001b[0;34m\u001b[0m\u001b[0m\n\u001b[0;32m--> 424\u001b[0;31m                 fid = make_fid(name, mode, userblock_size,\n\u001b[0m\u001b[1;32m    425\u001b[0m                                fapl, fcpl=make_fcpl(track_order=track_order, fs_strategy=fs_strategy,\n\u001b[1;32m    426\u001b[0m                                fs_persist=fs_persist, fs_threshold=fs_threshold),\n",
      "\u001b[0;32m/usr/local/lib/python3.9/site-packages/h5py/_hl/files.py\u001b[0m in \u001b[0;36mmake_fid\u001b[0;34m(name, mode, userblock_size, fapl, fcpl, swmr)\u001b[0m\n\u001b[1;32m    188\u001b[0m         \u001b[0;32mif\u001b[0m \u001b[0mswmr\u001b[0m \u001b[0;32mand\u001b[0m \u001b[0mswmr_support\u001b[0m\u001b[0;34m:\u001b[0m\u001b[0;34m\u001b[0m\u001b[0;34m\u001b[0m\u001b[0m\n\u001b[1;32m    189\u001b[0m             \u001b[0mflags\u001b[0m \u001b[0;34m|=\u001b[0m \u001b[0mh5f\u001b[0m\u001b[0;34m.\u001b[0m\u001b[0mACC_SWMR_READ\u001b[0m\u001b[0;34m\u001b[0m\u001b[0;34m\u001b[0m\u001b[0m\n\u001b[0;32m--> 190\u001b[0;31m         \u001b[0mfid\u001b[0m \u001b[0;34m=\u001b[0m \u001b[0mh5f\u001b[0m\u001b[0;34m.\u001b[0m\u001b[0mopen\u001b[0m\u001b[0;34m(\u001b[0m\u001b[0mname\u001b[0m\u001b[0;34m,\u001b[0m \u001b[0mflags\u001b[0m\u001b[0;34m,\u001b[0m \u001b[0mfapl\u001b[0m\u001b[0;34m=\u001b[0m\u001b[0mfapl\u001b[0m\u001b[0;34m)\u001b[0m\u001b[0;34m\u001b[0m\u001b[0;34m\u001b[0m\u001b[0m\n\u001b[0m\u001b[1;32m    191\u001b[0m     \u001b[0;32melif\u001b[0m \u001b[0mmode\u001b[0m \u001b[0;34m==\u001b[0m \u001b[0;34m'r+'\u001b[0m\u001b[0;34m:\u001b[0m\u001b[0;34m\u001b[0m\u001b[0;34m\u001b[0m\u001b[0m\n\u001b[1;32m    192\u001b[0m         \u001b[0mfid\u001b[0m \u001b[0;34m=\u001b[0m \u001b[0mh5f\u001b[0m\u001b[0;34m.\u001b[0m\u001b[0mopen\u001b[0m\u001b[0;34m(\u001b[0m\u001b[0mname\u001b[0m\u001b[0;34m,\u001b[0m \u001b[0mh5f\u001b[0m\u001b[0;34m.\u001b[0m\u001b[0mACC_RDWR\u001b[0m\u001b[0;34m,\u001b[0m \u001b[0mfapl\u001b[0m\u001b[0;34m=\u001b[0m\u001b[0mfapl\u001b[0m\u001b[0;34m)\u001b[0m\u001b[0;34m\u001b[0m\u001b[0;34m\u001b[0m\u001b[0m\n",
      "\u001b[0;32mh5py/_objects.pyx\u001b[0m in \u001b[0;36mh5py._objects.with_phil.wrapper\u001b[0;34m()\u001b[0m\n",
      "\u001b[0;32mh5py/_objects.pyx\u001b[0m in \u001b[0;36mh5py._objects.with_phil.wrapper\u001b[0;34m()\u001b[0m\n",
      "\u001b[0;32mh5py/h5f.pyx\u001b[0m in \u001b[0;36mh5py.h5f.open\u001b[0;34m()\u001b[0m\n",
      "\u001b[0;31mOSError\u001b[0m: Unable to open file (unable to open file: name = '/Users/sebastianotalora/work/postdoc/ctp/aifnet_replication/results/trained_models/aifnet_SGD_MAXCORR_augment_lr/aifnet_SGD_MSE_augment_lr0.21397559111171494_fold_1.hdf5', errno = 2, error message = 'No such file or directory', flags = 0, o_flags = 0)"
     ]
    }
   ],
   "metadata": {}
  },
  {
   "cell_type": "code",
   "execution_count": 31,
   "source": [
    "sample_pred = 0\n",
    "y = o2#results_meassures[sample_pred][0]\n",
    "y_hat = o2#results_meassures[sample_pred][1][0,:]\n",
    "\n",
    "pearson_numerator = np.sum((y-np.average(y))*(y_hat-np.average(y_hat)))\n",
    "pearson_denominator = np.sqrt(np.sum(np.square(y-np.average(y)))) *np.sqrt(np.sum(np.square(y_hat-np.average(y_hat))))\n",
    "pearson_correlation = pearson_numerator/pearson_denominator\n",
    "\n",
    "plt.xlabel('Time (s)')\n",
    "plt.ylabel('Normalized Density (HU)')\n",
    "\n",
    "plt.plot(y,'g-')\n",
    "plt.plot(y_hat,'w-')\n",
    "plt.plot(y_hat,'b-')\n",
    "plt.legend(['y', 'corr='+str(pearson_correlation)[0:6] , 'prediction'])\n",
    "plt.savefig('corr_0.7.svg',format='svg')\n",
    "\n",
    "\n"
   ],
   "outputs": [
    {
     "output_type": "display_data",
     "data": {
      "image/png": "[encoded data removed]",
      "text/plain": [
       "<Figure size 432x288 with 1 Axes>"
      ]
     },
     "metadata": {
      "needs_background": "light"
     }
    }
   ],
   "metadata": {}
  },
  {
   "cell_type": "code",
   "execution_count": 19,
   "source": [
    "MaxCorrelation(np.array(y,dtype='float64'),np.array(y_hat,dtype='float64'))"
   ],
   "outputs": [
    {
     "output_type": "error",
     "ename": "NameError",
     "evalue": "name 'y' is not defined",
     "traceback": [
      "\u001b[0;31m---------------------------------------------------------------------------\u001b[0m",
      "\u001b[0;31mNameError\u001b[0m                                 Traceback (most recent call last)",
      "\u001b[0;32m<ipython-input-19-887da331cf39>\u001b[0m in \u001b[0;36m<module>\u001b[0;34m\u001b[0m\n\u001b[0;32m----> 1\u001b[0;31m \u001b[0mMaxCorrelation\u001b[0m\u001b[0;34m(\u001b[0m\u001b[0mnp\u001b[0m\u001b[0;34m.\u001b[0m\u001b[0marray\u001b[0m\u001b[0;34m(\u001b[0m\u001b[0my\u001b[0m\u001b[0;34m,\u001b[0m\u001b[0mdtype\u001b[0m\u001b[0;34m=\u001b[0m\u001b[0;34m'float64'\u001b[0m\u001b[0;34m)\u001b[0m\u001b[0;34m,\u001b[0m\u001b[0mnp\u001b[0m\u001b[0;34m.\u001b[0m\u001b[0marray\u001b[0m\u001b[0;34m(\u001b[0m\u001b[0my_hat\u001b[0m\u001b[0;34m,\u001b[0m\u001b[0mdtype\u001b[0m\u001b[0;34m=\u001b[0m\u001b[0;34m'float64'\u001b[0m\u001b[0;34m)\u001b[0m\u001b[0;34m)\u001b[0m\u001b[0;34m\u001b[0m\u001b[0;34m\u001b[0m\u001b[0m\n\u001b[0m",
      "\u001b[0;31mNameError\u001b[0m: name 'y' is not defined"
     ]
    }
   ],
   "metadata": {}
  },
  {
   "cell_type": "code",
   "execution_count": 20,
   "source": [
    "correlations_batch = []\n",
    "for sample_pred in range(len(results_meassures)):\n",
    "    y = results_meassures[sample_pred][0]\n",
    "    y_hat = results_meassures[sample_pred][1][0]\n",
    "    pearson_numerator = np.sum((y-np.average(y))*(y_hat-np.average(y_hat)))\n",
    "    pearson_denominator = np.sqrt(np.sum(np.square(y-np.average(y)))) *np.sqrt(np.sum(np.square(y_hat-np.average(y_hat))))\n",
    "    pearson_correlation = np.abs(pearson_numerator/pearson_denominator)\n",
    "    correlations_batch.append(pearson_correlation)\n",
    "    print(pearson_correlation)"
   ],
   "outputs": [
    {
     "output_type": "error",
     "ename": "NameError",
     "evalue": "name 'results_meassures' is not defined",
     "traceback": [
      "\u001b[0;31m---------------------------------------------------------------------------\u001b[0m",
      "\u001b[0;31mNameError\u001b[0m                                 Traceback (most recent call last)",
      "\u001b[0;32m<ipython-input-20-d29fde3fa135>\u001b[0m in \u001b[0;36m<module>\u001b[0;34m\u001b[0m\n\u001b[1;32m      1\u001b[0m \u001b[0mcorrelations_batch\u001b[0m \u001b[0;34m=\u001b[0m \u001b[0;34m[\u001b[0m\u001b[0;34m]\u001b[0m\u001b[0;34m\u001b[0m\u001b[0;34m\u001b[0m\u001b[0m\n\u001b[0;32m----> 2\u001b[0;31m \u001b[0;32mfor\u001b[0m \u001b[0msample_pred\u001b[0m \u001b[0;32min\u001b[0m \u001b[0mrange\u001b[0m\u001b[0;34m(\u001b[0m\u001b[0mlen\u001b[0m\u001b[0;34m(\u001b[0m\u001b[0mresults_meassures\u001b[0m\u001b[0;34m)\u001b[0m\u001b[0;34m)\u001b[0m\u001b[0;34m:\u001b[0m\u001b[0;34m\u001b[0m\u001b[0;34m\u001b[0m\u001b[0m\n\u001b[0m\u001b[1;32m      3\u001b[0m     \u001b[0my\u001b[0m \u001b[0;34m=\u001b[0m \u001b[0mresults_meassures\u001b[0m\u001b[0;34m[\u001b[0m\u001b[0msample_pred\u001b[0m\u001b[0;34m]\u001b[0m\u001b[0;34m[\u001b[0m\u001b[0;36m0\u001b[0m\u001b[0;34m]\u001b[0m\u001b[0;34m\u001b[0m\u001b[0;34m\u001b[0m\u001b[0m\n\u001b[1;32m      4\u001b[0m     \u001b[0my_hat\u001b[0m \u001b[0;34m=\u001b[0m \u001b[0mresults_meassures\u001b[0m\u001b[0;34m[\u001b[0m\u001b[0msample_pred\u001b[0m\u001b[0;34m]\u001b[0m\u001b[0;34m[\u001b[0m\u001b[0;36m1\u001b[0m\u001b[0;34m]\u001b[0m\u001b[0;34m[\u001b[0m\u001b[0;36m0\u001b[0m\u001b[0;34m]\u001b[0m\u001b[0;34m\u001b[0m\u001b[0;34m\u001b[0m\u001b[0m\n\u001b[1;32m      5\u001b[0m \u001b[0;34m\u001b[0m\u001b[0m\n",
      "\u001b[0;31mNameError\u001b[0m: name 'results_meassures' is not defined"
     ]
    }
   ],
   "metadata": {}
  },
  {
   "cell_type": "code",
   "execution_count": 173,
   "source": [
    "np.mean(correlations_batch)"
   ],
   "outputs": [
    {
     "output_type": "execute_result",
     "data": {
      "text/plain": [
       "0.6913478341315272"
      ]
     },
     "metadata": {},
     "execution_count": 173
    }
   ],
   "metadata": {}
  },
  {
   "cell_type": "code",
   "execution_count": null,
   "source": [
    "corrs = [0.691347,correlations_batch,0,0,0]"
   ],
   "outputs": [],
   "metadata": {}
  }
 ],
 "metadata": {
  "kernelspec": {
   "name": "python3",
   "display_name": "Python 3.9.5 64-bit"
  },
  "language_info": {
   "name": "python",
   "version": "3.9.5",
   "mimetype": "text/x-python",
   "codemirror_mode": {
    "name": "ipython",
    "version": 3
   },
   "pygments_lexer": "ipython3",
   "nbconvert_exporter": "python",
   "file_extension": ".py"
  },
  "interpreter": {
   "hash": "aee8b7b246df8f9039afb4144a1f6fd8d2ca17a180786b69acc140d282b71a49"
  }
 },
 "nbformat": 4,
 "nbformat_minor": 5
}