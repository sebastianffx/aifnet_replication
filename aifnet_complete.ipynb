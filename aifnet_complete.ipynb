{
 "cells": [
  {
   "cell_type": "code",
   "execution_count": 1,
   "id": "6b038707",
   "metadata": {},
   "outputs": [],
   "source": [
    "import matplotlib.pyplot as plt\n",
    "import os\n",
    "import zipfile\n",
    "import numpy as np\n",
    "import tensorflow as tf\n",
    "from tensorflow import keras\n",
    "from tensorflow.keras import layers\n",
    "from tensorflow.keras.callbacks import ModelCheckpoint, TensorBoard\n",
    "import nibabel as nib\n",
    "from scipy import ndimage\n",
    "import glob\n",
    "import sys,os\n",
    "from natsort import natsorted\n",
    "import tensorflow_probability as tfp\n",
    "import random\n",
    "from aifnet_utils.preprocess import read_nifti_file, normalize, normalize_aif, process_scan, normalize_zero_one\n",
    "from aifnet_utils.losses import MaxCorrelation\n",
    "from aifnet_utils.data_loaders import read_isles_annotations, read_isles_volumes, ISLES18DataGen_aifvof_aug\n",
    "from aifnet_utils.data_loaders import delay_sequence_padding, anticipate_sequence_padding, late_bolus, early_bolus\n",
    "%matplotlib inline"
   ]
  },
  {
   "cell_type": "code",
   "execution_count": 2,
   "id": "fddbdecd",
   "metadata": {},
   "outputs": [
    {
     "name": "stdout",
     "output_type": "stream",
     "text": [
      "/home/sebastian/experiments/aifnet_replication\r\n"
     ]
    }
   ],
   "source": [
    "!pwd"
   ]
  },
  {
   "cell_type": "code",
   "execution_count": 3,
   "id": "da52553f",
   "metadata": {},
   "outputs": [],
   "source": [
    "keras.backend.set_image_data_format('channels_last')"
   ]
  },
  {
   "cell_type": "code",
   "execution_count": 4,
   "id": "b58ab5b7",
   "metadata": {},
   "outputs": [],
   "source": [
    "root_dir     = '/media/sebastian/data/ASAP/ISLES2018_Training'\n",
    "#At insel: /media/sebastian/data/ASAP/ISLES2018_Training\n",
    "#Local: '/Users/sebastianotalora/work/postdoc/data/ISLES/'\n",
    "aif_annotations_path = '/home/sebastian/experiments/aifnet_replication/annotated_aif_vof_complete_revised.csv'\n",
    "min_num_volumes_ctp = 43\n",
    "ROOT_EXP = '/home/sebastian/experiments/aifnet_replication'#'/Users/sebastianotalora/work/postdoc/ctp/aifnet_replication'\n"
   ]
  },
  {
   "cell_type": "code",
   "execution_count": 5,
   "id": "4065099b",
   "metadata": {},
   "outputs": [],
   "source": [
    "aif_annotations, vof_annotations = read_isles_annotations(aif_annotations_path, root_dir, \n",
    "                                         min_num_volumes_ctp, return_aif_only = False)"
   ]
  },
  {
   "cell_type": "code",
   "execution_count": 6,
   "id": "09afb354",
   "metadata": {},
   "outputs": [],
   "source": [
    "ctp_volumes = read_isles_volumes(root_dir, aif_annotations_path, min_num_volumes_ctp, take_two_slices_only=False)"
   ]
  },
  {
   "cell_type": "code",
   "execution_count": 7,
   "id": "8badb987",
   "metadata": {},
   "outputs": [
    {
     "name": "stdout",
     "output_type": "stream",
     "text": [
      "94 94\n"
     ]
    }
   ],
   "source": [
    "print(len(ctp_volumes), len(aif_annotations))"
   ]
  },
  {
   "cell_type": "code",
   "execution_count": 8,
   "id": "2be2a1bd",
   "metadata": {},
   "outputs": [],
   "source": [
    "def get_model_twoPvols(width=256, height=256, num_channels=43):\n",
    "    \"\"\"Build a 3D convolutional neural network model.\"\"\"\n",
    "    #width and height of the PCT is 256, the number of slices is variable, and the number of channels are\n",
    "    #the number of timepoints in the PCT sequence        \n",
    "    inputs = keras.Input((width, height, None , 43))\n",
    "\n",
    "    x = layers.Conv3D(filters=16, kernel_size=(3,3,1), activation=\"relu\", data_format='channels_last', padding='same')(inputs)\n",
    "    #x = layers.Dropout(0.3)(x)\n",
    "    \n",
    "    x = layers.Conv3D(filters=32, kernel_size=(3,3,3), activation=\"relu\", data_format='channels_last', padding='same')(x)\n",
    "    #x = layers.Dropout(0.3)(x)\n",
    "    \n",
    "    x = layers.Conv3D(filters=64, kernel_size=(3,3,3), activation=\"relu\", data_format='channels_last', padding='same')(x)\n",
    "    #x = layers.Dropout(0.3)(x)\n",
    "    \n",
    "    x = layers.Conv3D(filters=128, kernel_size=(3,3,3), activation=\"relu\", data_format='channels_last', padding='same')(x)\n",
    "\n",
    "    #x = layers.Conv3D(filters=256, kernel_size=(3,3,3), activation=\"relu\", data_format='channels_last', padding='same')(x)\n",
    "    #x = layers.Dropout(0.3)(x)\n",
    "    Lout = layers.Conv3D(filters=1, kernel_size=(3,3,3), activation=\"relu\", data_format='channels_last', padding='same')(x)\n",
    "    Lout2 = layers.Conv3D(filters=1, kernel_size=(3,3,3), activation=\"relu\", data_format='channels_last', padding='same')(x)\n",
    "\n",
    "    P_vol_aif = tf.keras.activations.sigmoid(Lout,name=\"aif\")\n",
    "    P_vol_vof = tf.keras.activations.sigmoid(Lout2,name=\"vof\")\n",
    "    #Voxelwise multiplication of P_vol and each of the CTP time points    \n",
    "    voxelwise_mult_each_ctp_aif = tf.keras.layers.Multiply()([inputs,P_vol_aif])    \n",
    "    voxelwise_mult_each_ctp_vof = tf.keras.layers.Multiply()([inputs,P_vol_vof])        \n",
    "    #The 3D average pooling block averages the volumetric information along the x-y-z axes, \n",
    "    #such that the predicted vascular function y(t) is a 1D vector of length T.\n",
    "    outputs_aif = layers.GlobalAveragePooling3D(data_format='channels_last', name='aif_loss')(voxelwise_mult_each_ctp_aif)\n",
    "    outputs_vof = layers.GlobalAveragePooling3D(data_format='channels_last', name='vof_loss')(voxelwise_mult_each_ctp_vof)    \n",
    "    #outputs_aif = tf.keras.activations.linear\n",
    "\n",
    "    # Define the model.\n",
    "    model = keras.Model(inputs, [outputs_aif,outputs_vof], name=\"aifnet\")\n",
    "    return model"
   ]
  },
  {
   "cell_type": "code",
   "execution_count": 10,
   "id": "8ace1c5a",
   "metadata": {},
   "outputs": [],
   "source": [
    "tf.keras.activations.linear?"
   ]
  },
  {
   "cell_type": "code",
   "execution_count": 9,
   "id": "602e8165",
   "metadata": {
    "scrolled": false
   },
   "outputs": [
    {
     "name": "stdout",
     "output_type": "stream",
     "text": [
      "Model: \"aifnet\"\n",
      "__________________________________________________________________________________________________\n",
      "Layer (type)                    Output Shape         Param #     Connected to                     \n",
      "==================================================================================================\n",
      "input_1 (InputLayer)            [(None, 256, 256, No 0                                            \n",
      "__________________________________________________________________________________________________\n",
      "conv3d (Conv3D)                 (None, 256, 256, Non 6208        input_1[0][0]                    \n",
      "__________________________________________________________________________________________________\n",
      "conv3d_1 (Conv3D)               (None, 256, 256, Non 13856       conv3d[0][0]                     \n",
      "__________________________________________________________________________________________________\n",
      "conv3d_2 (Conv3D)               (None, 256, 256, Non 55360       conv3d_1[0][0]                   \n",
      "__________________________________________________________________________________________________\n",
      "conv3d_3 (Conv3D)               (None, 256, 256, Non 221312      conv3d_2[0][0]                   \n",
      "__________________________________________________________________________________________________\n",
      "conv3d_4 (Conv3D)               (None, 256, 256, Non 3457        conv3d_3[0][0]                   \n",
      "__________________________________________________________________________________________________\n",
      "conv3d_5 (Conv3D)               (None, 256, 256, Non 3457        conv3d_3[0][0]                   \n",
      "__________________________________________________________________________________________________\n",
      "tf.keras.activations.sigmoid (T (None, 256, 256, Non 0           conv3d_4[0][0]                   \n",
      "__________________________________________________________________________________________________\n",
      "tf.keras.activations.sigmoid_1  (None, 256, 256, Non 0           conv3d_5[0][0]                   \n",
      "__________________________________________________________________________________________________\n",
      "multiply (Multiply)             (None, 256, 256, Non 0           input_1[0][0]                    \n",
      "                                                                 tf.keras.activations.sigmoid[0][0\n",
      "__________________________________________________________________________________________________\n",
      "multiply_1 (Multiply)           (None, 256, 256, Non 0           input_1[0][0]                    \n",
      "                                                                 tf.keras.activations.sigmoid_1[0]\n",
      "__________________________________________________________________________________________________\n",
      "aif_loss (GlobalAveragePooling3 (None, 43)           0           multiply[0][0]                   \n",
      "__________________________________________________________________________________________________\n",
      "vof_loss (GlobalAveragePooling3 (None, 43)           0           multiply_1[0][0]                 \n",
      "==================================================================================================\n",
      "Total params: 303,650\n",
      "Trainable params: 303,650\n",
      "Non-trainable params: 0\n",
      "__________________________________________________________________________________________________\n"
     ]
    }
   ],
   "source": [
    "# Build model.\n",
    "model = get_model_twoPvols(width=256, height=256, num_channels=43)\n",
    "model.summary()"
   ]
  },
  {
   "cell_type": "code",
   "execution_count": 18,
   "id": "5926a438",
   "metadata": {},
   "outputs": [],
   "source": [
    "initial_learning_rate = 0.001\n",
    "lr_schedule = keras.optimizers.schedules.ExponentialDecay(\n",
    "    initial_learning_rate, decay_steps=100, decay_rate=0.96, staircase=True\n",
    ")"
   ]
  },
  {
   "cell_type": "code",
   "execution_count": 11,
   "id": "8e138494",
   "metadata": {},
   "outputs": [],
   "source": [
    "optimizer_aifnet = optimizer = keras.optimizers.SGD(learning_rate=lr_schedule) #keras.optimizers.Adam(learning_rate=initial_learning_rate)\n",
    "model.compile(\n",
    "    loss=['mse','mse'],\n",
    "    optimizer=optimizer_aifnet,\n",
    "    metrics=['mae'])"
   ]
  },
  {
   "cell_type": "code",
   "execution_count": 12,
   "id": "a3907124",
   "metadata": {},
   "outputs": [],
   "source": [
    "# Define callbacks.\n",
    "checkpoint_cb = keras.callbacks.ModelCheckpoint(\n",
    "    \"aif_onehead_classification.h5\", save_best_only=True\n",
    ")\n",
    "early_stopping_cb = keras.callbacks.EarlyStopping(monitor=\"train_acc\", patience=15)\n",
    "path_checkpointer_model = ROOT_EXP +'/results/' \n",
    "path_checkpointer_model += 'aifnet_2Pvols_augment' + str(initial_learning_rate)  + '.hdf5'\n",
    "path_tensorboard_log    = ROOT_EXP + '/results/logsTensorBoard/'\n",
    "path_tensorboard_log    += 'aifnet_2Pvols_augment' + str(initial_learning_rate) \n",
    "\n",
    "checkpointer = ModelCheckpoint(filepath=path_checkpointer_model, monitor='train_mse', \n",
    "                               verbose=1, save_best_only=True)\n",
    "tb_callback = TensorBoard(log_dir=path_tensorboard_log, histogram_freq=0, write_graph=True, write_grads=False,\n",
    "                          write_images=False, embeddings_freq=0, embeddings_layer_names=None,\n",
    "                          embeddings_metadata=None)\n"
   ]
  },
  {
   "cell_type": "code",
   "execution_count": 13,
   "id": "0dd94a9c",
   "metadata": {},
   "outputs": [],
   "source": [
    "train_datagen = ISLES18DataGen_aifvof_aug(ctp_volumes=ctp_volumes, annotations_aif=aif_annotations,\n",
    "                               annotations_vof=vof_annotations,minimum_number_volumes_ctp = 43, batch_size=1,\n",
    "                                         time_arrival_augmentation = True)"
   ]
  },
  {
   "cell_type": "code",
   "execution_count": 14,
   "id": "7619cc03",
   "metadata": {},
   "outputs": [
    {
     "data": {
      "text/plain": [
       "array([[0.08257481, 0.07730358, 0.11813583, 0.        , 0.05550066,\n",
       "        0.06830165, 0.04794057, 0.09128157, 0.221726  , 0.23537673,\n",
       "        0.48170579, 0.78750786, 0.86563477, 0.96241198, 1.        ,\n",
       "        0.99544322, 0.99889876, 0.96218275, 0.86189626, 0.65192204,\n",
       "        0.56970011, 0.50125448, 0.45215097, 0.39599262, 0.31808581,\n",
       "        0.29166209, 0.26091968, 0.22856351, 0.26744796, 0.15474904,\n",
       "        0.14516063, 0.19553963, 0.19290133, 0.14361789, 0.14484713,\n",
       "        0.16653791, 0.16653791, 0.16653791, 0.16653791, 0.16653791,\n",
       "        0.16653791, 0.16653791, 0.16653791],\n",
       "       [0.05415246, 0.02504378, 0.03393869, 0.        , 0.00204326,\n",
       "        0.02643459, 0.10194071, 0.05102015, 0.07753443, 0.16451013,\n",
       "        0.28472336, 0.45433134, 0.58080454, 0.78210145, 0.85873841,\n",
       "        0.85581729, 0.99849415, 1.        , 0.9553362 , 0.82155794,\n",
       "        0.79300284, 0.69930386, 0.59995823, 0.42033167, 0.37742713,\n",
       "        0.33015648, 0.28088619, 0.20560513, 0.20963086, 0.18939432,\n",
       "        0.21431999, 0.18197238, 0.19495682, 0.14332822, 0.13207351,\n",
       "        0.14165006, 0.14165006, 0.14165006, 0.14165006, 0.14165006,\n",
       "        0.14165006, 0.14165006, 0.14165006]])"
      ]
     },
     "execution_count": 14,
     "metadata": {},
     "output_type": "execute_result"
    }
   ],
   "source": [
    "y = np.array(train_datagen.__getitem__(0)[1])\n",
    "y"
   ]
  },
  {
   "cell_type": "code",
   "execution_count": 15,
   "id": "9abc1fde",
   "metadata": {
    "scrolled": true
   },
   "outputs": [
    {
     "name": "stdout",
     "output_type": "stream",
     "text": [
      "(1, 2, 43)\n",
      "(1, 256, 256, 2, 43)\n",
      "[[[0.         0.         0.         0.         0.         0.\n",
      "   0.         0.123592   0.17131565 0.19008231 0.2277082  0.17284587\n",
      "   0.21105302 0.26207688 0.22799301 0.45720455 0.4913874  0.49300343\n",
      "   0.70448294 0.88714153 0.98140581 0.98507468 0.89363239 1.\n",
      "   0.95171536 0.80248594 0.69075235 0.76134212 0.75633998 0.67696369\n",
      "   0.5722515  0.46265193 0.38285113 0.38044071 0.56620863 0.43038192\n",
      "   0.35584986 0.35979398 0.3315117  0.36523448 0.41092181 0.43156517\n",
      "   0.33515234]\n",
      "  [0.10338247 0.10338247 0.10338247 0.10338247 0.10338247 0.10338247\n",
      "   0.10338247 0.04753512 0.01045466 0.01337223 0.07976035 0.01473522\n",
      "   0.         0.02586912 0.07904202 0.14527446 0.292079   0.48665035\n",
      "   0.68229571 0.6472989  0.74850151 0.91326647 1.         0.83873138\n",
      "   0.81583837 0.83897816 0.69090817 0.45762017 0.37877654 0.41745783\n",
      "   0.45702597 0.38181202 0.32355322 0.28945378 0.25921836 0.24872637\n",
      "   0.27938708 0.31982475 0.27394536 0.28936071 0.24303166 0.16613033\n",
      "   0.2315624 ]]]\n"
     ]
    }
   ],
   "source": [
    "sample_item = 69\n",
    "x = np.array(train_datagen.__getitem__(sample_item)[0])\n",
    "#x=x[np.newaxis,:,:,:,:]\n",
    "y = np.array(train_datagen.__getitem__(sample_item)[1])\n",
    "y = y[np.newaxis,:]\n",
    "print(y.shape)\n",
    "print(x.shape)\n",
    "print(y)"
   ]
  },
  {
   "cell_type": "code",
   "execution_count": 19,
   "id": "30019dab",
   "metadata": {},
   "outputs": [],
   "source": [
    "load_previous_weights = True\n",
    "path_previous_weights = ROOT_EXP + '/results/trained_models/sgd_weights_8epochsaifnet_2Pvols_augment0.001.hdf5'\n",
    "if load_previous_weights:\n",
    "    model.load_weights(path_previous_weights)"
   ]
  },
  {
   "cell_type": "code",
   "execution_count": 20,
   "id": "eda6b1d6",
   "metadata": {},
   "outputs": [],
   "source": [
    "def plot_predictions(model,x,y,normalize_preds=True, type_pred='AIF'):\n",
    "    pred = model.predict(np.expand_dims(normalize(x), axis=0))    \n",
    "    if type_pred=='AIF':\n",
    "        pred = pred[0][0]\n",
    "        plt.title('AIF Function Predictions')        \n",
    "    else:\n",
    "        pred = pred[1][0]\n",
    "        plt.title('VOF Function Predictions')\n",
    "\n",
    "    if normalize_preds:\n",
    "        print('Normalizing')\n",
    "        pred = normalize_zero_one(pred)\n",
    "        y = normalize_zero_one(y)\n",
    "    plt.plot(y)\n",
    "    plt.plot(pred)    \n",
    "    plt.legend(['y', 'prediction'])\n",
    "    plt.xlabel('Time (s)')\n",
    "    plt.ylabel('Normalized Density (HU)')\n",
    "    plt.show()\n",
    "    return"
   ]
  },
  {
   "cell_type": "code",
   "execution_count": 20,
   "id": "62d4183f",
   "metadata": {},
   "outputs": [
    {
     "data": {
      "text/plain": [
       "[0.6798698306083679,\n",
       " 0.34297728538513184,\n",
       " 0.3368925452232361,\n",
       " 0.5476176738739014,\n",
       " 0.5420355200767517]"
      ]
     },
     "execution_count": 20,
     "metadata": {},
     "output_type": "execute_result"
    }
   ],
   "source": [
    "model.train_on_batch(x = train_datagen.__getitem__(9)[0], y = y)"
   ]
  },
  {
   "cell_type": "code",
   "execution_count": 42,
   "id": "f46ba06e",
   "metadata": {},
   "outputs": [
    {
     "data": {
      "text/plain": [
       "['loss', 'aif_loss_loss', 'vof_loss_loss', 'aif_loss_mae', 'vof_loss_mae']"
      ]
     },
     "execution_count": 42,
     "metadata": {},
     "output_type": "execute_result"
    }
   ],
   "source": [
    "model.metrics_names"
   ]
  },
  {
   "cell_type": "code",
   "execution_count": 64,
   "id": "3c488f5f",
   "metadata": {
    "scrolled": true
   },
   "outputs": [
    {
     "name": "stderr",
     "output_type": "stream",
     "text": [
      "/home/sebastian/anaconda3/envs/aifnet/lib/python3.9/site-packages/tensorflow/python/keras/utils/generic_utils.py:494: CustomMaskWarning: Custom mask layers require a config and must override get_config. When loading, the custom mask layer must be passed to the custom_objects argument.\n",
      "  warnings.warn('Custom mask layers require a config and must override '\n"
     ]
    },
    {
     "name": "stdout",
     "output_type": "stream",
     "text": [
      "Epoch 1/4\n",
      "94/94 [==============================] - 66s 644ms/step - loss: 0.3645 - aif_loss_loss: 0.1834 - vof_loss_loss: 0.1811 - aif_loss_mae: 0.3243 - vof_loss_mae: 0.3221\n",
      "WARNING:tensorflow:Can save best model only with train_mse available, skipping.\n",
      "Epoch 2/4\n",
      "94/94 [==============================] - 47s 500ms/step - loss: 0.3701 - aif_loss_loss: 0.1859 - vof_loss_loss: 0.1842 - aif_loss_mae: 0.3269 - vof_loss_mae: 0.3252\n",
      "WARNING:tensorflow:Can save best model only with train_mse available, skipping.\n",
      "Epoch 3/4\n",
      "94/94 [==============================] - 46s 467ms/step - loss: 0.3696 - aif_loss_loss: 0.1855 - vof_loss_loss: 0.1841 - aif_loss_mae: 0.3266 - vof_loss_mae: 0.3252\n",
      "WARNING:tensorflow:Can save best model only with train_mse available, skipping.\n",
      "Epoch 4/4\n",
      "94/94 [==============================] - 46s 484ms/step - loss: 0.3589 - aif_loss_loss: 0.1800 - vof_loss_loss: 0.1789 - aif_loss_mae: 0.3208 - vof_loss_mae: 0.3196\n",
      "WARNING:tensorflow:Can save best model only with train_mse available, skipping.\n"
     ]
    },
    {
     "data": {
      "text/plain": [
       "<tensorflow.python.keras.callbacks.History at 0x7f11f0170430>"
      ]
     },
     "execution_count": 64,
     "metadata": {},
     "output_type": "execute_result"
    }
   ],
   "source": [
    "nb_epochs=4\n",
    "model.fit(train_datagen,batch_size=1,callbacks=[checkpointer,tb_callback],epochs=nb_epochs)"
   ]
  },
  {
   "cell_type": "code",
   "execution_count": 65,
   "id": "5b9e1770",
   "metadata": {},
   "outputs": [],
   "source": [
    "model.save_weights('/home/sebastian/experiments/aifnet_replication/results/trained_models/sgd_weights_12epochs' + path_checkpointer_model.split('/')[-1])"
   ]
  },
  {
   "cell_type": "code",
   "execution_count": 66,
   "id": "29ad7f3a",
   "metadata": {
    "scrolled": false
   },
   "outputs": [
    {
     "data": {
      "text/plain": [
       "[array([[0.09072638, 0.09076854, 0.09071487, 0.09071849, 0.09074938,\n",
       "         0.09072965, 0.09070836, 0.09072001, 0.09074463, 0.09072916,\n",
       "         0.09069126, 0.09109224, 0.09105828, 0.09080672, 0.09100239,\n",
       "         0.09133022, 0.09183225, 0.09231695, 0.09293491, 0.09372507,\n",
       "         0.09467722, 0.09556019, 0.09638402, 0.09714124, 0.09749305,\n",
       "         0.09750446, 0.09739155, 0.09723754, 0.09685588, 0.09660017,\n",
       "         0.09618226, 0.09577855, 0.09543174, 0.0949845 , 0.09476492,\n",
       "         0.09457878, 0.09425073, 0.09402992, 0.0938217 , 0.09379556,\n",
       "         0.09371489, 0.09368948, 0.09361182]], dtype=float32),\n",
       " array([[0.09176896, 0.09181137, 0.09175752, 0.09176183, 0.09179178,\n",
       "         0.09177244, 0.09175107, 0.09176152, 0.09178658, 0.09177092,\n",
       "         0.09173323, 0.09215069, 0.09210767, 0.09184525, 0.09204162,\n",
       "         0.09237596, 0.09288664, 0.0933788 , 0.09401113, 0.09481792,\n",
       "         0.09578607, 0.09668726, 0.09752777, 0.09829843, 0.09865735,\n",
       "         0.09867033, 0.09855677, 0.09839832, 0.09800951, 0.09775203,\n",
       "         0.09732392, 0.096913  , 0.09655899, 0.09610227, 0.09587947,\n",
       "         0.09568925, 0.09535334, 0.09512939, 0.09491751, 0.09488763,\n",
       "         0.09480622, 0.09478065, 0.09469891]], dtype=float32)]"
      ]
     },
     "execution_count": 66,
     "metadata": {},
     "output_type": "execute_result"
    }
   ],
   "source": [
    "model.predict(np.expand_dims(normalize(ctp_volumes[10]['ctpvals']), axis=0))"
   ]
  },
  {
   "cell_type": "code",
   "execution_count": 68,
   "id": "0d61a4a8",
   "metadata": {},
   "outputs": [
    {
     "name": "stdout",
     "output_type": "stream",
     "text": [
      "345969\n",
      "Normalizing\n"
     ]
    },
    {
     "data": {
      "image/png": "[encoded data removed]",
      "text/plain": [
       "<Figure size 432x288 with 1 Axes>"
      ]
     },
     "metadata": {
      "needs_background": "light"
     },
     "output_type": "display_data"
    }
   ],
   "source": [
    "case_number = 60\n",
    "case_id = ctp_volumes[case_number]['image'].split('.')[-2]\n",
    "type_predictions = 'AIF'\n",
    "x = ctp_volumes[case_number]['ctpvals']\n",
    "if type_predictions == 'AIF':\n",
    "    y = aif_annotations[case_id]\n",
    "if type_predictions == 'VOF':\n",
    "    y = vof_annotations[case_id]\n",
    "print(case_id)\n",
    "plot_predictions(model,x,y,normalize_preds=True, type_pred=type_predictions)"
   ]
  }
 ],
 "metadata": {
  "kernelspec": {
   "display_name": "Python 3",
   "language": "python",
   "name": "python3"
  },
  "language_info": {
   "codemirror_mode": {
    "name": "ipython",
    "version": 3
   },
   "file_extension": ".py",
   "mimetype": "text/x-python",
   "name": "python",
   "nbconvert_exporter": "python",
   "pygments_lexer": "ipython3",
   "version": "3.9.6"
  }
 },
 "nbformat": 4,
 "nbformat_minor": 5
}
