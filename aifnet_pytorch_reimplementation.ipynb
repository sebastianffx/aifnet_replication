{
 "cells": [
  {
   "cell_type": "code",
   "execution_count": 1,
   "id": "56f95dfd",
   "metadata": {},
   "outputs": [],
   "source": [
    "import pandas as pd\n",
    "import numpy as np\n",
    "import os\n",
    "import pandas as pd\n",
    "from torchvision.io import read_image\n",
    "# for reading and displaying images\n",
    "import matplotlib.pyplot as plt\n",
    "\n",
    "# for creating validation set\n",
    "from sklearn.model_selection import train_test_split\n",
    "# for evaluating the model\n",
    "from sklearn.metrics import accuracy_score\n",
    "import nibabel as nib\n",
    "import glob\n",
    "import random\n",
    "import numpy as np\n",
    "import os\n",
    "from natsort import natsorted\n",
    "\n",
    "# PyTorch libraries and modules\n",
    "import torch\n",
    "from torch.autograd import Variable\n",
    "import torch.nn as nn\n",
    "import torch.nn.functional as F\n",
    "from torch.optim import *\n",
    "import h5py\n",
    "from torch.utils.data import Dataset\n",
    "from torchvision import datasets\n",
    "from torchvision import transforms\n",
    "from torchvision.transforms import ToTensor\n",
    "\n",
    "import matplotlib.pyplot as plt\n",
    "from torch.utils.data import DataLoader\n",
    "\n",
    "from aifnet_utils.preprocess import normalize_aif, normalize, normalize_zero_one\n",
    "\n",
    "from torch_intermediate_layer_getter import IntermediateLayerGetter as MidGetter\n",
    "%matplotlib inline\n"
   ]
  },
  {
   "cell_type": "code",
   "execution_count": 2,
   "id": "ea7bda18",
   "metadata": {},
   "outputs": [
    {
     "name": "stdout",
     "output_type": "stream",
     "text": [
      "Using cuda:0 device\n"
     ]
    }
   ],
   "source": [
    "use_cuda = torch.cuda.is_available()\n",
    "device = torch.device(\"cuda:0\" if use_cuda else \"cpu\")\n",
    "print(\"Using {} device\".format(device))\n",
    "\n",
    "#Reading an example PCT volume\n",
    "LOCATION = 'INSEL'\n",
    "\n",
    "if LOCATION == 'HOME':\n",
    "    ROOT_EXP = '/Users/admin/work/aifnet_replication-main'\n",
    "    root_dir  = '/Users/admin/work/data/'\n",
    "\n",
    "\n",
    "if LOCATION == 'LOCAL':\n",
    "    ROOT_EXP = '/Users/sebastianotalora/work/postdoc/ctp/aifnet_replication/'\n",
    "    root_dir  = '/Users/sebastianotalora/work/postdoc/data/ISLES/'\n",
    "\n",
    "if LOCATION == 'INSEL':\n",
    "    ROOT_EXP = '/home/sebastian/experiments/aifnet_replication/'\n",
    "    root_dir  = '/media/sebastian/data/ASAP/ISLES2018_Training'\n",
    "\n",
    "if LOCATION == 'SERVER':\n",
    "    ROOT_EXP = '/home/sotalora/aifnet_replication/'\n",
    "    root_dir     = '/data/images/sotalora/ISLES18/'\n",
    "\n",
    "aif_annotations_path = ROOT_EXP + 'radiologist_annotations.csv'\n",
    "\n",
    "\n",
    "aif_annotations_path = ROOT_EXP + '/radiologist_annotations_cleaned.csv'#'radiologist_annotations.csv'#'annotated_aif_vof_complete_revised.csv'\n",
    "min_num_volumes_ctp = 43\n"
   ]
  },
  {
   "cell_type": "code",
   "execution_count": 3,
   "id": "939c30a4",
   "metadata": {},
   "outputs": [],
   "source": [
    "class ISLESDataset(Dataset):\n",
    "    def __init__(self, annotations_file, partition_file_path, \n",
    "                 minimum_number_volumes_ctp, img_dir, vascular_fn='AIF',\n",
    "                 transform=None, target_transform=normalize_aif):\n",
    "        self.img_dir = img_dir\n",
    "        self.transform = transform\n",
    "        self.target_transform = target_transform\n",
    "        self.minimum_number_volumes_ctp = minimum_number_volumes_ctp\n",
    "        dataset_dir = os.path.join(img_dir, \"TRAINING\")\n",
    "        dataset_dir_test = os.path.join(img_dir, \"TESTING\")\n",
    "        self.filenames_4D = natsorted(glob.glob(dataset_dir + \"/case_*/*4D*/*nii*\") + glob.glob(dataset_dir_test + \"/case_*/*4D*/*nii*\"))\n",
    "        self.cases_paths = {path.split('.')[-2]: path for path in self.filenames_4D}\n",
    "        self.vascular_fn = vascular_fn\n",
    "        partition_file = open(partition_file_path,'r')\n",
    "        relevant_cases = []\n",
    "        for line in partition_file:\n",
    "            relevant_cases.append(line.split('.')[-2])\n",
    "        partition_file.close()\n",
    "        self.fold_img_paths = {key: self.cases_paths[key] for key in relevant_cases}\n",
    "        self.fold_ids = [int(valid_indx) for valid_indx in list(self.fold_img_paths.keys())]\n",
    "        self.all_labels = pd.read_csv(aif_annotations_path) \n",
    "        self.img_labels = self.all_labels[self.all_labels['imageID'].isin(self.fold_ids)]\n",
    "        #print(self.fold_img_paths)\n",
    "        \n",
    "    def __len__(self):\n",
    "        return len(self.fold_img_paths)\n",
    "\n",
    "    def __getitem__(self, idx):\n",
    "        img_id = str(self.img_labels.iloc[idx]['imageID'])\n",
    "        img_path = self.fold_img_paths[img_id]\n",
    "        image = read_volume_sequence(img_path,self.minimum_number_volumes_ctp)\n",
    "        image = np.array(image,dtype=np.double)# CPU torch likes double type\n",
    "        image = (image-image.mean())/image.max() #Normalizing the whole sequence\n",
    "        AIF = image[self.img_labels.iloc[idx]['AIFx'],self.img_labels.iloc[idx]['AIFy'],self.img_labels.iloc[idx]['AIFz'],:]\n",
    "        VOF = image[self.img_labels.iloc[idx]['VOFx'],self.img_labels.iloc[idx]['VOFy'],self.img_labels.iloc[idx]['VOFz'],:]\n",
    "        label = AIF #By default return only the AIF\n",
    "        if self.transform:\n",
    "            image = self.transform(image)\n",
    "        if self.target_transform:\n",
    "            label = self.target_transform(label)\n",
    "        if self.vascular_fn == 'VOF':\n",
    "            label = VOF\n",
    "        #if use_cuda:\n",
    "        #    return torch.tensor(image.T).cuda(), torch.tensor(label).cuda()\n",
    "        #else:\n",
    "        return torch.tensor(image.T), torch.tensor(label) #transpose since torch is happy when channels first\n",
    "def read_volume_sequence(fname,minimum_number_volumes_ctp):\n",
    "        cur_nib = nib.load(fname)\n",
    "        ctp_vals = cur_nib.get_fdata()\n",
    "        volume_sequence = ctp_vals[:,:,:,0:minimum_number_volumes_ctp]\n",
    "        return volume_sequence"
   ]
  },
  {
   "cell_type": "code",
   "execution_count": 4,
   "id": "eace6ff0",
   "metadata": {},
   "outputs": [],
   "source": [
    "data_transforms = {\n",
    "    'train': transforms.Compose([\n",
    "        transforms.ToTensor()\n",
    "    ]),\n",
    "    'val': transforms.Compose([\n",
    "        transforms.ToTensor()\n",
    "    ]),\n",
    "}"
   ]
  },
  {
   "cell_type": "code",
   "execution_count": 5,
   "id": "b3d5926b",
   "metadata": {},
   "outputs": [],
   "source": [
    "annotations_file = aif_annotations_path\n",
    "current_fold = 1\n",
    "minimum_number_volumes_ctp = 43\n",
    "partition_file_training = ROOT_EXP + '/partitions_cleaned/fold_'+str(current_fold)+'/train_v2.txt'\n",
    "partition_file_valid = ROOT_EXP + '/partitions_cleaned/fold_'+str(current_fold)+'/valid_v2.txt'\n",
    "partition_file_test = ROOT_EXP + '/partitions_cleaned/fold_'+str(current_fold)+'/test_v2.txt'\n",
    "\n",
    "training_data = ISLESDataset(\n",
    "annotations_file, partition_file_training, \n",
    "                 minimum_number_volumes_ctp, root_dir, vascular_fn='AIF',\n",
    "                 transform=None, target_transform=normalize_aif\n",
    ")\n",
    "valid_data = ISLESDataset(\n",
    "annotations_file, partition_file_valid, \n",
    "                 minimum_number_volumes_ctp, root_dir, vascular_fn='AIF',\n",
    "                 transform=None, target_transform=normalize_aif\n",
    "\n",
    ")\n"
   ]
  },
  {
   "cell_type": "code",
   "execution_count": 6,
   "id": "9c3fb441",
   "metadata": {},
   "outputs": [],
   "source": [
    "sample_idx = torch.randint(10, size=(1,)).item()\n",
    "img, label = training_data[sample_idx]\n"
   ]
  },
  {
   "cell_type": "code",
   "execution_count": 7,
   "id": "91133d07",
   "metadata": {},
   "outputs": [
    {
     "data": {
      "text/plain": [
       "torch.Size([43, 2, 256, 256])"
      ]
     },
     "execution_count": 7,
     "metadata": {},
     "output_type": "execute_result"
    }
   ],
   "source": [
    "img.shape"
   ]
  },
  {
   "cell_type": "code",
   "execution_count": 8,
   "id": "1fb43665",
   "metadata": {
    "scrolled": true
   },
   "outputs": [
    {
     "name": "stdout",
     "output_type": "stream",
     "text": [
      "(43,) torch.Size([43, 2, 256, 256])\n"
     ]
    }
   ],
   "source": [
    "print(np.array(label.cpu()).shape, img.shape)"
   ]
  },
  {
   "cell_type": "code",
   "execution_count": 9,
   "id": "e4cce400",
   "metadata": {},
   "outputs": [
    {
     "data": {
      "text/plain": [
       "Text(0, 0.5, 'Normalized Density (HU)')"
      ]
     },
     "execution_count": 9,
     "metadata": {},
     "output_type": "execute_result"
    },
    {
     "data": {
      "image/png": "[encoded data removed]",
      "text/plain": [
       "<Figure size 432x288 with 1 Axes>"
      ]
     },
     "metadata": {
      "needs_background": "light"
     },
     "output_type": "display_data"
    }
   ],
   "source": [
    "plt.title('AIF')        \n",
    "#y = normalize_zero_one(aif)\n",
    "#y_p = normalize_zero_one(vof)\n",
    "#plt.plot(mu_voi)\n",
    "#plt.plot(y_p)\n",
    "plt.plot(normalize_aif(label.cpu().numpy()))\n",
    "plt.legend([ 'AIF','VOF'])\n",
    "plt.xlabel('Time (s)')\n",
    "plt.ylabel('Normalized Density (HU)')\n"
   ]
  },
  {
   "cell_type": "code",
   "execution_count": 10,
   "id": "2a902175",
   "metadata": {},
   "outputs": [],
   "source": [
    "\n",
    "train_dataloader = DataLoader(training_data, batch_size=1, shuffle=True)\n",
    "#test_dataloader = DataLoader(test_data, batch_size=64, shuffle=True)\n"
   ]
  },
  {
   "cell_type": "code",
   "execution_count": 11,
   "id": "571b8bd4",
   "metadata": {},
   "outputs": [
    {
     "data": {
      "text/plain": [
       "torch.Size([1, 43])"
      ]
     },
     "execution_count": 11,
     "metadata": {},
     "output_type": "execute_result"
    }
   ],
   "source": [
    "train_features, train_labels = next(iter(train_dataloader))\n",
    "train_labels.shape\n"
   ]
  },
  {
   "cell_type": "code",
   "execution_count": 12,
   "id": "0250c0d6",
   "metadata": {
    "scrolled": true
   },
   "outputs": [
    {
     "data": {
      "text/plain": [
       "torch.Size([1, 43, 8, 256, 256])"
      ]
     },
     "execution_count": 12,
     "metadata": {},
     "output_type": "execute_result"
    }
   ],
   "source": [
    "train_features.shape"
   ]
  },
  {
   "cell_type": "code",
   "execution_count": 13,
   "id": "923338d6",
   "metadata": {},
   "outputs": [
    {
     "name": "stdout",
     "output_type": "stream",
     "text": [
      "AIFNet(\n",
      "  (firstConv3d): Sequential(\n",
      "    (0): Conv3d(43, 16, kernel_size=(1, 3, 3), stride=(1, 1, 1), padding=(0, 1, 1))\n",
      "    (1): ReLU()\n",
      "  )\n",
      "  (secondConv3d): Sequential(\n",
      "    (0): Conv3d(16, 32, kernel_size=(1, 3, 3), stride=(1, 1, 1), padding=(0, 1, 1))\n",
      "    (1): ReLU()\n",
      "  )\n",
      "  (thirdConv3d): Sequential(\n",
      "    (0): Conv3d(32, 64, kernel_size=(1, 3, 3), stride=(1, 1, 1), padding=(0, 1, 1))\n",
      "    (1): ReLU()\n",
      "  )\n",
      "  (fourthConv3d): Sequential(\n",
      "    (0): Conv3d(64, 128, kernel_size=(1, 3, 3), stride=(1, 1, 1), padding=(0, 1, 1))\n",
      "    (1): ReLU()\n",
      "  )\n",
      "  (Lout): Sequential(\n",
      "    (0): Conv3d(128, 1, kernel_size=(1, 3, 3), stride=(1, 1, 1), padding=(0, 1, 1))\n",
      "    (1): ReLU()\n",
      "  )\n",
      "  (softmax3d): Softmax(dim=0)\n",
      ")\n"
     ]
    }
   ],
   "source": [
    "# Define model\n",
    "class AIFNet(nn.Module):\n",
    "    def __init__(self):\n",
    "        super(AIFNet, self).__init__()\n",
    "        \n",
    "        self.firstConv3d  = self._conv3d_relu(in_c=43, out_c=16, k_size=(1,3,3),pad_size=(0,1,1))\n",
    "        self.secondConv3d = self._conv3d_relu(in_c=16, out_c=32, k_size=(1,3,3),pad_size=(0,1,1))\n",
    "        self.thirdConv3d  = self._conv3d_relu(in_c=32, out_c=64, k_size=(1,3,3),pad_size=(0,1,1))\n",
    "        self.fourthConv3d = self._conv3d_relu(in_c=64, out_c=128, k_size=(1,3,3),pad_size=(0,1,1))\n",
    "        self.Lout         = self._conv3d_relu(in_c=128, out_c=1, k_size=(1,3,3),pad_size=(0,1,1))\n",
    "        self.softmax3d    = torch.nn.Softmax(dim=0)\n",
    "        \n",
    "    def _conv3d_relu(self, in_c, out_c, k_size,pad_size=0):\n",
    "        conv_layer = nn.Sequential(\n",
    "            nn.Conv3d(in_c, out_c, kernel_size=k_size,padding=pad_size,padding_mode='zeros'),\n",
    "            nn.ReLU()\n",
    "        )\n",
    "        return conv_layer        \n",
    "    def forward(self, input_x):\n",
    "        x = torch.tensor(input_x)\n",
    "        x = self.firstConv3d(input_x)\n",
    "        x = self.secondConv3d(x)\n",
    "        x = self.thirdConv3d(x)\n",
    "        x = self.fourthConv3d(x)\n",
    "        x = self.Lout(x)\n",
    "        pvol_shape = x.shape\n",
    "        Pvol = self.softmax3d(x.flatten())\n",
    "        Pvol = Pvol.reshape(pvol_shape)\n",
    "        voxelwise_mult = torch.mul(Pvol,input_x)\n",
    "        #print(voxelwise_mult.sum())\n",
    "        aif_hat = voxelwise_mult.mean(dim=(-3,-2,-1)) #This should be [N,TimePoints]\n",
    "        return aif_hat\n",
    "\n",
    "model = AIFNet().to(device)\n",
    "print(model)\n"
   ]
  },
  {
   "cell_type": "code",
   "execution_count": 14,
   "id": "601dccb6",
   "metadata": {},
   "outputs": [
    {
     "data": {
      "text/plain": [
       "tensor([[[[ 5, 12],\n",
       "          [21, 32]],\n",
       "\n",
       "         [[25, 30],\n",
       "          [35, 40]]]])"
      ]
     },
     "execution_count": 14,
     "metadata": {},
     "output_type": "execute_result"
    }
   ],
   "source": [
    "a = torch.tensor(np.array([[[1,2],[3,4]],[[5,5],[5,5]]]))\n",
    "a = a[np.newaxis,:,:]\n",
    "b = torch.tensor([[5,6],[7,8]])\n",
    "\n",
    "torch.mul(a,b)"
   ]
  },
  {
   "cell_type": "code",
   "execution_count": 15,
   "id": "69aa921c",
   "metadata": {},
   "outputs": [
    {
     "name": "stderr",
     "output_type": "stream",
     "text": [
      "<ipython-input-13-969ad2d69bef>:20: UserWarning: To copy construct from a tensor, it is recommended to use sourceTensor.clone().detach() or sourceTensor.clone().detach().requires_grad_(True), rather than torch.tensor(sourceTensor).\n",
      "  x = torch.tensor(input_x)\n"
     ]
    }
   ],
   "source": [
    "# With square kernels and equal stride\n",
    "#m =nn.Conv3d(in_channels=43, out_channels=16, kernel_size=1)#43 volumes enter, 16 out, 1x1 kernels, stride=1 (First layer)\n",
    "model.double()\n",
    "\n",
    "# non-square kernels and unequal stride and with padding\n",
    "#m = nn.Conv3d(16, 33, (3, 5, 2), stride=(2, 1, 1), padding=(4, 2, 0))\n",
    "\n",
    "output = model(train_features.to(device))"
   ]
  },
  {
   "cell_type": "code",
   "execution_count": 16,
   "id": "2c4e6b86",
   "metadata": {},
   "outputs": [
    {
     "name": "stdout",
     "output_type": "stream",
     "text": [
      "torch.Size([1, 43])\n",
      "torch.Size([1, 43, 8, 256, 256])\n"
     ]
    },
    {
     "data": {
      "text/plain": [
       "tensor([[-0.2668, -0.2205, -0.2284, -0.2188, -0.3015, -0.2213, -0.2893, -0.2888,\n",
       "         -0.1608, -0.2532, -0.0779, -0.2118, -0.0252,  0.0784,  0.1954,  0.3441,\n",
       "          0.4709,  0.8581,  0.7656,  1.0000,  0.9866,  0.8814,  0.8985,  0.9543,\n",
       "          0.7785,  0.6958,  0.5570,  0.3216,  0.3274,  0.1492,  0.1682,  0.0248,\n",
       "         -0.0468,  0.0109, -0.0891, -0.0630, -0.1519, -0.0666, -0.1139, -0.0303,\n",
       "         -0.1871, -0.1353, -0.0459]], dtype=torch.float64)"
      ]
     },
     "execution_count": 16,
     "metadata": {},
     "output_type": "execute_result"
    }
   ],
   "source": [
    "print(output.shape)\n",
    "print(train_features.shape)\n",
    "train_labels\n"
   ]
  },
  {
   "cell_type": "code",
   "execution_count": 17,
   "id": "ac351046",
   "metadata": {},
   "outputs": [
    {
     "data": {
      "text/plain": [
       "tensor(1.1341e-08, device='cuda:0', dtype=torch.float64,\n",
       "       grad_fn=<SumBackward0>)"
      ]
     },
     "execution_count": 17,
     "metadata": {},
     "output_type": "execute_result"
    }
   ],
   "source": [
    "output.sum()"
   ]
  },
  {
   "cell_type": "code",
   "execution_count": 18,
   "id": "9122accd",
   "metadata": {},
   "outputs": [],
   "source": [
    "def get_Pvol(input_sequence, model):\n",
    "    return_layers = {'Lout': 'Lout'}\n",
    "    mid_getter = MidGetter(model, return_layers=return_layers, keep_output=True)\n",
    "    mid_outputs, model_output = mid_getter(input_sequence)\n",
    "    Pvol = mid_outputs['Lout']\n",
    "    pvol_shape = Pvol.shape\n",
    "    Pvol = model.softmax3d(Pvol.flatten())\n",
    "    Pvol = Pvol.reshape(pvol_shape)\n",
    "    return Pvol"
   ]
  },
  {
   "cell_type": "code",
   "execution_count": 19,
   "id": "3d9b83e0",
   "metadata": {},
   "outputs": [
    {
     "data": {
      "text/plain": [
       "torch.Size([1, 43, 8, 256, 256])"
      ]
     },
     "execution_count": 19,
     "metadata": {},
     "output_type": "execute_result"
    }
   ],
   "source": [
    "train_features.shape"
   ]
  },
  {
   "cell_type": "code",
   "execution_count": 21,
   "id": "266864c6",
   "metadata": {},
   "outputs": [],
   "source": [
    "def train_loop(dataloader, model, loss_fn, optimizer):\n",
    "    size = len(dataloader.dataset)\n",
    "    for batch, (X, y) in enumerate(dataloader):\n",
    "        if X.shape[2] >4:\n",
    "            continue\n",
    "        print(X.shape)\n",
    "        # Compute prediction and loss\n",
    "        pred = model(X.to(device))\n",
    "        loss = loss_fn(pred, y.to(device))\n",
    "\n",
    "        # Backpropagation\n",
    "        optimizer.zero_grad()\n",
    "        loss.backward()\n",
    "        optimizer.step()\n",
    "\n",
    "        if batch % 10 == 0:\n",
    "            loss, current = loss.item(), batch * len(X)\n",
    "            print(f\"loss: {loss:>7f}  [{current:>5d}/{size:>5d}]\")\n"
   ]
  },
  {
   "cell_type": "code",
   "execution_count": 22,
   "id": "049501b6",
   "metadata": {},
   "outputs": [],
   "source": [
    "def test_loop(dataloader, model, loss_fn):\n",
    "    size = len(dataloader)\n",
    "    num_batches = len(dataloader)\n",
    "    test_loss, correct = 0, 0\n",
    "\n",
    "    with torch.no_grad():\n",
    "        for X, y in dataloader:\n",
    "            pred = model(torch.tensor(X[np.newaxis,:,:,:,:]).to(device))\n",
    "            test_loss += loss_fn(pred, torch.tensor(y)).item()\n",
    "            correct += (pred.argmax(1) == torch.tensor(y)).type(torch.float).sum().item()\n",
    "        test_loss /= num_batches\n",
    "        correct /= size\n",
    "        print(f\"Test Error: \\n Accuracy: {(100*correct):>0.1f}%, Avg loss: {test_loss:>8f} \\n\")\n"
   ]
  },
  {
   "cell_type": "code",
   "execution_count": 24,
   "id": "caa282cf",
   "metadata": {
    "scrolled": true
   },
   "outputs": [
    {
     "name": "stdout",
     "output_type": "stream",
     "text": [
      "Epoch 1\n",
      "-------------------------------\n",
      "torch.Size([1, 43, 2, 256, 256])\n"
     ]
    },
    {
     "name": "stderr",
     "output_type": "stream",
     "text": [
      "<ipython-input-13-969ad2d69bef>:20: UserWarning: To copy construct from a tensor, it is recommended to use sourceTensor.clone().detach() or sourceTensor.clone().detach().requires_grad_(True), rather than torch.tensor(sourceTensor).\n",
      "  x = torch.tensor(input_x)\n"
     ]
    },
    {
     "name": "stdout",
     "output_type": "stream",
     "text": [
      "torch.Size([1, 43, 4, 256, 256])\n",
      "torch.Size([1, 43, 2, 256, 256])\n",
      "torch.Size([1, 43, 4, 256, 256])\n",
      "torch.Size([1, 43, 2, 256, 256])\n",
      "loss: 0.195318  [   10/  107]\n",
      "torch.Size([1, 43, 2, 256, 256])\n",
      "torch.Size([1, 43, 4, 256, 256])\n",
      "torch.Size([1, 43, 2, 256, 256])\n",
      "torch.Size([1, 43, 2, 256, 256])\n",
      "torch.Size([1, 43, 2, 256, 256])\n",
      "torch.Size([1, 43, 2, 256, 256])\n",
      "torch.Size([1, 43, 2, 256, 256])\n",
      "torch.Size([1, 43, 2, 256, 256])\n",
      "loss: 1.149835  [   20/  107]\n",
      "torch.Size([1, 43, 4, 256, 256])\n",
      "torch.Size([1, 43, 2, 256, 256])\n",
      "torch.Size([1, 43, 2, 256, 256])\n",
      "torch.Size([1, 43, 4, 256, 256])\n",
      "torch.Size([1, 43, 2, 256, 256])\n",
      "torch.Size([1, 43, 2, 256, 256])\n",
      "torch.Size([1, 43, 2, 256, 256])\n",
      "torch.Size([1, 43, 2, 256, 256])\n",
      "loss: 1.296270  [   30/  107]\n",
      "torch.Size([1, 43, 4, 256, 256])\n",
      "torch.Size([1, 43, 4, 256, 256])\n",
      "torch.Size([1, 43, 2, 256, 256])\n",
      "torch.Size([1, 43, 2, 256, 256])\n",
      "torch.Size([1, 43, 4, 256, 256])\n",
      "torch.Size([1, 43, 2, 256, 256])\n",
      "torch.Size([1, 43, 2, 256, 256])\n",
      "torch.Size([1, 43, 2, 256, 256])\n",
      "torch.Size([1, 43, 2, 256, 256])\n",
      "loss: 3.510356  [   40/  107]\n",
      "torch.Size([1, 43, 4, 256, 256])\n",
      "torch.Size([1, 43, 2, 256, 256])\n",
      "torch.Size([1, 43, 2, 256, 256])\n",
      "torch.Size([1, 43, 4, 256, 256])\n",
      "torch.Size([1, 43, 4, 256, 256])\n",
      "torch.Size([1, 43, 2, 256, 256])\n",
      "torch.Size([1, 43, 2, 256, 256])\n",
      "torch.Size([1, 43, 2, 256, 256])\n",
      "loss: 174.373064  [   50/  107]\n",
      "torch.Size([1, 43, 2, 256, 256])\n",
      "torch.Size([1, 43, 4, 256, 256])\n",
      "torch.Size([1, 43, 2, 256, 256])\n",
      "torch.Size([1, 43, 2, 256, 256])\n",
      "torch.Size([1, 43, 2, 256, 256])\n",
      "torch.Size([1, 43, 2, 256, 256])\n",
      "torch.Size([1, 43, 2, 256, 256])\n",
      "torch.Size([1, 43, 2, 256, 256])\n",
      "loss: 0.659573  [   60/  107]\n",
      "torch.Size([1, 43, 4, 256, 256])\n",
      "torch.Size([1, 43, 4, 256, 256])\n",
      "torch.Size([1, 43, 2, 256, 256])\n",
      "torch.Size([1, 43, 4, 256, 256])\n",
      "torch.Size([1, 43, 2, 256, 256])\n",
      "torch.Size([1, 43, 2, 256, 256])\n",
      "torch.Size([1, 43, 2, 256, 256])\n",
      "torch.Size([1, 43, 4, 256, 256])\n",
      "torch.Size([1, 43, 2, 256, 256])\n",
      "torch.Size([1, 43, 2, 256, 256])\n",
      "torch.Size([1, 43, 2, 256, 256])\n",
      "torch.Size([1, 43, 4, 256, 256])\n",
      "torch.Size([1, 43, 2, 256, 256])\n",
      "torch.Size([1, 43, 2, 256, 256])\n",
      "torch.Size([1, 43, 2, 256, 256])\n",
      "torch.Size([1, 43, 2, 256, 256])\n",
      "torch.Size([1, 43, 2, 256, 256])\n",
      "loss: 69.622772  [   80/  107]\n",
      "torch.Size([1, 43, 2, 256, 256])\n",
      "torch.Size([1, 43, 2, 256, 256])\n",
      "torch.Size([1, 43, 2, 256, 256])\n",
      "torch.Size([1, 43, 4, 256, 256])\n",
      "torch.Size([1, 43, 2, 256, 256])\n",
      "torch.Size([1, 43, 4, 256, 256])\n",
      "torch.Size([1, 43, 2, 256, 256])\n",
      "torch.Size([1, 43, 2, 256, 256])\n",
      "torch.Size([1, 43, 2, 256, 256])\n",
      "loss: 0.172067  [   90/  107]\n",
      "torch.Size([1, 43, 2, 256, 256])\n",
      "torch.Size([1, 43, 2, 256, 256])\n",
      "torch.Size([1, 43, 2, 256, 256])\n",
      "torch.Size([1, 43, 4, 256, 256])\n",
      "torch.Size([1, 43, 4, 256, 256])\n",
      "torch.Size([1, 43, 2, 256, 256])\n",
      "torch.Size([1, 43, 4, 256, 256])\n",
      "loss: 16.089650  [  100/  107]\n",
      "torch.Size([1, 43, 2, 256, 256])\n",
      "torch.Size([1, 43, 2, 256, 256])\n",
      "torch.Size([1, 43, 2, 256, 256])\n",
      "torch.Size([1, 43, 2, 256, 256])\n",
      "torch.Size([1, 43, 2, 256, 256])\n",
      "Done!\n"
     ]
    }
   ],
   "source": [
    "train_initial = True\n",
    "\n",
    "learning_rate = 1e-3\n",
    "batch_size = 1\n",
    "epochs = 1\n",
    "# Initialize the loss function\n",
    "loss_fn = nn.MSELoss()\n",
    "optimizer = torch.optim.SGD(model.parameters(), lr=learning_rate)\n",
    "path_initial_model = ROOT_EXP + '/models_pytorch/initial_model.pth'\n",
    "\n",
    "\n",
    "if train_initial:\n",
    "    model.train()\n",
    "    for t in range(epochs):\n",
    "        print(f\"Epoch {t+1}\\n-------------------------------\")\n",
    "        train_loop(train_dataloader, model, loss_fn, optimizer)\n",
    "        #test_loop(test_dataloader, model, loss_fn)\n",
    "    print(\"Done!\")\n",
    "    #torch.save(model, path_initial_model)\n",
    "else:\n",
    "    # Model class must be defined somewhere\n",
    "    model = torch.load(path_initial_model)\n",
    "    model.eval()"
   ]
  },
  {
   "cell_type": "code",
   "execution_count": 25,
   "id": "1089ebd7",
   "metadata": {
    "scrolled": true
   },
   "outputs": [
    {
     "name": "stderr",
     "output_type": "stream",
     "text": [
      "<ipython-input-25-b05169e7eed3>:8: UserWarning: To copy construct from a tensor, it is recommended to use sourceTensor.clone().detach() or sourceTensor.clone().detach().requires_grad_(True), rather than torch.tensor(sourceTensor).\n",
      "  pred = model(torch.tensor(X[np.newaxis,:,:,:,:]).to(device))\n",
      "<ipython-input-13-969ad2d69bef>:20: UserWarning: To copy construct from a tensor, it is recommended to use sourceTensor.clone().detach() or sourceTensor.clone().detach().requires_grad_(True), rather than torch.tensor(sourceTensor).\n",
      "  x = torch.tensor(input_x)\n",
      "<ipython-input-25-b05169e7eed3>:9: UserWarning: To copy construct from a tensor, it is recommended to use sourceTensor.clone().detach() or sourceTensor.clone().detach().requires_grad_(True), rather than torch.tensor(sourceTensor).\n",
      "  test_loss += loss_fn(pred.to('cpu'), torch.tensor(y).to('cpu')).item()\n",
      "/home/sebastian/anaconda3/envs/aifnet/lib/python3.9/site-packages/torch/nn/modules/loss.py:528: UserWarning: Using a target size (torch.Size([43])) that is different to the input size (torch.Size([1, 43])). This will likely lead to incorrect results due to broadcasting. Please ensure they have the same size.\n",
      "  return F.mse_loss(input, target, reduction=self.reduction)\n",
      "<ipython-input-25-b05169e7eed3>:10: UserWarning: To copy construct from a tensor, it is recommended to use sourceTensor.clone().detach() or sourceTensor.clone().detach().requires_grad_(True), rather than torch.tensor(sourceTensor).\n",
      "  correct += (pred.to('cpu').argmax(1) == torch.tensor(y).to('cpu')).type(torch.float).sum().item()\n",
      "<ipython-input-25-b05169e7eed3>:11: UserWarning: To copy construct from a tensor, it is recommended to use sourceTensor.clone().detach() or sourceTensor.clone().detach().requires_grad_(True), rather than torch.tensor(sourceTensor).\n",
      "  preds_gt.append([pred.to('cpu').numpy(), torch.tensor(y).to('cpu').numpy()])\n"
     ]
    },
    {
     "name": "stdout",
     "output_type": "stream",
     "text": [
      "Test Error: \n",
      " Accuracy: 0.0%, Avg loss: 0.864501 \n",
      "\n"
     ]
    }
   ],
   "source": [
    "dataloader = valid_data\n",
    "size = len(dataloader)\n",
    "num_batches = len(dataloader)\n",
    "test_loss, correct = 0, 0\n",
    "preds_gt = []\n",
    "with torch.no_grad():\n",
    "    for X, y in dataloader:\n",
    "        pred = model(torch.tensor(X[np.newaxis,:,:,:,:]).to(device))\n",
    "        test_loss += loss_fn(pred.to('cpu'), torch.tensor(y).to('cpu')).item()\n",
    "        correct += (pred.to('cpu').argmax(1) == torch.tensor(y).to('cpu')).type(torch.float).sum().item()\n",
    "        preds_gt.append([pred.to('cpu').numpy(), torch.tensor(y).to('cpu').numpy()])\n",
    "    test_loss /= num_batches\n",
    "    correct /= size\n",
    "    print(f\"Test Error: \\n Accuracy: {(100*correct):>0.1f}%, Avg loss: {test_loss:>8f} \\n\")\n"
   ]
  },
  {
   "cell_type": "code",
   "execution_count": 26,
   "id": "8b46854a",
   "metadata": {},
   "outputs": [
    {
     "name": "stderr",
     "output_type": "stream",
     "text": [
      "<ipython-input-26-790b624c3d4a>:1: VisibleDeprecationWarning: Creating an ndarray from ragged nested sequences (which is a list-or-tuple of lists-or-tuples-or ndarrays with different lengths or shapes) is deprecated. If you meant to do this, you must specify 'dtype=object' when creating the ndarray\n",
      "  preds_gt = np.array(preds_gt)\n"
     ]
    },
    {
     "data": {
      "text/plain": [
       "(13, 2)"
      ]
     },
     "execution_count": 26,
     "metadata": {},
     "output_type": "execute_result"
    }
   ],
   "source": [
    "preds_gt = np.array(preds_gt)\n",
    "preds_gt.shape"
   ]
  },
  {
   "cell_type": "code",
   "execution_count": 74,
   "id": "a9486497",
   "metadata": {},
   "outputs": [
    {
     "data": {
      "text/plain": [
       "Text(0, 0.5, 'Normalized Density (HU)')"
      ]
     },
     "execution_count": 74,
     "metadata": {},
     "output_type": "execute_result"
    },
    {
     "data": {
      "image/png": "[encoded data removed]",
      "text/plain": [
       "<Figure size 432x288 with 1 Axes>"
      ]
     },
     "metadata": {
      "needs_background": "light"
     },
     "output_type": "display_data"
    }
   ],
   "source": [
    "sample_idx = 10\n",
    "\n",
    "plt.title('AIF')        \n",
    "#y = normalize_zero_one(aif)\n",
    "#y_p = normalize_zero_one(vof)\n",
    "#plt.plot(mu_voi)\n",
    "#plt.plot(y_p)\n",
    "\n",
    "plt.plot(normalize_zero_one(preds_gt[sample_idx][0][0]))\n",
    "plt.plot(preds_gt[sample_idx][1])\n",
    "\n",
    "plt.legend([ 'AIF_hat','AIF'])\n",
    "plt.xlabel('Time (s)')\n",
    "plt.ylabel('Normalized Density (HU)')\n"
   ]
  },
  {
   "cell_type": "code",
   "execution_count": 133,
   "id": "5efe27eb",
   "metadata": {
    "collapsed": true
   },
   "outputs": [
    {
     "name": "stderr",
     "output_type": "stream",
     "text": [
      "<ipython-input-133-ea4353bacffc>:1: UserWarning: To copy construct from a tensor, it is recommended to use sourceTensor.clone().detach() or sourceTensor.clone().detach().requires_grad_(True), rather than torch.tensor(sourceTensor).\n",
      "  pvol = get_Pvol(torch.tensor(X[np.newaxis,:,:,:,:]).to(device), model)\n",
      "<ipython-input-105-969ad2d69bef>:20: UserWarning: To copy construct from a tensor, it is recommended to use sourceTensor.clone().detach() or sourceTensor.clone().detach().requires_grad_(True), rather than torch.tensor(sourceTensor).\n",
      "  x = torch.tensor(input_x)\n"
     ]
    },
    {
     "ename": "RuntimeError",
     "evalue": "CUDA out of memory. Tried to allocate 1024.00 MiB (GPU 0; 7.93 GiB total capacity; 4.63 GiB already allocated; 544.19 MiB free; 5.61 GiB reserved in total by PyTorch)",
     "output_type": "error",
     "traceback": [
      "\u001b[0;31m---------------------------------------------------------------------------\u001b[0m",
      "\u001b[0;31mRuntimeError\u001b[0m                              Traceback (most recent call last)",
      "\u001b[0;32m<ipython-input-133-ea4353bacffc>\u001b[0m in \u001b[0;36m<module>\u001b[0;34m\u001b[0m\n\u001b[0;32m----> 1\u001b[0;31m \u001b[0mpvol\u001b[0m \u001b[0;34m=\u001b[0m \u001b[0mget_Pvol\u001b[0m\u001b[0;34m(\u001b[0m\u001b[0mtorch\u001b[0m\u001b[0;34m.\u001b[0m\u001b[0mtensor\u001b[0m\u001b[0;34m(\u001b[0m\u001b[0mX\u001b[0m\u001b[0;34m[\u001b[0m\u001b[0mnp\u001b[0m\u001b[0;34m.\u001b[0m\u001b[0mnewaxis\u001b[0m\u001b[0;34m,\u001b[0m\u001b[0;34m:\u001b[0m\u001b[0;34m,\u001b[0m\u001b[0;34m:\u001b[0m\u001b[0;34m,\u001b[0m\u001b[0;34m:\u001b[0m\u001b[0;34m,\u001b[0m\u001b[0;34m:\u001b[0m\u001b[0;34m]\u001b[0m\u001b[0;34m)\u001b[0m\u001b[0;34m.\u001b[0m\u001b[0mto\u001b[0m\u001b[0;34m(\u001b[0m\u001b[0mdevice\u001b[0m\u001b[0;34m)\u001b[0m\u001b[0;34m,\u001b[0m \u001b[0mmodel\u001b[0m\u001b[0;34m)\u001b[0m\u001b[0;34m\u001b[0m\u001b[0;34m\u001b[0m\u001b[0m\n\u001b[0m\u001b[1;32m      2\u001b[0m \u001b[0mpvol\u001b[0m \u001b[0;34m=\u001b[0m \u001b[0mpvol\u001b[0m\u001b[0;34m.\u001b[0m\u001b[0mto\u001b[0m\u001b[0;34m(\u001b[0m\u001b[0;34m'cpu'\u001b[0m\u001b[0;34m)\u001b[0m\u001b[0;34m.\u001b[0m\u001b[0mdetach\u001b[0m\u001b[0;34m(\u001b[0m\u001b[0;34m)\u001b[0m\u001b[0;34m.\u001b[0m\u001b[0mnumpy\u001b[0m\u001b[0;34m(\u001b[0m\u001b[0;34m)\u001b[0m\u001b[0;34m\u001b[0m\u001b[0;34m\u001b[0m\u001b[0m\n",
      "\u001b[0;32m<ipython-input-110-4dd5d5a89049>\u001b[0m in \u001b[0;36mget_Pvol\u001b[0;34m(input_sequence, model)\u001b[0m\n\u001b[1;32m      2\u001b[0m     \u001b[0mreturn_layers\u001b[0m \u001b[0;34m=\u001b[0m \u001b[0;34m{\u001b[0m\u001b[0;34m'Lout'\u001b[0m\u001b[0;34m:\u001b[0m \u001b[0;34m'Lout'\u001b[0m\u001b[0;34m}\u001b[0m\u001b[0;34m\u001b[0m\u001b[0;34m\u001b[0m\u001b[0m\n\u001b[1;32m      3\u001b[0m     \u001b[0mmid_getter\u001b[0m \u001b[0;34m=\u001b[0m \u001b[0mMidGetter\u001b[0m\u001b[0;34m(\u001b[0m\u001b[0mmodel\u001b[0m\u001b[0;34m,\u001b[0m \u001b[0mreturn_layers\u001b[0m\u001b[0;34m=\u001b[0m\u001b[0mreturn_layers\u001b[0m\u001b[0;34m,\u001b[0m \u001b[0mkeep_output\u001b[0m\u001b[0;34m=\u001b[0m\u001b[0;32mTrue\u001b[0m\u001b[0;34m)\u001b[0m\u001b[0;34m\u001b[0m\u001b[0;34m\u001b[0m\u001b[0m\n\u001b[0;32m----> 4\u001b[0;31m     \u001b[0mmid_outputs\u001b[0m\u001b[0;34m,\u001b[0m \u001b[0mmodel_output\u001b[0m \u001b[0;34m=\u001b[0m \u001b[0mmid_getter\u001b[0m\u001b[0;34m(\u001b[0m\u001b[0minput_sequence\u001b[0m\u001b[0;34m)\u001b[0m\u001b[0;34m\u001b[0m\u001b[0;34m\u001b[0m\u001b[0m\n\u001b[0m\u001b[1;32m      5\u001b[0m     \u001b[0mPvol\u001b[0m \u001b[0;34m=\u001b[0m \u001b[0mmid_outputs\u001b[0m\u001b[0;34m[\u001b[0m\u001b[0;34m'Lout'\u001b[0m\u001b[0;34m]\u001b[0m\u001b[0;34m\u001b[0m\u001b[0;34m\u001b[0m\u001b[0m\n\u001b[1;32m      6\u001b[0m     \u001b[0mpvol_shape\u001b[0m \u001b[0;34m=\u001b[0m \u001b[0mPvol\u001b[0m\u001b[0;34m.\u001b[0m\u001b[0mshape\u001b[0m\u001b[0;34m\u001b[0m\u001b[0;34m\u001b[0m\u001b[0m\n",
      "\u001b[0;32m~/anaconda3/envs/aifnet/lib/python3.9/site-packages/torch_intermediate_layer_getter/torch_intermediate_layer_getter.py\u001b[0m in \u001b[0;36m__call__\u001b[0;34m(self, *args, **kwargs)\u001b[0m\n\u001b[1;32m     55\u001b[0m \u001b[0;34m\u001b[0m\u001b[0m\n\u001b[1;32m     56\u001b[0m         \u001b[0;32mif\u001b[0m \u001b[0mself\u001b[0m\u001b[0;34m.\u001b[0m\u001b[0mkeep_output\u001b[0m\u001b[0;34m:\u001b[0m\u001b[0;34m\u001b[0m\u001b[0;34m\u001b[0m\u001b[0m\n\u001b[0;32m---> 57\u001b[0;31m             \u001b[0moutput\u001b[0m \u001b[0;34m=\u001b[0m \u001b[0mself\u001b[0m\u001b[0;34m.\u001b[0m\u001b[0m_model\u001b[0m\u001b[0;34m(\u001b[0m\u001b[0;34m*\u001b[0m\u001b[0margs\u001b[0m\u001b[0;34m,\u001b[0m \u001b[0;34m**\u001b[0m\u001b[0mkwargs\u001b[0m\u001b[0;34m)\u001b[0m\u001b[0;34m\u001b[0m\u001b[0;34m\u001b[0m\u001b[0m\n\u001b[0m\u001b[1;32m     58\u001b[0m         \u001b[0;32melse\u001b[0m\u001b[0;34m:\u001b[0m\u001b[0;34m\u001b[0m\u001b[0;34m\u001b[0m\u001b[0m\n\u001b[1;32m     59\u001b[0m             \u001b[0mself\u001b[0m\u001b[0;34m.\u001b[0m\u001b[0m_model\u001b[0m\u001b[0;34m(\u001b[0m\u001b[0;34m*\u001b[0m\u001b[0margs\u001b[0m\u001b[0;34m,\u001b[0m \u001b[0;34m**\u001b[0m\u001b[0mkwargs\u001b[0m\u001b[0;34m)\u001b[0m\u001b[0;34m\u001b[0m\u001b[0;34m\u001b[0m\u001b[0m\n",
      "\u001b[0;32m~/anaconda3/envs/aifnet/lib/python3.9/site-packages/torch/nn/modules/module.py\u001b[0m in \u001b[0;36m_call_impl\u001b[0;34m(self, *input, **kwargs)\u001b[0m\n\u001b[1;32m   1049\u001b[0m         if not (self._backward_hooks or self._forward_hooks or self._forward_pre_hooks or _global_backward_hooks\n\u001b[1;32m   1050\u001b[0m                 or _global_forward_hooks or _global_forward_pre_hooks):\n\u001b[0;32m-> 1051\u001b[0;31m             \u001b[0;32mreturn\u001b[0m \u001b[0mforward_call\u001b[0m\u001b[0;34m(\u001b[0m\u001b[0;34m*\u001b[0m\u001b[0minput\u001b[0m\u001b[0;34m,\u001b[0m \u001b[0;34m**\u001b[0m\u001b[0mkwargs\u001b[0m\u001b[0;34m)\u001b[0m\u001b[0;34m\u001b[0m\u001b[0;34m\u001b[0m\u001b[0m\n\u001b[0m\u001b[1;32m   1052\u001b[0m         \u001b[0;31m# Do not call functions when jit is used\u001b[0m\u001b[0;34m\u001b[0m\u001b[0;34m\u001b[0m\u001b[0;34m\u001b[0m\u001b[0m\n\u001b[1;32m   1053\u001b[0m         \u001b[0mfull_backward_hooks\u001b[0m\u001b[0;34m,\u001b[0m \u001b[0mnon_full_backward_hooks\u001b[0m \u001b[0;34m=\u001b[0m \u001b[0;34m[\u001b[0m\u001b[0;34m]\u001b[0m\u001b[0;34m,\u001b[0m \u001b[0;34m[\u001b[0m\u001b[0;34m]\u001b[0m\u001b[0;34m\u001b[0m\u001b[0;34m\u001b[0m\u001b[0m\n",
      "\u001b[0;32m<ipython-input-105-969ad2d69bef>\u001b[0m in \u001b[0;36mforward\u001b[0;34m(self, input_x)\u001b[0m\n\u001b[1;32m     22\u001b[0m         \u001b[0mx\u001b[0m \u001b[0;34m=\u001b[0m \u001b[0mself\u001b[0m\u001b[0;34m.\u001b[0m\u001b[0msecondConv3d\u001b[0m\u001b[0;34m(\u001b[0m\u001b[0mx\u001b[0m\u001b[0;34m)\u001b[0m\u001b[0;34m\u001b[0m\u001b[0;34m\u001b[0m\u001b[0m\n\u001b[1;32m     23\u001b[0m         \u001b[0mx\u001b[0m \u001b[0;34m=\u001b[0m \u001b[0mself\u001b[0m\u001b[0;34m.\u001b[0m\u001b[0mthirdConv3d\u001b[0m\u001b[0;34m(\u001b[0m\u001b[0mx\u001b[0m\u001b[0;34m)\u001b[0m\u001b[0;34m\u001b[0m\u001b[0;34m\u001b[0m\u001b[0m\n\u001b[0;32m---> 24\u001b[0;31m         \u001b[0mx\u001b[0m \u001b[0;34m=\u001b[0m \u001b[0mself\u001b[0m\u001b[0;34m.\u001b[0m\u001b[0mfourthConv3d\u001b[0m\u001b[0;34m(\u001b[0m\u001b[0mx\u001b[0m\u001b[0;34m)\u001b[0m\u001b[0;34m\u001b[0m\u001b[0;34m\u001b[0m\u001b[0m\n\u001b[0m\u001b[1;32m     25\u001b[0m         \u001b[0mx\u001b[0m \u001b[0;34m=\u001b[0m \u001b[0mself\u001b[0m\u001b[0;34m.\u001b[0m\u001b[0mLout\u001b[0m\u001b[0;34m(\u001b[0m\u001b[0mx\u001b[0m\u001b[0;34m)\u001b[0m\u001b[0;34m\u001b[0m\u001b[0;34m\u001b[0m\u001b[0m\n\u001b[1;32m     26\u001b[0m         \u001b[0mpvol_shape\u001b[0m \u001b[0;34m=\u001b[0m \u001b[0mx\u001b[0m\u001b[0;34m.\u001b[0m\u001b[0mshape\u001b[0m\u001b[0;34m\u001b[0m\u001b[0;34m\u001b[0m\u001b[0m\n",
      "\u001b[0;32m~/anaconda3/envs/aifnet/lib/python3.9/site-packages/torch/nn/modules/module.py\u001b[0m in \u001b[0;36m_call_impl\u001b[0;34m(self, *input, **kwargs)\u001b[0m\n\u001b[1;32m   1049\u001b[0m         if not (self._backward_hooks or self._forward_hooks or self._forward_pre_hooks or _global_backward_hooks\n\u001b[1;32m   1050\u001b[0m                 or _global_forward_hooks or _global_forward_pre_hooks):\n\u001b[0;32m-> 1051\u001b[0;31m             \u001b[0;32mreturn\u001b[0m \u001b[0mforward_call\u001b[0m\u001b[0;34m(\u001b[0m\u001b[0;34m*\u001b[0m\u001b[0minput\u001b[0m\u001b[0;34m,\u001b[0m \u001b[0;34m**\u001b[0m\u001b[0mkwargs\u001b[0m\u001b[0;34m)\u001b[0m\u001b[0;34m\u001b[0m\u001b[0;34m\u001b[0m\u001b[0m\n\u001b[0m\u001b[1;32m   1052\u001b[0m         \u001b[0;31m# Do not call functions when jit is used\u001b[0m\u001b[0;34m\u001b[0m\u001b[0;34m\u001b[0m\u001b[0;34m\u001b[0m\u001b[0m\n\u001b[1;32m   1053\u001b[0m         \u001b[0mfull_backward_hooks\u001b[0m\u001b[0;34m,\u001b[0m \u001b[0mnon_full_backward_hooks\u001b[0m \u001b[0;34m=\u001b[0m \u001b[0;34m[\u001b[0m\u001b[0;34m]\u001b[0m\u001b[0;34m,\u001b[0m \u001b[0;34m[\u001b[0m\u001b[0;34m]\u001b[0m\u001b[0;34m\u001b[0m\u001b[0;34m\u001b[0m\u001b[0m\n",
      "\u001b[0;32m~/anaconda3/envs/aifnet/lib/python3.9/site-packages/torch/nn/modules/container.py\u001b[0m in \u001b[0;36mforward\u001b[0;34m(self, input)\u001b[0m\n\u001b[1;32m    137\u001b[0m     \u001b[0;32mdef\u001b[0m \u001b[0mforward\u001b[0m\u001b[0;34m(\u001b[0m\u001b[0mself\u001b[0m\u001b[0;34m,\u001b[0m \u001b[0minput\u001b[0m\u001b[0;34m)\u001b[0m\u001b[0;34m:\u001b[0m\u001b[0;34m\u001b[0m\u001b[0;34m\u001b[0m\u001b[0m\n\u001b[1;32m    138\u001b[0m         \u001b[0;32mfor\u001b[0m \u001b[0mmodule\u001b[0m \u001b[0;32min\u001b[0m \u001b[0mself\u001b[0m\u001b[0;34m:\u001b[0m\u001b[0;34m\u001b[0m\u001b[0;34m\u001b[0m\u001b[0m\n\u001b[0;32m--> 139\u001b[0;31m             \u001b[0minput\u001b[0m \u001b[0;34m=\u001b[0m \u001b[0mmodule\u001b[0m\u001b[0;34m(\u001b[0m\u001b[0minput\u001b[0m\u001b[0;34m)\u001b[0m\u001b[0;34m\u001b[0m\u001b[0;34m\u001b[0m\u001b[0m\n\u001b[0m\u001b[1;32m    140\u001b[0m         \u001b[0;32mreturn\u001b[0m \u001b[0minput\u001b[0m\u001b[0;34m\u001b[0m\u001b[0;34m\u001b[0m\u001b[0m\n\u001b[1;32m    141\u001b[0m \u001b[0;34m\u001b[0m\u001b[0m\n",
      "\u001b[0;32m~/anaconda3/envs/aifnet/lib/python3.9/site-packages/torch/nn/modules/module.py\u001b[0m in \u001b[0;36m_call_impl\u001b[0;34m(self, *input, **kwargs)\u001b[0m\n\u001b[1;32m   1049\u001b[0m         if not (self._backward_hooks or self._forward_hooks or self._forward_pre_hooks or _global_backward_hooks\n\u001b[1;32m   1050\u001b[0m                 or _global_forward_hooks or _global_forward_pre_hooks):\n\u001b[0;32m-> 1051\u001b[0;31m             \u001b[0;32mreturn\u001b[0m \u001b[0mforward_call\u001b[0m\u001b[0;34m(\u001b[0m\u001b[0;34m*\u001b[0m\u001b[0minput\u001b[0m\u001b[0;34m,\u001b[0m \u001b[0;34m**\u001b[0m\u001b[0mkwargs\u001b[0m\u001b[0;34m)\u001b[0m\u001b[0;34m\u001b[0m\u001b[0;34m\u001b[0m\u001b[0m\n\u001b[0m\u001b[1;32m   1052\u001b[0m         \u001b[0;31m# Do not call functions when jit is used\u001b[0m\u001b[0;34m\u001b[0m\u001b[0;34m\u001b[0m\u001b[0;34m\u001b[0m\u001b[0m\n\u001b[1;32m   1053\u001b[0m         \u001b[0mfull_backward_hooks\u001b[0m\u001b[0;34m,\u001b[0m \u001b[0mnon_full_backward_hooks\u001b[0m \u001b[0;34m=\u001b[0m \u001b[0;34m[\u001b[0m\u001b[0;34m]\u001b[0m\u001b[0;34m,\u001b[0m \u001b[0;34m[\u001b[0m\u001b[0;34m]\u001b[0m\u001b[0;34m\u001b[0m\u001b[0;34m\u001b[0m\u001b[0m\n",
      "\u001b[0;32m~/anaconda3/envs/aifnet/lib/python3.9/site-packages/torch/nn/modules/activation.py\u001b[0m in \u001b[0;36mforward\u001b[0;34m(self, input)\u001b[0m\n\u001b[1;32m    100\u001b[0m \u001b[0;34m\u001b[0m\u001b[0m\n\u001b[1;32m    101\u001b[0m     \u001b[0;32mdef\u001b[0m \u001b[0mforward\u001b[0m\u001b[0;34m(\u001b[0m\u001b[0mself\u001b[0m\u001b[0;34m,\u001b[0m \u001b[0minput\u001b[0m\u001b[0;34m:\u001b[0m \u001b[0mTensor\u001b[0m\u001b[0;34m)\u001b[0m \u001b[0;34m->\u001b[0m \u001b[0mTensor\u001b[0m\u001b[0;34m:\u001b[0m\u001b[0;34m\u001b[0m\u001b[0;34m\u001b[0m\u001b[0m\n\u001b[0;32m--> 102\u001b[0;31m         \u001b[0;32mreturn\u001b[0m \u001b[0mF\u001b[0m\u001b[0;34m.\u001b[0m\u001b[0mrelu\u001b[0m\u001b[0;34m(\u001b[0m\u001b[0minput\u001b[0m\u001b[0;34m,\u001b[0m \u001b[0minplace\u001b[0m\u001b[0;34m=\u001b[0m\u001b[0mself\u001b[0m\u001b[0;34m.\u001b[0m\u001b[0minplace\u001b[0m\u001b[0;34m)\u001b[0m\u001b[0;34m\u001b[0m\u001b[0;34m\u001b[0m\u001b[0m\n\u001b[0m\u001b[1;32m    103\u001b[0m \u001b[0;34m\u001b[0m\u001b[0m\n\u001b[1;32m    104\u001b[0m     \u001b[0;32mdef\u001b[0m \u001b[0mextra_repr\u001b[0m\u001b[0;34m(\u001b[0m\u001b[0mself\u001b[0m\u001b[0;34m)\u001b[0m \u001b[0;34m->\u001b[0m \u001b[0mstr\u001b[0m\u001b[0;34m:\u001b[0m\u001b[0;34m\u001b[0m\u001b[0;34m\u001b[0m\u001b[0m\n",
      "\u001b[0;32m~/anaconda3/envs/aifnet/lib/python3.9/site-packages/torch/nn/functional.py\u001b[0m in \u001b[0;36mrelu\u001b[0;34m(input, inplace)\u001b[0m\n\u001b[1;32m   1296\u001b[0m         \u001b[0mresult\u001b[0m \u001b[0;34m=\u001b[0m \u001b[0mtorch\u001b[0m\u001b[0;34m.\u001b[0m\u001b[0mrelu_\u001b[0m\u001b[0;34m(\u001b[0m\u001b[0minput\u001b[0m\u001b[0;34m)\u001b[0m\u001b[0;34m\u001b[0m\u001b[0;34m\u001b[0m\u001b[0m\n\u001b[1;32m   1297\u001b[0m     \u001b[0;32melse\u001b[0m\u001b[0;34m:\u001b[0m\u001b[0;34m\u001b[0m\u001b[0;34m\u001b[0m\u001b[0m\n\u001b[0;32m-> 1298\u001b[0;31m         \u001b[0mresult\u001b[0m \u001b[0;34m=\u001b[0m \u001b[0mtorch\u001b[0m\u001b[0;34m.\u001b[0m\u001b[0mrelu\u001b[0m\u001b[0;34m(\u001b[0m\u001b[0minput\u001b[0m\u001b[0;34m)\u001b[0m\u001b[0;34m\u001b[0m\u001b[0;34m\u001b[0m\u001b[0m\n\u001b[0m\u001b[1;32m   1299\u001b[0m     \u001b[0;32mreturn\u001b[0m \u001b[0mresult\u001b[0m\u001b[0;34m\u001b[0m\u001b[0;34m\u001b[0m\u001b[0m\n\u001b[1;32m   1300\u001b[0m \u001b[0;34m\u001b[0m\u001b[0m\n",
      "\u001b[0;31mRuntimeError\u001b[0m: CUDA out of memory. Tried to allocate 1024.00 MiB (GPU 0; 7.93 GiB total capacity; 4.63 GiB already allocated; 544.19 MiB free; 5.61 GiB reserved in total by PyTorch)"
     ]
    }
   ],
   "source": [
    "pvol = get_Pvol(torch.tensor(X[np.newaxis,:,:,:,:]).to(device), model)\n",
    "pvol = pvol.to('cpu').detach().numpy()\n"
   ]
  },
  {
   "cell_type": "code",
   "execution_count": 72,
   "id": "e3f7c93a",
   "metadata": {},
   "outputs": [],
   "source": [
    "pvol = pvol[0,0,:,:,:].T"
   ]
  },
  {
   "cell_type": "code",
   "execution_count": 73,
   "id": "d8fedcd8",
   "metadata": {},
   "outputs": [
    {
     "data": {
      "text/plain": [
       "(256, 256, 16)"
      ]
     },
     "execution_count": 73,
     "metadata": {},
     "output_type": "execute_result"
    }
   ],
   "source": [
    "pvol.shape"
   ]
  },
  {
   "cell_type": "code",
   "execution_count": 74,
   "id": "c153ef01",
   "metadata": {},
   "outputs": [],
   "source": [
    "from aifnet_utils.deconv import save_nifti_from_array_and_referenceHeader"
   ]
  },
  {
   "cell_type": "code",
   "execution_count": 75,
   "id": "271a63a0",
   "metadata": {},
   "outputs": [
    {
     "data": {
      "text/plain": [
       "{'346172': '/media/sebastian/data/ASAP/ISLES2018_Training/TRAINING/case_90/SMIR.Brain.XX.O.CT_4DPWI.346172/SMIR.Brain.XX.O.CT_4DPWI.346172.nii',\n",
       " '345808': '/media/sebastian/data/ASAP/ISLES2018_Training/TRAINING/case_38/SMIR.Brain.XX.O.CT_4DPWI.345808/SMIR.Brain.XX.O.CT_4DPWI.345808.nii',\n",
       " '346137': '/media/sebastian/data/ASAP/ISLES2018_Training/TRAINING/case_85/SMIR.Brain.XX.O.CT_4DPWI.346137/SMIR.Brain.XX.O.CT_4DPWI.346137.nii',\n",
       " '345561': '/media/sebastian/data/ASAP/ISLES2018_Training/TRAINING/case_1/SMIR.Brain.XX.O.CT_4DPWI.345561/SMIR.Brain.XX.O.CT_4DPWI.345561.nii',\n",
       " '345568': '/media/sebastian/data/ASAP/ISLES2018_Training/TRAINING/case_2/SMIR.Brain.XX.O.CT_4DPWI.345568/SMIR.Brain.XX.O.CT_4DPWI.345568.nii',\n",
       " '345990': '/media/sebastian/data/ASAP/ISLES2018_Training/TRAINING/case_64/SMIR.Brain.XX.O.CT_4DPWI.345990/SMIR.Brain.XX.O.CT_4DPWI.345990.nii',\n",
       " '345997': '/media/sebastian/data/ASAP/ISLES2018_Training/TRAINING/case_65/SMIR.Brain.XX.O.CT_4DPWI.345997/SMIR.Brain.XX.O.CT_4DPWI.345997.nii',\n",
       " '346200': '/media/sebastian/data/ASAP/ISLES2018_Training/TRAINING/case_94/SMIR.Brain.XX.O.CT_4DPWI.346200/SMIR.Brain.XX.O.CT_4DPWI.346200.nii',\n",
       " '346290': '/media/sebastian/data/ASAP/ISLES2018_Training/TESTING/case_1/SMIR.Brain.XX.O.CT_4DPWI.346290/SMIR.Brain.XX.O.CT_4DPWI.346290.nii',\n",
       " '346299': '/media/sebastian/data/ASAP/ISLES2018_Training/TESTING/case_2/SMIR.Brain.XX.O.CT_4DPWI.346299/SMIR.Brain.XX.O.CT_4DPWI.346299.nii',\n",
       " '346661': '/media/sebastian/data/ASAP/ISLES2018_Training/TESTING/case_39/SMIR.Brain.XX.O.CT_4DPWI.346661/SMIR.Brain.XX.O.CT_4DPWI.346661.nii',\n",
       " '346668': '/media/sebastian/data/ASAP/ISLES2018_Training/TESTING/case_40/SMIR.Brain.XX.O.CT_4DPWI.346668/SMIR.Brain.XX.O.CT_4DPWI.346668.nii',\n",
       " '346605': '/media/sebastian/data/ASAP/ISLES2018_Training/TESTING/case_31/SMIR.Brain.XX.O.CT_4DPWI.346605/SMIR.Brain.XX.O.CT_4DPWI.346605.nii'}"
      ]
     },
     "execution_count": 75,
     "metadata": {},
     "output_type": "execute_result"
    }
   ],
   "source": [
    "dataloader.fold_img_paths"
   ]
  },
  {
   "cell_type": "code",
   "execution_count": 76,
   "id": "5cf4f8fa",
   "metadata": {
    "scrolled": true
   },
   "outputs": [
    {
     "data": {
      "text/html": [
       "<div>\n",
       "<style scoped>\n",
       "    .dataframe tbody tr th:only-of-type {\n",
       "        vertical-align: middle;\n",
       "    }\n",
       "\n",
       "    .dataframe tbody tr th {\n",
       "        vertical-align: top;\n",
       "    }\n",
       "\n",
       "    .dataframe thead th {\n",
       "        text-align: right;\n",
       "    }\n",
       "</style>\n",
       "<table border=\"1\" class=\"dataframe\">\n",
       "  <thead>\n",
       "    <tr style=\"text-align: right;\">\n",
       "      <th></th>\n",
       "      <th>imageID</th>\n",
       "      <th>AIFx</th>\n",
       "      <th>AIFy</th>\n",
       "      <th>AIFz</th>\n",
       "      <th>VOFx</th>\n",
       "      <th>VOFy</th>\n",
       "      <th>VOFz</th>\n",
       "    </tr>\n",
       "  </thead>\n",
       "  <tbody>\n",
       "    <tr>\n",
       "      <th>0</th>\n",
       "      <td>346290</td>\n",
       "      <td>82</td>\n",
       "      <td>141</td>\n",
       "      <td>0</td>\n",
       "      <td>138</td>\n",
       "      <td>58</td>\n",
       "      <td>1</td>\n",
       "    </tr>\n",
       "    <tr>\n",
       "      <th>1</th>\n",
       "      <td>346299</td>\n",
       "      <td>126</td>\n",
       "      <td>170</td>\n",
       "      <td>0</td>\n",
       "      <td>138</td>\n",
       "      <td>41</td>\n",
       "      <td>0</td>\n",
       "    </tr>\n",
       "    <tr>\n",
       "      <th>25</th>\n",
       "      <td>346605</td>\n",
       "      <td>87</td>\n",
       "      <td>129</td>\n",
       "      <td>0</td>\n",
       "      <td>138</td>\n",
       "      <td>49</td>\n",
       "      <td>0</td>\n",
       "    </tr>\n",
       "    <tr>\n",
       "      <th>33</th>\n",
       "      <td>346661</td>\n",
       "      <td>140</td>\n",
       "      <td>181</td>\n",
       "      <td>0</td>\n",
       "      <td>121</td>\n",
       "      <td>28</td>\n",
       "      <td>1</td>\n",
       "    </tr>\n",
       "    <tr>\n",
       "      <th>34</th>\n",
       "      <td>346668</td>\n",
       "      <td>79</td>\n",
       "      <td>115</td>\n",
       "      <td>0</td>\n",
       "      <td>121</td>\n",
       "      <td>26</td>\n",
       "      <td>0</td>\n",
       "    </tr>\n",
       "    <tr>\n",
       "      <th>57</th>\n",
       "      <td>345561</td>\n",
       "      <td>143</td>\n",
       "      <td>139</td>\n",
       "      <td>0</td>\n",
       "      <td>128</td>\n",
       "      <td>50</td>\n",
       "      <td>0</td>\n",
       "    </tr>\n",
       "    <tr>\n",
       "      <th>58</th>\n",
       "      <td>345568</td>\n",
       "      <td>122</td>\n",
       "      <td>147</td>\n",
       "      <td>0</td>\n",
       "      <td>125</td>\n",
       "      <td>30</td>\n",
       "      <td>0</td>\n",
       "    </tr>\n",
       "    <tr>\n",
       "      <th>94</th>\n",
       "      <td>345808</td>\n",
       "      <td>171</td>\n",
       "      <td>122</td>\n",
       "      <td>0</td>\n",
       "      <td>137</td>\n",
       "      <td>10</td>\n",
       "      <td>1</td>\n",
       "    </tr>\n",
       "    <tr>\n",
       "      <th>120</th>\n",
       "      <td>345990</td>\n",
       "      <td>114</td>\n",
       "      <td>163</td>\n",
       "      <td>0</td>\n",
       "      <td>152</td>\n",
       "      <td>22</td>\n",
       "      <td>1</td>\n",
       "    </tr>\n",
       "    <tr>\n",
       "      <th>121</th>\n",
       "      <td>345997</td>\n",
       "      <td>126</td>\n",
       "      <td>147</td>\n",
       "      <td>0</td>\n",
       "      <td>146</td>\n",
       "      <td>15</td>\n",
       "      <td>1</td>\n",
       "    </tr>\n",
       "    <tr>\n",
       "      <th>141</th>\n",
       "      <td>346137</td>\n",
       "      <td>136</td>\n",
       "      <td>130</td>\n",
       "      <td>4</td>\n",
       "      <td>123</td>\n",
       "      <td>38</td>\n",
       "      <td>6</td>\n",
       "    </tr>\n",
       "    <tr>\n",
       "      <th>146</th>\n",
       "      <td>346172</td>\n",
       "      <td>126</td>\n",
       "      <td>142</td>\n",
       "      <td>6</td>\n",
       "      <td>127</td>\n",
       "      <td>28</td>\n",
       "      <td>7</td>\n",
       "    </tr>\n",
       "    <tr>\n",
       "      <th>150</th>\n",
       "      <td>346200</td>\n",
       "      <td>165</td>\n",
       "      <td>105</td>\n",
       "      <td>1</td>\n",
       "      <td>133</td>\n",
       "      <td>43</td>\n",
       "      <td>6</td>\n",
       "    </tr>\n",
       "  </tbody>\n",
       "</table>\n",
       "</div>"
      ],
      "text/plain": [
       "     imageID  AIFx  AIFy  AIFz  VOFx  VOFy  VOFz\n",
       "0     346290    82   141     0   138    58     1\n",
       "1     346299   126   170     0   138    41     0\n",
       "25    346605    87   129     0   138    49     0\n",
       "33    346661   140   181     0   121    28     1\n",
       "34    346668    79   115     0   121    26     0\n",
       "57    345561   143   139     0   128    50     0\n",
       "58    345568   122   147     0   125    30     0\n",
       "94    345808   171   122     0   137    10     1\n",
       "120   345990   114   163     0   152    22     1\n",
       "121   345997   126   147     0   146    15     1\n",
       "141   346137   136   130     4   123    38     6\n",
       "146   346172   126   142     6   127    28     7\n",
       "150   346200   165   105     1   133    43     6"
      ]
     },
     "execution_count": 76,
     "metadata": {},
     "output_type": "execute_result"
    }
   ],
   "source": [
    "dataloader.img_labels"
   ]
  },
  {
   "cell_type": "code",
   "execution_count": 77,
   "id": "fd218c1f",
   "metadata": {},
   "outputs": [],
   "source": [
    "save_nifti_from_array_and_referenceHeader(pvol,'/media/sebastian/data/ASAP/ISLES2018_Training/TRAINING/case_94/SMIR.Brain.XX.O.CT_4DPWI.346200/SMIR.Brain.XX.O.CT_4DPWI.346200.nii','test_pvol.nii')"
   ]
  },
  {
   "cell_type": "code",
   "execution_count": 51,
   "id": "e105ed77",
   "metadata": {},
   "outputs": [],
   "source": [
    "save_nifti_from_array_and_referenceHeader??"
   ]
  },
  {
   "cell_type": "code",
   "execution_count": 53,
   "id": "683a6244",
   "metadata": {},
   "outputs": [
    {
     "name": "stdout",
     "output_type": "stream",
     "text": [
      "/home/sebastian/experiments/aifnet_replication\r\n"
     ]
    }
   ],
   "source": [
    "!pwd"
   ]
  },
  {
   "cell_type": "code",
   "execution_count": null,
   "id": "d38ac386",
   "metadata": {},
   "outputs": [],
   "source": []
  }
 ],
 "metadata": {
  "kernelspec": {
   "display_name": "Python 3",
   "language": "python",
   "name": "python3"
  },
  "language_info": {
   "codemirror_mode": {
    "name": "ipython",
    "version": 3
   },
   "file_extension": ".py",
   "mimetype": "text/x-python",
   "name": "python",
   "nbconvert_exporter": "python",
   "pygments_lexer": "ipython3",
   "version": "3.9.6"
  }
 },
 "nbformat": 4,
 "nbformat_minor": 5
}
