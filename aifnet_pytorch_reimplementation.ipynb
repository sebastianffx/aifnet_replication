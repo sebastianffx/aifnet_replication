{
 "cells": [
  {
   "cell_type": "code",
   "execution_count": 160,
   "id": "56f95dfd",
   "metadata": {},
   "outputs": [],
   "source": [
    "import pandas as pd\n",
    "import numpy as np\n",
    "import os\n",
    "import pandas as pd\n",
    "from torchvision.io import read_image\n",
    "# for reading and displaying images\n",
    "import matplotlib.pyplot as plt\n",
    "\n",
    "# for creating validation set\n",
    "from sklearn.model_selection import train_test_split\n",
    "# for evaluating the model\n",
    "from sklearn.metrics import accuracy_score\n",
    "import nibabel as nib\n",
    "import glob\n",
    "import random\n",
    "import numpy as np\n",
    "import os\n",
    "from natsort import natsorted\n",
    "\n",
    "# PyTorch libraries and modules\n",
    "import torch\n",
    "from torch.autograd import Variable\n",
    "import torch.nn as nn\n",
    "import torch.nn.functional as F\n",
    "from torch.optim import *\n",
    "import h5py\n",
    "from torch.utils.data import Dataset\n",
    "from torchvision import datasets\n",
    "from torchvision import transforms\n",
    "from torchvision.transforms import ToTensor\n",
    "\n",
    "import matplotlib.pyplot as plt\n",
    "from torch.utils.data import DataLoader\n",
    "\n",
    "from aifnet_utils.preprocess import normalize_aif, normalize_single_volume, normalize_zero_one, normalize_volumes_in_sequence\n",
    "from aifnet_utils.data_loaders import delay_sequence_padding, anticipate_sequence_padding, late_bolus, early_bolus\n",
    "from aifnet_utils.deconv import save_nifti_from_array_and_referenceHeader\n",
    "from torch_intermediate_layer_getter import IntermediateLayerGetter as MidGetter\n",
    "%matplotlib inline\n"
   ]
  },
  {
   "cell_type": "code",
   "execution_count": 2,
   "id": "ea7bda18",
   "metadata": {
    "scrolled": true
   },
   "outputs": [
    {
     "name": "stdout",
     "output_type": "stream",
     "text": [
      "Using cuda:0 device\n"
     ]
    }
   ],
   "source": [
    "use_cuda = torch.cuda.is_available()\n",
    "device = torch.device(\"cuda:0\" if use_cuda else \"cpu\")\n",
    "print(\"Using {} device\".format(device))\n",
    "\n",
    "#Reading an example PCT volume\n",
    "LOCATION = 'INSEL'\n",
    "\n",
    "if LOCATION == 'HOME':\n",
    "    ROOT_EXP = '/Users/admin/work/aifnet_replication-main'\n",
    "    root_dir  = '/Users/admin/work/data/'\n",
    "\n",
    "\n",
    "if LOCATION == 'LOCAL':\n",
    "    ROOT_EXP = '/Users/sebastianotalora/work/postdoc/ctp/aifnet_replication/'\n",
    "    root_dir  = '/Users/sebastianotalora/work/postdoc/data/ISLES/'\n",
    "\n",
    "if LOCATION == 'INSEL':\n",
    "    ROOT_EXP = '/home/sebastian/experiments/aifnet_replication/'\n",
    "    root_dir  = '/media/sebastian/data/ASAP/ISLES2018_Training'\n",
    "\n",
    "if LOCATION == 'SERVER':\n",
    "    ROOT_EXP = '/home/sotalora/aifnet_replication/'\n",
    "    root_dir     = '/data/images/sotalora/ISLES18/'\n",
    "\n",
    "aif_annotations_path = ROOT_EXP + 'radiologist_annotations.csv'\n",
    "\n",
    "\n",
    "aif_annotations_path = ROOT_EXP + '/radiologist_annotations_cleaned.csv'#'radiologist_annotations.csv'#'annotated_aif_vof_complete_revised.csv'\n",
    "min_num_volumes_ctp = 43\n"
   ]
  },
  {
   "cell_type": "code",
   "execution_count": 3,
   "id": "939c30a4",
   "metadata": {},
   "outputs": [],
   "source": [
    "class ISLESDataset(Dataset):\n",
    "    def __init__(self, annotations_file, partition_file_path, \n",
    "                 minimum_number_volumes_ctp, img_dir, vascular_fn='AIF',\n",
    "                 transform=None, target_transform=normalize_zero_one,\n",
    "                 augment = True, delay_t=None):\n",
    "        self.img_dir = img_dir\n",
    "        self.transform = transform\n",
    "        self.augment = augment\n",
    "        self.delay_t = delay_t\n",
    "        self.target_transform = target_transform\n",
    "        self.minimum_number_volumes_ctp = minimum_number_volumes_ctp\n",
    "        dataset_dir = os.path.join(img_dir, \"TRAINING\")\n",
    "        dataset_dir_test = os.path.join(img_dir, \"TESTING\")\n",
    "        self.filenames_4D = natsorted(glob.glob(dataset_dir + \"/case_*/*4D*/*nii*\") + glob.glob(dataset_dir_test + \"/case_*/*4D*/*nii*\"))\n",
    "        self.cases_paths = {path.split('.')[-2]: path for path in self.filenames_4D}\n",
    "        self.vascular_fn = vascular_fn\n",
    "        partition_file = open(partition_file_path,'r')\n",
    "        relevant_cases = []\n",
    "        for line in partition_file:\n",
    "            relevant_cases.append(line.split('.')[-2])\n",
    "        partition_file.close()\n",
    "        self.fold_img_paths = {key: self.cases_paths[key] for key in relevant_cases}\n",
    "        self.fold_ids = [int(valid_indx) for valid_indx in list(self.fold_img_paths.keys())]\n",
    "        self.all_labels = pd.read_csv(aif_annotations_path) \n",
    "        self.img_labels = self.all_labels[self.all_labels['imageID'].isin(self.fold_ids)]\n",
    "        #print(self.fold_img_paths)\n",
    "        \n",
    "    def __len__(self):\n",
    "        return len(self.fold_img_paths)\n",
    "\n",
    "    def __getitem__(self, idx):\n",
    "        img_id = str(self.img_labels.iloc[idx]['imageID'])\n",
    "        img_path = self.fold_img_paths[img_id]\n",
    "        image = read_volume_sequence(img_path,self.minimum_number_volumes_ctp)\n",
    "        image = normalize_volumes_in_sequence(image)#Normalizing the whole sequence\n",
    "            \n",
    "        if 'cpu' in device.type:\n",
    "            image = np.array(image,dtype=np.double)# CPU torch likes double type  \n",
    "        if 'cuda' in device.type:\n",
    "            image = np.array(image,dtype=np.float32)# GPU has less precision\n",
    "        AIF = image[self.img_labels.iloc[idx]['AIFx'],self.img_labels.iloc[idx]['AIFy'],self.img_labels.iloc[idx]['AIFz'],:]\n",
    "        VOF = image[self.img_labels.iloc[idx]['VOFx'],self.img_labels.iloc[idx]['VOFy'],self.img_labels.iloc[idx]['VOFz'],:]\n",
    "        label = AIF #By default return only the AIF\n",
    "        \n",
    "        if self.augment:\n",
    "            augment_functions = [early_bolus,late_bolus]\n",
    "            random_augmentation = random.choice(augment_functions)\n",
    "            if self.delay_t == None:\n",
    "                self.delay_t = np.random.randint(0,6)\n",
    "                #print(\"Voy a aumentar con un delaz de \" + str(self.delay_t))\n",
    "            image, label = random_augmentation(image,label, self.delay_t)\n",
    "\n",
    "\n",
    "        if self.transform:\n",
    "            image = self.transform(image)\n",
    "        if self.target_transform:\n",
    "            label = self.target_transform(label)\n",
    "        if self.vascular_fn == 'VOF':\n",
    "            label = VOF\n",
    "        return torch.tensor(image.T), torch.tensor(label) #transpose since torch is happy when channels first\n",
    "    \n",
    "\n",
    "def read_volume_sequence(fname,minimum_number_volumes_ctp):\n",
    "        cur_nib = nib.load(fname)\n",
    "        ctp_vals = cur_nib.get_fdata()\n",
    "        volume_sequence = ctp_vals[:,:,:,0:minimum_number_volumes_ctp]\n",
    "        return volume_sequence"
   ]
  },
  {
   "cell_type": "code",
   "execution_count": 4,
   "id": "eace6ff0",
   "metadata": {},
   "outputs": [],
   "source": [
    "data_transforms = {\n",
    "    'train': transforms.Compose([\n",
    "        transforms.ToTensor()\n",
    "    ]),\n",
    "    'val': transforms.Compose([\n",
    "        transforms.ToTensor()\n",
    "    ]),\n",
    "}"
   ]
  },
  {
   "cell_type": "code",
   "execution_count": 5,
   "id": "b3d5926b",
   "metadata": {},
   "outputs": [],
   "source": [
    "annotations_file = aif_annotations_path\n",
    "current_fold = 1\n",
    "minimum_number_volumes_ctp = 43\n",
    "partition_file_training = ROOT_EXP + '/partitions_cleaned/fold_'+str(current_fold)+'/train_v2.txt'\n",
    "partition_file_valid = ROOT_EXP + '/partitions_cleaned/fold_'+str(current_fold)+'/valid_v2.txt'\n",
    "partition_file_test = ROOT_EXP + '/partitions_cleaned/fold_'+str(current_fold)+'/test_v2.txt'\n",
    "\n",
    "training_data = ISLESDataset(\n",
    "annotations_file, partition_file_training, \n",
    "                 minimum_number_volumes_ctp, root_dir, vascular_fn='AIF',\n",
    "                 transform=None, target_transform=normalize_zero_one\n",
    ")\n",
    "valid_data = ISLESDataset(\n",
    "annotations_file, partition_file_valid, \n",
    "                 minimum_number_volumes_ctp, root_dir, vascular_fn='AIF',\n",
    "                 transform=None, target_transform=normalize_zero_one, augment=False\n",
    "\n",
    ")\n",
    "test_data = ISLESDataset(\n",
    "annotations_file, partition_file_test, \n",
    "                 minimum_number_volumes_ctp, root_dir, vascular_fn='AIF',\n",
    "                 transform=None, target_transform=normalize_zero_one, augment=False\n",
    "\n",
    ")\n"
   ]
  },
  {
   "cell_type": "code",
   "execution_count": 170,
   "id": "9c3fb441",
   "metadata": {},
   "outputs": [],
   "source": [
    "sample_idx = torch.randint(100, size=(1,)).item()\n",
    "img, label = training_data[sample_idx]\n"
   ]
  },
  {
   "cell_type": "code",
   "execution_count": 171,
   "id": "91133d07",
   "metadata": {},
   "outputs": [
    {
     "data": {
      "text/plain": [
       "torch.float32"
      ]
     },
     "execution_count": 171,
     "metadata": {},
     "output_type": "execute_result"
    }
   ],
   "source": [
    "img.dtype"
   ]
  },
  {
   "cell_type": "code",
   "execution_count": 172,
   "id": "4c678094",
   "metadata": {},
   "outputs": [
    {
     "data": {
      "text/plain": [
       "<matplotlib.image.AxesImage at 0x7fa251b8eee0>"
      ]
     },
     "execution_count": 172,
     "metadata": {},
     "output_type": "execute_result"
    },
    {
     "data": {
      "image/png": "[encoded data removed]",
      "text/plain": [
       "<Figure size 432x288 with 1 Axes>"
      ]
     },
     "metadata": {
      "needs_background": "light"
     },
     "output_type": "display_data"
    }
   ],
   "source": [
    "plt.imshow(img[0,1,:,:],cmap='jet')"
   ]
  },
  {
   "cell_type": "code",
   "execution_count": 173,
   "id": "1fb43665",
   "metadata": {
    "scrolled": true
   },
   "outputs": [
    {
     "name": "stdout",
     "output_type": "stream",
     "text": [
      "(43,) torch.Size([43, 2, 256, 256])\n"
     ]
    }
   ],
   "source": [
    "print(np.array(label.cpu()).shape, img.shape)"
   ]
  },
  {
   "cell_type": "code",
   "execution_count": 174,
   "id": "e4cce400",
   "metadata": {},
   "outputs": [
    {
     "data": {
      "text/plain": [
       "Text(0, 0.5, 'Normalized Density (HU)')"
      ]
     },
     "execution_count": 174,
     "metadata": {},
     "output_type": "execute_result"
    },
    {
     "data": {
      "image/png": "[encoded data removed]",
      "text/plain": [
       "<Figure size 432x288 with 1 Axes>"
      ]
     },
     "metadata": {
      "needs_background": "light"
     },
     "output_type": "display_data"
    }
   ],
   "source": [
    "plt.title('AIF')        \n",
    "#y = normalize_zero_one(aif)\n",
    "#y_p = normalize_zero_one(vof)\n",
    "#plt.plot(mu_voi)\n",
    "#plt.plot(y_p)\n",
    "plt.plot(label.cpu().numpy())\n",
    "plt.legend([ 'AIF','VOF'])\n",
    "plt.xlabel('Time (s)')\n",
    "plt.ylabel('Normalized Density (HU)')\n"
   ]
  },
  {
   "cell_type": "code",
   "execution_count": 175,
   "id": "2a902175",
   "metadata": {},
   "outputs": [],
   "source": [
    "train_dataloader = DataLoader(training_data, batch_size=1, shuffle=True)\n",
    "valid_dataloader = DataLoader(valid_data, batch_size=1, shuffle=False)\n",
    "test_dataloader  = DataLoader(test_data, batch_size=1, shuffle=False)\n"
   ]
  },
  {
   "cell_type": "code",
   "execution_count": 177,
   "id": "571b8bd4",
   "metadata": {},
   "outputs": [
    {
     "data": {
      "text/plain": [
       "torch.Size([1, 43])"
      ]
     },
     "execution_count": 177,
     "metadata": {},
     "output_type": "execute_result"
    }
   ],
   "source": [
    "example_features, example_labels = next(iter(train_dataloader))\n",
    "example_labels.shape"
   ]
  },
  {
   "cell_type": "code",
   "execution_count": 178,
   "id": "0250c0d6",
   "metadata": {
    "scrolled": true
   },
   "outputs": [
    {
     "data": {
      "text/plain": [
       "torch.Size([1, 43, 2, 256, 256])"
      ]
     },
     "execution_count": 178,
     "metadata": {},
     "output_type": "execute_result"
    }
   ],
   "source": [
    "example_features.shape"
   ]
  },
  {
   "cell_type": "code",
   "execution_count": 179,
   "id": "923338d6",
   "metadata": {},
   "outputs": [
    {
     "name": "stdout",
     "output_type": "stream",
     "text": [
      "AIFNet(\n",
      "  (firstConv3d): Sequential(\n",
      "    (0): Conv3d(43, 16, kernel_size=(1, 3, 3), stride=(1, 1, 1), padding=(0, 1, 1))\n",
      "    (1): ReLU()\n",
      "  )\n",
      "  (secondConv3d): Sequential(\n",
      "    (0): Conv3d(16, 32, kernel_size=(1, 3, 3), stride=(1, 1, 1), padding=(0, 1, 1))\n",
      "    (1): ReLU()\n",
      "  )\n",
      "  (thirdConv3d): Sequential(\n",
      "    (0): Conv3d(32, 64, kernel_size=(1, 3, 3), stride=(1, 1, 1), padding=(0, 1, 1))\n",
      "    (1): ReLU()\n",
      "  )\n",
      "  (fourthConv3d): Sequential(\n",
      "    (0): Conv3d(64, 128, kernel_size=(1, 3, 3), stride=(1, 1, 1), padding=(0, 1, 1))\n",
      "    (1): ReLU()\n",
      "  )\n",
      "  (Lout): Sequential(\n",
      "    (0): Conv3d(128, 1, kernel_size=(1, 3, 3), stride=(1, 1, 1), padding=(0, 1, 1))\n",
      "    (1): ReLU()\n",
      "  )\n",
      "  (softmax3d): Softmax(dim=0)\n",
      ")\n"
     ]
    }
   ],
   "source": [
    "# Define model\n",
    "class AIFNet(nn.Module):\n",
    "    def __init__(self):\n",
    "        super(AIFNet, self).__init__()\n",
    "        \n",
    "        self.firstConv3d  = self._conv3d_relu(in_c=43, out_c=16, k_size=(1,3,3),pad_size=(0,1,1))\n",
    "        self.secondConv3d = self._conv3d_relu(in_c=16, out_c=32, k_size=(1,3,3),pad_size=(0,1,1))\n",
    "        self.thirdConv3d  = self._conv3d_relu(in_c=32, out_c=64, k_size=(1,3,3),pad_size=(0,1,1))\n",
    "        self.fourthConv3d = self._conv3d_relu(in_c=64, out_c=128, k_size=(1,3,3),pad_size=(0,1,1))\n",
    "        self.Lout         = self._conv3d_relu(in_c=128, out_c=1, k_size=(1,3,3),pad_size=(0,1,1))\n",
    "        self.softmax3d    = torch.nn.Softmax(dim=0)\n",
    "        \n",
    "    def _conv3d_relu(self, in_c, out_c, k_size,pad_size=0):\n",
    "        conv_layer = nn.Sequential(\n",
    "            nn.Conv3d(in_c, out_c, kernel_size=k_size,padding=pad_size,padding_mode='zeros'),\n",
    "            nn.ReLU()\n",
    "        )\n",
    "        return conv_layer        \n",
    "    def forward(self, input_x):\n",
    "        x = torch.tensor(input_x)\n",
    "        x = self.firstConv3d(input_x)\n",
    "        x = self.secondConv3d(x)\n",
    "        x = self.thirdConv3d(x)\n",
    "        x = self.fourthConv3d(x)\n",
    "        x = self.Lout(x)\n",
    "        pvol_shape = x.shape\n",
    "        Pvol = self.softmax3d(x.flatten())\n",
    "        Pvol = Pvol.reshape(pvol_shape)\n",
    "        voxelwise_mult = torch.mul(Pvol,input_x)\n",
    "        #print(voxelwise_mult.sum())\n",
    "        aif_hat = voxelwise_mult.mean(dim=(-3,-2,-1)) #This should be [N,TimePoints]\n",
    "        return aif_hat\n",
    "\n",
    "model = AIFNet().to(device)\n",
    "print(model)\n",
    "if 'cuda' in device.type:\n",
    "    model.double()"
   ]
  },
  {
   "cell_type": "code",
   "execution_count": 180,
   "id": "9122accd",
   "metadata": {},
   "outputs": [],
   "source": [
    "def get_Pvol(input_sequence, model):\n",
    "    return_layers = {'Lout': 'Lout'}\n",
    "    mid_getter = MidGetter(model, return_layers=return_layers, keep_output=True)\n",
    "    mid_outputs, model_output = mid_getter(input_sequence)\n",
    "    Pvol = mid_outputs['Lout']\n",
    "    pvol_shape = Pvol.shape\n",
    "    Pvol = model.softmax3d(Pvol.flatten())\n",
    "    Pvol = Pvol.reshape(pvol_shape)\n",
    "    return Pvol"
   ]
  },
  {
   "cell_type": "code",
   "execution_count": 16,
   "id": "266864c6",
   "metadata": {},
   "outputs": [],
   "source": [
    "def train_loop(dataloader, model, loss_fn, optimizer):\n",
    "    size = len(dataloader.dataset)\n",
    "    for batch, (X, y) in enumerate(dataloader):\n",
    "        #if X.shape[2] >4:\n",
    "        #    continue\n",
    "        #print(X.shape)\n",
    "        # Compute prediction and loss\n",
    "        pred = model(X.to(device))\n",
    "        loss = loss_fn(pred, y.to(device))\n",
    "\n",
    "        # Backpropagation\n",
    "        optimizer.zero_grad()\n",
    "        loss.backward()\n",
    "        optimizer.step()\n",
    "\n",
    "        if batch % 10 == 0:\n",
    "            loss, current = loss.item(), batch * len(X)\n",
    "            print(f\"loss: {loss:>7f}  [{current:>5d}/{size:>5d}]\")\n"
   ]
  },
  {
   "cell_type": "code",
   "execution_count": 17,
   "id": "049501b6",
   "metadata": {},
   "outputs": [],
   "source": [
    "def test_loop(dataloader, model, loss_fn):\n",
    "    size = len(dataloader)\n",
    "    num_batches = len(dataloader)\n",
    "    test_loss, correct = 0, 0\n",
    "\n",
    "    with torch.no_grad():\n",
    "        for X, y in dataloader:\n",
    "            pred = model(torch.tensor(X[np.newaxis,:,:,:,:]).to(device))\n",
    "            test_loss += loss_fn(pred, torch.tensor(y)).item()\n",
    "            correct += (pred.argmax(1) == torch.tensor(y)).type(torch.float).sum().item()\n",
    "        test_loss /= num_batches\n",
    "        correct /= size\n",
    "        print(f\"Test Error: \\n Accuracy: {(100*correct):>0.1f}%, Avg loss: {test_loss:>8f} \\n\")\n"
   ]
  },
  {
   "cell_type": "code",
   "execution_count": 25,
   "id": "ac74c8df",
   "metadata": {},
   "outputs": [
    {
     "data": {
      "text/plain": [
       "AIFNet(\n",
       "  (firstConv3d): Sequential(\n",
       "    (0): Conv3d(43, 16, kernel_size=(1, 3, 3), stride=(1, 1, 1), padding=(0, 1, 1))\n",
       "    (1): ReLU()\n",
       "  )\n",
       "  (secondConv3d): Sequential(\n",
       "    (0): Conv3d(16, 32, kernel_size=(1, 3, 3), stride=(1, 1, 1), padding=(0, 1, 1))\n",
       "    (1): ReLU()\n",
       "  )\n",
       "  (thirdConv3d): Sequential(\n",
       "    (0): Conv3d(32, 64, kernel_size=(1, 3, 3), stride=(1, 1, 1), padding=(0, 1, 1))\n",
       "    (1): ReLU()\n",
       "  )\n",
       "  (fourthConv3d): Sequential(\n",
       "    (0): Conv3d(64, 128, kernel_size=(1, 3, 3), stride=(1, 1, 1), padding=(0, 1, 1))\n",
       "    (1): ReLU()\n",
       "  )\n",
       "  (Lout): Sequential(\n",
       "    (0): Conv3d(128, 1, kernel_size=(1, 3, 3), stride=(1, 1, 1), padding=(0, 1, 1))\n",
       "    (1): ReLU()\n",
       "  )\n",
       "  (softmax3d): Softmax(dim=0)\n",
       ")"
      ]
     },
     "execution_count": 25,
     "metadata": {},
     "output_type": "execute_result"
    }
   ],
   "source": [
    "model.float()"
   ]
  },
  {
   "cell_type": "code",
   "execution_count": 26,
   "id": "ad8b7244",
   "metadata": {},
   "outputs": [],
   "source": [
    "def pearson_correl_loss(output, target,device='cuda'):\n",
    "    target = target.to(device)\n",
    "    output = output.to(device)\n",
    "    output = (output-output.min())/ (output.max()-output.min())\n",
    "    target = (target-target.min())/ (target.max()-target.min())\n",
    "    y_true_mean = torch.mean(target)\n",
    "    y_hat_mean = torch.mean(output)\n",
    "    y_true_var = torch.var(target)\n",
    "    y_hat_var = torch.var(output)\n",
    "    y_true_std = torch.std(target)\n",
    "    y_hat_std = torch.std(output)\n",
    "    vx = target - torch.mean(target)\n",
    "    vy = output - torch.mean(output)\n",
    "    pcc = torch.sum(vx * vy) / (torch.sqrt(torch.sum(vx ** 2) + 0.000001) * torch.sqrt(torch.sum(vy ** 2) + 0.000001))\n",
    "    ccc = (2 * pcc * y_true_std * y_hat_std)/(y_true_var + y_hat_var + (y_hat_mean - y_true_mean) ** 2)\n",
    "    ccc = 1 - ccc\n",
    "    loss = torch.mean((output - target)**2)\n",
    "    return loss"
   ]
  },
  {
   "cell_type": "code",
   "execution_count": 27,
   "id": "caa282cf",
   "metadata": {
    "scrolled": true
   },
   "outputs": [
    {
     "name": "stdout",
     "output_type": "stream",
     "text": [
      "Epoch 1\n",
      "-------------------------------\n"
     ]
    },
    {
     "name": "stderr",
     "output_type": "stream",
     "text": [
      "<ipython-input-14-c1541db6cf8e>:20: UserWarning: To copy construct from a tensor, it is recommended to use sourceTensor.clone().detach() or sourceTensor.clone().detach().requires_grad_(True), rather than torch.tensor(sourceTensor).\n",
      "  x = torch.tensor(input_x)\n"
     ]
    },
    {
     "name": "stdout",
     "output_type": "stream",
     "text": [
      "loss: 0.095934  [    0/  107]\n",
      "loss: 0.037958  [   10/  107]\n",
      "loss: 0.129859  [   20/  107]\n",
      "loss: 0.112831  [   30/  107]\n",
      "loss: 0.115220  [   40/  107]\n",
      "loss: 0.070190  [   50/  107]\n",
      "loss: 0.074993  [   60/  107]\n",
      "loss: 0.062086  [   70/  107]\n",
      "loss: 0.075163  [   80/  107]\n",
      "loss: 0.064239  [   90/  107]\n",
      "loss: 0.050608  [  100/  107]\n",
      "Done!\n"
     ]
    }
   ],
   "source": [
    "train_initial = True\n",
    "save_model = True\n",
    "learning_rate = 1e-3\n",
    "batch_size = 1\n",
    "epochs = 1\n",
    "# Initialize the loss function\n",
    "loss_fn = pearson_correl_loss#nn.MSELoss()\n",
    "optimizer = torch.optim.SGD(model.parameters(), lr=learning_rate)\n",
    "path_initial_model = ROOT_EXP + '/models_pytorch/initial_model.pth'\n",
    "\n",
    "\n",
    "if train_initial:\n",
    "    model.train()\n",
    "    for t in range(epochs):\n",
    "        print(f\"Epoch {t+1}\\n-------------------------------\")\n",
    "        train_loop(train_dataloader, model, loss_fn, optimizer)\n",
    "        #test_loop(test_dataloader, model, loss_fn)\n",
    "    print(\"Done!\")\n",
    "    #torch.save(model, path_initial_model)\n",
    "else:\n",
    "    # Model class must be defined somewhere\n",
    "    model = torch.load(path_initial_model)\n"
   ]
  },
  {
   "cell_type": "code",
   "execution_count": 30,
   "id": "3011afbd",
   "metadata": {},
   "outputs": [
    {
     "data": {
      "text/plain": [
       "'/home/sebastian/experiments/aifnet_replication//models_pytorch/initial_model.pth'"
      ]
     },
     "execution_count": 30,
     "metadata": {},
     "output_type": "execute_result"
    }
   ],
   "source": [
    "path_initial_model"
   ]
  },
  {
   "cell_type": "code",
   "execution_count": 31,
   "id": "d384977e",
   "metadata": {},
   "outputs": [],
   "source": [
    "if save_model:\n",
    "    torch.save(model, path_initial_model)\n"
   ]
  },
  {
   "cell_type": "code",
   "execution_count": 40,
   "id": "02bea6e4",
   "metadata": {},
   "outputs": [],
   "source": [
    "def validation_loop(dataloader, model, loss_fn, return_preds=False):\n",
    "    size = len(dataloader)\n",
    "    num_batches = len(dataloader)\n",
    "    test_loss, correct = 0, 0\n",
    "    preds_gt = []\n",
    "    count = 0\n",
    "    with torch.no_grad():\n",
    "        for X, y in dataloader:\n",
    "            pred = model(torch.tensor(X).to(device))\n",
    "            test_loss += loss_fn(torch.tensor(normalize_zero_one(pred.to('cpu').numpy())), torch.tensor(normalize_zero_one(torch.tensor(y).to('cpu').numpy()))).item()\n",
    "            preds_gt.append([pred.to('cpu').numpy(), torch.tensor(y).to('cpu').numpy()])\n",
    "            #if count == 9:\n",
    "            #    break\n",
    "            #count = count +1\n",
    "        test_loss /= num_batches\n",
    "        print(f\" Avg loss: {test_loss:>8f} \\n\")\n",
    "    if return_preds:\n",
    "        preds_gt,test_loss\n",
    "    return preds_gt,test_loss\n"
   ]
  },
  {
   "cell_type": "code",
   "execution_count": 41,
   "id": "1089ebd7",
   "metadata": {
    "scrolled": false
   },
   "outputs": [
    {
     "name": "stderr",
     "output_type": "stream",
     "text": [
      "<ipython-input-40-566797dea418>:9: UserWarning: To copy construct from a tensor, it is recommended to use sourceTensor.clone().detach() or sourceTensor.clone().detach().requires_grad_(True), rather than torch.tensor(sourceTensor).\n",
      "  pred = model(torch.tensor(X).to(device))\n",
      "<ipython-input-14-c1541db6cf8e>:20: UserWarning: To copy construct from a tensor, it is recommended to use sourceTensor.clone().detach() or sourceTensor.clone().detach().requires_grad_(True), rather than torch.tensor(sourceTensor).\n",
      "  x = torch.tensor(input_x)\n",
      "<ipython-input-40-566797dea418>:10: UserWarning: To copy construct from a tensor, it is recommended to use sourceTensor.clone().detach() or sourceTensor.clone().detach().requires_grad_(True), rather than torch.tensor(sourceTensor).\n",
      "  test_loss += loss_fn(torch.tensor(normalize_zero_one(pred.to('cpu').numpy())), torch.tensor(normalize_zero_one(torch.tensor(y).to('cpu').numpy()))).item()\n",
      "<ipython-input-40-566797dea418>:11: UserWarning: To copy construct from a tensor, it is recommended to use sourceTensor.clone().detach() or sourceTensor.clone().detach().requires_grad_(True), rather than torch.tensor(sourceTensor).\n",
      "  preds_gt.append([pred.to('cpu').numpy(), torch.tensor(y).to('cpu').numpy()])\n"
     ]
    },
    {
     "name": "stdout",
     "output_type": "stream",
     "text": [
      " Avg loss: 0.074432 \n",
      "\n"
     ]
    }
   ],
   "source": [
    "preds_gt, val_loss = validation_loop(valid_dataloader, model, loss_fn, return_preds=True)"
   ]
  },
  {
   "cell_type": "code",
   "execution_count": 52,
   "id": "47829f4d",
   "metadata": {},
   "outputs": [
    {
     "data": {
      "text/plain": [
       "array([0.        , 0.01799285, 0.10609594, 0.19909179, 0.23074602,\n",
       "       0.4021814 , 0.5402308 , 0.66245455, 0.7909487 , 0.9630456 ,\n",
       "       1.        , 0.86026555, 0.48946476, 0.43916717, 0.3719605 ,\n",
       "       0.33497378, 0.42953122, 0.40603253, 0.3383141 , 0.28622627,\n",
       "       0.346145  , 0.27170923, 0.21578972, 0.21000803, 0.29391906,\n",
       "       0.23951581, 0.18424453, 0.16757283, 0.24698511, 0.2527946 ,\n",
       "       0.20339407, 0.12999658, 0.11005766, 0.19865145, 0.23253845,\n",
       "       0.21557024, 0.24964252, 0.3107744 , 0.28998208, 0.2036094 ,\n",
       "       0.19892421, 0.0991221 , 0.09248912], dtype=float32)"
      ]
     },
     "execution_count": 52,
     "metadata": {},
     "output_type": "execute_result"
    }
   ],
   "source": [
    "preds_gt[sample_idx][1][0]"
   ]
  },
  {
   "cell_type": "code",
   "execution_count": 187,
   "id": "a9486497",
   "metadata": {},
   "outputs": [
    {
     "data": {
      "text/plain": [
       "Text(0, 0.5, 'Normalized Density (HU)')"
      ]
     },
     "execution_count": 187,
     "metadata": {},
     "output_type": "execute_result"
    },
    {
     "data": {
      "image/png": "[encoded data removed]",
      "text/plain": [
       "<Figure size 432x288 with 1 Axes>"
      ]
     },
     "metadata": {
      "needs_background": "light"
     },
     "output_type": "display_data"
    }
   ],
   "source": [
    "sample_idx = 4\n",
    "\n",
    "plt.title('AIF')        \n",
    "#y = normalize_zero_one(aif)\n",
    "#y_p = normalize_zero_one(vof)\n",
    "#plt.plot(mu_voi)\n",
    "#plt.plot(y_p)\n",
    "\n",
    "plt.plot(normalize_zero_one(preds_gt[sample_idx][0][0]))\n",
    "plt.plot(preds_gt[sample_idx][1][0])\n",
    "\n",
    "plt.legend([ 'AIF_hat','AIF'])\n",
    "plt.xlabel('Time (s)')\n",
    "plt.ylabel('Normalized Density (HU)')\n"
   ]
  },
  {
   "cell_type": "code",
   "execution_count": 108,
   "id": "8331c112",
   "metadata": {},
   "outputs": [],
   "source": [
    "val_img_sample, val_label_sample = next(iter(valid_dataloader))\n"
   ]
  },
  {
   "cell_type": "code",
   "execution_count": 141,
   "id": "4f55c0d6",
   "metadata": {},
   "outputs": [
    {
     "data": {
      "text/plain": [
       "torch.float32"
      ]
     },
     "execution_count": 141,
     "metadata": {},
     "output_type": "execute_result"
    }
   ],
   "source": [
    "val_img_sample.dtype"
   ]
  },
  {
   "cell_type": "code",
   "execution_count": 130,
   "id": "326d470d",
   "metadata": {},
   "outputs": [
    {
     "data": {
      "text/plain": [
       "(1, 43, 16, 256, 256)"
      ]
     },
     "execution_count": 130,
     "metadata": {},
     "output_type": "execute_result"
    }
   ],
   "source": [
    "sample_pvol.T[np.newaxis].shape"
   ]
  },
  {
   "cell_type": "code",
   "execution_count": 142,
   "id": "60320956",
   "metadata": {},
   "outputs": [
    {
     "data": {
      "text/plain": [
       "torch.float64"
      ]
     },
     "execution_count": 142,
     "metadata": {},
     "output_type": "execute_result"
    }
   ],
   "source": [
    "pp.dtype"
   ]
  },
  {
   "cell_type": "code",
   "execution_count": 207,
   "id": "5efe27eb",
   "metadata": {},
   "outputs": [
    {
     "name": "stderr",
     "output_type": "stream",
     "text": [
      "<ipython-input-179-c1541db6cf8e>:20: UserWarning: To copy construct from a tensor, it is recommended to use sourceTensor.clone().detach() or sourceTensor.clone().detach().requires_grad_(True), rather than torch.tensor(sourceTensor).\n",
      "  x = torch.tensor(input_x)\n"
     ]
    },
    {
     "ename": "RuntimeError",
     "evalue": "Input type (torch.cuda.FloatTensor) and weight type (torch.cuda.DoubleTensor) should be the same",
     "output_type": "error",
     "traceback": [
      "\u001b[0;31m---------------------------------------------------------------------------\u001b[0m",
      "\u001b[0;31mRuntimeError\u001b[0m                              Traceback (most recent call last)",
      "\u001b[0;32m<ipython-input-207-42d545cc1ed6>\u001b[0m in \u001b[0;36m<module>\u001b[0;34m\u001b[0m\n\u001b[1;32m      4\u001b[0m \u001b[0msample_pvol\u001b[0m \u001b[0;34m=\u001b[0m \u001b[0mnormalize_volumes_in_sequence\u001b[0m\u001b[0;34m(\u001b[0m\u001b[0msample_pvol\u001b[0m\u001b[0;34m)\u001b[0m\u001b[0;31m#Normalizing the whole sequence\u001b[0m\u001b[0;34m\u001b[0m\u001b[0;34m\u001b[0m\u001b[0m\n\u001b[1;32m      5\u001b[0m \u001b[0mpp\u001b[0m \u001b[0;34m=\u001b[0m \u001b[0mtorch\u001b[0m\u001b[0;34m.\u001b[0m\u001b[0mtensor\u001b[0m\u001b[0;34m(\u001b[0m\u001b[0msample_pvol\u001b[0m\u001b[0;34m.\u001b[0m\u001b[0mT\u001b[0m\u001b[0;34m[\u001b[0m\u001b[0mnp\u001b[0m\u001b[0;34m.\u001b[0m\u001b[0mnewaxis\u001b[0m\u001b[0;34m]\u001b[0m\u001b[0;34m,\u001b[0m\u001b[0mdtype\u001b[0m\u001b[0;34m=\u001b[0m\u001b[0mtorch\u001b[0m\u001b[0;34m.\u001b[0m\u001b[0mfloat32\u001b[0m\u001b[0;34m)\u001b[0m\u001b[0;34m\u001b[0m\u001b[0;34m\u001b[0m\u001b[0m\n\u001b[0;32m----> 6\u001b[0;31m \u001b[0mpvol\u001b[0m \u001b[0;34m=\u001b[0m \u001b[0mget_Pvol\u001b[0m\u001b[0;34m(\u001b[0m\u001b[0mpp\u001b[0m\u001b[0;34m.\u001b[0m\u001b[0mto\u001b[0m\u001b[0;34m(\u001b[0m\u001b[0mdevice\u001b[0m\u001b[0;34m)\u001b[0m\u001b[0;34m,\u001b[0m \u001b[0mmodel\u001b[0m\u001b[0;34m)\u001b[0m\u001b[0;34m\u001b[0m\u001b[0;34m\u001b[0m\u001b[0m\n\u001b[0m\u001b[1;32m      7\u001b[0m \u001b[0mpvol\u001b[0m \u001b[0;34m=\u001b[0m \u001b[0mpvol\u001b[0m\u001b[0;34m.\u001b[0m\u001b[0mto\u001b[0m\u001b[0;34m(\u001b[0m\u001b[0;34m'cpu'\u001b[0m\u001b[0;34m)\u001b[0m\u001b[0;34m.\u001b[0m\u001b[0mdetach\u001b[0m\u001b[0;34m(\u001b[0m\u001b[0;34m)\u001b[0m\u001b[0;34m.\u001b[0m\u001b[0mnumpy\u001b[0m\u001b[0;34m(\u001b[0m\u001b[0;34m)\u001b[0m\u001b[0;34m\u001b[0m\u001b[0;34m\u001b[0m\u001b[0m\n\u001b[1;32m      8\u001b[0m \u001b[0mpvol\u001b[0m \u001b[0;34m=\u001b[0m \u001b[0mpvol\u001b[0m\u001b[0;34m[\u001b[0m\u001b[0;36m0\u001b[0m\u001b[0;34m,\u001b[0m\u001b[0;36m0\u001b[0m\u001b[0;34m,\u001b[0m\u001b[0;34m:\u001b[0m\u001b[0;34m,\u001b[0m\u001b[0;34m:\u001b[0m\u001b[0;34m,\u001b[0m\u001b[0;34m:\u001b[0m\u001b[0;34m]\u001b[0m\u001b[0;34m.\u001b[0m\u001b[0mT\u001b[0m\u001b[0;34m\u001b[0m\u001b[0;34m\u001b[0m\u001b[0m\n",
      "\u001b[0;32m<ipython-input-180-4dd5d5a89049>\u001b[0m in \u001b[0;36mget_Pvol\u001b[0;34m(input_sequence, model)\u001b[0m\n\u001b[1;32m      2\u001b[0m     \u001b[0mreturn_layers\u001b[0m \u001b[0;34m=\u001b[0m \u001b[0;34m{\u001b[0m\u001b[0;34m'Lout'\u001b[0m\u001b[0;34m:\u001b[0m \u001b[0;34m'Lout'\u001b[0m\u001b[0;34m}\u001b[0m\u001b[0;34m\u001b[0m\u001b[0;34m\u001b[0m\u001b[0m\n\u001b[1;32m      3\u001b[0m     \u001b[0mmid_getter\u001b[0m \u001b[0;34m=\u001b[0m \u001b[0mMidGetter\u001b[0m\u001b[0;34m(\u001b[0m\u001b[0mmodel\u001b[0m\u001b[0;34m,\u001b[0m \u001b[0mreturn_layers\u001b[0m\u001b[0;34m=\u001b[0m\u001b[0mreturn_layers\u001b[0m\u001b[0;34m,\u001b[0m \u001b[0mkeep_output\u001b[0m\u001b[0;34m=\u001b[0m\u001b[0;32mTrue\u001b[0m\u001b[0;34m)\u001b[0m\u001b[0;34m\u001b[0m\u001b[0;34m\u001b[0m\u001b[0m\n\u001b[0;32m----> 4\u001b[0;31m     \u001b[0mmid_outputs\u001b[0m\u001b[0;34m,\u001b[0m \u001b[0mmodel_output\u001b[0m \u001b[0;34m=\u001b[0m \u001b[0mmid_getter\u001b[0m\u001b[0;34m(\u001b[0m\u001b[0minput_sequence\u001b[0m\u001b[0;34m)\u001b[0m\u001b[0;34m\u001b[0m\u001b[0;34m\u001b[0m\u001b[0m\n\u001b[0m\u001b[1;32m      5\u001b[0m     \u001b[0mPvol\u001b[0m \u001b[0;34m=\u001b[0m \u001b[0mmid_outputs\u001b[0m\u001b[0;34m[\u001b[0m\u001b[0;34m'Lout'\u001b[0m\u001b[0;34m]\u001b[0m\u001b[0;34m\u001b[0m\u001b[0;34m\u001b[0m\u001b[0m\n\u001b[1;32m      6\u001b[0m     \u001b[0mpvol_shape\u001b[0m \u001b[0;34m=\u001b[0m \u001b[0mPvol\u001b[0m\u001b[0;34m.\u001b[0m\u001b[0mshape\u001b[0m\u001b[0;34m\u001b[0m\u001b[0;34m\u001b[0m\u001b[0m\n",
      "\u001b[0;32m~/anaconda3/envs/aifnet/lib/python3.9/site-packages/torch_intermediate_layer_getter/torch_intermediate_layer_getter.py\u001b[0m in \u001b[0;36m__call__\u001b[0;34m(self, *args, **kwargs)\u001b[0m\n\u001b[1;32m     55\u001b[0m \u001b[0;34m\u001b[0m\u001b[0m\n\u001b[1;32m     56\u001b[0m         \u001b[0;32mif\u001b[0m \u001b[0mself\u001b[0m\u001b[0;34m.\u001b[0m\u001b[0mkeep_output\u001b[0m\u001b[0;34m:\u001b[0m\u001b[0;34m\u001b[0m\u001b[0;34m\u001b[0m\u001b[0m\n\u001b[0;32m---> 57\u001b[0;31m             \u001b[0moutput\u001b[0m \u001b[0;34m=\u001b[0m \u001b[0mself\u001b[0m\u001b[0;34m.\u001b[0m\u001b[0m_model\u001b[0m\u001b[0;34m(\u001b[0m\u001b[0;34m*\u001b[0m\u001b[0margs\u001b[0m\u001b[0;34m,\u001b[0m \u001b[0;34m**\u001b[0m\u001b[0mkwargs\u001b[0m\u001b[0;34m)\u001b[0m\u001b[0;34m\u001b[0m\u001b[0;34m\u001b[0m\u001b[0m\n\u001b[0m\u001b[1;32m     58\u001b[0m         \u001b[0;32melse\u001b[0m\u001b[0;34m:\u001b[0m\u001b[0;34m\u001b[0m\u001b[0;34m\u001b[0m\u001b[0m\n\u001b[1;32m     59\u001b[0m             \u001b[0mself\u001b[0m\u001b[0;34m.\u001b[0m\u001b[0m_model\u001b[0m\u001b[0;34m(\u001b[0m\u001b[0;34m*\u001b[0m\u001b[0margs\u001b[0m\u001b[0;34m,\u001b[0m \u001b[0;34m**\u001b[0m\u001b[0mkwargs\u001b[0m\u001b[0;34m)\u001b[0m\u001b[0;34m\u001b[0m\u001b[0;34m\u001b[0m\u001b[0m\n",
      "\u001b[0;32m~/anaconda3/envs/aifnet/lib/python3.9/site-packages/torch/nn/modules/module.py\u001b[0m in \u001b[0;36m_call_impl\u001b[0;34m(self, *input, **kwargs)\u001b[0m\n\u001b[1;32m   1049\u001b[0m         if not (self._backward_hooks or self._forward_hooks or self._forward_pre_hooks or _global_backward_hooks\n\u001b[1;32m   1050\u001b[0m                 or _global_forward_hooks or _global_forward_pre_hooks):\n\u001b[0;32m-> 1051\u001b[0;31m             \u001b[0;32mreturn\u001b[0m \u001b[0mforward_call\u001b[0m\u001b[0;34m(\u001b[0m\u001b[0;34m*\u001b[0m\u001b[0minput\u001b[0m\u001b[0;34m,\u001b[0m \u001b[0;34m**\u001b[0m\u001b[0mkwargs\u001b[0m\u001b[0;34m)\u001b[0m\u001b[0;34m\u001b[0m\u001b[0;34m\u001b[0m\u001b[0m\n\u001b[0m\u001b[1;32m   1052\u001b[0m         \u001b[0;31m# Do not call functions when jit is used\u001b[0m\u001b[0;34m\u001b[0m\u001b[0;34m\u001b[0m\u001b[0;34m\u001b[0m\u001b[0m\n\u001b[1;32m   1053\u001b[0m         \u001b[0mfull_backward_hooks\u001b[0m\u001b[0;34m,\u001b[0m \u001b[0mnon_full_backward_hooks\u001b[0m \u001b[0;34m=\u001b[0m \u001b[0;34m[\u001b[0m\u001b[0;34m]\u001b[0m\u001b[0;34m,\u001b[0m \u001b[0;34m[\u001b[0m\u001b[0;34m]\u001b[0m\u001b[0;34m\u001b[0m\u001b[0;34m\u001b[0m\u001b[0m\n",
      "\u001b[0;32m<ipython-input-179-c1541db6cf8e>\u001b[0m in \u001b[0;36mforward\u001b[0;34m(self, input_x)\u001b[0m\n\u001b[1;32m     19\u001b[0m     \u001b[0;32mdef\u001b[0m \u001b[0mforward\u001b[0m\u001b[0;34m(\u001b[0m\u001b[0mself\u001b[0m\u001b[0;34m,\u001b[0m \u001b[0minput_x\u001b[0m\u001b[0;34m)\u001b[0m\u001b[0;34m:\u001b[0m\u001b[0;34m\u001b[0m\u001b[0;34m\u001b[0m\u001b[0m\n\u001b[1;32m     20\u001b[0m         \u001b[0mx\u001b[0m \u001b[0;34m=\u001b[0m \u001b[0mtorch\u001b[0m\u001b[0;34m.\u001b[0m\u001b[0mtensor\u001b[0m\u001b[0;34m(\u001b[0m\u001b[0minput_x\u001b[0m\u001b[0;34m)\u001b[0m\u001b[0;34m\u001b[0m\u001b[0;34m\u001b[0m\u001b[0m\n\u001b[0;32m---> 21\u001b[0;31m         \u001b[0mx\u001b[0m \u001b[0;34m=\u001b[0m \u001b[0mself\u001b[0m\u001b[0;34m.\u001b[0m\u001b[0mfirstConv3d\u001b[0m\u001b[0;34m(\u001b[0m\u001b[0minput_x\u001b[0m\u001b[0;34m)\u001b[0m\u001b[0;34m\u001b[0m\u001b[0;34m\u001b[0m\u001b[0m\n\u001b[0m\u001b[1;32m     22\u001b[0m         \u001b[0mx\u001b[0m \u001b[0;34m=\u001b[0m \u001b[0mself\u001b[0m\u001b[0;34m.\u001b[0m\u001b[0msecondConv3d\u001b[0m\u001b[0;34m(\u001b[0m\u001b[0mx\u001b[0m\u001b[0;34m)\u001b[0m\u001b[0;34m\u001b[0m\u001b[0;34m\u001b[0m\u001b[0m\n\u001b[1;32m     23\u001b[0m         \u001b[0mx\u001b[0m \u001b[0;34m=\u001b[0m \u001b[0mself\u001b[0m\u001b[0;34m.\u001b[0m\u001b[0mthirdConv3d\u001b[0m\u001b[0;34m(\u001b[0m\u001b[0mx\u001b[0m\u001b[0;34m)\u001b[0m\u001b[0;34m\u001b[0m\u001b[0;34m\u001b[0m\u001b[0m\n",
      "\u001b[0;32m~/anaconda3/envs/aifnet/lib/python3.9/site-packages/torch/nn/modules/module.py\u001b[0m in \u001b[0;36m_call_impl\u001b[0;34m(self, *input, **kwargs)\u001b[0m\n\u001b[1;32m   1049\u001b[0m         if not (self._backward_hooks or self._forward_hooks or self._forward_pre_hooks or _global_backward_hooks\n\u001b[1;32m   1050\u001b[0m                 or _global_forward_hooks or _global_forward_pre_hooks):\n\u001b[0;32m-> 1051\u001b[0;31m             \u001b[0;32mreturn\u001b[0m \u001b[0mforward_call\u001b[0m\u001b[0;34m(\u001b[0m\u001b[0;34m*\u001b[0m\u001b[0minput\u001b[0m\u001b[0;34m,\u001b[0m \u001b[0;34m**\u001b[0m\u001b[0mkwargs\u001b[0m\u001b[0;34m)\u001b[0m\u001b[0;34m\u001b[0m\u001b[0;34m\u001b[0m\u001b[0m\n\u001b[0m\u001b[1;32m   1052\u001b[0m         \u001b[0;31m# Do not call functions when jit is used\u001b[0m\u001b[0;34m\u001b[0m\u001b[0;34m\u001b[0m\u001b[0;34m\u001b[0m\u001b[0m\n\u001b[1;32m   1053\u001b[0m         \u001b[0mfull_backward_hooks\u001b[0m\u001b[0;34m,\u001b[0m \u001b[0mnon_full_backward_hooks\u001b[0m \u001b[0;34m=\u001b[0m \u001b[0;34m[\u001b[0m\u001b[0;34m]\u001b[0m\u001b[0;34m,\u001b[0m \u001b[0;34m[\u001b[0m\u001b[0;34m]\u001b[0m\u001b[0;34m\u001b[0m\u001b[0;34m\u001b[0m\u001b[0m\n",
      "\u001b[0;32m~/anaconda3/envs/aifnet/lib/python3.9/site-packages/torch/nn/modules/container.py\u001b[0m in \u001b[0;36mforward\u001b[0;34m(self, input)\u001b[0m\n\u001b[1;32m    137\u001b[0m     \u001b[0;32mdef\u001b[0m \u001b[0mforward\u001b[0m\u001b[0;34m(\u001b[0m\u001b[0mself\u001b[0m\u001b[0;34m,\u001b[0m \u001b[0minput\u001b[0m\u001b[0;34m)\u001b[0m\u001b[0;34m:\u001b[0m\u001b[0;34m\u001b[0m\u001b[0;34m\u001b[0m\u001b[0m\n\u001b[1;32m    138\u001b[0m         \u001b[0;32mfor\u001b[0m \u001b[0mmodule\u001b[0m \u001b[0;32min\u001b[0m \u001b[0mself\u001b[0m\u001b[0;34m:\u001b[0m\u001b[0;34m\u001b[0m\u001b[0;34m\u001b[0m\u001b[0m\n\u001b[0;32m--> 139\u001b[0;31m             \u001b[0minput\u001b[0m \u001b[0;34m=\u001b[0m \u001b[0mmodule\u001b[0m\u001b[0;34m(\u001b[0m\u001b[0minput\u001b[0m\u001b[0;34m)\u001b[0m\u001b[0;34m\u001b[0m\u001b[0;34m\u001b[0m\u001b[0m\n\u001b[0m\u001b[1;32m    140\u001b[0m         \u001b[0;32mreturn\u001b[0m \u001b[0minput\u001b[0m\u001b[0;34m\u001b[0m\u001b[0;34m\u001b[0m\u001b[0m\n\u001b[1;32m    141\u001b[0m \u001b[0;34m\u001b[0m\u001b[0m\n",
      "\u001b[0;32m~/anaconda3/envs/aifnet/lib/python3.9/site-packages/torch/nn/modules/module.py\u001b[0m in \u001b[0;36m_call_impl\u001b[0;34m(self, *input, **kwargs)\u001b[0m\n\u001b[1;32m   1049\u001b[0m         if not (self._backward_hooks or self._forward_hooks or self._forward_pre_hooks or _global_backward_hooks\n\u001b[1;32m   1050\u001b[0m                 or _global_forward_hooks or _global_forward_pre_hooks):\n\u001b[0;32m-> 1051\u001b[0;31m             \u001b[0;32mreturn\u001b[0m \u001b[0mforward_call\u001b[0m\u001b[0;34m(\u001b[0m\u001b[0;34m*\u001b[0m\u001b[0minput\u001b[0m\u001b[0;34m,\u001b[0m \u001b[0;34m**\u001b[0m\u001b[0mkwargs\u001b[0m\u001b[0;34m)\u001b[0m\u001b[0;34m\u001b[0m\u001b[0;34m\u001b[0m\u001b[0m\n\u001b[0m\u001b[1;32m   1052\u001b[0m         \u001b[0;31m# Do not call functions when jit is used\u001b[0m\u001b[0;34m\u001b[0m\u001b[0;34m\u001b[0m\u001b[0;34m\u001b[0m\u001b[0m\n\u001b[1;32m   1053\u001b[0m         \u001b[0mfull_backward_hooks\u001b[0m\u001b[0;34m,\u001b[0m \u001b[0mnon_full_backward_hooks\u001b[0m \u001b[0;34m=\u001b[0m \u001b[0;34m[\u001b[0m\u001b[0;34m]\u001b[0m\u001b[0;34m,\u001b[0m \u001b[0;34m[\u001b[0m\u001b[0;34m]\u001b[0m\u001b[0;34m\u001b[0m\u001b[0;34m\u001b[0m\u001b[0m\n",
      "\u001b[0;32m~/anaconda3/envs/aifnet/lib/python3.9/site-packages/torch/nn/modules/conv.py\u001b[0m in \u001b[0;36mforward\u001b[0;34m(self, input)\u001b[0m\n\u001b[1;32m    585\u001b[0m \u001b[0;34m\u001b[0m\u001b[0m\n\u001b[1;32m    586\u001b[0m     \u001b[0;32mdef\u001b[0m \u001b[0mforward\u001b[0m\u001b[0;34m(\u001b[0m\u001b[0mself\u001b[0m\u001b[0;34m,\u001b[0m \u001b[0minput\u001b[0m\u001b[0;34m:\u001b[0m \u001b[0mTensor\u001b[0m\u001b[0;34m)\u001b[0m \u001b[0;34m->\u001b[0m \u001b[0mTensor\u001b[0m\u001b[0;34m:\u001b[0m\u001b[0;34m\u001b[0m\u001b[0;34m\u001b[0m\u001b[0m\n\u001b[0;32m--> 587\u001b[0;31m         \u001b[0;32mreturn\u001b[0m \u001b[0mself\u001b[0m\u001b[0;34m.\u001b[0m\u001b[0m_conv_forward\u001b[0m\u001b[0;34m(\u001b[0m\u001b[0minput\u001b[0m\u001b[0;34m,\u001b[0m \u001b[0mself\u001b[0m\u001b[0;34m.\u001b[0m\u001b[0mweight\u001b[0m\u001b[0;34m,\u001b[0m \u001b[0mself\u001b[0m\u001b[0;34m.\u001b[0m\u001b[0mbias\u001b[0m\u001b[0;34m)\u001b[0m\u001b[0;34m\u001b[0m\u001b[0;34m\u001b[0m\u001b[0m\n\u001b[0m\u001b[1;32m    588\u001b[0m \u001b[0;34m\u001b[0m\u001b[0m\n\u001b[1;32m    589\u001b[0m \u001b[0;34m\u001b[0m\u001b[0m\n",
      "\u001b[0;32m~/anaconda3/envs/aifnet/lib/python3.9/site-packages/torch/nn/modules/conv.py\u001b[0m in \u001b[0;36m_conv_forward\u001b[0;34m(self, input, weight, bias)\u001b[0m\n\u001b[1;32m    580\u001b[0m                 \u001b[0mself\u001b[0m\u001b[0;34m.\u001b[0m\u001b[0mgroups\u001b[0m\u001b[0;34m,\u001b[0m\u001b[0;34m\u001b[0m\u001b[0;34m\u001b[0m\u001b[0m\n\u001b[1;32m    581\u001b[0m             )\n\u001b[0;32m--> 582\u001b[0;31m         return F.conv3d(\n\u001b[0m\u001b[1;32m    583\u001b[0m             \u001b[0minput\u001b[0m\u001b[0;34m,\u001b[0m \u001b[0mweight\u001b[0m\u001b[0;34m,\u001b[0m \u001b[0mbias\u001b[0m\u001b[0;34m,\u001b[0m \u001b[0mself\u001b[0m\u001b[0;34m.\u001b[0m\u001b[0mstride\u001b[0m\u001b[0;34m,\u001b[0m \u001b[0mself\u001b[0m\u001b[0;34m.\u001b[0m\u001b[0mpadding\u001b[0m\u001b[0;34m,\u001b[0m \u001b[0mself\u001b[0m\u001b[0;34m.\u001b[0m\u001b[0mdilation\u001b[0m\u001b[0;34m,\u001b[0m \u001b[0mself\u001b[0m\u001b[0;34m.\u001b[0m\u001b[0mgroups\u001b[0m\u001b[0;34m\u001b[0m\u001b[0;34m\u001b[0m\u001b[0m\n\u001b[1;32m    584\u001b[0m         )\n",
      "\u001b[0;31mRuntimeError\u001b[0m: Input type (torch.cuda.FloatTensor) and weight type (torch.cuda.DoubleTensor) should be the same"
     ]
    }
   ],
   "source": [
    "sample_pvol_path = '/media/sebastian/data/ASAP/ISLES2018_Training/TRAINING/case_38/SMIR.Brain.XX.O.CT_4DPWI.345808/SMIR.Brain.XX.O.CT_4DPWI.345808.nii'\n",
    "sample_pvol = read_volume_sequence(sample_pvol_path,43)\n",
    "sample_pvol  = np.array(sample_pvol,dtype=np.float32)#\n",
    "sample_pvol = normalize_volumes_in_sequence(sample_pvol)#Normalizing the whole sequence\n",
    "pp = torch.tensor(sample_pvol.T[np.newaxis],dtype=torch.float32)\n",
    "pvol = get_Pvol(pp.to(device), model)\n",
    "pvol = pvol.to('cpu').detach().numpy()\n",
    "pvol = pvol[0,0,:,:,:].T\n",
    "print(pvol.shape)\n",
    "save_nifti_from_array_and_referenceHeader(pvol,sample_pvol_path,sample_pvol_path.split('.')[-2]+'_pvol.nii')"
   ]
  },
  {
   "cell_type": "code",
   "execution_count": 162,
   "id": "d8fedcd8",
   "metadata": {
    "scrolled": false
   },
   "outputs": [
    {
     "data": {
      "text/plain": [
       "(256, 256, 2)"
      ]
     },
     "execution_count": 162,
     "metadata": {},
     "output_type": "execute_result"
    }
   ],
   "source": [
    "pvol.shape"
   ]
  },
  {
   "cell_type": "code",
   "execution_count": 204,
   "id": "07fe1b61",
   "metadata": {
    "scrolled": true
   },
   "outputs": [
    {
     "data": {
      "text/html": [
       "<div>\n",
       "<style scoped>\n",
       "    .dataframe tbody tr th:only-of-type {\n",
       "        vertical-align: middle;\n",
       "    }\n",
       "\n",
       "    .dataframe tbody tr th {\n",
       "        vertical-align: top;\n",
       "    }\n",
       "\n",
       "    .dataframe thead th {\n",
       "        text-align: right;\n",
       "    }\n",
       "</style>\n",
       "<table border=\"1\" class=\"dataframe\">\n",
       "  <thead>\n",
       "    <tr style=\"text-align: right;\">\n",
       "      <th></th>\n",
       "      <th>imageID</th>\n",
       "      <th>AIFx</th>\n",
       "      <th>AIFy</th>\n",
       "      <th>AIFz</th>\n",
       "      <th>VOFx</th>\n",
       "      <th>VOFy</th>\n",
       "      <th>VOFz</th>\n",
       "    </tr>\n",
       "  </thead>\n",
       "  <tbody>\n",
       "    <tr>\n",
       "      <th>0</th>\n",
       "      <td>346290</td>\n",
       "      <td>82</td>\n",
       "      <td>141</td>\n",
       "      <td>0</td>\n",
       "      <td>138</td>\n",
       "      <td>58</td>\n",
       "      <td>1</td>\n",
       "    </tr>\n",
       "  </tbody>\n",
       "</table>\n",
       "</div>"
      ],
      "text/plain": [
       "   imageID  AIFx  AIFy  AIFz  VOFx  VOFy  VOFz\n",
       "0   346290    82   141     0   138    58     1"
      ]
     },
     "execution_count": 204,
     "metadata": {},
     "output_type": "execute_result"
    }
   ],
   "source": [
    "all_labels[all_labels['imageID'] == 346290]"
   ]
  },
  {
   "cell_type": "code",
   "execution_count": 190,
   "id": "b2b03a74",
   "metadata": {},
   "outputs": [
    {
     "data": {
      "text/plain": [
       "'345808'"
      ]
     },
     "execution_count": 190,
     "metadata": {},
     "output_type": "execute_result"
    }
   ],
   "source": [
    "sample_pvol_path.split('.')[-2]"
   ]
  },
  {
   "cell_type": "code",
   "execution_count": 197,
   "id": "fb908a98",
   "metadata": {},
   "outputs": [
    {
     "data": {
      "text/plain": [
       "346290"
      ]
     },
     "execution_count": 197,
     "metadata": {},
     "output_type": "execute_result"
    }
   ],
   "source": [
    "all_labels[all_labels]"
   ]
  },
  {
   "cell_type": "code",
   "execution_count": 206,
   "id": "1a714f04",
   "metadata": {},
   "outputs": [
    {
     "ename": "NameError",
     "evalue": "name 'image' is not defined",
     "output_type": "error",
     "traceback": [
      "\u001b[0;31m---------------------------------------------------------------------------\u001b[0m",
      "\u001b[0;31mNameError\u001b[0m                                 Traceback (most recent call last)",
      "\u001b[0;32m<ipython-input-206-b8c872ceb1ec>\u001b[0m in \u001b[0;36m<module>\u001b[0;34m\u001b[0m\n\u001b[1;32m      3\u001b[0m \u001b[0mlabel_coords\u001b[0m \u001b[0;34m=\u001b[0m \u001b[0mall_labels\u001b[0m\u001b[0;34m[\u001b[0m\u001b[0mall_labels\u001b[0m\u001b[0;34m[\u001b[0m\u001b[0;34m'imageID'\u001b[0m\u001b[0;34m]\u001b[0m \u001b[0;34m==\u001b[0m \u001b[0mimgid\u001b[0m\u001b[0;34m]\u001b[0m\u001b[0;34m\u001b[0m\u001b[0;34m\u001b[0m\u001b[0m\n\u001b[1;32m      4\u001b[0m \u001b[0;31m#img_path = self.fold_img_paths[img_id]\u001b[0m\u001b[0;34m\u001b[0m\u001b[0;34m\u001b[0m\u001b[0;34m\u001b[0m\u001b[0m\n\u001b[0;32m----> 5\u001b[0;31m \u001b[0mAIF\u001b[0m \u001b[0;34m=\u001b[0m \u001b[0mimage\u001b[0m\u001b[0;34m[\u001b[0m\u001b[0mlabel_coords\u001b[0m\u001b[0;34m[\u001b[0m\u001b[0;34m'AIFx'\u001b[0m\u001b[0;34m]\u001b[0m\u001b[0;34m,\u001b[0m\u001b[0mlabel_coords\u001b[0m\u001b[0;34m[\u001b[0m\u001b[0;34m'AIFy'\u001b[0m\u001b[0;34m]\u001b[0m\u001b[0;34m,\u001b[0m\u001b[0mlabel_coords\u001b[0m\u001b[0;34m[\u001b[0m\u001b[0;34m'AIFz'\u001b[0m\u001b[0;34m]\u001b[0m\u001b[0;34m,\u001b[0m\u001b[0;34m:\u001b[0m\u001b[0;34m]\u001b[0m\u001b[0;34m\u001b[0m\u001b[0;34m\u001b[0m\u001b[0m\n\u001b[0m\u001b[1;32m      6\u001b[0m \u001b[0mVOF\u001b[0m \u001b[0;34m=\u001b[0m \u001b[0mimage\u001b[0m\u001b[0;34m[\u001b[0m\u001b[0mlabel_coords\u001b[0m\u001b[0;34m[\u001b[0m\u001b[0;34m'VOFx'\u001b[0m\u001b[0;34m]\u001b[0m\u001b[0;34m,\u001b[0m\u001b[0mlabel_coords\u001b[0m\u001b[0;34m[\u001b[0m\u001b[0;34m'VOFy'\u001b[0m\u001b[0;34m]\u001b[0m\u001b[0;34m,\u001b[0m\u001b[0mlabel_coords\u001b[0m\u001b[0;34m[\u001b[0m\u001b[0;34m'VOFz'\u001b[0m\u001b[0;34m]\u001b[0m\u001b[0;34m,\u001b[0m\u001b[0;34m:\u001b[0m\u001b[0;34m]\u001b[0m\u001b[0;34m\u001b[0m\u001b[0;34m\u001b[0m\u001b[0m\n\u001b[1;32m      7\u001b[0m \u001b[0;34m\u001b[0m\u001b[0m\n",
      "\u001b[0;31mNameError\u001b[0m: name 'image' is not defined"
     ]
    }
   ],
   "source": [
    "all_labels = pd.read_csv(aif_annotations_path) \n",
    "imgid = int(sample_pvol_path.split('.')[-2])\n",
    "label_coords = all_labels[all_labels['imageID'] == imgid]\n",
    "#img_path = self.fold_img_paths[img_id]\n",
    "AIF = image[label_coords['AIFx'],label_coords['AIFy'],label_coords['AIFz'],:]\n",
    "VOF = image[label_coords['VOFx'],label_coords['VOFy'],label_coords['VOFz'],:]\n",
    "\n"
   ]
  },
  {
   "cell_type": "code",
   "execution_count": 149,
   "id": "271a63a0",
   "metadata": {},
   "outputs": [
    {
     "data": {
      "text/plain": [
       "{'346172': '/media/sebastian/data/ASAP/ISLES2018_Training/TRAINING/case_90/SMIR.Brain.XX.O.CT_4DPWI.346172/SMIR.Brain.XX.O.CT_4DPWI.346172.nii',\n",
       " '345808': '/media/sebastian/data/ASAP/ISLES2018_Training/TRAINING/case_38/SMIR.Brain.XX.O.CT_4DPWI.345808/SMIR.Brain.XX.O.CT_4DPWI.345808.nii',\n",
       " '346137': '/media/sebastian/data/ASAP/ISLES2018_Training/TRAINING/case_85/SMIR.Brain.XX.O.CT_4DPWI.346137/SMIR.Brain.XX.O.CT_4DPWI.346137.nii',\n",
       " '345561': '/media/sebastian/data/ASAP/ISLES2018_Training/TRAINING/case_1/SMIR.Brain.XX.O.CT_4DPWI.345561/SMIR.Brain.XX.O.CT_4DPWI.345561.nii',\n",
       " '345568': '/media/sebastian/data/ASAP/ISLES2018_Training/TRAINING/case_2/SMIR.Brain.XX.O.CT_4DPWI.345568/SMIR.Brain.XX.O.CT_4DPWI.345568.nii',\n",
       " '345990': '/media/sebastian/data/ASAP/ISLES2018_Training/TRAINING/case_64/SMIR.Brain.XX.O.CT_4DPWI.345990/SMIR.Brain.XX.O.CT_4DPWI.345990.nii',\n",
       " '345997': '/media/sebastian/data/ASAP/ISLES2018_Training/TRAINING/case_65/SMIR.Brain.XX.O.CT_4DPWI.345997/SMIR.Brain.XX.O.CT_4DPWI.345997.nii',\n",
       " '346200': '/media/sebastian/data/ASAP/ISLES2018_Training/TRAINING/case_94/SMIR.Brain.XX.O.CT_4DPWI.346200/SMIR.Brain.XX.O.CT_4DPWI.346200.nii',\n",
       " '346290': '/media/sebastian/data/ASAP/ISLES2018_Training/TESTING/case_1/SMIR.Brain.XX.O.CT_4DPWI.346290/SMIR.Brain.XX.O.CT_4DPWI.346290.nii',\n",
       " '346299': '/media/sebastian/data/ASAP/ISLES2018_Training/TESTING/case_2/SMIR.Brain.XX.O.CT_4DPWI.346299/SMIR.Brain.XX.O.CT_4DPWI.346299.nii',\n",
       " '346661': '/media/sebastian/data/ASAP/ISLES2018_Training/TESTING/case_39/SMIR.Brain.XX.O.CT_4DPWI.346661/SMIR.Brain.XX.O.CT_4DPWI.346661.nii',\n",
       " '346668': '/media/sebastian/data/ASAP/ISLES2018_Training/TESTING/case_40/SMIR.Brain.XX.O.CT_4DPWI.346668/SMIR.Brain.XX.O.CT_4DPWI.346668.nii',\n",
       " '346605': '/media/sebastian/data/ASAP/ISLES2018_Training/TESTING/case_31/SMIR.Brain.XX.O.CT_4DPWI.346605/SMIR.Brain.XX.O.CT_4DPWI.346605.nii'}"
      ]
     },
     "execution_count": 149,
     "metadata": {},
     "output_type": "execute_result"
    }
   ],
   "source": [
    "valid_data.fold_img_paths"
   ]
  }
 ],
 "metadata": {
  "kernelspec": {
   "display_name": "Python 3",
   "language": "python",
   "name": "python3"
  },
  "language_info": {
   "codemirror_mode": {
    "name": "ipython",
    "version": 3
   },
   "file_extension": ".py",
   "mimetype": "text/x-python",
   "name": "python",
   "nbconvert_exporter": "python",
   "pygments_lexer": "ipython3",
   "version": "3.9.6"
  }
 },
 "nbformat": 4,
 "nbformat_minor": 5
}
