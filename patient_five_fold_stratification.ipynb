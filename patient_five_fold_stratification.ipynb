{
 "cells": [
  {
   "cell_type": "code",
   "execution_count": 1,
   "source": [
    "import matplotlib.pyplot as plt\n",
    "import os\n",
    "import zipfile\n",
    "import numpy as np\n",
    "import tensorflow as tf\n",
    "from tensorflow import keras\n",
    "from tensorflow.keras import layers\n",
    "from tensorflow.keras.callbacks import ModelCheckpoint, TensorBoard\n",
    "import nibabel as nib\n",
    "from scipy import ndimage\n",
    "import glob\n",
    "import sys,os\n",
    "from natsort import natsorted\n",
    "import tensorflow_probability as tfp\n",
    "import random\n",
    "from aifnet_utils.preprocess import read_nifti_file, normalize, normalize_aif, process_scan, normalize_zero_one\n",
    "from aifnet_utils.losses import MaxCorrelation\n",
    "from aifnet_utils.data_loaders import read_isles_annotations, read_isles_volumes, ISLES18DataGen_aifvof_aug\n",
    "from aifnet_utils.data_loaders import delay_sequence_padding, anticipate_sequence_padding, late_bolus, early_bolus\n",
    "from pathlib import Path\n",
    "\n",
    "%matplotlib inline"
   ],
   "outputs": [],
   "metadata": {}
  },
  {
   "cell_type": "code",
   "execution_count": 2,
   "source": [
    "#Reading the file with all the 94 cases of training \n",
    "#TODO: Annotate the 62 cases from test\n",
    "root_dir     = '/media/sebastian/data/ASAP/ISLES2018_Training'\n",
    "#At insel: /media/sebastian/data/ASAP/ISLES2018_Training\n",
    "#Local: '/Users/sebastianotalora/work/postdoc/data/ISLES/'\n",
    "aif_annotations_path = '/home/sebastian/experiments/aifnet_replication/annotated_aif_vof_complete_revised.csv'\n",
    "min_num_volumes_ctp = 43\n",
    "ROOT_EXP = '/home/sebastian/experiments/aifnet_replication'#'/Users/sebastianotalora/work/postdoc/ctp/aifnet_replication'"
   ],
   "outputs": [],
   "metadata": {}
  },
  {
   "cell_type": "code",
   "execution_count": 4,
   "source": [
    "dict_patient_cases = {'Train_01_A':'case 1',\n",
    "'Train_01_B':'case 2',\n",
    "'Train_02_A':'case 3',\n",
    "'Train_02_B':'case 4',\n",
    "'Train_03_A':'case 5',\n",
    "'Train_03_B':'case 6',\n",
    "'Train_04_A':'case 7',\n",
    "'Train_04_B':'case 8',\n",
    "'Train_05_A':'case 9',\n",
    "'Train_06_A':'case 10',\n",
    "'Train_07_A':'case 11',\n",
    "'Train_08_A':'case 12',\n",
    "'Train_09_A':'case 13',\n",
    "'Train_10_A':'case 14',\n",
    "'Train_11_A':'case 15',\n",
    "'Train_12_A':'case 16',\n",
    "'Train_13_A':'case 17',\n",
    "'Train_14_A':'case 18',\n",
    "'Train_14_B':'case 19',\n",
    "'Train_15_A':'case 20',\n",
    "'Train_16_A':'case 21',\n",
    "'Train_16_B':'case 22',\n",
    "'Train_17_A':'case 23',\n",
    "'Train_17_B':'case 24',\n",
    "'Train_18_A':'case 25',\n",
    "'Train_19_A':'case 26',\n",
    "'Train_19_B':'case 27',\n",
    "'Train_20_A':'case 28',\n",
    "'Train_20_B':'case 29',\n",
    "'Train_21_A':'case 30',\n",
    "'Train_22_A':'case 31',\n",
    "'Train_23_A':'case 32',\n",
    "'Train_23_B':'case 33',\n",
    "'Train_24_A':'case 34',\n",
    "'Train_24_B':'case 35',\n",
    "'Train_25_A':'case 36',\n",
    "'Train_25_B':'case 37',\n",
    "'Train_26_A':'case 38',\n",
    "'Train_27_A':'case 39',\n",
    "'Train_27_B':'case 40',\n",
    "'Train_28_A':'case 41',\n",
    "'Train_28_B':'case 42',\n",
    "'Train_29_A':'case 43',\n",
    "'Train_29_B':'case 44',\n",
    "'Train_30_A':'case 45',\n",
    "'Train_30_B':'case 46',\n",
    "'Train_31_A':'case 47',\n",
    "'Train_31_B':'case 48',\n",
    "'Train_32_A':'case 49',\n",
    "'Train_32_B':'case 50',\n",
    "'Train_33_A':'case 51',\n",
    "'Train_33_B':'case 52',\n",
    "'Train_34_A':'case 53',\n",
    "'Train_34_B':'case 54',\n",
    "'Train_35_A':'case 55',\n",
    "'Train_35_B':'case 56',\n",
    "'Train_36_A':'case 57',\n",
    "'Train_36_B':'case 58',\n",
    "'Train_37_A':'case 59',\n",
    "'Train_37_B':'case 60',\n",
    "'Train_38_A':'case 61',\n",
    "'Train_39_A':'case 62',\n",
    "'Train_39_B':'case 63',\n",
    "'Train_40_A':'case 64',\n",
    "'Train_40_B':'case 65',\n",
    "'Train_41_A':'case 66',\n",
    "'Train_41_B':'case 67',\n",
    "'Train_42_A':'case 68',\n",
    "'Train_42_B':'case 69',\n",
    "'Train_43_A':'case 70',\n",
    "'Train_43_B':'case 71',\n",
    "'Train_44_A':'case 72',\n",
    "'Train_44_B':'case 73',\n",
    "'Train_45_A':'case 74',\n",
    "'Train_46_A':'case 75',\n",
    "'Train_46_B':'case 76',\n",
    "'Train_47_A':'case 77',\n",
    "'Train_48_A':'case 78',\n",
    "'Train_48_B':'case 79',\n",
    "'Train_49_A':'case 80',\n",
    "'Train_50_A':'case 81',\n",
    "'Train_51_A':'case 82',\n",
    "'Train_52_A':'case 83',\n",
    "'Train_53_A':'case 84',\n",
    "'Train_54_A':'case 85',\n",
    "'Train_55_A':'case 86',\n",
    "'Train_56_A':'case 87',\n",
    "'Train_57_A':'case 88',\n",
    "'Train_58_A':'case 89',\n",
    "'Train_59_A':'case 90',\n",
    "'Train_60_A':'case 91',\n",
    "'Train_61_A':'case 92',\n",
    "'Train_62_A':'case 93',\n",
    "'Train_63_A':'case 94',\n",
    "\n",
    "}"
   ],
   "outputs": [],
   "metadata": {}
  },
  {
   "cell_type": "code",
   "execution_count": null,
   "source": [
    "{Testing_01_A = case 1,\n",
    "Testing_02_A = case 2,\n",
    "Testing_03_A = case 3,\n",
    "Testing_04_A = case 4,\n",
    "Testing_05_A = case 5,\n",
    "Testing_06_A = case 6,\n",
    "Testing_07_A = case 7,\n",
    "Testing_08_A = case 8,\n",
    "Testing_09_A = case 9,\n",
    "Testing_10_A = case 10,\n",
    "Testing_10_B = case 11,\n",
    "Testing_11_A = case 12,\n",
    "Testing_12_A = case 13,\n",
    "Testing_12_B = case 14,\n",
    "Testing_13_A = case 15,\n",
    "Testing_13_B = case 16,\n",
    "Testing_14_A = case 17,\n",
    "Testing_14_B = case 18,\n",
    "Testing_15_A = case 19,\n",
    "Testing_15_B = case 20,\n",
    "Testing_16_A = case 21,\n",
    "Testing_16_B = case 22,\n",
    "Testing_17_A = case 23,\n",
    "Testing_17_B = case 24,\n",
    "Testing_18_A = case 25,\n",
    "Testing_18_B = case 26,\n",
    "Testing_19_A = case 27,\n",
    "Testing_19_B = case 28,\n",
    "Testing_20_A = case 29,\n",
    "Testing_20_B = case 30,\n",
    "Testing_21_A = case 31,\n",
    "Testing_21_B = case 32,\n",
    "Testing_22_A = case 33,\n",
    "Testing_22_B = case 34,\n",
    "Testing_23_A = case 35,\n",
    "Testing_23_B = case 36,\n",
    "Testing_24_A = case 37,\n",
    "Testing_24_B = case 38,\n",
    "Testing_25_A = case 39,\n",
    "Testing_25_B = case 40,\n",
    "Testing_26_A = case 41,\n",
    "Testing_26_B = case 42,\n",
    "Testing_27_A = case 43,\n",
    "Testing_27_B = case 44,\n",
    "Testing_28_A = case 45,\n",
    "Testing_28_B = case 46,\n",
    "Testing_29_A = case 47,\n",
    "Testing_30_A = case 48,\n",
    "Testing_31_A = case 49,\n",
    "Testing_32_A = case 50,\n",
    "Testing_33_A = case 51,\n",
    "Testing_34_A = case 52,\n",
    "Testing_35_A = case 53,\n",
    "Testing_35_B = case 54,\n",
    "Testing_36_A = case 55,\n",
    "Testing_37_A = case 56,\n",
    "Testing_37_B = case 57,\n",
    "Testing_38_A = case 58,\n",
    "Testing_38_B = case 59,\n",
    "Testing_39_A = case 60,\n",
    "Testing_39_B = case 61,\n",
    "Testing_40_A = case 62}"
   ],
   "outputs": [],
   "metadata": {}
  },
  {
   "cell_type": "code",
   "execution_count": null,
   "source": [],
   "outputs": [],
   "metadata": {}
  },
  {
   "cell_type": "code",
   "execution_count": 21,
   "source": [
    "patient_cases_dict = {key.split('_')[1]: [] for key in  dict_patient_cases}\n",
    "for key in dict_patient_cases:\n",
    "    patient_id = key.split('_')[1]\n",
    "    cur_case = dict_patient_cases[key].split(' ')\n",
    "    #print(patient_id)\n",
    "    s = '_'.join(cur_case)\n",
    "    patient_cases_dict[patient_id].append(s)"
   ],
   "outputs": [],
   "metadata": {}
  },
  {
   "cell_type": "code",
   "execution_count": 22,
   "source": [
    "len(patient_cases_dict)"
   ],
   "outputs": [
    {
     "output_type": "execute_result",
     "data": {
      "text/plain": [
       "63"
      ]
     },
     "metadata": {},
     "execution_count": 22
    }
   ],
   "metadata": {}
  },
  {
   "cell_type": "code",
   "execution_count": 32,
   "source": [
    "patient_cases_dict"
   ],
   "outputs": [
    {
     "output_type": "execute_result",
     "data": {
      "text/plain": [
       "{'01': ['case_1', 'case_2'],\n",
       " '02': ['case_3', 'case_4'],\n",
       " '03': ['case_5', 'case_6'],\n",
       " '04': ['case_7', 'case_8'],\n",
       " '05': ['case_9'],\n",
       " '06': ['case_10'],\n",
       " '07': ['case_11'],\n",
       " '08': ['case_12'],\n",
       " '09': ['case_13'],\n",
       " '10': ['case_14'],\n",
       " '11': ['case_15'],\n",
       " '12': ['case_16'],\n",
       " '13': ['case_17'],\n",
       " '14': ['case_18', 'case_19'],\n",
       " '15': ['case_20'],\n",
       " '16': ['case_21', 'case_22'],\n",
       " '17': ['case_23', 'case_24'],\n",
       " '18': ['case_25'],\n",
       " '19': ['case_26', 'case_27'],\n",
       " '20': ['case_28', 'case_29'],\n",
       " '21': ['case_30'],\n",
       " '22': ['case_31'],\n",
       " '23': ['case_32', 'case_33'],\n",
       " '24': ['case_34', 'case_35'],\n",
       " '25': ['case_36', 'case_37'],\n",
       " '26': ['case_38'],\n",
       " '27': ['case_39', 'case_40'],\n",
       " '28': ['case_41', 'case_42'],\n",
       " '29': ['case_43', 'case_44'],\n",
       " '30': ['case_45', 'case_46'],\n",
       " '31': ['case_47', 'case_48'],\n",
       " '32': ['case_49', 'case_50'],\n",
       " '33': ['case_51', 'case_52'],\n",
       " '34': ['case_53', 'case_54'],\n",
       " '35': ['case_55', 'case_56'],\n",
       " '36': ['case_57', 'case_58'],\n",
       " '37': ['case_59', 'case_60'],\n",
       " '38': ['case_61'],\n",
       " '39': ['case_62', 'case_63'],\n",
       " '40': ['case_64', 'case_65'],\n",
       " '41': ['case_66', 'case_67'],\n",
       " '42': ['case_68', 'case_69'],\n",
       " '43': ['case_70', 'case_71'],\n",
       " '44': ['case_72', 'case_73'],\n",
       " '45': ['case_74'],\n",
       " '46': ['case_75', 'case_76'],\n",
       " '47': ['case_77'],\n",
       " '48': ['case_78', 'case_79'],\n",
       " '49': ['case_80'],\n",
       " '50': ['case_81'],\n",
       " '51': ['case_82'],\n",
       " '52': ['case_83'],\n",
       " '53': ['case_84'],\n",
       " '54': ['case_85'],\n",
       " '55': ['case_86'],\n",
       " '56': ['case_87'],\n",
       " '57': ['case_88'],\n",
       " '58': ['case_89'],\n",
       " '59': ['case_90'],\n",
       " '60': ['case_91'],\n",
       " '61': ['case_92'],\n",
       " '62': ['case_93'],\n",
       " '63': ['case_94']}"
      ]
     },
     "metadata": {},
     "execution_count": 32
    }
   ],
   "metadata": {}
  },
  {
   "cell_type": "code",
   "execution_count": 30,
   "source": [
    "dataset_dir = os.path.join(root_dir, \"TRAINING\")\n",
    "filenames_4D = natsorted(glob.glob(dataset_dir + \"/case_*/*4D*/*nii*\"))\n",
    "cases_paths = {}\n",
    "cases_paths = {path.split('.')[-2]: path for path in filenames_4D}\n",
    "print(len(cases_paths))\n",
    "print(cases_paths.keys())\n",
    "print(cases_paths['345561'])"
   ],
   "outputs": [
    {
     "output_type": "stream",
     "name": "stdout",
     "text": [
      "94\n",
      "dict_keys(['345561', '345568', '345575', '345582', '345589', '345596', '345603', '345610', '345617', '345624', '345631', '345638', '345645', '345652', '345659', '345666', '345673', '339335', '339343', '345682', '345689', '345696', '345703', '345710', '345717', '345724', '345731', '345738', '345745', '345752', '345759', '345766', '345773', '345780', '345787', '345794', '345801', '345808', '345815', '345822', '345829', '345836', '345843', '345850', '345857', '345864', '345871', '345878', '345885', '345892', '345899', '345906', '345913', '345920', '345927', '345934', '345941', '345948', '345955', '345962', '345969', '345976', '345983', '345990', '345997', '346004', '346011', '346018', '346025', '346032', '346039', '346046', '346053', '346060', '346067', '346074', '346081', '346088', '346095', '346102', '346109', '346116', '346123', '346130', '346137', '346144', '346151', '346158', '346165', '346172', '346179', '346186', '346193', '346200'])\n",
      "/media/sebastian/data/ASAP/ISLES2018_Training/TRAINING/case_1/SMIR.Brain.XX.O.CT_4DPWI.345561/SMIR.Brain.XX.O.CT_4DPWI.345561.nii\n"
     ]
    }
   ],
   "metadata": {}
  },
  {
   "cell_type": "markdown",
   "source": [
    "## Mapping from the path of the nii file to the corresponding patient id\n"
   ],
   "metadata": {}
  },
  {
   "cell_type": "code",
   "execution_count": 42,
   "source": [
    "patient_paths = {key.split('_')[1]: [] for key in  dict_patient_cases}\n",
    "for key in cases_paths:\n",
    "    cur_path = cases_paths[key]\n",
    "    cur_case = cur_path.split('/')[-3]\n",
    "    for patient_id in patient_cases_dict.keys():\n",
    "        if cur_case in patient_cases_dict[patient_id]:\n",
    "            patient_paths[patient_id].append(cur_path)\n"
   ],
   "outputs": [],
   "metadata": {}
  },
  {
   "cell_type": "code",
   "execution_count": 43,
   "source": [
    "patient_paths"
   ],
   "outputs": [
    {
     "output_type": "execute_result",
     "data": {
      "text/plain": [
       "{'01': ['/media/sebastian/data/ASAP/ISLES2018_Training/TRAINING/case_1/SMIR.Brain.XX.O.CT_4DPWI.345561/SMIR.Brain.XX.O.CT_4DPWI.345561.nii',\n",
       "  '/media/sebastian/data/ASAP/ISLES2018_Training/TRAINING/case_2/SMIR.Brain.XX.O.CT_4DPWI.345568/SMIR.Brain.XX.O.CT_4DPWI.345568.nii'],\n",
       " '02': ['/media/sebastian/data/ASAP/ISLES2018_Training/TRAINING/case_3/SMIR.Brain.XX.O.CT_4DPWI.345575/SMIR.Brain.XX.O.CT_4DPWI.345575.nii',\n",
       "  '/media/sebastian/data/ASAP/ISLES2018_Training/TRAINING/case_4/SMIR.Brain.XX.O.CT_4DPWI.345582/SMIR.Brain.XX.O.CT_4DPWI.345582.nii'],\n",
       " '03': ['/media/sebastian/data/ASAP/ISLES2018_Training/TRAINING/case_5/SMIR.Brain.XX.O.CT_4DPWI.345589/SMIR.Brain.XX.O.CT_4DPWI.345589.nii',\n",
       "  '/media/sebastian/data/ASAP/ISLES2018_Training/TRAINING/case_6/SMIR.Brain.XX.O.CT_4DPWI.345596/SMIR.Brain.XX.O.CT_4DPWI.345596.nii'],\n",
       " '04': ['/media/sebastian/data/ASAP/ISLES2018_Training/TRAINING/case_7/SMIR.Brain.XX.O.CT_4DPWI.345603/SMIR.Brain.XX.O.CT_4DPWI.345603.nii',\n",
       "  '/media/sebastian/data/ASAP/ISLES2018_Training/TRAINING/case_8/SMIR.Brain.XX.O.CT_4DPWI.345610/SMIR.Brain.XX.O.CT_4DPWI.345610.nii'],\n",
       " '05': ['/media/sebastian/data/ASAP/ISLES2018_Training/TRAINING/case_9/SMIR.Brain.XX.O.CT_4DPWI.345617/SMIR.Brain.XX.O.CT_4DPWI.345617.nii'],\n",
       " '06': ['/media/sebastian/data/ASAP/ISLES2018_Training/TRAINING/case_10/SMIR.Brain.XX.O.CT_4DPWI.345624/SMIR.Brain.XX.O.CT_4DPWI.345624.nii'],\n",
       " '07': ['/media/sebastian/data/ASAP/ISLES2018_Training/TRAINING/case_11/SMIR.Brain.XX.O.CT_4DPWI.345631/SMIR.Brain.XX.O.CT_4DPWI.345631.nii'],\n",
       " '08': ['/media/sebastian/data/ASAP/ISLES2018_Training/TRAINING/case_12/SMIR.Brain.XX.O.CT_4DPWI.345638/SMIR.Brain.XX.O.CT_4DPWI.345638.nii'],\n",
       " '09': ['/media/sebastian/data/ASAP/ISLES2018_Training/TRAINING/case_13/SMIR.Brain.XX.O.CT_4DPWI.345645/SMIR.Brain.XX.O.CT_4DPWI.345645.nii'],\n",
       " '10': ['/media/sebastian/data/ASAP/ISLES2018_Training/TRAINING/case_14/SMIR.Brain.XX.O.CT_4DPWI.345652/SMIR.Brain.XX.O.CT_4DPWI.345652.nii'],\n",
       " '11': ['/media/sebastian/data/ASAP/ISLES2018_Training/TRAINING/case_15/SMIR.Brain.XX.O.CT_4DPWI.345659/SMIR.Brain.XX.O.CT_4DPWI.345659.nii'],\n",
       " '12': ['/media/sebastian/data/ASAP/ISLES2018_Training/TRAINING/case_16/SMIR.Brain.XX.O.CT_4DPWI.345666/SMIR.Brain.XX.O.CT_4DPWI.345666.nii'],\n",
       " '13': ['/media/sebastian/data/ASAP/ISLES2018_Training/TRAINING/case_17/SMIR.Brain.XX.O.CT_4DPWI.345673/SMIR.Brain.XX.O.CT_4DPWI.345673.nii'],\n",
       " '14': ['/media/sebastian/data/ASAP/ISLES2018_Training/TRAINING/case_18/SMIR.Brain.XX.O.CT_4DPWI.339335/SMIR.Brain.XX.O.CT_4DPWI.339335.nii',\n",
       "  '/media/sebastian/data/ASAP/ISLES2018_Training/TRAINING/case_19/SMIR.Brain.XX.O.CT_4DPWI.339343/SMIR.Brain.XX.O.CT_4DPWI.339343.nii'],\n",
       " '15': ['/media/sebastian/data/ASAP/ISLES2018_Training/TRAINING/case_20/SMIR.Brain.XX.O.CT_4DPWI.345682/SMIR.Brain.XX.O.CT_4DPWI.345682.nii'],\n",
       " '16': ['/media/sebastian/data/ASAP/ISLES2018_Training/TRAINING/case_21/SMIR.Brain.XX.O.CT_4DPWI.345689/SMIR.Brain.XX.O.CT_4DPWI.345689.nii',\n",
       "  '/media/sebastian/data/ASAP/ISLES2018_Training/TRAINING/case_22/SMIR.Brain.XX.O.CT_4DPWI.345696/SMIR.Brain.XX.O.CT_4DPWI.345696.nii'],\n",
       " '17': ['/media/sebastian/data/ASAP/ISLES2018_Training/TRAINING/case_23/SMIR.Brain.XX.O.CT_4DPWI.345703/SMIR.Brain.XX.O.CT_4DPWI.345703.nii',\n",
       "  '/media/sebastian/data/ASAP/ISLES2018_Training/TRAINING/case_24/SMIR.Brain.XX.O.CT_4DPWI.345710/SMIR.Brain.XX.O.CT_4DPWI.345710.nii'],\n",
       " '18': ['/media/sebastian/data/ASAP/ISLES2018_Training/TRAINING/case_25/SMIR.Brain.XX.O.CT_4DPWI.345717/SMIR.Brain.XX.O.CT_4DPWI.345717.nii'],\n",
       " '19': ['/media/sebastian/data/ASAP/ISLES2018_Training/TRAINING/case_26/SMIR.Brain.XX.O.CT_4DPWI.345724/SMIR.Brain.XX.O.CT_4DPWI.345724.nii',\n",
       "  '/media/sebastian/data/ASAP/ISLES2018_Training/TRAINING/case_27/SMIR.Brain.XX.O.CT_4DPWI.345731/SMIR.Brain.XX.O.CT_4DPWI.345731.nii'],\n",
       " '20': ['/media/sebastian/data/ASAP/ISLES2018_Training/TRAINING/case_28/SMIR.Brain.XX.O.CT_4DPWI.345738/SMIR.Brain.XX.O.CT_4DPWI.345738.nii',\n",
       "  '/media/sebastian/data/ASAP/ISLES2018_Training/TRAINING/case_29/SMIR.Brain.XX.O.CT_4DPWI.345745/SMIR.Brain.XX.O.CT_4DPWI.345745.nii'],\n",
       " '21': ['/media/sebastian/data/ASAP/ISLES2018_Training/TRAINING/case_30/SMIR.Brain.XX.O.CT_4DPWI.345752/SMIR.Brain.XX.O.CT_4DPWI.345752.nii'],\n",
       " '22': ['/media/sebastian/data/ASAP/ISLES2018_Training/TRAINING/case_31/SMIR.Brain.XX.O.CT_4DPWI.345759/SMIR.Brain.XX.O.CT_4DPWI.345759.nii'],\n",
       " '23': ['/media/sebastian/data/ASAP/ISLES2018_Training/TRAINING/case_32/SMIR.Brain.XX.O.CT_4DPWI.345766/SMIR.Brain.XX.O.CT_4DPWI.345766.nii',\n",
       "  '/media/sebastian/data/ASAP/ISLES2018_Training/TRAINING/case_33/SMIR.Brain.XX.O.CT_4DPWI.345773/SMIR.Brain.XX.O.CT_4DPWI.345773.nii'],\n",
       " '24': ['/media/sebastian/data/ASAP/ISLES2018_Training/TRAINING/case_34/SMIR.Brain.XX.O.CT_4DPWI.345780/SMIR.Brain.XX.O.CT_4DPWI.345780.nii',\n",
       "  '/media/sebastian/data/ASAP/ISLES2018_Training/TRAINING/case_35/SMIR.Brain.XX.O.CT_4DPWI.345787/SMIR.Brain.XX.O.CT_4DPWI.345787.nii'],\n",
       " '25': ['/media/sebastian/data/ASAP/ISLES2018_Training/TRAINING/case_36/SMIR.Brain.XX.O.CT_4DPWI.345794/SMIR.Brain.XX.O.CT_4DPWI.345794.nii',\n",
       "  '/media/sebastian/data/ASAP/ISLES2018_Training/TRAINING/case_37/SMIR.Brain.XX.O.CT_4DPWI.345801/SMIR.Brain.XX.O.CT_4DPWI.345801.nii'],\n",
       " '26': ['/media/sebastian/data/ASAP/ISLES2018_Training/TRAINING/case_38/SMIR.Brain.XX.O.CT_4DPWI.345808/SMIR.Brain.XX.O.CT_4DPWI.345808.nii'],\n",
       " '27': ['/media/sebastian/data/ASAP/ISLES2018_Training/TRAINING/case_39/SMIR.Brain.XX.O.CT_4DPWI.345815/SMIR.Brain.XX.O.CT_4DPWI.345815.nii',\n",
       "  '/media/sebastian/data/ASAP/ISLES2018_Training/TRAINING/case_40/SMIR.Brain.XX.O.CT_4DPWI.345822/SMIR.Brain.XX.O.CT_4DPWI.345822.nii'],\n",
       " '28': ['/media/sebastian/data/ASAP/ISLES2018_Training/TRAINING/case_41/SMIR.Brain.XX.O.CT_4DPWI.345829/SMIR.Brain.XX.O.CT_4DPWI.345829.nii',\n",
       "  '/media/sebastian/data/ASAP/ISLES2018_Training/TRAINING/case_42/SMIR.Brain.XX.O.CT_4DPWI.345836/SMIR.Brain.XX.O.CT_4DPWI.345836.nii'],\n",
       " '29': ['/media/sebastian/data/ASAP/ISLES2018_Training/TRAINING/case_43/SMIR.Brain.XX.O.CT_4DPWI.345843/SMIR.Brain.XX.O.CT_4DPWI.345843.nii',\n",
       "  '/media/sebastian/data/ASAP/ISLES2018_Training/TRAINING/case_44/SMIR.Brain.XX.O.CT_4DPWI.345850/SMIR.Brain.XX.O.CT_4DPWI.345850.nii'],\n",
       " '30': ['/media/sebastian/data/ASAP/ISLES2018_Training/TRAINING/case_45/SMIR.Brain.XX.O.CT_4DPWI.345857/SMIR.Brain.XX.O.CT_4DPWI.345857.nii',\n",
       "  '/media/sebastian/data/ASAP/ISLES2018_Training/TRAINING/case_46/SMIR.Brain.XX.O.CT_4DPWI.345864/SMIR.Brain.XX.O.CT_4DPWI.345864.nii'],\n",
       " '31': ['/media/sebastian/data/ASAP/ISLES2018_Training/TRAINING/case_47/SMIR.Brain.XX.O.CT_4DPWI.345871/SMIR.Brain.XX.O.CT_4DPWI.345871.nii',\n",
       "  '/media/sebastian/data/ASAP/ISLES2018_Training/TRAINING/case_48/SMIR.Brain.XX.O.CT_4DPWI.345878/SMIR.Brain.XX.O.CT_4DPWI.345878.nii'],\n",
       " '32': ['/media/sebastian/data/ASAP/ISLES2018_Training/TRAINING/case_49/SMIR.Brain.XX.O.CT_4DPWI.345885/SMIR.Brain.XX.O.CT_4DPWI.345885.nii',\n",
       "  '/media/sebastian/data/ASAP/ISLES2018_Training/TRAINING/case_50/SMIR.Brain.XX.O.CT_4DPWI.345892/SMIR.Brain.XX.O.CT_4DPWI.345892.nii'],\n",
       " '33': ['/media/sebastian/data/ASAP/ISLES2018_Training/TRAINING/case_51/SMIR.Brain.XX.O.CT_4DPWI.345899/SMIR.Brain.XX.O.CT_4DPWI.345899.nii',\n",
       "  '/media/sebastian/data/ASAP/ISLES2018_Training/TRAINING/case_52/SMIR.Brain.XX.O.CT_4DPWI.345906/SMIR.Brain.XX.O.CT_4DPWI.345906.nii'],\n",
       " '34': ['/media/sebastian/data/ASAP/ISLES2018_Training/TRAINING/case_53/SMIR.Brain.XX.O.CT_4DPWI.345913/SMIR.Brain.XX.O.CT_4DPWI.345913.nii',\n",
       "  '/media/sebastian/data/ASAP/ISLES2018_Training/TRAINING/case_54/SMIR.Brain.XX.O.CT_4DPWI.345920/SMIR.Brain.XX.O.CT_4DPWI.345920.nii'],\n",
       " '35': ['/media/sebastian/data/ASAP/ISLES2018_Training/TRAINING/case_55/SMIR.Brain.XX.O.CT_4DPWI.345927/SMIR.Brain.XX.O.CT_4DPWI.345927.nii',\n",
       "  '/media/sebastian/data/ASAP/ISLES2018_Training/TRAINING/case_56/SMIR.Brain.XX.O.CT_4DPWI.345934/SMIR.Brain.XX.O.CT_4DPWI.345934.nii'],\n",
       " '36': ['/media/sebastian/data/ASAP/ISLES2018_Training/TRAINING/case_57/SMIR.Brain.XX.O.CT_4DPWI.345941/SMIR.Brain.XX.O.CT_4DPWI.345941.nii',\n",
       "  '/media/sebastian/data/ASAP/ISLES2018_Training/TRAINING/case_58/SMIR.Brain.XX.O.CT_4DPWI.345948/SMIR.Brain.XX.O.CT_4DPWI.345948.nii'],\n",
       " '37': ['/media/sebastian/data/ASAP/ISLES2018_Training/TRAINING/case_59/SMIR.Brain.XX.O.CT_4DPWI.345955/SMIR.Brain.XX.O.CT_4DPWI.345955.nii',\n",
       "  '/media/sebastian/data/ASAP/ISLES2018_Training/TRAINING/case_60/SMIR.Brain.XX.O.CT_4DPWI.345962/SMIR.Brain.XX.O.CT_4DPWI.345962.nii'],\n",
       " '38': ['/media/sebastian/data/ASAP/ISLES2018_Training/TRAINING/case_61/SMIR.Brain.XX.O.CT_4DPWI.345969/SMIR.Brain.XX.O.CT_4DPWI.345969.nii'],\n",
       " '39': ['/media/sebastian/data/ASAP/ISLES2018_Training/TRAINING/case_62/SMIR.Brain.XX.O.CT_4DPWI.345976/SMIR.Brain.XX.O.CT_4DPWI.345976.nii',\n",
       "  '/media/sebastian/data/ASAP/ISLES2018_Training/TRAINING/case_63/SMIR.Brain.XX.O.CT_4DPWI.345983/SMIR.Brain.XX.O.CT_4DPWI.345983.nii'],\n",
       " '40': ['/media/sebastian/data/ASAP/ISLES2018_Training/TRAINING/case_64/SMIR.Brain.XX.O.CT_4DPWI.345990/SMIR.Brain.XX.O.CT_4DPWI.345990.nii',\n",
       "  '/media/sebastian/data/ASAP/ISLES2018_Training/TRAINING/case_65/SMIR.Brain.XX.O.CT_4DPWI.345997/SMIR.Brain.XX.O.CT_4DPWI.345997.nii'],\n",
       " '41': ['/media/sebastian/data/ASAP/ISLES2018_Training/TRAINING/case_66/SMIR.Brain.XX.O.CT_4DPWI.346004/SMIR.Brain.XX.O.CT_4DPWI.346004.nii',\n",
       "  '/media/sebastian/data/ASAP/ISLES2018_Training/TRAINING/case_67/SMIR.Brain.XX.O.CT_4DPWI.346011/SMIR.Brain.XX.O.CT_4DPWI.346011.nii'],\n",
       " '42': ['/media/sebastian/data/ASAP/ISLES2018_Training/TRAINING/case_68/SMIR.Brain.XX.O.CT_4DPWI.346018/SMIR.Brain.XX.O.CT_4DPWI.346018.nii',\n",
       "  '/media/sebastian/data/ASAP/ISLES2018_Training/TRAINING/case_69/SMIR.Brain.XX.O.CT_4DPWI.346025/SMIR.Brain.XX.O.CT_4DPWI.346025.nii'],\n",
       " '43': ['/media/sebastian/data/ASAP/ISLES2018_Training/TRAINING/case_70/SMIR.Brain.XX.O.CT_4DPWI.346032/SMIR.Brain.XX.O.CT_4DPWI.346032.nii',\n",
       "  '/media/sebastian/data/ASAP/ISLES2018_Training/TRAINING/case_71/SMIR.Brain.XX.O.CT_4DPWI.346039/SMIR.Brain.XX.O.CT_4DPWI.346039.nii'],\n",
       " '44': ['/media/sebastian/data/ASAP/ISLES2018_Training/TRAINING/case_72/SMIR.Brain.XX.O.CT_4DPWI.346046/SMIR.Brain.XX.O.CT_4DPWI.346046.nii',\n",
       "  '/media/sebastian/data/ASAP/ISLES2018_Training/TRAINING/case_73/SMIR.Brain.XX.O.CT_4DPWI.346053/SMIR.Brain.XX.O.CT_4DPWI.346053.nii'],\n",
       " '45': ['/media/sebastian/data/ASAP/ISLES2018_Training/TRAINING/case_74/SMIR.Brain.XX.O.CT_4DPWI.346060/SMIR.Brain.XX.O.CT_4DPWI.346060.nii'],\n",
       " '46': ['/media/sebastian/data/ASAP/ISLES2018_Training/TRAINING/case_75/SMIR.Brain.XX.O.CT_4DPWI.346067/SMIR.Brain.XX.O.CT_4DPWI.346067.nii',\n",
       "  '/media/sebastian/data/ASAP/ISLES2018_Training/TRAINING/case_76/SMIR.Brain.XX.O.CT_4DPWI.346074/SMIR.Brain.XX.O.CT_4DPWI.346074.nii'],\n",
       " '47': ['/media/sebastian/data/ASAP/ISLES2018_Training/TRAINING/case_77/SMIR.Brain.XX.O.CT_4DPWI.346081/SMIR.Brain.XX.O.CT_4DPWI.346081.nii'],\n",
       " '48': ['/media/sebastian/data/ASAP/ISLES2018_Training/TRAINING/case_78/SMIR.Brain.XX.O.CT_4DPWI.346088/SMIR.Brain.XX.O.CT_4DPWI.346088.nii',\n",
       "  '/media/sebastian/data/ASAP/ISLES2018_Training/TRAINING/case_79/SMIR.Brain.XX.O.CT_4DPWI.346095/SMIR.Brain.XX.O.CT_4DPWI.346095.nii'],\n",
       " '49': ['/media/sebastian/data/ASAP/ISLES2018_Training/TRAINING/case_80/SMIR.Brain.XX.O.CT_4DPWI.346102/SMIR.Brain.XX.O.CT_4DPWI.346102.nii'],\n",
       " '50': ['/media/sebastian/data/ASAP/ISLES2018_Training/TRAINING/case_81/SMIR.Brain.XX.O.CT_4DPWI.346109/SMIR.Brain.XX.O.CT_4DPWI.346109.nii'],\n",
       " '51': ['/media/sebastian/data/ASAP/ISLES2018_Training/TRAINING/case_82/SMIR.Brain.XX.O.CT_4DPWI.346116/SMIR.Brain.XX.O.CT_4DPWI.346116.nii'],\n",
       " '52': ['/media/sebastian/data/ASAP/ISLES2018_Training/TRAINING/case_83/SMIR.Brain.XX.O.CT_4DPWI.346123/SMIR.Brain.XX.O.CT_4DPWI.346123.nii'],\n",
       " '53': ['/media/sebastian/data/ASAP/ISLES2018_Training/TRAINING/case_84/SMIR.Brain.XX.O.CT_4DPWI.346130/SMIR.Brain.XX.O.CT_4DPWI.346130.nii'],\n",
       " '54': ['/media/sebastian/data/ASAP/ISLES2018_Training/TRAINING/case_85/SMIR.Brain.XX.O.CT_4DPWI.346137/SMIR.Brain.XX.O.CT_4DPWI.346137.nii'],\n",
       " '55': ['/media/sebastian/data/ASAP/ISLES2018_Training/TRAINING/case_86/SMIR.Brain.XX.O.CT_4DPWI.346144/SMIR.Brain.XX.O.CT_4DPWI.346144.nii'],\n",
       " '56': ['/media/sebastian/data/ASAP/ISLES2018_Training/TRAINING/case_87/SMIR.Brain.XX.O.CT_4DPWI.346151/SMIR.Brain.XX.O.CT_4DPWI.346151.nii'],\n",
       " '57': ['/media/sebastian/data/ASAP/ISLES2018_Training/TRAINING/case_88/SMIR.Brain.XX.O.CT_4DPWI.346158/SMIR.Brain.XX.O.CT_4DPWI.346158.nii'],\n",
       " '58': ['/media/sebastian/data/ASAP/ISLES2018_Training/TRAINING/case_89/SMIR.Brain.XX.O.CT_4DPWI.346165/SMIR.Brain.XX.O.CT_4DPWI.346165.nii'],\n",
       " '59': ['/media/sebastian/data/ASAP/ISLES2018_Training/TRAINING/case_90/SMIR.Brain.XX.O.CT_4DPWI.346172/SMIR.Brain.XX.O.CT_4DPWI.346172.nii'],\n",
       " '60': ['/media/sebastian/data/ASAP/ISLES2018_Training/TRAINING/case_91/SMIR.Brain.XX.O.CT_4DPWI.346179/SMIR.Brain.XX.O.CT_4DPWI.346179.nii'],\n",
       " '61': ['/media/sebastian/data/ASAP/ISLES2018_Training/TRAINING/case_92/SMIR.Brain.XX.O.CT_4DPWI.346186/SMIR.Brain.XX.O.CT_4DPWI.346186.nii'],\n",
       " '62': ['/media/sebastian/data/ASAP/ISLES2018_Training/TRAINING/case_93/SMIR.Brain.XX.O.CT_4DPWI.346193/SMIR.Brain.XX.O.CT_4DPWI.346193.nii'],\n",
       " '63': ['/media/sebastian/data/ASAP/ISLES2018_Training/TRAINING/case_94/SMIR.Brain.XX.O.CT_4DPWI.346200/SMIR.Brain.XX.O.CT_4DPWI.346200.nii']}"
      ]
     },
     "metadata": {},
     "execution_count": 43
    }
   ],
   "metadata": {
    "scrolled": true
   }
  },
  {
   "cell_type": "markdown",
   "source": [
    "## Creating five different sets of patient-separated [train, test] filenames to train aifnet"
   ],
   "metadata": {}
  },
  {
   "cell_type": "code",
   "execution_count": 56,
   "source": [
    "def rand_parts(seq, n, l):\n",
    "    indices = range(len(seq) - (l - 1) * n)\n",
    "    result = []\n",
    "    offset = 0\n",
    "    for i in sorted(random.sample(indices, n)):\n",
    "        i += offset\n",
    "        result.append(seq[i:i+l])\n",
    "        offset += l - 1\n",
    "    return result"
   ],
   "outputs": [],
   "metadata": {}
  },
  {
   "cell_type": "code",
   "execution_count": 108,
   "source": [
    "def generate_train_val_test_paths_files(patient_paths):\n",
    "\n",
    "    all_indexes = list(patient_paths.keys())\n",
    "    fractions_partitions = [0.7,0.1,0.2] #Fractions for the training, Validation and test partitions\n",
    "\n",
    "    num_tr, num_va = int(len(all_indexes)*0.7), int(len(all_indexes)*0.1)\n",
    "    perm = np.random.permutation(len(all_indexes))\n",
    "    train_cases = [all_indexes[perm[i]] for i in range(num_tr)]# all_indexes[perm[:num_tr]] [L[i] for i in Idx]\n",
    "    val_cases   = [all_indexes[perm[i]] for i in range(num_tr,num_tr+num_va)]\n",
    "    test_cases  = [all_indexes[perm[i]] for i in range(num_tr+num_va,len(all_indexes))]\n",
    "    train_cases_paths, valid_cases_paths, test_cases_paths = [], [], []\n",
    "    for item in train_cases:\n",
    "        for path in patient_paths[item]:\n",
    "            train_cases_paths.append(path)\n",
    "\n",
    "    for item in val_cases:\n",
    "        for path in patient_paths[item]:\n",
    "            valid_cases_paths.append(path)\n",
    "\n",
    "    for item in test_cases:\n",
    "        for path in patient_paths[item]:\n",
    "            test_cases_paths.append(path)\n",
    "    return train_cases_paths,valid_cases_paths,test_cases_paths"
   ],
   "outputs": [],
   "metadata": {}
  },
  {
   "cell_type": "code",
   "execution_count": 115,
   "source": [
    "print(len(train_cases))\n",
    "print(len(val_cases))\n",
    "print(len(test_cases))"
   ],
   "outputs": [
    {
     "output_type": "stream",
     "name": "stdout",
     "text": [
      "44\n",
      "6\n",
      "13\n"
     ]
    }
   ],
   "metadata": {
    "scrolled": true
   }
  },
  {
   "cell_type": "code",
   "execution_count": 151,
   "source": [
    "train_cases_paths,valid_cases_paths,test_cases_paths = generate_train_val_test_paths_files(patient_paths)"
   ],
   "outputs": [],
   "metadata": {}
  },
  {
   "cell_type": "code",
   "execution_count": 152,
   "source": [
    "print(len(train_cases_paths)),print(len(valid_cases_paths)),print(len(test_cases_paths))"
   ],
   "outputs": [
    {
     "output_type": "stream",
     "name": "stdout",
     "text": [
      "65\n",
      "9\n",
      "20\n"
     ]
    },
    {
     "output_type": "execute_result",
     "data": {
      "text/plain": [
       "(None, None, None)"
      ]
     },
     "metadata": {},
     "execution_count": 152
    }
   ],
   "metadata": {}
  },
  {
   "cell_type": "code",
   "execution_count": 153,
   "source": [
    "for fold in ['fold_1','fold_2','fold_3','fold_4', 'fold_5']:\n",
    "    train_cases_paths,valid_cases_paths,test_cases_paths = generate_train_val_test_paths_files(patient_paths)\n",
    "    train_file=open('/home/sebastian/experiments/aifnet_replication/partitions/'+fold+ '/train.txt','w')\n",
    "    valid_file=open('/home/sebastian/experiments/aifnet_replication/partitions/'+fold+ '/valid.txt','w')\n",
    "    test_file=open('/home/sebastian/experiments/aifnet_replication/partitions/'+fold+ '/test.txt','w')\n",
    "    for element in train_cases_paths:        \n",
    "        train_file.write(element+'\\n')\n",
    "    train_file.close()\n",
    "    \n",
    "    for element in valid_cases_paths:        \n",
    "        valid_file.write(element+'\\n')\n",
    "    valid_file.close()\n",
    "    \n",
    "    for element in test_cases_paths:        \n",
    "        test_file.write(element+'\\n')\n",
    "    test_file.close()"
   ],
   "outputs": [],
   "metadata": {}
  },
  {
   "cell_type": "code",
   "execution_count": null,
   "source": [],
   "outputs": [],
   "metadata": {}
  }
 ],
 "metadata": {
  "kernelspec": {
   "name": "python3",
   "display_name": "Python 3.9.6 64-bit ('aifnet': conda)"
  },
  "language_info": {
   "codemirror_mode": {
    "name": "ipython",
    "version": 3
   },
   "file_extension": ".py",
   "mimetype": "text/x-python",
   "name": "python",
   "nbconvert_exporter": "python",
   "pygments_lexer": "ipython3",
   "version": "3.9.6"
  },
  "interpreter": {
   "hash": "03674a9a762e7c88d6ffee8451a96bad54270149f3e842460d737eee38e8f064"
  }
 },
 "nbformat": 4,
 "nbformat_minor": 5
}