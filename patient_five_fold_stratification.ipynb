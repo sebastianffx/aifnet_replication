{
 "cells": [
  {
   "cell_type": "code",
   "execution_count": 1,
   "source": [
    "import matplotlib.pyplot as plt\n",
    "import os\n",
    "import zipfile\n",
    "import numpy as np\n",
    "import tensorflow as tf\n",
    "from tensorflow import keras\n",
    "from tensorflow.keras import layers\n",
    "from tensorflow.keras.callbacks import ModelCheckpoint, TensorBoard\n",
    "import nibabel as nib\n",
    "from scipy import ndimage\n",
    "import glob\n",
    "import sys,os\n",
    "from natsort import natsorted\n",
    "import tensorflow_probability as tfp\n",
    "import random\n",
    "from aifnet_utils.preprocess import read_nifti_file, normalize, normalize_aif, process_scan, normalize_zero_one\n",
    "from aifnet_utils.losses import MaxCorrelation\n",
    "from aifnet_utils.data_loaders import read_isles_annotations, read_isles_volumes, ISLES18DataGen_aifvof_aug\n",
    "from aifnet_utils.data_loaders import delay_sequence_padding, anticipate_sequence_padding, late_bolus, early_bolus\n",
    "from pathlib import Path\n",
    "\n",
    "%matplotlib inline"
   ],
   "outputs": [],
   "metadata": {}
  },
  {
   "cell_type": "code",
   "execution_count": 2,
   "source": [
    "#Reading the file with all the 94 cases of training \n",
    "#TODO: Annotate the 62 cases from test\n",
    "root_dir     = '/media/sebastian/data/ASAP/ISLES2018_Training/'\n",
    "ROOT_EXP = '/home/sebastian/experiments/aifnet_replication'#'/Users/sebastianotalora/work/postdoc/ctp/aifnet_replication'\n",
    "\n",
    "#At insel: \n",
    "#Local: '/Users/sebastianotalora/work/postdoc/data/ISLES/'\n",
    "aif_annotations_path = ROOT_EXP + 'annotated_aif_vof_complete_revised.csv'\n",
    "min_num_volumes_ctp = 43\n"
   ],
   "outputs": [],
   "metadata": {}
  },
  {
   "cell_type": "code",
   "execution_count": 3,
   "source": [
    "dict_patient_cases_training = {'Train_01_A':'case 1',\n",
    "'Train_01_B':'case 2',\n",
    "'Train_02_A':'case 3',\n",
    "'Train_02_B':'case 4',\n",
    "'Train_03_A':'case 5',\n",
    "'Train_03_B':'case 6',\n",
    "'Train_04_A':'case 7',\n",
    "'Train_04_B':'case 8',\n",
    "'Train_05_A':'case 9',\n",
    "'Train_06_A':'case 10',\n",
    "'Train_07_A':'case 11',\n",
    "'Train_08_A':'case 12',\n",
    "'Train_09_A':'case 13',\n",
    "'Train_10_A':'case 14',\n",
    "'Train_11_A':'case 15',\n",
    "'Train_12_A':'case 16',\n",
    "'Train_13_A':'case 17',\n",
    "'Train_14_A':'case 18',\n",
    "'Train_14_B':'case 19',\n",
    "'Train_15_A':'case 20',\n",
    "'Train_16_A':'case 21',\n",
    "'Train_16_B':'case 22',\n",
    "'Train_17_A':'case 23',\n",
    "'Train_17_B':'case 24',\n",
    "'Train_18_A':'case 25',\n",
    "'Train_19_A':'case 26',\n",
    "'Train_19_B':'case 27',\n",
    "'Train_20_A':'case 28',\n",
    "'Train_20_B':'case 29',\n",
    "'Train_21_A':'case 30',\n",
    "'Train_22_A':'case 31',\n",
    "'Train_23_A':'case 32',\n",
    "'Train_23_B':'case 33',\n",
    "'Train_24_A':'case 34',\n",
    "'Train_24_B':'case 35',\n",
    "'Train_25_A':'case 36',\n",
    "'Train_25_B':'case 37',\n",
    "'Train_26_A':'case 38',\n",
    "'Train_27_A':'case 39',\n",
    "'Train_27_B':'case 40',\n",
    "'Train_28_A':'case 41',\n",
    "'Train_28_B':'case 42',\n",
    "'Train_29_A':'case 43',\n",
    "'Train_29_B':'case 44',\n",
    "'Train_30_A':'case 45',\n",
    "'Train_30_B':'case 46',\n",
    "'Train_31_A':'case 47',\n",
    "'Train_31_B':'case 48',\n",
    "'Train_32_A':'case 49',\n",
    "'Train_32_B':'case 50',\n",
    "'Train_33_A':'case 51',\n",
    "'Train_33_B':'case 52',\n",
    "'Train_34_A':'case 53',\n",
    "'Train_34_B':'case 54',\n",
    "'Train_35_A':'case 55',\n",
    "'Train_35_B':'case 56',\n",
    "'Train_36_A':'case 57',\n",
    "'Train_36_B':'case 58',\n",
    "'Train_37_A':'case 59',\n",
    "'Train_37_B':'case 60',\n",
    "'Train_38_A':'case 61',\n",
    "'Train_39_A':'case 62',\n",
    "'Train_39_B':'case 63',\n",
    "'Train_40_A':'case 64',\n",
    "'Train_40_B':'case 65',\n",
    "'Train_41_A':'case 66',\n",
    "'Train_41_B':'case 67',\n",
    "'Train_42_A':'case 68',\n",
    "'Train_42_B':'case 69',\n",
    "'Train_43_A':'case 70',\n",
    "'Train_43_B':'case 71',\n",
    "'Train_44_A':'case 72',\n",
    "'Train_44_B':'case 73',\n",
    "'Train_45_A':'case 74',\n",
    "'Train_46_A':'case 75',\n",
    "'Train_46_B':'case 76',\n",
    "'Train_47_A':'case 77',\n",
    "'Train_48_A':'case 78',\n",
    "'Train_48_B':'case 79',\n",
    "'Train_49_A':'case 80',\n",
    "'Train_50_A':'case 81',\n",
    "'Train_51_A':'case 82',\n",
    "'Train_52_A':'case 83',\n",
    "'Train_53_A':'case 84',\n",
    "'Train_54_A':'case 85',\n",
    "'Train_55_A':'case 86',\n",
    "'Train_56_A':'case 87',\n",
    "'Train_57_A':'case 88',\n",
    "'Train_58_A':'case 89',\n",
    "'Train_59_A':'case 90',\n",
    "'Train_60_A':'case 91',\n",
    "'Train_61_A':'case 92',\n",
    "'Train_62_A':'case 93',\n",
    "'Train_63_A':'case 94',\n",
    "\n",
    "}"
   ],
   "outputs": [],
   "metadata": {}
  },
  {
   "cell_type": "code",
   "execution_count": 4,
   "source": [
    "dict_patient_cases_testing = {'Testing_01_A':'case 1',\n",
    "'Testing_02_A':'case 2',\n",
    "'Testing_03_A':'case 3',\n",
    "'Testing_04_A':'case 4',\n",
    "'Testing_05_A':'case 5',\n",
    "'Testing_06_A':'case 6',\n",
    "'Testing_07_A':'case 7',\n",
    "'Testing_08_A':'case 8',\n",
    "'Testing_09_A':'case 9',\n",
    "'Testing_10_A':'case 10',\n",
    "'Testing_10_B':'case 11',\n",
    "'Testing_11_A':'case 12',\n",
    "'Testing_12_A':'case 13',\n",
    "'Testing_12_B':'case 14',\n",
    "'Testing_13_A':'case 15',\n",
    "'Testing_13_B':'case 16',\n",
    "'Testing_14_A':'case 17',\n",
    "'Testing_14_B':'case 18',\n",
    "'Testing_15_A':'case 19',\n",
    "'Testing_15_B':'case 20',\n",
    "'Testing_16_A':'case 21',\n",
    "'Testing_16_B':'case 22',\n",
    "'Testing_17_A':'case 23',\n",
    "'Testing_17_B':'case 24',\n",
    "'Testing_18_A':'case 25',\n",
    "'Testing_18_B':'case 26',\n",
    "'Testing_19_A':'case 27',\n",
    "'Testing_19_B':'case 28',\n",
    "'Testing_20_A':'case 29',\n",
    "'Testing_20_B':'case 30',\n",
    "'Testing_21_A':'case 31',\n",
    "'Testing_21_B':'case 32',\n",
    "'Testing_22_A':'case 33',\n",
    "'Testing_22_B':'case 34',\n",
    "'Testing_23_A':'case 35',\n",
    "'Testing_23_B':'case 36',\n",
    "'Testing_24_A':'case 37',\n",
    "'Testing_24_B':'case 38',\n",
    "'Testing_25_A':'case 39',\n",
    "'Testing_25_B':'case 40',\n",
    "'Testing_26_A':'case 41',\n",
    "'Testing_26_B':'case 42',\n",
    "'Testing_27_A':'case 43',\n",
    "'Testing_27_B':'case 44',\n",
    "'Testing_28_A':'case 45',\n",
    "'Testing_28_B':'case 46',\n",
    "'Testing_29_A':'case 47',\n",
    "'Testing_30_A':'case 48',\n",
    "'Testing_31_A':'case 49',\n",
    "'Testing_32_A':'case 50',\n",
    "'Testing_33_A':'case 51',\n",
    "'Testing_34_A':'case 52',\n",
    "'Testing_35_A':'case 53',\n",
    "'Testing_35_B':'case 54',\n",
    "'Testing_36_A':'case 55',\n",
    "'Testing_37_A':'case 56',\n",
    "'Testing_37_B':'case 57',\n",
    "'Testing_38_A':'case 58',\n",
    "'Testing_38_B':'case 59',\n",
    "'Testing_39_A':'case 60',\n",
    "'Testing_39_B':'case 61',\n",
    "'Testing_40_A':'case 62'}"
   ],
   "outputs": [],
   "metadata": {}
  },
  {
   "cell_type": "code",
   "execution_count": 5,
   "source": [
    "len(dict_patient_cases_testing)"
   ],
   "outputs": [
    {
     "output_type": "execute_result",
     "data": {
      "text/plain": [
       "62"
      ]
     },
     "metadata": {},
     "execution_count": 5
    }
   ],
   "metadata": {}
  },
  {
   "cell_type": "code",
   "execution_count": 6,
   "source": [
    "patient_cases_dict_training = {key.split('_')[1]: [] for key in  dict_patient_cases_training}\n",
    "for key in dict_patient_cases_training:\n",
    "    patient_id =  key.split('_')[1]\n",
    "    cur_case = dict_patient_cases_training[key].split(' ')\n",
    "    #print(patient_id)\n",
    "    s = '_'.join(cur_case)\n",
    "    patient_cases_dict_training[patient_id].append(s)"
   ],
   "outputs": [],
   "metadata": {}
  },
  {
   "cell_type": "code",
   "execution_count": 7,
   "source": [
    "patient_cases_dict_test = {key.split('_')[1]: [] for key in  dict_patient_cases_testing}\n",
    "for key in dict_patient_cases_testing:\n",
    "    patient_id =  key.split('_')[1]\n",
    "    cur_case = dict_patient_cases_testing[key].split(' ')\n",
    "    #print(patient_id)\n",
    "    s = '_'.join(cur_case)\n",
    "    patient_cases_dict_test[patient_id].append(s)"
   ],
   "outputs": [],
   "metadata": {}
  },
  {
   "cell_type": "code",
   "execution_count": 15,
   "source": [
    "print(len(patient_cases_dict_training),len(patient_cases_dict_test))\n",
    "print(patient_cases_dict_training['01'])"
   ],
   "outputs": [
    {
     "output_type": "stream",
     "name": "stdout",
     "text": [
      "63 40\n",
      "['case_1', 'case_2']\n"
     ]
    }
   ],
   "metadata": {}
  },
  {
   "cell_type": "code",
   "execution_count": 17,
   "source": [
    "dataset_dir = os.path.join(root_dir, \"TRAINING\")\n",
    "filenames_4D = natsorted(glob.glob(dataset_dir + \"/case_*/*4D*/*nii*\"))\n",
    "dataset_dir_test = os.path.join(root_dir, \"TESTING\")\n",
    "filenames_4D_test = natsorted(glob.glob(dataset_dir_test + \"/case_*/*4D*/*nii*\"))\n",
    "\n",
    "\n",
    "cases_paths = {}\n",
    "cases_paths = {path.split('.')[-2]: path for path in filenames_4D }\n",
    "cases_paths_test = {path.split('.')[-2]: path for path in filenames_4D_test}\n",
    "\n",
    "print(\"Training paths: \"+ str(len(cases_paths)) + \"; Testing paths \" + str(len(cases_paths_test) ))\n",
    "print(cases_paths.keys())\n",
    "print(cases_paths['345561'])"
   ],
   "outputs": [
    {
     "output_type": "stream",
     "name": "stdout",
     "text": [
      "Training paths: 94; Testing paths 62\n",
      "dict_keys(['345561', '345568', '345575', '345582', '345589', '345596', '345603', '345610', '345617', '345624', '345631', '345638', '345645', '345652', '345659', '345666', '345673', '339335', '339343', '345682', '345689', '345696', '345703', '345710', '345717', '345724', '345731', '345738', '345745', '345752', '345759', '345766', '345773', '345780', '345787', '345794', '345801', '345808', '345815', '345822', '345829', '345836', '345843', '345850', '345857', '345864', '345871', '345878', '345885', '345892', '345899', '345906', '345913', '345920', '345927', '345934', '345941', '345948', '345955', '345962', '345969', '345976', '345983', '345990', '345997', '346004', '346011', '346018', '346025', '346032', '346039', '346046', '346053', '346060', '346067', '346074', '346081', '346088', '346095', '346102', '346109', '346116', '346123', '346130', '346137', '346144', '346151', '346158', '346165', '346172', '346179', '346186', '346193', '346200'])\n",
      "/media/sebastian/data/ASAP/ISLES2018_Training/TRAINING/case_1/SMIR.Brain.XX.O.CT_4DPWI.345561/SMIR.Brain.XX.O.CT_4DPWI.345561.nii\n"
     ]
    }
   ],
   "metadata": {}
  },
  {
   "cell_type": "code",
   "execution_count": 18,
   "source": [
    "len(filenames_4D_test)"
   ],
   "outputs": [
    {
     "output_type": "execute_result",
     "data": {
      "text/plain": [
       "62"
      ]
     },
     "metadata": {},
     "execution_count": 18
    }
   ],
   "metadata": {}
  },
  {
   "cell_type": "markdown",
   "source": [
    "## Mapping from the path of the nii file to the corresponding patient id\n"
   ],
   "metadata": {}
  },
  {
   "cell_type": "code",
   "execution_count": 19,
   "source": [
    "patient_paths = {key.split('_')[1]: [] for key in  dict_patient_cases_training}\n",
    "for key in cases_paths:\n",
    "    cur_path = cases_paths[key]\n",
    "    cur_case = cur_path.split('/')[-3]\n",
    "    for patient_id in patient_cases_dict_training.keys():\n",
    "        if cur_case in patient_cases_dict_training[patient_id]:\n",
    "            patient_paths[patient_id].append(cur_path)\n"
   ],
   "outputs": [],
   "metadata": {}
  },
  {
   "cell_type": "code",
   "execution_count": 20,
   "source": [
    "patient_paths_test = {key.split('_')[1]: [] for key in  dict_patient_cases_testing}\n",
    "for key in cases_paths_test:\n",
    "    cur_path = cases_paths_test[key]\n",
    "    cur_case = cur_path.split('/')[-3]\n",
    "    for patient_id in patient_cases_dict_training.keys():\n",
    "        if cur_case in patient_cases_dict_training[patient_id]:\n",
    "            patient_paths_test[patient_id].append(cur_path)\n"
   ],
   "outputs": [],
   "metadata": {}
  },
  {
   "cell_type": "code",
   "execution_count": 21,
   "source": [
    "print(len(patient_paths_test) + len(patient_cases_dict_training))"
   ],
   "outputs": [
    {
     "output_type": "stream",
     "name": "stdout",
     "text": [
      "103\n"
     ]
    }
   ],
   "metadata": {
    "scrolled": true
   }
  },
  {
   "cell_type": "markdown",
   "source": [
    "## Creating five different sets of patient-separated [train, test] filenames to train aifnet"
   ],
   "metadata": {}
  },
  {
   "cell_type": "code",
   "execution_count": 22,
   "source": [
    "def rand_parts(seq, n, l):\n",
    "    indices = range(len(seq) - (l - 1) * n)\n",
    "    result = []\n",
    "    offset = 0\n",
    "    for i in sorted(random.sample(indices, n)):\n",
    "        i += offset\n",
    "        result.append(seq[i:i+l])\n",
    "        offset += l - 1\n",
    "    return result"
   ],
   "outputs": [],
   "metadata": {}
  },
  {
   "cell_type": "code",
   "execution_count": 23,
   "source": [
    "def generate_train_val_test_paths_files(patient_paths):\n",
    "\n",
    "    all_indexes = list(patient_paths.keys())\n",
    "    fractions_partitions = [0.7,0.1,0.2] #Fractions for the training, Validation and test partitions\n",
    "\n",
    "    num_tr, num_va = int(len(all_indexes)*0.7), int(len(all_indexes)*0.1)\n",
    "    perm = np.random.permutation(len(all_indexes))\n",
    "    train_cases = [all_indexes[perm[i]] for i in range(num_tr)]# all_indexes[perm[:num_tr]] [L[i] for i in Idx]\n",
    "    val_cases   = [all_indexes[perm[i]] for i in range(num_tr,num_tr+num_va)]\n",
    "    test_cases  = [all_indexes[perm[i]] for i in range(num_tr+num_va,len(all_indexes))]\n",
    "    train_cases_paths, valid_cases_paths, test_cases_paths = [], [], []\n",
    "    for item in train_cases:\n",
    "        for path in patient_paths[item]:\n",
    "            train_cases_paths.append(path)\n",
    "\n",
    "    for item in val_cases:\n",
    "        for path in patient_paths[item]:\n",
    "            valid_cases_paths.append(path)\n",
    "\n",
    "    for item in test_cases:\n",
    "        for path in patient_paths[item]:\n",
    "            test_cases_paths.append(path)\n",
    "    return train_cases_paths,valid_cases_paths,test_cases_paths"
   ],
   "outputs": [],
   "metadata": {}
  },
  {
   "cell_type": "code",
   "execution_count": 24,
   "source": [
    "train_cases_paths,valid_cases_paths,test_cases_paths = generate_train_val_test_paths_files(patient_paths)"
   ],
   "outputs": [],
   "metadata": {}
  },
  {
   "cell_type": "code",
   "execution_count": 25,
   "source": [
    "print(len(train_cases_paths)),print(len(valid_cases_paths)),print(len(test_cases_paths))"
   ],
   "outputs": [
    {
     "output_type": "stream",
     "name": "stdout",
     "text": [
      "67\n",
      "8\n",
      "19\n"
     ]
    },
    {
     "output_type": "execute_result",
     "data": {
      "text/plain": [
       "(None, None, None)"
      ]
     },
     "metadata": {},
     "execution_count": 25
    }
   ],
   "metadata": {}
  },
  {
   "cell_type": "code",
   "execution_count": 26,
   "source": [
    "for fold in ['fold_1','fold_2','fold_3','fold_4', 'fold_5']:\n",
    "    train_cases_paths,valid_cases_paths,test_cases_paths = generate_train_val_test_paths_files(patient_paths)\n",
    "    train_cases_paths_from_test,valid_cases_paths_from_test,test_cases_paths_from_test = generate_train_val_test_paths_files(patient_paths_test)\n",
    "\n",
    "    train_file=open(ROOT_EXP + '/partitions/'+fold+ '/train_v2.txt','w')\n",
    "    valid_file=open(ROOT_EXP + '/partitions/'+fold+ '/valid_v2.txt','w')\n",
    "    test_file=open(ROOT_EXP + '/partitions/'+fold+ '/test_v2.txt','w')\n",
    "    for element in train_cases_paths:        \n",
    "        train_file.write(element+'\\n')\n",
    "    for element in train_cases_paths_from_test:        \n",
    "        train_file.write(element+'\\n')\n",
    "    train_file.close()\n",
    "    \n",
    "    for element in valid_cases_paths:        \n",
    "        valid_file.write(element+'\\n')\n",
    "    for element in valid_cases_paths_from_test:        \n",
    "        valid_file.write(element+'\\n')\n",
    "    valid_file.close()\n",
    "    \n",
    "    for element in test_cases_paths:        \n",
    "        test_file.write(element+'\\n')\n",
    "    for element in test_cases_paths_from_test:        \n",
    "        test_file.write(element+'\\n')\n",
    "    test_file.close()"
   ],
   "outputs": [],
   "metadata": {}
  },
  {
   "cell_type": "code",
   "execution_count": 29,
   "source": [
    "print(len(train_cases_paths) , len(train_cases_paths_from_test))\n",
    "print(len(valid_cases_paths) , len(valid_cases_paths_from_test) )\n",
    "print(len(test_cases_paths), len(test_cases_paths_from_test))"
   ],
   "outputs": [
    {
     "output_type": "stream",
     "name": "stdout",
     "text": [
      "67 45\n",
      "8 7\n",
      "19 10\n"
     ]
    }
   ],
   "metadata": {}
  },
  {
   "cell_type": "code",
   "execution_count": 28,
   "source": [
    "68+9+17"
   ],
   "outputs": [
    {
     "output_type": "execute_result",
     "data": {
      "text/plain": [
       "94"
      ]
     },
     "metadata": {},
     "execution_count": 28
    }
   ],
   "metadata": {}
  },
  {
   "cell_type": "code",
   "execution_count": 30,
   "source": [
    "67+45"
   ],
   "outputs": [
    {
     "output_type": "execute_result",
     "data": {
      "text/plain": [
       "112"
      ]
     },
     "metadata": {},
     "execution_count": 30
    }
   ],
   "metadata": {}
  },
  {
   "cell_type": "code",
   "execution_count": 35,
   "source": [],
   "outputs": [
    {
     "output_type": "execute_result",
     "data": {
      "text/plain": [
       "40"
      ]
     },
     "metadata": {},
     "execution_count": 35
    }
   ],
   "metadata": {}
  },
  {
   "cell_type": "code",
   "execution_count": null,
   "source": [],
   "outputs": [],
   "metadata": {}
  }
 ],
 "metadata": {
  "kernelspec": {
   "name": "python3",
   "display_name": "Python 3.9.6 64-bit ('aifnet': conda)"
  },
  "language_info": {
   "name": "python",
   "version": "3.9.6",
   "mimetype": "text/x-python",
   "codemirror_mode": {
    "name": "ipython",
    "version": 3
   },
   "pygments_lexer": "ipython3",
   "nbconvert_exporter": "python",
   "file_extension": ".py"
  },
  "interpreter": {
   "hash": "03674a9a762e7c88d6ffee8451a96bad54270149f3e842460d737eee38e8f064"
  }
 },
 "nbformat": 4,
 "nbformat_minor": 5
}