{
 "cells": [
  {
   "cell_type": "code",
   "execution_count": 2,
   "id": "c2683606",
   "metadata": {},
   "outputs": [],
   "source": [
    "import matplotlib.pyplot as plt\n",
    "import os\n",
    "import zipfile\n",
    "import numpy as np\n",
    "import tensorflow as tf\n",
    "from tensorflow import keras\n",
    "from tensorflow.keras import layers\n",
    "from tensorflow.keras.callbacks import ModelCheckpoint, TensorBoard\n",
    "import nibabel as nib\n",
    "from scipy import ndimage\n",
    "import glob\n",
    "import sys,os\n",
    "from natsort import natsorted\n",
    "import tensorflow_probability as tfp\n",
    "import random\n",
    "from aifnet_utils.preprocess import read_nifti_file, normalize, normalize_aif, process_scan\n",
    "from aifnet_utils.losses import MaxCorrelation\n",
    "from aifnet_utils.isles_loaders import read_isles_annotations, read_isles_volumes\n",
    "\n",
    "%matplotlib inline"
   ]
  },
  {
   "cell_type": "code",
   "execution_count": 3,
   "id": "5421464a",
   "metadata": {},
   "outputs": [],
   "source": [
    "keras.backend.set_image_data_format('channels_last')"
   ]
  },
  {
   "cell_type": "code",
   "execution_count": 4,
   "id": "b8fd0caa",
   "metadata": {},
   "outputs": [],
   "source": [
    "root_dir     = '/media/sebastian/data/ASAP/ISLES2018_Training'\n",
    "#At insel: /media/sebastian/data/ASAP/ISLES2018_Training\n",
    "#Local: '/Users/sebastianotalora/work/postdoc/data/ISLES/'\n",
    "aif_annotations_path = '/home/sebastian/experiments/aifnet_replication/annotated_aif_vof_validation.csv'\n",
    "min_num_volumes_ctp = 43\n",
    "ROOT_EXP = '/home/sebastian/experiments/aifnet_replication'#'/Users/sebastianotalora/work/postdoc/ctp/aifnet_replication'\n"
   ]
  },
  {
   "cell_type": "code",
   "execution_count": 5,
   "id": "7f219bb9",
   "metadata": {},
   "outputs": [],
   "source": [
    "aif_annotations, vof_annotations = read_isles_annotations(aif_annotations_path, root_dir, \n",
    "                                         min_num_volumes_ctp, return_aif_only = False)"
   ]
  },
  {
   "cell_type": "code",
   "execution_count": 138,
   "id": "cdbbbed7",
   "metadata": {},
   "outputs": [
    {
     "data": {
      "text/plain": [
       "['/media/sebastian/data/ASAP/ISLES2018_Training/TRAINING/case_1/SMIR.Brain.XX.O.CT_4DPWI.345561/SMIR.Brain.XX.O.CT_4DPWI.345561.nii',\n",
       " '/media/sebastian/data/ASAP/ISLES2018_Training/TRAINING/case_2/SMIR.Brain.XX.O.CT_4DPWI.345568/SMIR.Brain.XX.O.CT_4DPWI.345568.nii',\n",
       " '/media/sebastian/data/ASAP/ISLES2018_Training/TRAINING/case_3/SMIR.Brain.XX.O.CT_4DPWI.345575/SMIR.Brain.XX.O.CT_4DPWI.345575.nii',\n",
       " '/media/sebastian/data/ASAP/ISLES2018_Training/TRAINING/case_4/SMIR.Brain.XX.O.CT_4DPWI.345582/SMIR.Brain.XX.O.CT_4DPWI.345582.nii',\n",
       " '/media/sebastian/data/ASAP/ISLES2018_Training/TRAINING/case_5/SMIR.Brain.XX.O.CT_4DPWI.345589/SMIR.Brain.XX.O.CT_4DPWI.345589.nii',\n",
       " '/media/sebastian/data/ASAP/ISLES2018_Training/TRAINING/case_6/SMIR.Brain.XX.O.CT_4DPWI.345596/SMIR.Brain.XX.O.CT_4DPWI.345596.nii',\n",
       " '/media/sebastian/data/ASAP/ISLES2018_Training/TRAINING/case_7/SMIR.Brain.XX.O.CT_4DPWI.345603/SMIR.Brain.XX.O.CT_4DPWI.345603.nii',\n",
       " '/media/sebastian/data/ASAP/ISLES2018_Training/TRAINING/case_8/SMIR.Brain.XX.O.CT_4DPWI.345610/SMIR.Brain.XX.O.CT_4DPWI.345610.nii',\n",
       " '/media/sebastian/data/ASAP/ISLES2018_Training/TRAINING/case_9/SMIR.Brain.XX.O.CT_4DPWI.345617/SMIR.Brain.XX.O.CT_4DPWI.345617.nii',\n",
       " '/media/sebastian/data/ASAP/ISLES2018_Training/TRAINING/case_10/SMIR.Brain.XX.O.CT_4DPWI.345624/SMIR.Brain.XX.O.CT_4DPWI.345624.nii',\n",
       " '/media/sebastian/data/ASAP/ISLES2018_Training/TRAINING/case_11/SMIR.Brain.XX.O.CT_4DPWI.345631/SMIR.Brain.XX.O.CT_4DPWI.345631.nii',\n",
       " '/media/sebastian/data/ASAP/ISLES2018_Training/TRAINING/case_12/SMIR.Brain.XX.O.CT_4DPWI.345638/SMIR.Brain.XX.O.CT_4DPWI.345638.nii',\n",
       " '/media/sebastian/data/ASAP/ISLES2018_Training/TRAINING/case_13/SMIR.Brain.XX.O.CT_4DPWI.345645/SMIR.Brain.XX.O.CT_4DPWI.345645.nii',\n",
       " '/media/sebastian/data/ASAP/ISLES2018_Training/TRAINING/case_14/SMIR.Brain.XX.O.CT_4DPWI.345652/SMIR.Brain.XX.O.CT_4DPWI.345652.nii',\n",
       " '/media/sebastian/data/ASAP/ISLES2018_Training/TRAINING/case_15/SMIR.Brain.XX.O.CT_4DPWI.345659/SMIR.Brain.XX.O.CT_4DPWI.345659.nii',\n",
       " '/media/sebastian/data/ASAP/ISLES2018_Training/TRAINING/case_16/SMIR.Brain.XX.O.CT_4DPWI.345666/SMIR.Brain.XX.O.CT_4DPWI.345666.nii',\n",
       " '/media/sebastian/data/ASAP/ISLES2018_Training/TRAINING/case_17/SMIR.Brain.XX.O.CT_4DPWI.345673/SMIR.Brain.XX.O.CT_4DPWI.345673.nii',\n",
       " '/media/sebastian/data/ASAP/ISLES2018_Training/TRAINING/case_18/SMIR.Brain.XX.O.CT_4DPWI.339335/SMIR.Brain.XX.O.CT_4DPWI.339335.nii',\n",
       " '/media/sebastian/data/ASAP/ISLES2018_Training/TRAINING/case_19/SMIR.Brain.XX.O.CT_4DPWI.339343/SMIR.Brain.XX.O.CT_4DPWI.339343.nii',\n",
       " '/media/sebastian/data/ASAP/ISLES2018_Training/TRAINING/case_20/SMIR.Brain.XX.O.CT_4DPWI.345682/SMIR.Brain.XX.O.CT_4DPWI.345682.nii',\n",
       " '/media/sebastian/data/ASAP/ISLES2018_Training/TRAINING/case_21/SMIR.Brain.XX.O.CT_4DPWI.345689/SMIR.Brain.XX.O.CT_4DPWI.345689.nii',\n",
       " '/media/sebastian/data/ASAP/ISLES2018_Training/TRAINING/case_22/SMIR.Brain.XX.O.CT_4DPWI.345696/SMIR.Brain.XX.O.CT_4DPWI.345696.nii',\n",
       " '/media/sebastian/data/ASAP/ISLES2018_Training/TRAINING/case_23/SMIR.Brain.XX.O.CT_4DPWI.345703/SMIR.Brain.XX.O.CT_4DPWI.345703.nii',\n",
       " '/media/sebastian/data/ASAP/ISLES2018_Training/TRAINING/case_24/SMIR.Brain.XX.O.CT_4DPWI.345710/SMIR.Brain.XX.O.CT_4DPWI.345710.nii',\n",
       " '/media/sebastian/data/ASAP/ISLES2018_Training/TRAINING/case_25/SMIR.Brain.XX.O.CT_4DPWI.345717/SMIR.Brain.XX.O.CT_4DPWI.345717.nii',\n",
       " '/media/sebastian/data/ASAP/ISLES2018_Training/TRAINING/case_26/SMIR.Brain.XX.O.CT_4DPWI.345724/SMIR.Brain.XX.O.CT_4DPWI.345724.nii',\n",
       " '/media/sebastian/data/ASAP/ISLES2018_Training/TRAINING/case_27/SMIR.Brain.XX.O.CT_4DPWI.345731/SMIR.Brain.XX.O.CT_4DPWI.345731.nii',\n",
       " '/media/sebastian/data/ASAP/ISLES2018_Training/TRAINING/case_28/SMIR.Brain.XX.O.CT_4DPWI.345738/SMIR.Brain.XX.O.CT_4DPWI.345738.nii',\n",
       " '/media/sebastian/data/ASAP/ISLES2018_Training/TRAINING/case_29/SMIR.Brain.XX.O.CT_4DPWI.345745/SMIR.Brain.XX.O.CT_4DPWI.345745.nii',\n",
       " '/media/sebastian/data/ASAP/ISLES2018_Training/TRAINING/case_30/SMIR.Brain.XX.O.CT_4DPWI.345752/SMIR.Brain.XX.O.CT_4DPWI.345752.nii',\n",
       " '/media/sebastian/data/ASAP/ISLES2018_Training/TRAINING/case_31/SMIR.Brain.XX.O.CT_4DPWI.345759/SMIR.Brain.XX.O.CT_4DPWI.345759.nii',\n",
       " '/media/sebastian/data/ASAP/ISLES2018_Training/TRAINING/case_32/SMIR.Brain.XX.O.CT_4DPWI.345766/SMIR.Brain.XX.O.CT_4DPWI.345766.nii',\n",
       " '/media/sebastian/data/ASAP/ISLES2018_Training/TRAINING/case_33/SMIR.Brain.XX.O.CT_4DPWI.345773/SMIR.Brain.XX.O.CT_4DPWI.345773.nii',\n",
       " '/media/sebastian/data/ASAP/ISLES2018_Training/TRAINING/case_34/SMIR.Brain.XX.O.CT_4DPWI.345780/SMIR.Brain.XX.O.CT_4DPWI.345780.nii',\n",
       " '/media/sebastian/data/ASAP/ISLES2018_Training/TRAINING/case_35/SMIR.Brain.XX.O.CT_4DPWI.345787/SMIR.Brain.XX.O.CT_4DPWI.345787.nii',\n",
       " '/media/sebastian/data/ASAP/ISLES2018_Training/TRAINING/case_36/SMIR.Brain.XX.O.CT_4DPWI.345794/SMIR.Brain.XX.O.CT_4DPWI.345794.nii',\n",
       " '/media/sebastian/data/ASAP/ISLES2018_Training/TRAINING/case_37/SMIR.Brain.XX.O.CT_4DPWI.345801/SMIR.Brain.XX.O.CT_4DPWI.345801.nii',\n",
       " '/media/sebastian/data/ASAP/ISLES2018_Training/TRAINING/case_38/SMIR.Brain.XX.O.CT_4DPWI.345808/SMIR.Brain.XX.O.CT_4DPWI.345808.nii',\n",
       " '/media/sebastian/data/ASAP/ISLES2018_Training/TRAINING/case_39/SMIR.Brain.XX.O.CT_4DPWI.345815/SMIR.Brain.XX.O.CT_4DPWI.345815.nii',\n",
       " '/media/sebastian/data/ASAP/ISLES2018_Training/TRAINING/case_40/SMIR.Brain.XX.O.CT_4DPWI.345822/SMIR.Brain.XX.O.CT_4DPWI.345822.nii',\n",
       " '/media/sebastian/data/ASAP/ISLES2018_Training/TRAINING/case_41/SMIR.Brain.XX.O.CT_4DPWI.345829/SMIR.Brain.XX.O.CT_4DPWI.345829.nii',\n",
       " '/media/sebastian/data/ASAP/ISLES2018_Training/TRAINING/case_42/SMIR.Brain.XX.O.CT_4DPWI.345836/SMIR.Brain.XX.O.CT_4DPWI.345836.nii',\n",
       " '/media/sebastian/data/ASAP/ISLES2018_Training/TRAINING/case_43/SMIR.Brain.XX.O.CT_4DPWI.345843/SMIR.Brain.XX.O.CT_4DPWI.345843.nii',\n",
       " '/media/sebastian/data/ASAP/ISLES2018_Training/TRAINING/case_44/SMIR.Brain.XX.O.CT_4DPWI.345850/SMIR.Brain.XX.O.CT_4DPWI.345850.nii',\n",
       " '/media/sebastian/data/ASAP/ISLES2018_Training/TRAINING/case_45/SMIR.Brain.XX.O.CT_4DPWI.345857/SMIR.Brain.XX.O.CT_4DPWI.345857.nii',\n",
       " '/media/sebastian/data/ASAP/ISLES2018_Training/TRAINING/case_46/SMIR.Brain.XX.O.CT_4DPWI.345864/SMIR.Brain.XX.O.CT_4DPWI.345864.nii',\n",
       " '/media/sebastian/data/ASAP/ISLES2018_Training/TRAINING/case_47/SMIR.Brain.XX.O.CT_4DPWI.345871/SMIR.Brain.XX.O.CT_4DPWI.345871.nii',\n",
       " '/media/sebastian/data/ASAP/ISLES2018_Training/TRAINING/case_48/SMIR.Brain.XX.O.CT_4DPWI.345878/SMIR.Brain.XX.O.CT_4DPWI.345878.nii',\n",
       " '/media/sebastian/data/ASAP/ISLES2018_Training/TRAINING/case_49/SMIR.Brain.XX.O.CT_4DPWI.345885/SMIR.Brain.XX.O.CT_4DPWI.345885.nii',\n",
       " '/media/sebastian/data/ASAP/ISLES2018_Training/TRAINING/case_50/SMIR.Brain.XX.O.CT_4DPWI.345892/SMIR.Brain.XX.O.CT_4DPWI.345892.nii',\n",
       " '/media/sebastian/data/ASAP/ISLES2018_Training/TRAINING/case_51/SMIR.Brain.XX.O.CT_4DPWI.345899/SMIR.Brain.XX.O.CT_4DPWI.345899.nii',\n",
       " '/media/sebastian/data/ASAP/ISLES2018_Training/TRAINING/case_52/SMIR.Brain.XX.O.CT_4DPWI.345906/SMIR.Brain.XX.O.CT_4DPWI.345906.nii',\n",
       " '/media/sebastian/data/ASAP/ISLES2018_Training/TRAINING/case_53/SMIR.Brain.XX.O.CT_4DPWI.345913/SMIR.Brain.XX.O.CT_4DPWI.345913.nii',\n",
       " '/media/sebastian/data/ASAP/ISLES2018_Training/TRAINING/case_54/SMIR.Brain.XX.O.CT_4DPWI.345920/SMIR.Brain.XX.O.CT_4DPWI.345920.nii',\n",
       " '/media/sebastian/data/ASAP/ISLES2018_Training/TRAINING/case_55/SMIR.Brain.XX.O.CT_4DPWI.345927/SMIR.Brain.XX.O.CT_4DPWI.345927.nii',\n",
       " '/media/sebastian/data/ASAP/ISLES2018_Training/TRAINING/case_56/SMIR.Brain.XX.O.CT_4DPWI.345934/SMIR.Brain.XX.O.CT_4DPWI.345934.nii',\n",
       " '/media/sebastian/data/ASAP/ISLES2018_Training/TRAINING/case_57/SMIR.Brain.XX.O.CT_4DPWI.345941/SMIR.Brain.XX.O.CT_4DPWI.345941.nii',\n",
       " '/media/sebastian/data/ASAP/ISLES2018_Training/TRAINING/case_58/SMIR.Brain.XX.O.CT_4DPWI.345948/SMIR.Brain.XX.O.CT_4DPWI.345948.nii',\n",
       " '/media/sebastian/data/ASAP/ISLES2018_Training/TRAINING/case_59/SMIR.Brain.XX.O.CT_4DPWI.345955/SMIR.Brain.XX.O.CT_4DPWI.345955.nii',\n",
       " '/media/sebastian/data/ASAP/ISLES2018_Training/TRAINING/case_60/SMIR.Brain.XX.O.CT_4DPWI.345962/SMIR.Brain.XX.O.CT_4DPWI.345962.nii',\n",
       " '/media/sebastian/data/ASAP/ISLES2018_Training/TRAINING/case_61/SMIR.Brain.XX.O.CT_4DPWI.345969/SMIR.Brain.XX.O.CT_4DPWI.345969.nii',\n",
       " '/media/sebastian/data/ASAP/ISLES2018_Training/TRAINING/case_62/SMIR.Brain.XX.O.CT_4DPWI.345976/SMIR.Brain.XX.O.CT_4DPWI.345976.nii',\n",
       " '/media/sebastian/data/ASAP/ISLES2018_Training/TRAINING/case_63/SMIR.Brain.XX.O.CT_4DPWI.345983/SMIR.Brain.XX.O.CT_4DPWI.345983.nii',\n",
       " '/media/sebastian/data/ASAP/ISLES2018_Training/TRAINING/case_64/SMIR.Brain.XX.O.CT_4DPWI.345990/SMIR.Brain.XX.O.CT_4DPWI.345990.nii',\n",
       " '/media/sebastian/data/ASAP/ISLES2018_Training/TRAINING/case_65/SMIR.Brain.XX.O.CT_4DPWI.345997/SMIR.Brain.XX.O.CT_4DPWI.345997.nii',\n",
       " '/media/sebastian/data/ASAP/ISLES2018_Training/TRAINING/case_66/SMIR.Brain.XX.O.CT_4DPWI.346004/SMIR.Brain.XX.O.CT_4DPWI.346004.nii',\n",
       " '/media/sebastian/data/ASAP/ISLES2018_Training/TRAINING/case_67/SMIR.Brain.XX.O.CT_4DPWI.346011/SMIR.Brain.XX.O.CT_4DPWI.346011.nii',\n",
       " '/media/sebastian/data/ASAP/ISLES2018_Training/TRAINING/case_68/SMIR.Brain.XX.O.CT_4DPWI.346018/SMIR.Brain.XX.O.CT_4DPWI.346018.nii',\n",
       " '/media/sebastian/data/ASAP/ISLES2018_Training/TRAINING/case_69/SMIR.Brain.XX.O.CT_4DPWI.346025/SMIR.Brain.XX.O.CT_4DPWI.346025.nii',\n",
       " '/media/sebastian/data/ASAP/ISLES2018_Training/TRAINING/case_70/SMIR.Brain.XX.O.CT_4DPWI.346032/SMIR.Brain.XX.O.CT_4DPWI.346032.nii',\n",
       " '/media/sebastian/data/ASAP/ISLES2018_Training/TRAINING/case_71/SMIR.Brain.XX.O.CT_4DPWI.346039/SMIR.Brain.XX.O.CT_4DPWI.346039.nii',\n",
       " '/media/sebastian/data/ASAP/ISLES2018_Training/TRAINING/case_72/SMIR.Brain.XX.O.CT_4DPWI.346046/SMIR.Brain.XX.O.CT_4DPWI.346046.nii',\n",
       " '/media/sebastian/data/ASAP/ISLES2018_Training/TRAINING/case_73/SMIR.Brain.XX.O.CT_4DPWI.346053/SMIR.Brain.XX.O.CT_4DPWI.346053.nii',\n",
       " '/media/sebastian/data/ASAP/ISLES2018_Training/TRAINING/case_74/SMIR.Brain.XX.O.CT_4DPWI.346060/SMIR.Brain.XX.O.CT_4DPWI.346060.nii',\n",
       " '/media/sebastian/data/ASAP/ISLES2018_Training/TRAINING/case_75/SMIR.Brain.XX.O.CT_4DPWI.346067/SMIR.Brain.XX.O.CT_4DPWI.346067.nii',\n",
       " '/media/sebastian/data/ASAP/ISLES2018_Training/TRAINING/case_76/SMIR.Brain.XX.O.CT_4DPWI.346074/SMIR.Brain.XX.O.CT_4DPWI.346074.nii',\n",
       " '/media/sebastian/data/ASAP/ISLES2018_Training/TRAINING/case_77/SMIR.Brain.XX.O.CT_4DPWI.346081/SMIR.Brain.XX.O.CT_4DPWI.346081.nii',\n",
       " '/media/sebastian/data/ASAP/ISLES2018_Training/TRAINING/case_78/SMIR.Brain.XX.O.CT_4DPWI.346088/SMIR.Brain.XX.O.CT_4DPWI.346088.nii',\n",
       " '/media/sebastian/data/ASAP/ISLES2018_Training/TRAINING/case_79/SMIR.Brain.XX.O.CT_4DPWI.346095/SMIR.Brain.XX.O.CT_4DPWI.346095.nii',\n",
       " '/media/sebastian/data/ASAP/ISLES2018_Training/TRAINING/case_80/SMIR.Brain.XX.O.CT_4DPWI.346102/SMIR.Brain.XX.O.CT_4DPWI.346102.nii',\n",
       " '/media/sebastian/data/ASAP/ISLES2018_Training/TRAINING/case_81/SMIR.Brain.XX.O.CT_4DPWI.346109/SMIR.Brain.XX.O.CT_4DPWI.346109.nii',\n",
       " '/media/sebastian/data/ASAP/ISLES2018_Training/TRAINING/case_82/SMIR.Brain.XX.O.CT_4DPWI.346116/SMIR.Brain.XX.O.CT_4DPWI.346116.nii',\n",
       " '/media/sebastian/data/ASAP/ISLES2018_Training/TRAINING/case_83/SMIR.Brain.XX.O.CT_4DPWI.346123/SMIR.Brain.XX.O.CT_4DPWI.346123.nii',\n",
       " '/media/sebastian/data/ASAP/ISLES2018_Training/TRAINING/case_84/SMIR.Brain.XX.O.CT_4DPWI.346130/SMIR.Brain.XX.O.CT_4DPWI.346130.nii',\n",
       " '/media/sebastian/data/ASAP/ISLES2018_Training/TRAINING/case_85/SMIR.Brain.XX.O.CT_4DPWI.346137/SMIR.Brain.XX.O.CT_4DPWI.346137.nii',\n",
       " '/media/sebastian/data/ASAP/ISLES2018_Training/TRAINING/case_86/SMIR.Brain.XX.O.CT_4DPWI.346144/SMIR.Brain.XX.O.CT_4DPWI.346144.nii',\n",
       " '/media/sebastian/data/ASAP/ISLES2018_Training/TRAINING/case_87/SMIR.Brain.XX.O.CT_4DPWI.346151/SMIR.Brain.XX.O.CT_4DPWI.346151.nii',\n",
       " '/media/sebastian/data/ASAP/ISLES2018_Training/TRAINING/case_88/SMIR.Brain.XX.O.CT_4DPWI.346158/SMIR.Brain.XX.O.CT_4DPWI.346158.nii',\n",
       " '/media/sebastian/data/ASAP/ISLES2018_Training/TRAINING/case_89/SMIR.Brain.XX.O.CT_4DPWI.346165/SMIR.Brain.XX.O.CT_4DPWI.346165.nii',\n",
       " '/media/sebastian/data/ASAP/ISLES2018_Training/TRAINING/case_90/SMIR.Brain.XX.O.CT_4DPWI.346172/SMIR.Brain.XX.O.CT_4DPWI.346172.nii',\n",
       " '/media/sebastian/data/ASAP/ISLES2018_Training/TRAINING/case_91/SMIR.Brain.XX.O.CT_4DPWI.346179/SMIR.Brain.XX.O.CT_4DPWI.346179.nii',\n",
       " '/media/sebastian/data/ASAP/ISLES2018_Training/TRAINING/case_92/SMIR.Brain.XX.O.CT_4DPWI.346186/SMIR.Brain.XX.O.CT_4DPWI.346186.nii',\n",
       " '/media/sebastian/data/ASAP/ISLES2018_Training/TRAINING/case_93/SMIR.Brain.XX.O.CT_4DPWI.346193/SMIR.Brain.XX.O.CT_4DPWI.346193.nii',\n",
       " '/media/sebastian/data/ASAP/ISLES2018_Training/TRAINING/case_94/SMIR.Brain.XX.O.CT_4DPWI.346200/SMIR.Brain.XX.O.CT_4DPWI.346200.nii']"
      ]
     },
     "execution_count": 138,
     "metadata": {},
     "output_type": "execute_result"
    }
   ],
   "source": [
    "dataset_dir = os.path.join(root_dir, \"TRAINING\")\n",
    "\n",
    "filenames_4D = natsorted(glob.glob(dataset_dir + \"/case_*/*4D*/*nii*\"))\n",
    "\n",
    "cases_paths = {}\n",
    "cases_paths = {path.split('.')[-2]: path for path in filenames_4D}\n",
    "filenames_4D"
   ]
  },
  {
   "cell_type": "code",
   "execution_count": 6,
   "id": "3a149889",
   "metadata": {},
   "outputs": [],
   "source": [
    "def read_isles_volumes(root_dir, aif_annotations_path, min_num_volumes_ctp, take_two_slices_only=False):\n",
    "    dataset_dir = os.path.join(root_dir, \"TRAINING\")\n",
    "    filenames_4D = natsorted(glob.glob(dataset_dir + \"/case_*/*4D*/*nii*\"))\n",
    "    filenames_precontrast = \n",
    "    cases_paths = {}\n",
    "    cases_paths = {path.split('.')[-2]: path for path in filenames_4D}\n",
    "    #This is a little bit awful, but we need to get the coordinates from the annotations file to \n",
    "    #know which two slices get exactly\n",
    "    cases_annotations = {}\n",
    "    aif_annotations_file = open(aif_annotations_path,'r')\n",
    "    aif_annotations_file.readline()\n",
    "    for line in aif_annotations_file: #Here we substract one to account for 0-indexing in python\n",
    "        cases_annotations[line.split(',')[0]] = [np.array([int(line.split(',')[1]),int(line.split(',')[2]),int(line.split(',')[3])])-1,\n",
    "                                             np.array([int(line.split(',')[4]),int(line.split(',')[5]),int(line.split(',')[6])])-1]\n",
    "    \n",
    "    datalist = []\n",
    "    \n",
    "    for cur_case in cases_annotations.keys():\n",
    "        fname = cases_paths[cur_case]\n",
    "        cur_nib = nib.load(fname)    \n",
    "        ctp_vals = cur_nib.get_fdata()\n",
    "        AIFx,AIFy,AIFz = cases_annotations[cur_case][0][0],cases_annotations[cur_case][0][1], cases_annotations[cur_case][0][2]\n",
    "        VOFx,VOFy,VOFz = cases_annotations[cur_case][1][0],cases_annotations[cur_case][1][1], cases_annotations[cur_case][1][2]\n",
    "        #Four cases either is it possible to have the slice up, or the one down, or any of them\n",
    "        if take_two_slices_only: \n",
    "            if ctp_vals.shape[2] != 2 and AIFz+1 <=  ctp_vals.shape[2] and AIFz>0:            \n",
    "                    ctp_vals = ctp_vals[:,:,AIFz-1:AIFz+1,:]\n",
    "                    AIFz = 1\n",
    "                    print(\"After \" + str(ctp_vals.shape))\n",
    "            if ctp_vals.shape[2] != 2 and AIFz+1 <  ctp_vals.shape[2] and AIFz==0:\n",
    "                    AIFx,AIFy,AIFz = cases_annotations[cur_case][0][0],cases_annotations[cur_case][0][1], cases_annotations[cur_case][0][2]\n",
    "                    #print(\"Adding it in the other direction \" + str(ctp_vals.shape))\n",
    "                    ctp_vals = ctp_vals[:,:,AIFz:AIFz+2,:]\n",
    "                    AIFz = 0\n",
    "                    print(\"After \" + str(ctp_vals.shape))\n",
    "            else:\n",
    "                (\"Not processed\")\n",
    "        datalist.append({\"image\": fname, \"ctpvals\": ctp_vals[:,:,:,0:min_num_volumes_ctp]})\n",
    "    return datalist"
   ]
  },
  {
   "cell_type": "code",
   "execution_count": 7,
   "id": "4b485140",
   "metadata": {},
   "outputs": [],
   "source": [
    "ctp_volumes = read_isles_volumes(root_dir, aif_annotations_path, min_num_volumes_ctp, take_two_slices_only=False)"
   ]
  },
  {
   "cell_type": "code",
   "execution_count": 8,
   "id": "8190670f",
   "metadata": {},
   "outputs": [
    {
     "name": "stdout",
     "output_type": "stream",
     "text": [
      "1 1\n"
     ]
    }
   ],
   "source": [
    "print(len(ctp_volumes), len(aif_annotations))"
   ]
  },
  {
   "cell_type": "code",
   "execution_count": 9,
   "id": "4d772838",
   "metadata": {},
   "outputs": [],
   "source": [
    "#Dataset generator\n",
    "class ISLES18DataGen_aifvof(tf.keras.utils.Sequence):\n",
    "  \n",
    "    def __init__(self, \n",
    "                 ctp_volumes,\n",
    "                 annotations_aif,\n",
    "                 annotations_vof,\n",
    "                 minimum_number_volumes_ctp,\n",
    "                 batch_size=1,\n",
    "                 input_size=(256, 256, None,43),\n",
    "                 shuffle=True):\n",
    "        self.ctp_volumes = ctp_volumes \n",
    "        self.labels_aif = annotations_aif,\n",
    "        self.labels_vof = annotations_vof,\n",
    "        self.minimum_number_volumes_ctp = minimum_number_volumes_ctp\n",
    "        self.annotations = [annotations_aif],[annotations_vof]\n",
    "        self.batch_size = batch_size\n",
    "        self.input_size = input_size\n",
    "        self.shuffle = shuffle        \n",
    "        self.n = len(self.ctp_volumes)\n",
    "        self.indices = np.arange(len(self.ctp_volumes))\n",
    "\n",
    "    def on_epoch_end(self):\n",
    "        if self.shuffle:\n",
    "            np.random.shuffle(self.indices)\n",
    "\n",
    "    def __get_input(self, img_idx):\n",
    "        #Get the volume\n",
    "        ctp_vals = self.ctp_volumes[img_idx]['ctpvals']\n",
    "        volume = normalize(ctp_vals)\n",
    "        #Get the labels\n",
    "        case_id = ctp_volumes[img_idx]['image'].split('.')[-2]\n",
    "\n",
    "        label_aif = normalize_aif(self.labels_aif[0][case_id])\n",
    "        label_vof = self.labels_vof[0][case_id]\n",
    "        #labels = np.array([label_aif,label_vof])\n",
    "        return volume,[label_aif,label_vof]\n",
    "        #return volume,label_aif\n",
    "    \n",
    "    def pct_augment():\n",
    "        pass\n",
    "    \n",
    "    def __getitem__(self, idx): #This function returns the batch \n",
    "        inds = self.indices[idx * self.batch_size:(idx + 1) * self.batch_size]\n",
    "        #print(inds)\n",
    "        #batch_x = [self.ctp_volumes[index] for index in inds]\n",
    "        #batch_y = self.annotations[inds]\n",
    "        batch_x, batch_y = [], []\n",
    "        for index in inds:            \n",
    "            x, y = self.__get_input(index)\n",
    "            batch_x.append(x)\n",
    "            batch_y.append(y)\n",
    "        return np.array(batch_x), np.array(batch_y).squeeze()\n",
    "\n",
    "    def __len__(self):\n",
    "        return self.n // self.batch_size"
   ]
  },
  {
   "cell_type": "code",
   "execution_count": 10,
   "id": "4ef23893",
   "metadata": {},
   "outputs": [
    {
     "data": {
      "text/plain": [
       "3256993.0"
      ]
     },
     "execution_count": 10,
     "metadata": {},
     "output_type": "execute_result"
    }
   ],
   "source": [
    "pp = ctp_volumes[0]['ctpvals']\n",
    "np.zeros(pp.shape)\n",
    "pp.shape\n",
    "np.sum(np.sqrt(normalize(pp).flatten()))"
   ]
  },
  {
   "cell_type": "code",
   "execution_count": 11,
   "id": "1a91877c",
   "metadata": {},
   "outputs": [
    {
     "data": {
      "text/plain": [
       "43"
      ]
     },
     "execution_count": 11,
     "metadata": {},
     "output_type": "execute_result"
    }
   ],
   "source": [
    "aif_annotations['345582'].shape[-1]"
   ]
  },
  {
   "cell_type": "code",
   "execution_count": 118,
   "id": "1f14d21e",
   "metadata": {},
   "outputs": [],
   "source": [
    "def late_bolus(volume_sequence, labels, delay_t=None):\n",
    "    delayed_volume, delayed_intensity = np.zeros(volume_sequence.shape), np.zeros(labels.shape)\n",
    "    nb_timepoints = volume_sequence.shape[-1]\n",
    "\n",
    "    first_volume = volume_sequence[:,:,:,0]    \n",
    "    if delay_t == None:\n",
    "        delay_t = random.randint(1,int(nb_timepoints/3))\n",
    "    if delay_t == 0:\n",
    "        return volume_sequence, labels\n",
    "    \n",
    "    for i in range(0,delay_t+1):\n",
    "        delayed_volume[:,:,:,i] = first_volume\n",
    "    #print(i)\n",
    "    delayed_volume[:,:,:,i:] = volume_sequence[:,:,:,1:nb_timepoints-i+1]\n",
    "    \n",
    "    delayed_intensity[0:delay_t] = labels[0] #Repeating the first time point\n",
    "    delayed_intensity[delay_t:] = labels[1:nb_timepoints-delay_t+1]\n",
    "    \n",
    "    return delayed_volume, delayed_intensity\n",
    "\n",
    "def early_bolus(volume_sequence, labels, delay_t=None):\n",
    "    early_volume, early_intensity = np.zeros(volume_sequence.shape), np.zeros(labels.shape)\n",
    "    nb_timepoints = volume_sequence.shape[-1]\n",
    "\n",
    "    last_volume = volume_sequence[:,:,:,-1]    \n",
    "    if delay_t == None:\n",
    "        delay_t = random.randint(1,int(nb_timepoints/3))\n",
    "    if delay_t == 0:\n",
    "        return volume_sequence, labels\n",
    "    \n",
    "    early_volume[:,:,:,0:nb_timepoints-delay_t] = volume_sequence[:,:,:,delay_t:nb_timepoints]\n",
    "    for i in range(nb_timepoints-delay_t,nb_timepoints):   \n",
    "        early_volume[:,:,:,i] = volume_sequence[:,:,:,-1]\n",
    "    \n",
    "    early_intensity[0:nb_timepoints-delay_t] = labels[delay_t:nb_timepoints] #Shifting the first time points\n",
    "    early_intensity[nb_timepoints-delay_t:] = labels[-1]\n",
    "    \n",
    "    return early_volume, early_intensity\n"
   ]
  },
  {
   "cell_type": "code",
   "execution_count": 119,
   "id": "088e85b4",
   "metadata": {},
   "outputs": [
    {
     "data": {
      "text/plain": [
       "3256993.0"
      ]
     },
     "execution_count": 119,
     "metadata": {},
     "output_type": "execute_result"
    }
   ],
   "source": [
    "pp = ctp_volumes[0]['ctpvals']\n",
    "np.sum(np.sqrt(normalize(pp).flatten()))\n"
   ]
  },
  {
   "cell_type": "code",
   "execution_count": 120,
   "id": "583e7cab",
   "metadata": {},
   "outputs": [
    {
     "data": {
      "text/plain": [
       "(256, 256, 8, 43)"
      ]
     },
     "execution_count": 120,
     "metadata": {},
     "output_type": "execute_result"
    }
   ],
   "source": [
    "pp.shape"
   ]
  },
  {
   "cell_type": "code",
   "execution_count": 121,
   "id": "ad7cb513",
   "metadata": {},
   "outputs": [
    {
     "data": {
      "text/plain": [
       "33"
      ]
     },
     "execution_count": 121,
     "metadata": {},
     "output_type": "execute_result"
    }
   ],
   "source": [
    "43-10"
   ]
  },
  {
   "cell_type": "code",
   "execution_count": 122,
   "id": "44e585a7",
   "metadata": {},
   "outputs": [
    {
     "data": {
      "text/plain": [
       "18082584.740959097"
      ]
     },
     "execution_count": 122,
     "metadata": {},
     "output_type": "execute_result"
    }
   ],
   "source": [
    "sum(pp[:,:,:,42].flatten())"
   ]
  },
  {
   "cell_type": "code",
   "execution_count": 127,
   "id": "4cac3c56",
   "metadata": {},
   "outputs": [],
   "source": [
    "pp_late, pl_late   = late_bolus(pp,aif_annotations['345582'],20)\n",
    "pp_early, pl_early = early_bolus(pp,aif_annotations['345582'],20)"
   ]
  },
  {
   "cell_type": "code",
   "execution_count": 128,
   "id": "d70cfc34",
   "metadata": {},
   "outputs": [
    {
     "name": "stdout",
     "output_type": "stream",
     "text": [
      "0 <=> 17446955, 18274742   ==  46.00687026977539, 64.83368682861328\n",
      "1 <=> 17491673, 18187071   ==  45.46455383300781, 68.8190689086914\n",
      "2 <=> 17497241, 18154510   ==  44.42026138305664, 63.13859558105469\n",
      "3 <=> 17516392, 18138570   ==  51.08286666870117, 68.21202850341797\n",
      "4 <=> 17535508, 18099539   ==  72.60696411132812, 59.45867156982422\n",
      "5 <=> 17697656, 18098316   ==  100.85197448730469, 92.30133819580078\n",
      "6 <=> 17921554, 18347820   ==  122.21617889404297, 79.43942260742188\n",
      "7 <=> 18159512, 18081879   ==  137.44642639160156, 79.08687591552734\n",
      "8 <=> 18370063, 18094479   ==  119.1580810546875, 53.11215591430664\n",
      "9 <=> 18637204, 18108415   ==  172.7520751953125, 69.41795349121094\n",
      "10 <=> 18880359, 18087250   ==  163.13604736328125, 65.49166107177734\n",
      "11 <=> 19055675, 18068658   ==  147.68309020996094, 73.1170883178711\n",
      "12 <=> 19117529, 18054814   ==  137.92901611328125, 77.52625274658203\n",
      "13 <=> 19151811, 18051509   ==  117.84191131591797, 71.06597137451172\n",
      "14 <=> 19108125, 18077758   ==  103.17086791992188, 65.80489349365234\n",
      "15 <=> 18990122, 18056772   ==  94.40621948242188, 83.64986419677734\n",
      "16 <=> 18819120, 18035831   ==  87.79454040527344, 75.51033782958984\n",
      "17 <=> 18640005, 18065308   ==  64.13690948486328, 78.02291870117188\n",
      "18 <=> 18504262, 18091888   ==  65.01002502441406, 74.51344299316406\n",
      "19 <=> 18378595, 18054103   ==  64.19092559814453, 75.87018585205078\n",
      "20 <=> 18274742, 18045858   ==  64.83368682861328, 86.35676574707031\n",
      "21 <=> 18187071, 18079463   ==  68.8190689086914, 78.90811157226562\n",
      "22 <=> 18154510, 18082584   ==  63.13859558105469, 64.94152069091797\n",
      "23 <=> 18138570, 18082584   ==  68.21202850341797, 64.94152069091797\n",
      "24 <=> 18099539, 18082584   ==  59.45867156982422, 64.94152069091797\n",
      "25 <=> 18098316, 18082584   ==  92.30133819580078, 64.94152069091797\n",
      "26 <=> 18347820, 18082584   ==  79.43942260742188, 64.94152069091797\n",
      "27 <=> 18081879, 18082584   ==  79.08687591552734, 64.94152069091797\n",
      "28 <=> 18094479, 18082584   ==  53.11215591430664, 64.94152069091797\n",
      "29 <=> 18108415, 18082584   ==  69.41795349121094, 64.94152069091797\n",
      "30 <=> 18087250, 18082584   ==  65.49166107177734, 64.94152069091797\n",
      "31 <=> 18068658, 18082584   ==  73.1170883178711, 64.94152069091797\n",
      "32 <=> 18054814, 18082584   ==  77.52625274658203, 64.94152069091797\n",
      "33 <=> 18051509, 18082584   ==  71.06597137451172, 64.94152069091797\n",
      "34 <=> 18077758, 18082584   ==  65.80489349365234, 64.94152069091797\n",
      "35 <=> 18056772, 18082584   ==  83.64986419677734, 64.94152069091797\n",
      "36 <=> 18035831, 18082584   ==  75.51033782958984, 64.94152069091797\n",
      "37 <=> 18065308, 18082584   ==  78.02291870117188, 64.94152069091797\n",
      "38 <=> 18091888, 18082584   ==  74.51344299316406, 64.94152069091797\n",
      "39 <=> 18054103, 18082584   ==  75.87018585205078, 64.94152069091797\n",
      "40 <=> 18045858, 18082584   ==  86.35676574707031, 64.94152069091797\n",
      "41 <=> 18079463, 18082584   ==  78.90811157226562, 64.94152069091797\n",
      "42 <=> 18082584, 18082584   ==  64.94152069091797, 64.94152069091797\n"
     ]
    }
   ],
   "source": [
    "for i in range(43):\n",
    "    print(str(i) + \" <=> \" + str(int(np.sum(pp[:,:,:,i].flatten())))  + \", \" + str(int(np.sum(pp_early[:,:,:,i].flatten())))\n",
    "         + \"   ==  \" +str((aif_annotations['345582'][i])) +\", \" + str((pl_early[i])))"
   ]
  },
  {
   "cell_type": "code",
   "execution_count": 126,
   "id": "1fd78706",
   "metadata": {},
   "outputs": [
    {
     "name": "stdout",
     "output_type": "stream",
     "text": [
      "0 <=> 17446955, 17446955   ==  46.00687026977539, 46.00687026977539\n",
      "1 <=> 17491673, 17446955   ==  45.46455383300781, 46.00687026977539\n",
      "2 <=> 17497241, 17446955   ==  44.42026138305664, 46.00687026977539\n",
      "3 <=> 17516392, 17446955   ==  51.08286666870117, 46.00687026977539\n",
      "4 <=> 17535508, 17446955   ==  72.60696411132812, 46.00687026977539\n",
      "5 <=> 17697656, 17446955   ==  100.85197448730469, 46.00687026977539\n",
      "6 <=> 17921554, 17446955   ==  122.21617889404297, 46.00687026977539\n",
      "7 <=> 18159512, 17446955   ==  137.44642639160156, 46.00687026977539\n",
      "8 <=> 18370063, 17446955   ==  119.1580810546875, 46.00687026977539\n",
      "9 <=> 18637204, 17446955   ==  172.7520751953125, 46.00687026977539\n",
      "10 <=> 18880359, 17491673   ==  163.13604736328125, 45.46455383300781\n",
      "11 <=> 19055675, 17497241   ==  147.68309020996094, 44.42026138305664\n",
      "12 <=> 19117529, 17516392   ==  137.92901611328125, 51.08286666870117\n",
      "13 <=> 19151811, 17535508   ==  117.84191131591797, 72.60696411132812\n",
      "14 <=> 19108125, 17697656   ==  103.17086791992188, 100.85197448730469\n",
      "15 <=> 18990122, 17921554   ==  94.40621948242188, 122.21617889404297\n",
      "16 <=> 18819120, 18159512   ==  87.79454040527344, 137.44642639160156\n",
      "17 <=> 18640005, 18370063   ==  64.13690948486328, 119.1580810546875\n",
      "18 <=> 18504262, 18637204   ==  65.01002502441406, 172.7520751953125\n",
      "19 <=> 18378595, 18880359   ==  64.19092559814453, 163.13604736328125\n",
      "20 <=> 18274742, 19055675   ==  64.83368682861328, 147.68309020996094\n",
      "21 <=> 18187071, 19117529   ==  68.8190689086914, 137.92901611328125\n",
      "22 <=> 18154510, 19151811   ==  63.13859558105469, 117.84191131591797\n",
      "23 <=> 18138570, 19108125   ==  68.21202850341797, 103.17086791992188\n",
      "24 <=> 18099539, 18990122   ==  59.45867156982422, 94.40621948242188\n",
      "25 <=> 18098316, 18819120   ==  92.30133819580078, 87.79454040527344\n",
      "26 <=> 18347820, 18640005   ==  79.43942260742188, 64.13690948486328\n",
      "27 <=> 18081879, 18504262   ==  79.08687591552734, 65.01002502441406\n",
      "28 <=> 18094479, 18378595   ==  53.11215591430664, 64.19092559814453\n",
      "29 <=> 18108415, 18274742   ==  69.41795349121094, 64.83368682861328\n",
      "30 <=> 18087250, 18187071   ==  65.49166107177734, 68.8190689086914\n",
      "31 <=> 18068658, 18154510   ==  73.1170883178711, 63.13859558105469\n",
      "32 <=> 18054814, 18138570   ==  77.52625274658203, 68.21202850341797\n",
      "33 <=> 18051509, 18099539   ==  71.06597137451172, 59.45867156982422\n",
      "34 <=> 18077758, 18098316   ==  65.80489349365234, 92.30133819580078\n",
      "35 <=> 18056772, 18347820   ==  83.64986419677734, 79.43942260742188\n",
      "36 <=> 18035831, 18081879   ==  75.51033782958984, 79.08687591552734\n",
      "37 <=> 18065308, 18094479   ==  78.02291870117188, 53.11215591430664\n",
      "38 <=> 18091888, 18108415   ==  74.51344299316406, 69.41795349121094\n",
      "39 <=> 18054103, 18087250   ==  75.87018585205078, 65.49166107177734\n",
      "40 <=> 18045858, 18068658   ==  86.35676574707031, 73.1170883178711\n",
      "41 <=> 18079463, 18054814   ==  78.90811157226562, 77.52625274658203\n",
      "42 <=> 18082584, 18051509   ==  64.94152069091797, 71.06597137451172\n"
     ]
    }
   ],
   "source": [
    "for i in range(43):\n",
    "    print(str(i) + \" <=> \" + str(int(np.sum(pp[:,:,:,i].flatten())))  + \", \" + str(int(np.sum(pp_late[:,:,:,i].flatten())))\n",
    "         + \"   ==  \" +str((aif_annotations['345582'][i])) +\", \" + str((pl_late[i])))"
   ]
  },
  {
   "cell_type": "code",
   "execution_count": 85,
   "id": "e61a621b",
   "metadata": {
    "scrolled": true
   },
   "outputs": [
    {
     "data": {
      "text/plain": [
       "33"
      ]
     },
     "execution_count": 85,
     "metadata": {},
     "output_type": "execute_result"
    }
   ],
   "source": [
    "43-10"
   ]
  },
  {
   "cell_type": "code",
   "execution_count": 51,
   "id": "b73ba05e",
   "metadata": {},
   "outputs": [
    {
     "data": {
      "text/plain": [
       "3256993.0"
      ]
     },
     "execution_count": 51,
     "metadata": {},
     "output_type": "execute_result"
    }
   ],
   "source": [
    "pp_late\n",
    "np.sum(np.sqrt(normalize(pp_late[0]).flatten()))"
   ]
  },
  {
   "cell_type": "code",
   "execution_count": 130,
   "id": "76c49163",
   "metadata": {},
   "outputs": [],
   "source": [
    "def scale_pct_values(pre_contrast,pct_sequence):\n",
    "    scaled_sequence = np.zeros(pct_sequence.shape)\n",
    "    #Substracting the pre-contrast to the sequence\n",
    "    for i in range(nb)\n",
    "    \n",
    "    return scaled_sequence"
   ]
  },
  {
   "cell_type": "code",
   "execution_count": 135,
   "id": "e41133e8",
   "metadata": {},
   "outputs": [
    {
     "data": {
      "text/plain": [
       "array([[[[0., 0., 0., ..., 0., 0., 0.],\n",
       "         [0., 0., 0., ..., 0., 0., 0.],\n",
       "         [0., 0., 0., ..., 0., 0., 0.],\n",
       "         ...,\n",
       "         [0., 0., 0., ..., 0., 0., 0.],\n",
       "         [0., 0., 0., ..., 0., 0., 0.],\n",
       "         [0., 0., 0., ..., 0., 0., 0.]],\n",
       "\n",
       "        [[0., 0., 0., ..., 0., 0., 0.],\n",
       "         [0., 0., 0., ..., 0., 0., 0.],\n",
       "         [0., 0., 0., ..., 0., 0., 0.],\n",
       "         ...,\n",
       "         [0., 0., 0., ..., 0., 0., 0.],\n",
       "         [0., 0., 0., ..., 0., 0., 0.],\n",
       "         [0., 0., 0., ..., 0., 0., 0.]],\n",
       "\n",
       "        [[0., 0., 0., ..., 0., 0., 0.],\n",
       "         [0., 0., 0., ..., 0., 0., 0.],\n",
       "         [0., 0., 0., ..., 0., 0., 0.],\n",
       "         ...,\n",
       "         [0., 0., 0., ..., 0., 0., 0.],\n",
       "         [0., 0., 0., ..., 0., 0., 0.],\n",
       "         [0., 0., 0., ..., 0., 0., 0.]],\n",
       "\n",
       "        ...,\n",
       "\n",
       "        [[0., 0., 0., ..., 0., 0., 0.],\n",
       "         [0., 0., 0., ..., 0., 0., 0.],\n",
       "         [0., 0., 0., ..., 0., 0., 0.],\n",
       "         ...,\n",
       "         [0., 0., 0., ..., 0., 0., 0.],\n",
       "         [0., 0., 0., ..., 0., 0., 0.],\n",
       "         [0., 0., 0., ..., 0., 0., 0.]],\n",
       "\n",
       "        [[0., 0., 0., ..., 0., 0., 0.],\n",
       "         [0., 0., 0., ..., 0., 0., 0.],\n",
       "         [0., 0., 0., ..., 0., 0., 0.],\n",
       "         ...,\n",
       "         [0., 0., 0., ..., 0., 0., 0.],\n",
       "         [0., 0., 0., ..., 0., 0., 0.],\n",
       "         [0., 0., 0., ..., 0., 0., 0.]],\n",
       "\n",
       "        [[0., 0., 0., ..., 0., 0., 0.],\n",
       "         [0., 0., 0., ..., 0., 0., 0.],\n",
       "         [0., 0., 0., ..., 0., 0., 0.],\n",
       "         ...,\n",
       "         [0., 0., 0., ..., 0., 0., 0.],\n",
       "         [0., 0., 0., ..., 0., 0., 0.],\n",
       "         [0., 0., 0., ..., 0., 0., 0.]]],\n",
       "\n",
       "\n",
       "       [[[0., 0., 0., ..., 0., 0., 0.],\n",
       "         [0., 0., 0., ..., 0., 0., 0.],\n",
       "         [0., 0., 0., ..., 0., 0., 0.],\n",
       "         ...,\n",
       "         [0., 0., 0., ..., 0., 0., 0.],\n",
       "         [0., 0., 0., ..., 0., 0., 0.],\n",
       "         [0., 0., 0., ..., 0., 0., 0.]],\n",
       "\n",
       "        [[0., 0., 0., ..., 0., 0., 0.],\n",
       "         [0., 0., 0., ..., 0., 0., 0.],\n",
       "         [0., 0., 0., ..., 0., 0., 0.],\n",
       "         ...,\n",
       "         [0., 0., 0., ..., 0., 0., 0.],\n",
       "         [0., 0., 0., ..., 0., 0., 0.],\n",
       "         [0., 0., 0., ..., 0., 0., 0.]],\n",
       "\n",
       "        [[0., 0., 0., ..., 0., 0., 0.],\n",
       "         [0., 0., 0., ..., 0., 0., 0.],\n",
       "         [0., 0., 0., ..., 0., 0., 0.],\n",
       "         ...,\n",
       "         [0., 0., 0., ..., 0., 0., 0.],\n",
       "         [0., 0., 0., ..., 0., 0., 0.],\n",
       "         [0., 0., 0., ..., 0., 0., 0.]],\n",
       "\n",
       "        ...,\n",
       "\n",
       "        [[0., 0., 0., ..., 0., 0., 0.],\n",
       "         [0., 0., 0., ..., 0., 0., 0.],\n",
       "         [0., 0., 0., ..., 0., 0., 0.],\n",
       "         ...,\n",
       "         [0., 0., 0., ..., 0., 0., 0.],\n",
       "         [0., 0., 0., ..., 0., 0., 0.],\n",
       "         [0., 0., 0., ..., 0., 0., 0.]],\n",
       "\n",
       "        [[0., 0., 0., ..., 0., 0., 0.],\n",
       "         [0., 0., 0., ..., 0., 0., 0.],\n",
       "         [0., 0., 0., ..., 0., 0., 0.],\n",
       "         ...,\n",
       "         [0., 0., 0., ..., 0., 0., 0.],\n",
       "         [0., 0., 0., ..., 0., 0., 0.],\n",
       "         [0., 0., 0., ..., 0., 0., 0.]],\n",
       "\n",
       "        [[0., 0., 0., ..., 0., 0., 0.],\n",
       "         [0., 0., 0., ..., 0., 0., 0.],\n",
       "         [0., 0., 0., ..., 0., 0., 0.],\n",
       "         ...,\n",
       "         [0., 0., 0., ..., 0., 0., 0.],\n",
       "         [0., 0., 0., ..., 0., 0., 0.],\n",
       "         [0., 0., 0., ..., 0., 0., 0.]]],\n",
       "\n",
       "\n",
       "       [[[0., 0., 0., ..., 0., 0., 0.],\n",
       "         [0., 0., 0., ..., 0., 0., 0.],\n",
       "         [0., 0., 0., ..., 0., 0., 0.],\n",
       "         ...,\n",
       "         [0., 0., 0., ..., 0., 0., 0.],\n",
       "         [0., 0., 0., ..., 0., 0., 0.],\n",
       "         [0., 0., 0., ..., 0., 0., 0.]],\n",
       "\n",
       "        [[0., 0., 0., ..., 0., 0., 0.],\n",
       "         [0., 0., 0., ..., 0., 0., 0.],\n",
       "         [0., 0., 0., ..., 0., 0., 0.],\n",
       "         ...,\n",
       "         [0., 0., 0., ..., 0., 0., 0.],\n",
       "         [0., 0., 0., ..., 0., 0., 0.],\n",
       "         [0., 0., 0., ..., 0., 0., 0.]],\n",
       "\n",
       "        [[0., 0., 0., ..., 0., 0., 0.],\n",
       "         [0., 0., 0., ..., 0., 0., 0.],\n",
       "         [0., 0., 0., ..., 0., 0., 0.],\n",
       "         ...,\n",
       "         [0., 0., 0., ..., 0., 0., 0.],\n",
       "         [0., 0., 0., ..., 0., 0., 0.],\n",
       "         [0., 0., 0., ..., 0., 0., 0.]],\n",
       "\n",
       "        ...,\n",
       "\n",
       "        [[0., 0., 0., ..., 0., 0., 0.],\n",
       "         [0., 0., 0., ..., 0., 0., 0.],\n",
       "         [0., 0., 0., ..., 0., 0., 0.],\n",
       "         ...,\n",
       "         [0., 0., 0., ..., 0., 0., 0.],\n",
       "         [0., 0., 0., ..., 0., 0., 0.],\n",
       "         [0., 0., 0., ..., 0., 0., 0.]],\n",
       "\n",
       "        [[0., 0., 0., ..., 0., 0., 0.],\n",
       "         [0., 0., 0., ..., 0., 0., 0.],\n",
       "         [0., 0., 0., ..., 0., 0., 0.],\n",
       "         ...,\n",
       "         [0., 0., 0., ..., 0., 0., 0.],\n",
       "         [0., 0., 0., ..., 0., 0., 0.],\n",
       "         [0., 0., 0., ..., 0., 0., 0.]],\n",
       "\n",
       "        [[0., 0., 0., ..., 0., 0., 0.],\n",
       "         [0., 0., 0., ..., 0., 0., 0.],\n",
       "         [0., 0., 0., ..., 0., 0., 0.],\n",
       "         ...,\n",
       "         [0., 0., 0., ..., 0., 0., 0.],\n",
       "         [0., 0., 0., ..., 0., 0., 0.],\n",
       "         [0., 0., 0., ..., 0., 0., 0.]]],\n",
       "\n",
       "\n",
       "       ...,\n",
       "\n",
       "\n",
       "       [[[0., 0., 0., ..., 0., 0., 0.],\n",
       "         [0., 0., 0., ..., 0., 0., 0.],\n",
       "         [0., 0., 0., ..., 0., 0., 0.],\n",
       "         ...,\n",
       "         [0., 0., 0., ..., 0., 0., 0.],\n",
       "         [0., 0., 0., ..., 0., 0., 0.],\n",
       "         [0., 0., 0., ..., 0., 0., 0.]],\n",
       "\n",
       "        [[0., 0., 0., ..., 0., 0., 0.],\n",
       "         [0., 0., 0., ..., 0., 0., 0.],\n",
       "         [0., 0., 0., ..., 0., 0., 0.],\n",
       "         ...,\n",
       "         [0., 0., 0., ..., 0., 0., 0.],\n",
       "         [0., 0., 0., ..., 0., 0., 0.],\n",
       "         [0., 0., 0., ..., 0., 0., 0.]],\n",
       "\n",
       "        [[0., 0., 0., ..., 0., 0., 0.],\n",
       "         [0., 0., 0., ..., 0., 0., 0.],\n",
       "         [0., 0., 0., ..., 0., 0., 0.],\n",
       "         ...,\n",
       "         [0., 0., 0., ..., 0., 0., 0.],\n",
       "         [0., 0., 0., ..., 0., 0., 0.],\n",
       "         [0., 0., 0., ..., 0., 0., 0.]],\n",
       "\n",
       "        ...,\n",
       "\n",
       "        [[0., 0., 0., ..., 0., 0., 0.],\n",
       "         [0., 0., 0., ..., 0., 0., 0.],\n",
       "         [0., 0., 0., ..., 0., 0., 0.],\n",
       "         ...,\n",
       "         [0., 0., 0., ..., 0., 0., 0.],\n",
       "         [0., 0., 0., ..., 0., 0., 0.],\n",
       "         [0., 0., 0., ..., 0., 0., 0.]],\n",
       "\n",
       "        [[0., 0., 0., ..., 0., 0., 0.],\n",
       "         [0., 0., 0., ..., 0., 0., 0.],\n",
       "         [0., 0., 0., ..., 0., 0., 0.],\n",
       "         ...,\n",
       "         [0., 0., 0., ..., 0., 0., 0.],\n",
       "         [0., 0., 0., ..., 0., 0., 0.],\n",
       "         [0., 0., 0., ..., 0., 0., 0.]],\n",
       "\n",
       "        [[0., 0., 0., ..., 0., 0., 0.],\n",
       "         [0., 0., 0., ..., 0., 0., 0.],\n",
       "         [0., 0., 0., ..., 0., 0., 0.],\n",
       "         ...,\n",
       "         [0., 0., 0., ..., 0., 0., 0.],\n",
       "         [0., 0., 0., ..., 0., 0., 0.],\n",
       "         [0., 0., 0., ..., 0., 0., 0.]]],\n",
       "\n",
       "\n",
       "       [[[0., 0., 0., ..., 0., 0., 0.],\n",
       "         [0., 0., 0., ..., 0., 0., 0.],\n",
       "         [0., 0., 0., ..., 0., 0., 0.],\n",
       "         ...,\n",
       "         [0., 0., 0., ..., 0., 0., 0.],\n",
       "         [0., 0., 0., ..., 0., 0., 0.],\n",
       "         [0., 0., 0., ..., 0., 0., 0.]],\n",
       "\n",
       "        [[0., 0., 0., ..., 0., 0., 0.],\n",
       "         [0., 0., 0., ..., 0., 0., 0.],\n",
       "         [0., 0., 0., ..., 0., 0., 0.],\n",
       "         ...,\n",
       "         [0., 0., 0., ..., 0., 0., 0.],\n",
       "         [0., 0., 0., ..., 0., 0., 0.],\n",
       "         [0., 0., 0., ..., 0., 0., 0.]],\n",
       "\n",
       "        [[0., 0., 0., ..., 0., 0., 0.],\n",
       "         [0., 0., 0., ..., 0., 0., 0.],\n",
       "         [0., 0., 0., ..., 0., 0., 0.],\n",
       "         ...,\n",
       "         [0., 0., 0., ..., 0., 0., 0.],\n",
       "         [0., 0., 0., ..., 0., 0., 0.],\n",
       "         [0., 0., 0., ..., 0., 0., 0.]],\n",
       "\n",
       "        ...,\n",
       "\n",
       "        [[0., 0., 0., ..., 0., 0., 0.],\n",
       "         [0., 0., 0., ..., 0., 0., 0.],\n",
       "         [0., 0., 0., ..., 0., 0., 0.],\n",
       "         ...,\n",
       "         [0., 0., 0., ..., 0., 0., 0.],\n",
       "         [0., 0., 0., ..., 0., 0., 0.],\n",
       "         [0., 0., 0., ..., 0., 0., 0.]],\n",
       "\n",
       "        [[0., 0., 0., ..., 0., 0., 0.],\n",
       "         [0., 0., 0., ..., 0., 0., 0.],\n",
       "         [0., 0., 0., ..., 0., 0., 0.],\n",
       "         ...,\n",
       "         [0., 0., 0., ..., 0., 0., 0.],\n",
       "         [0., 0., 0., ..., 0., 0., 0.],\n",
       "         [0., 0., 0., ..., 0., 0., 0.]],\n",
       "\n",
       "        [[0., 0., 0., ..., 0., 0., 0.],\n",
       "         [0., 0., 0., ..., 0., 0., 0.],\n",
       "         [0., 0., 0., ..., 0., 0., 0.],\n",
       "         ...,\n",
       "         [0., 0., 0., ..., 0., 0., 0.],\n",
       "         [0., 0., 0., ..., 0., 0., 0.],\n",
       "         [0., 0., 0., ..., 0., 0., 0.]]],\n",
       "\n",
       "\n",
       "       [[[0., 0., 0., ..., 0., 0., 0.],\n",
       "         [0., 0., 0., ..., 0., 0., 0.],\n",
       "         [0., 0., 0., ..., 0., 0., 0.],\n",
       "         ...,\n",
       "         [0., 0., 0., ..., 0., 0., 0.],\n",
       "         [0., 0., 0., ..., 0., 0., 0.],\n",
       "         [0., 0., 0., ..., 0., 0., 0.]],\n",
       "\n",
       "        [[0., 0., 0., ..., 0., 0., 0.],\n",
       "         [0., 0., 0., ..., 0., 0., 0.],\n",
       "         [0., 0., 0., ..., 0., 0., 0.],\n",
       "         ...,\n",
       "         [0., 0., 0., ..., 0., 0., 0.],\n",
       "         [0., 0., 0., ..., 0., 0., 0.],\n",
       "         [0., 0., 0., ..., 0., 0., 0.]],\n",
       "\n",
       "        [[0., 0., 0., ..., 0., 0., 0.],\n",
       "         [0., 0., 0., ..., 0., 0., 0.],\n",
       "         [0., 0., 0., ..., 0., 0., 0.],\n",
       "         ...,\n",
       "         [0., 0., 0., ..., 0., 0., 0.],\n",
       "         [0., 0., 0., ..., 0., 0., 0.],\n",
       "         [0., 0., 0., ..., 0., 0., 0.]],\n",
       "\n",
       "        ...,\n",
       "\n",
       "        [[0., 0., 0., ..., 0., 0., 0.],\n",
       "         [0., 0., 0., ..., 0., 0., 0.],\n",
       "         [0., 0., 0., ..., 0., 0., 0.],\n",
       "         ...,\n",
       "         [0., 0., 0., ..., 0., 0., 0.],\n",
       "         [0., 0., 0., ..., 0., 0., 0.],\n",
       "         [0., 0., 0., ..., 0., 0., 0.]],\n",
       "\n",
       "        [[0., 0., 0., ..., 0., 0., 0.],\n",
       "         [0., 0., 0., ..., 0., 0., 0.],\n",
       "         [0., 0., 0., ..., 0., 0., 0.],\n",
       "         ...,\n",
       "         [0., 0., 0., ..., 0., 0., 0.],\n",
       "         [0., 0., 0., ..., 0., 0., 0.],\n",
       "         [0., 0., 0., ..., 0., 0., 0.]],\n",
       "\n",
       "        [[0., 0., 0., ..., 0., 0., 0.],\n",
       "         [0., 0., 0., ..., 0., 0., 0.],\n",
       "         [0., 0., 0., ..., 0., 0., 0.],\n",
       "         ...,\n",
       "         [0., 0., 0., ..., 0., 0., 0.],\n",
       "         [0., 0., 0., ..., 0., 0., 0.],\n",
       "         [0., 0., 0., ..., 0., 0., 0.]]]])"
      ]
     },
     "execution_count": 135,
     "metadata": {},
     "output_type": "execute_result"
    }
   ],
   "source": [
    "scale_pct_values(pre_contrast=None,pct_sequence=pp)"
   ]
  },
  {
   "cell_type": "code",
   "execution_count": 132,
   "id": "b6c3709c",
   "metadata": {},
   "outputs": [
    {
     "data": {
      "text/plain": [
       "(256, 256, 8, 43)"
      ]
     },
     "execution_count": 132,
     "metadata": {},
     "output_type": "execute_result"
    }
   ],
   "source": [
    "\n",
    "pp.shape"
   ]
  },
  {
   "cell_type": "code",
   "execution_count": null,
   "id": "3147da2c",
   "metadata": {},
   "outputs": [],
   "source": []
  }
 ],
 "metadata": {
  "kernelspec": {
   "display_name": "Python 3",
   "language": "python",
   "name": "python3"
  },
  "language_info": {
   "codemirror_mode": {
    "name": "ipython",
    "version": 3
   },
   "file_extension": ".py",
   "mimetype": "text/x-python",
   "name": "python",
   "nbconvert_exporter": "python",
   "pygments_lexer": "ipython3",
   "version": "3.9.6"
  }
 },
 "nbformat": 4,
 "nbformat_minor": 5
}
