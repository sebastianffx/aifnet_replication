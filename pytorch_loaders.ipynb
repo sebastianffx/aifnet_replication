{
 "cells": [
  {
   "cell_type": "code",
   "execution_count": 1,
   "id": "56f95dfd",
   "metadata": {},
   "outputs": [],
   "source": [
    "import pandas as pd\n",
    "import numpy as np\n",
    "import os\n",
    "import pandas as pd\n",
    "from torchvision.io import read_image\n",
    "# for reading and displaying images\n",
    "from skimage.io import imread\n",
    "import matplotlib.pyplot as plt\n",
    "\n",
    "# for creating validation set\n",
    "from sklearn.model_selection import train_test_split\n",
    "# for evaluating the model\n",
    "from sklearn.metrics import accuracy_score\n",
    "import nibabel as nib\n",
    "import glob\n",
    "import random\n",
    "import numpy as np\n",
    "import os\n",
    "from natsort import natsorted\n",
    "\n",
    "# PyTorch libraries and modules\n",
    "import torch\n",
    "from torch.autograd import Variable\n",
    "import torch.nn as nn\n",
    "import torch.nn.functional as F\n",
    "from torch.optim import *\n",
    "import h5py\n",
    "from torch.utils.data import Dataset\n",
    "from torchvision import datasets\n",
    "from torchvision.transforms import ToTensor\n",
    "import matplotlib.pyplot as plt\n",
    "\n"
   ]
  },
  {
   "cell_type": "code",
   "execution_count": 2,
   "id": "a5f32c8d",
   "metadata": {},
   "outputs": [],
   "source": [
    "\n",
    "\n",
    "training_data = datasets.FashionMNIST(\n",
    "    root=\"data\",\n",
    "    train=True,\n",
    "    download=True,\n",
    "    transform=ToTensor()\n",
    ")\n",
    "\n",
    "test_data = datasets.FashionMNIST(\n",
    "    root=\"data\",\n",
    "    train=False,\n",
    "    download=True,\n",
    "    transform=ToTensor()\n",
    ")"
   ]
  },
  {
   "cell_type": "code",
   "execution_count": 3,
   "id": "ffd7e8eb",
   "metadata": {},
   "outputs": [],
   "source": [
    "\n",
    "#Reading an example PCT volume\n",
    "LOCATION = 'HOME'\n",
    "\n",
    "if LOCATION == 'HOME':\n",
    "    ROOT_EXP = '/Users/admin/work/aifnet_replication-main'\n",
    "    root_dir  = '/Users/admin/work/data/'\n",
    "\n",
    "\n",
    "if LOCATION == 'LOCAL':\n",
    "    ROOT_EXP = '/Users/sebastianotalora/work/postdoc/ctp/aifnet_replication/'\n",
    "    root_dir  = '/Users/sebastianotalora/work/postdoc/data/ISLES/'\n",
    "\n",
    "if LOCATION == 'INSEL':\n",
    "    ROOT_EXP = '/home/sebastian/experiments/aifnet_replication/'\n",
    "    root_dir  = '/media/sebastian/data/ASAP/ISLES2018_Training'\n",
    "\n",
    "if LOCATION == 'SERVER':\n",
    "    ROOT_EXP = '/home/sotalora/aifnet_replication/'\n",
    "    root_dir     = '/data/images/sotalora/ISLES18/'\n",
    "\n",
    "aif_annotations_path = ROOT_EXP + 'radiologist_annotations.csv'\n",
    "\n",
    "\n",
    "aif_annotations_path = ROOT_EXP + '/radiologist_annotations_cleaned.csv'#'radiologist_annotations.csv'#'annotated_aif_vof_complete_revised.csv'\n",
    "min_num_volumes_ctp = 43\n"
   ]
  },
  {
   "cell_type": "code",
   "execution_count": 31,
   "id": "d5684881",
   "metadata": {},
   "outputs": [],
   "source": [
    "\n",
    "class ISLESDataset(Dataset):\n",
    "    def __init__(self, annotations_file, partition_file_path, \n",
    "                 minimum_number_volumes_ctp, img_dir, vascular_fn='AIF',\n",
    "                 transform=None, target_transform=None):\n",
    "        self.img_dir = img_dir\n",
    "        self.transform = transform\n",
    "        self.target_transform = target_transform\n",
    "        self.minimum_number_volumes_ctp = minimum_number_volumes_ctp\n",
    "        dataset_dir = os.path.join(img_dir, \"TRAINING\")\n",
    "        dataset_dir_test = os.path.join(img_dir, \"TESTING\")\n",
    "        self.filenames_4D = natsorted(glob.glob(dataset_dir + \"/case_*/*4D*/*nii*\") + glob.glob(dataset_dir_test + \"/case_*/*4D*/*nii*\"))\n",
    "        self.cases_paths = {path.split('.')[-2]: path for path in self.filenames_4D}\n",
    "        self.vascular_fn = vascular_fn\n",
    "        partition_file = open(partition_file_path,'r')\n",
    "        relevant_cases = []\n",
    "        for line in partition_file:\n",
    "            relevant_cases.append(line.split('.')[-2])\n",
    "        partition_file.close()\n",
    "        self.fold_img_paths = {key: self.cases_paths[key] for key in relevant_cases}\n",
    "        self.fold_ids = [int(valid_indx) for valid_indx in list(self.fold_img_paths.keys())]\n",
    "        self.all_labels = pd.read_csv(aif_annotations_path)\n",
    "        self.img_labels = self.all_labels[self.all_labels['imageID'].isin(self.fold_ids)]\n",
    "        #print(self.fold_img_paths)\n",
    "        \n",
    "    def __len__(self):\n",
    "        return len(self.fold_img_paths)\n",
    "\n",
    "    def __getitem__(self, idx):\n",
    "        img_id = str(self.img_labels.iloc[idx]['imageID'])\n",
    "        img_path = self.fold_img_paths[img_id]\n",
    "        image = read_volume_sequence(img_path,self.minimum_number_volumes_ctp)\n",
    "        AIF = image[self.img_labels.iloc[idx]['AIFx'],self.img_labels.iloc[idx]['AIFy'],self.img_labels.iloc[idx]['AIFz'],:]\n",
    "        VOF = image[self.img_labels.iloc[idx]['VOFx'],self.img_labels.iloc[idx]['VOFy'],self.img_labels.iloc[idx]['VOFz'],:]\n",
    "        if self.transform:\n",
    "            image = self.transform(image)\n",
    "        if self.target_transform:\n",
    "            label = self.target_transform(label)\n",
    "        label = AIF #By default return only the AIF\n",
    "        if self.vascular_fn == 'VOF':\n",
    "            label = VOF\n",
    "        return image, label\n",
    "def read_volume_sequence(fname,minimum_number_volumes_ctp):\n",
    "        cur_nib = nib.load(fname)\n",
    "        ctp_vals = cur_nib.get_fdata()\n",
    "        volume_sequence = ctp_vals[:,:,:,0:minimum_number_volumes_ctp]\n",
    "        return volume_sequence"
   ]
  },
  {
   "cell_type": "code",
   "execution_count": 36,
   "id": "674ceed8",
   "metadata": {},
   "outputs": [],
   "source": [
    "annotations_file = aif_annotations_path\n",
    "current_fold = 1\n",
    "minimum_number_volumes_ctp = 43\n",
    "partition_file_path = ROOT_EXP + '/partitions_cleaned/fold_'+str(current_fold)+'/train_v2.txt'\n",
    "training_data = ISLESDataset(\n",
    "annotations_file, partition_file_path, \n",
    "                 minimum_number_volumes_ctp, root_dir, vascular_fn='AIF',\n",
    "                 transform=None, target_transform=None\n",
    ")\n"
   ]
  },
  {
   "cell_type": "code",
   "execution_count": 37,
   "id": "67076ec6",
   "metadata": {},
   "outputs": [],
   "source": [
    "sample_idx = torch.randint(10, size=(1,)).item()\n",
    "img, label = training_data[sample_idx]\n"
   ]
  },
  {
   "cell_type": "code",
   "execution_count": 38,
   "id": "d059c772",
   "metadata": {},
   "outputs": [
    {
     "data": {
      "text/plain": [
       "(43,)"
      ]
     },
     "execution_count": 38,
     "metadata": {},
     "output_type": "execute_result"
    }
   ],
   "source": [
    "np.array(label).shape"
   ]
  },
  {
   "cell_type": "code",
   "execution_count": 39,
   "id": "550485fa",
   "metadata": {},
   "outputs": [
    {
     "data": {
      "text/plain": [
       "Text(0, 0.5, 'Normalized Density (HU)')"
      ]
     },
     "execution_count": 39,
     "metadata": {},
     "output_type": "execute_result"
    },
    {
     "data": {
      "image/png": "[encoded data removed]",
      "text/plain": [
       "<Figure size 432x288 with 1 Axes>"
      ]
     },
     "metadata": {
      "needs_background": "light"
     },
     "output_type": "display_data"
    }
   ],
   "source": [
    "plt.title('AIF')        \n",
    "#y = normalize_zero_one(aif)\n",
    "#y_p = normalize_zero_one(vof)\n",
    "#plt.plot(mu_voi)\n",
    "#plt.plot(y_p)\n",
    "plt.plot(label)\n",
    "plt.legend([ 'AIF','VOF'])\n",
    "plt.xlabel('Time (s)')\n",
    "plt.ylabel('Normalized Density (HU)')\n"
   ]
  },
  {
   "cell_type": "code",
   "execution_count": 40,
   "id": "d995139f",
   "metadata": {},
   "outputs": [],
   "source": [
    "from torch.utils.data import DataLoader\n",
    "\n",
    "train_dataloader = DataLoader(training_data, batch_size=1, shuffle=True)\n",
    "#test_dataloader = DataLoader(test_data, batch_size=64, shuffle=True)\n"
   ]
  },
  {
   "cell_type": "code",
   "execution_count": 41,
   "id": "28b1748e",
   "metadata": {},
   "outputs": [],
   "source": [
    "train_features, train_labels = next(iter(train_dataloader))\n"
   ]
  },
  {
   "cell_type": "code",
   "execution_count": 42,
   "id": "74904fc9",
   "metadata": {},
   "outputs": [
    {
     "data": {
      "text/plain": [
       "torch.Size([1, 256, 256, 8, 43])"
      ]
     },
     "execution_count": 42,
     "metadata": {},
     "output_type": "execute_result"
    }
   ],
   "source": [
    "train_features.shape"
   ]
  },
  {
   "cell_type": "code",
   "execution_count": 43,
   "id": "4479324a",
   "metadata": {},
   "outputs": [
    {
     "data": {
      "text/plain": [
       "torch.Size([1, 43])"
      ]
     },
     "execution_count": 43,
     "metadata": {},
     "output_type": "execute_result"
    }
   ],
   "source": [
    "train_labels.shape"
   ]
  },
  {
   "cell_type": "code",
   "execution_count": null,
   "id": "519fb609",
   "metadata": {},
   "outputs": [],
   "source": []
  }
 ],
 "metadata": {
  "kernelspec": {
   "display_name": "Python 3 (ipykernel)",
   "language": "python",
   "name": "python3"
  },
  "language_info": {
   "codemirror_mode": {
    "name": "ipython",
    "version": 3
   },
   "file_extension": ".py",
   "mimetype": "text/x-python",
   "name": "python",
   "nbconvert_exporter": "python",
   "pygments_lexer": "ipython3",
   "version": "3.7.11"
  }
 },
 "nbformat": 4,
 "nbformat_minor": 5
}
